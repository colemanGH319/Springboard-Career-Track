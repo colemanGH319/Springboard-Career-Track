{
 "cells": [
  {
   "cell_type": "code",
   "execution_count": 2,
   "metadata": {},
   "outputs": [
    {
     "data": {
      "text/html": [
       "<style>.container { width:100% !important; }</style>"
      ],
      "text/plain": [
       "<IPython.core.display.HTML object>"
      ]
     },
     "metadata": {},
     "output_type": "display_data"
    }
   ],
   "source": [
    "%matplotlib inline\n",
    "import matplotlib.pyplot as plt\n",
    "import pandas as pd\n",
    "import geopandas as gpd\n",
    "import numpy as np\n",
    "from shapely.geometry import Point\n",
    "\n",
    "\n",
    "from IPython.core.display import display, HTML\n",
    "display(HTML(\"<style>.container { width:100% !important; }</style>\"))\n",
    "\n",
    "#Display all columns instead of \"...\" truncation\n",
    "pd.options.display.max_columns = None\n",
    "\n",
    "#No scientific notation\n",
    "pd.set_option('display.float_format', lambda x: '%.3f' % x)\n",
    "\n",
    "#Set plot sizes\n",
    "plt.rcParams[\"figure.figsize\"] = 10, 10"
   ]
  },
  {
   "cell_type": "code",
   "execution_count": 3,
   "metadata": {
    "collapsed": true
   },
   "outputs": [],
   "source": [
    "#Read in taxi data\n",
    "taxis = pd.read_csv('nyc_taxi.csv')"
   ]
  },
  {
   "cell_type": "code",
   "execution_count": 4,
   "metadata": {},
   "outputs": [],
   "source": [
    "#Read in geospatial data for New York\n",
    "ny_state = gpd.read_file('ZillowNeighborhoods-NY.shp')"
   ]
  },
  {
   "cell_type": "code",
   "execution_count": 5,
   "metadata": {},
   "outputs": [
    {
     "name": "stdout",
     "output_type": "stream",
     "text": [
      "<class 'geopandas.geodataframe.GeoDataFrame'>\n",
      "RangeIndex: 579 entries, 0 to 578\n",
      "Data columns (total 6 columns):\n",
      "State       579 non-null object\n",
      "County      579 non-null object\n",
      "City        579 non-null object\n",
      "Name        579 non-null object\n",
      "RegionID    579 non-null object\n",
      "geometry    579 non-null object\n",
      "dtypes: object(6)\n",
      "memory usage: 13.6+ KB\n",
      "None\n"
     ]
    }
   ],
   "source": [
    "print(ny_state.info())"
   ]
  },
  {
   "cell_type": "code",
   "execution_count": 6,
   "metadata": {},
   "outputs": [
    {
     "data": {
      "text/html": [
       "<div>\n",
       "<style>\n",
       "    .dataframe thead tr:only-child th {\n",
       "        text-align: right;\n",
       "    }\n",
       "\n",
       "    .dataframe thead th {\n",
       "        text-align: left;\n",
       "    }\n",
       "\n",
       "    .dataframe tbody tr th {\n",
       "        vertical-align: top;\n",
       "    }\n",
       "</style>\n",
       "<table border=\"1\" class=\"dataframe\">\n",
       "  <thead>\n",
       "    <tr style=\"text-align: right;\">\n",
       "      <th></th>\n",
       "      <th>State</th>\n",
       "      <th>County</th>\n",
       "      <th>City</th>\n",
       "      <th>Name</th>\n",
       "      <th>RegionID</th>\n",
       "      <th>geometry</th>\n",
       "    </tr>\n",
       "  </thead>\n",
       "  <tbody>\n",
       "    <tr>\n",
       "      <th>246</th>\n",
       "      <td>NY</td>\n",
       "      <td>New York</td>\n",
       "      <td>New York</td>\n",
       "      <td>Marble Hill</td>\n",
       "      <td>270880</td>\n",
       "      <td>POLYGON ((-73.91071526499991 40.87890143900006...</td>\n",
       "    </tr>\n",
       "    <tr>\n",
       "      <th>282</th>\n",
       "      <td>NY</td>\n",
       "      <td>Kings</td>\n",
       "      <td>New York</td>\n",
       "      <td>Vinegar Hill</td>\n",
       "      <td>270960</td>\n",
       "      <td>POLYGON ((-73.97901955399993 40.70666396400009...</td>\n",
       "    </tr>\n",
       "    <tr>\n",
       "      <th>310</th>\n",
       "      <td>NY</td>\n",
       "      <td>Bronx</td>\n",
       "      <td>New York</td>\n",
       "      <td>Rikers Island</td>\n",
       "      <td>270922</td>\n",
       "      <td>POLYGON ((-73.8865870059999 40.79891837000008,...</td>\n",
       "    </tr>\n",
       "    <tr>\n",
       "      <th>375</th>\n",
       "      <td>NY</td>\n",
       "      <td>New York</td>\n",
       "      <td>New York</td>\n",
       "      <td>Brooklyn Heights</td>\n",
       "      <td>403122</td>\n",
       "      <td>POLYGON ((-73.99610507599969 40.70422567500025...</td>\n",
       "    </tr>\n",
       "  </tbody>\n",
       "</table>\n",
       "</div>"
      ],
      "text/plain": [
       "    State    County      City              Name RegionID  \\\n",
       "246    NY  New York  New York       Marble Hill   270880   \n",
       "282    NY     Kings  New York      Vinegar Hill   270960   \n",
       "310    NY     Bronx  New York     Rikers Island   270922   \n",
       "375    NY  New York  New York  Brooklyn Heights   403122   \n",
       "\n",
       "                                              geometry  \n",
       "246  POLYGON ((-73.91071526499991 40.87890143900006...  \n",
       "282  POLYGON ((-73.97901955399993 40.70666396400009...  \n",
       "310  POLYGON ((-73.8865870059999 40.79891837000008,...  \n",
       "375  POLYGON ((-73.99610507599969 40.70422567500025...  "
      ]
     },
     "execution_count": 6,
     "metadata": {},
     "output_type": "execute_result"
    }
   ],
   "source": [
    "#Locate duplicate regions\n",
    "ny_state[ny_state['RegionID'].duplicated()]"
   ]
  },
  {
   "cell_type": "code",
   "execution_count": 7,
   "metadata": {},
   "outputs": [
    {
     "data": {
      "text/html": [
       "<div>\n",
       "<style>\n",
       "    .dataframe thead tr:only-child th {\n",
       "        text-align: right;\n",
       "    }\n",
       "\n",
       "    .dataframe thead th {\n",
       "        text-align: left;\n",
       "    }\n",
       "\n",
       "    .dataframe tbody tr th {\n",
       "        vertical-align: top;\n",
       "    }\n",
       "</style>\n",
       "<table border=\"1\" class=\"dataframe\">\n",
       "  <thead>\n",
       "    <tr style=\"text-align: right;\">\n",
       "      <th></th>\n",
       "      <th>State</th>\n",
       "      <th>County</th>\n",
       "      <th>City</th>\n",
       "      <th>Name</th>\n",
       "      <th>RegionID</th>\n",
       "      <th>geometry</th>\n",
       "    </tr>\n",
       "  </thead>\n",
       "  <tbody>\n",
       "    <tr>\n",
       "      <th>281</th>\n",
       "      <td>NY</td>\n",
       "      <td>New York</td>\n",
       "      <td>New York</td>\n",
       "      <td>Vinegar Hill</td>\n",
       "      <td>270960</td>\n",
       "      <td>POLYGON ((-73.97901955399993 40.70666396400009...</td>\n",
       "    </tr>\n",
       "    <tr>\n",
       "      <th>282</th>\n",
       "      <td>NY</td>\n",
       "      <td>Kings</td>\n",
       "      <td>New York</td>\n",
       "      <td>Vinegar Hill</td>\n",
       "      <td>270960</td>\n",
       "      <td>POLYGON ((-73.97901955399993 40.70666396400009...</td>\n",
       "    </tr>\n",
       "  </tbody>\n",
       "</table>\n",
       "</div>"
      ],
      "text/plain": [
       "    State    County      City          Name RegionID  \\\n",
       "281    NY  New York  New York  Vinegar Hill   270960   \n",
       "282    NY     Kings  New York  Vinegar Hill   270960   \n",
       "\n",
       "                                              geometry  \n",
       "281  POLYGON ((-73.97901955399993 40.70666396400009...  \n",
       "282  POLYGON ((-73.97901955399993 40.70666396400009...  "
      ]
     },
     "execution_count": 7,
     "metadata": {},
     "output_type": "execute_result"
    }
   ],
   "source": [
    "#Investigate one of the duplicate regions\n",
    "ny_state[ny_state['RegionID'] == '270960']"
   ]
  },
  {
   "cell_type": "code",
   "execution_count": 8,
   "metadata": {
    "collapsed": true
   },
   "outputs": [],
   "source": [
    "#Drop duplicate regions\n",
    "ny_state = ny_state.loc[ny_state['RegionID'].drop_duplicates().index]"
   ]
  },
  {
   "cell_type": "code",
   "execution_count": 9,
   "metadata": {},
   "outputs": [
    {
     "data": {
      "text/plain": [
       "1.0"
      ]
     },
     "execution_count": 9,
     "metadata": {},
     "output_type": "execute_result"
    }
   ],
   "source": [
    "#Check that all regions are unique (output should be 1)\n",
    "ny_state['RegionID'].nunique(dropna = True) / len(ny_state['RegionID'])"
   ]
  },
  {
   "cell_type": "code",
   "execution_count": 10,
   "metadata": {
    "collapsed": true
   },
   "outputs": [],
   "source": [
    "#Set index to region ID\n",
    "ny_state['RegionID'] = ny_state['RegionID'].astype('int')\n",
    "ny_state = ny_state.set_index(['RegionID'])\n",
    "ny_state = ny_state.sort_index()"
   ]
  },
  {
   "cell_type": "code",
   "execution_count": 11,
   "metadata": {
    "collapsed": true
   },
   "outputs": [],
   "source": [
    "#All data come from the same state, drop state column\n",
    "ny_state = ny_state.drop('State', axis=1)"
   ]
  },
  {
   "cell_type": "code",
   "execution_count": 12,
   "metadata": {
    "collapsed": true
   },
   "outputs": [],
   "source": [
    "#Convert columns to categoricals\n",
    "def convert_to_categorical(df, cols):\n",
    "    \"\"\"Locate columns with low number of unique values and convert them to categoricals\"\"\"\n",
    "    for col in cols:\n",
    "        unique_vals = len(df[col].unique())\n",
    "        unique_ratio = unique_vals / len(df[col])\n",
    "        if unique_ratio < 0.2:\n",
    "            df[col] = df[col].astype('category')\n",
    "    return df"
   ]
  },
  {
   "cell_type": "code",
   "execution_count": 13,
   "metadata": {},
   "outputs": [
    {
     "name": "stdout",
     "output_type": "stream",
     "text": [
      "['County', 'City', 'Name']\n"
     ]
    }
   ],
   "source": [
    "#List columns of ny_state Dataframe\n",
    "columns = list(ny_state.select_dtypes(include=['object']).columns.values)\n",
    "columns.remove('geometry')\n",
    "print(columns)"
   ]
  },
  {
   "cell_type": "code",
   "execution_count": 14,
   "metadata": {},
   "outputs": [
    {
     "data": {
      "text/html": [
       "<div>\n",
       "<style>\n",
       "    .dataframe thead tr:only-child th {\n",
       "        text-align: right;\n",
       "    }\n",
       "\n",
       "    .dataframe thead th {\n",
       "        text-align: left;\n",
       "    }\n",
       "\n",
       "    .dataframe tbody tr th {\n",
       "        vertical-align: top;\n",
       "    }\n",
       "</style>\n",
       "<table border=\"1\" class=\"dataframe\">\n",
       "  <thead>\n",
       "    <tr style=\"text-align: right;\">\n",
       "      <th></th>\n",
       "      <th>County</th>\n",
       "      <th>City</th>\n",
       "      <th>Name</th>\n",
       "      <th>geometry</th>\n",
       "    </tr>\n",
       "    <tr>\n",
       "      <th>RegionID</th>\n",
       "      <th></th>\n",
       "      <th></th>\n",
       "      <th></th>\n",
       "      <th></th>\n",
       "    </tr>\n",
       "  </thead>\n",
       "  <tbody>\n",
       "    <tr>\n",
       "      <th>3698</th>\n",
       "      <td>Wyoming</td>\n",
       "      <td>Eagle</td>\n",
       "      <td>Bliss</td>\n",
       "      <td>POLYGON ((-78.23548 42.603406, -78.235438 42.5...</td>\n",
       "    </tr>\n",
       "    <tr>\n",
       "      <th>3736</th>\n",
       "      <td>Suffolk</td>\n",
       "      <td>Town of Islip</td>\n",
       "      <td>Bohemia</td>\n",
       "      <td>POLYGON ((-73.14422599999978 40.78667100000015...</td>\n",
       "    </tr>\n",
       "    <tr>\n",
       "      <th>4083</th>\n",
       "      <td>Rockland</td>\n",
       "      <td>Ramapo</td>\n",
       "      <td>Chestnut Ridge</td>\n",
       "      <td>POLYGON ((-74.05993899999993 41.10123000000004...</td>\n",
       "    </tr>\n",
       "    <tr>\n",
       "      <th>4257</th>\n",
       "      <td>Westchester</td>\n",
       "      <td>Yorktown</td>\n",
       "      <td>Crompond</td>\n",
       "      <td>POLYGON ((-73.82453700000001 41.305756, -73.82...</td>\n",
       "    </tr>\n",
       "    <tr>\n",
       "      <th>4819</th>\n",
       "      <td>Queens</td>\n",
       "      <td>New York</td>\n",
       "      <td>Fresh Meadows</td>\n",
       "      <td>POLYGON ((-73.7699123773972 40.74150740314482,...</td>\n",
       "    </tr>\n",
       "    <tr>\n",
       "      <th>4982</th>\n",
       "      <td>Suffolk</td>\n",
       "      <td>Huntington</td>\n",
       "      <td>Greenlawn</td>\n",
       "      <td>POLYGON ((-73.35160499999995 40.87515100000007...</td>\n",
       "    </tr>\n",
       "    <tr>\n",
       "      <th>5061</th>\n",
       "      <td>Nassau</td>\n",
       "      <td>Great Neck</td>\n",
       "      <td>Harbor Hills</td>\n",
       "      <td>POLYGON ((-73.74329099999994 40.79097000000007...</td>\n",
       "    </tr>\n",
       "    <tr>\n",
       "      <th>5397</th>\n",
       "      <td>Nassau</td>\n",
       "      <td>Great Neck</td>\n",
       "      <td>Kensington</td>\n",
       "      <td>POLYGON ((-73.70949799999994 40.79300700000005...</td>\n",
       "    </tr>\n",
       "    <tr>\n",
       "      <th>5837</th>\n",
       "      <td>Queens</td>\n",
       "      <td>New York</td>\n",
       "      <td>Maspeth</td>\n",
       "      <td>POLYGON ((-73.8881191182047 40.73555656190326,...</td>\n",
       "    </tr>\n",
       "    <tr>\n",
       "      <th>6158</th>\n",
       "      <td>Rockland</td>\n",
       "      <td>Ramapo</td>\n",
       "      <td>New Hempstead</td>\n",
       "      <td>POLYGON ((-74.03410099999991 41.16842200000008...</td>\n",
       "    </tr>\n",
       "    <tr>\n",
       "      <th>6263</th>\n",
       "      <td>Rockland</td>\n",
       "      <td>Orangetown</td>\n",
       "      <td>Nyack</td>\n",
       "      <td>POLYGON ((-73.89377999999994 41.09329600000007...</td>\n",
       "    </tr>\n",
       "    <tr>\n",
       "      <th>6498</th>\n",
       "      <td>Rockland</td>\n",
       "      <td>Orangetown</td>\n",
       "      <td>Piermont</td>\n",
       "      <td>POLYGON ((-73.914281 41.051497, -73.8969512889...</td>\n",
       "    </tr>\n",
       "    <tr>\n",
       "      <th>6687</th>\n",
       "      <td>Albany</td>\n",
       "      <td>Town of Coeymans</td>\n",
       "      <td>Ravena</td>\n",
       "      <td>POLYGON ((-73.82263299999994 42.50202800000005...</td>\n",
       "    </tr>\n",
       "    <tr>\n",
       "      <th>6719</th>\n",
       "      <td>Queens</td>\n",
       "      <td>New York</td>\n",
       "      <td>Rego Park</td>\n",
       "      <td>POLYGON ((-73.85629999999999 40.72303000000012...</td>\n",
       "    </tr>\n",
       "    <tr>\n",
       "      <th>6912</th>\n",
       "      <td>Suffolk</td>\n",
       "      <td>Town of Islip</td>\n",
       "      <td>Saltaire</td>\n",
       "      <td>POLYGON ((-73.18890699999992 40.63929400000006...</td>\n",
       "    </tr>\n",
       "    <tr>\n",
       "      <th>7349</th>\n",
       "      <td>Rensselaer</td>\n",
       "      <td>Troy</td>\n",
       "      <td>Sycaway</td>\n",
       "      <td>POLYGON ((-73.65638001299999 42.72569154300004...</td>\n",
       "    </tr>\n",
       "    <tr>\n",
       "      <th>7536</th>\n",
       "      <td>Nassau</td>\n",
       "      <td>Great Neck</td>\n",
       "      <td>University Gardens</td>\n",
       "      <td>POLYGON ((-73.73071499999992 40.78230600000006...</td>\n",
       "    </tr>\n",
       "    <tr>\n",
       "      <th>7663</th>\n",
       "      <td>Rockland</td>\n",
       "      <td>Clarkstown</td>\n",
       "      <td>Valley Cottage</td>\n",
       "      <td>POLYGON ((-73.96113199999991 41.11734000000007...</td>\n",
       "    </tr>\n",
       "    <tr>\n",
       "      <th>8349</th>\n",
       "      <td>Queens</td>\n",
       "      <td>New York</td>\n",
       "      <td>College Point</td>\n",
       "      <td>POLYGON ((-73.83296769899994 40.78987896700005...</td>\n",
       "    </tr>\n",
       "    <tr>\n",
       "      <th>8449</th>\n",
       "      <td>Erie</td>\n",
       "      <td>Amherst</td>\n",
       "      <td>Eggertsville</td>\n",
       "      <td>POLYGON ((-78.79230843399995 42.97887192900004...</td>\n",
       "    </tr>\n",
       "    <tr>\n",
       "      <th>8731</th>\n",
       "      <td>Kings</td>\n",
       "      <td>New York</td>\n",
       "      <td>Fort Hamilton</td>\n",
       "      <td>POLYGON ((-74.02362999999993 40.61995000000007...</td>\n",
       "    </tr>\n",
       "    <tr>\n",
       "      <th>9545</th>\n",
       "      <td>Albany</td>\n",
       "      <td>Guilderland</td>\n",
       "      <td>Westmere</td>\n",
       "      <td>POLYGON ((-73.87197712899996 42.69915614600006...</td>\n",
       "    </tr>\n",
       "    <tr>\n",
       "      <th>10007</th>\n",
       "      <td>Queens</td>\n",
       "      <td>New York</td>\n",
       "      <td>Arverne</td>\n",
       "      <td>POLYGON ((-73.78523334099992 40.60271283400004...</td>\n",
       "    </tr>\n",
       "    <tr>\n",
       "      <th>10329</th>\n",
       "      <td>Queens</td>\n",
       "      <td>New York</td>\n",
       "      <td>Belle Harbor</td>\n",
       "      <td>POLYGON ((-73.85618223699993 40.56810940300005...</td>\n",
       "    </tr>\n",
       "    <tr>\n",
       "      <th>10562</th>\n",
       "      <td>Queens</td>\n",
       "      <td>New York</td>\n",
       "      <td>Broad Channel</td>\n",
       "      <td>POLYGON ((-73.81641929999995 40.61820489400009...</td>\n",
       "    </tr>\n",
       "    <tr>\n",
       "      <th>10768</th>\n",
       "      <td>Suffolk</td>\n",
       "      <td>Town of Islip</td>\n",
       "      <td>Central Islip</td>\n",
       "      <td>POLYGON ((-73.199122 40.805522, -73.197293 40....</td>\n",
       "    </tr>\n",
       "    <tr>\n",
       "      <th>10957</th>\n",
       "      <td>Queens</td>\n",
       "      <td>New York</td>\n",
       "      <td>Corona</td>\n",
       "      <td>POLYGON ((-73.85268336916212 40.74947637422606...</td>\n",
       "    </tr>\n",
       "    <tr>\n",
       "      <th>12390</th>\n",
       "      <td>Westchester</td>\n",
       "      <td>Somers</td>\n",
       "      <td>Lincolndale</td>\n",
       "      <td>POLYGON ((-73.73580899999996 41.34044500000005...</td>\n",
       "    </tr>\n",
       "    <tr>\n",
       "      <th>12514</th>\n",
       "      <td>Putnam</td>\n",
       "      <td>Carmel</td>\n",
       "      <td>Mahopac</td>\n",
       "      <td>POLYGON ((-73.71979868999995 41.34883013600006...</td>\n",
       "    </tr>\n",
       "    <tr>\n",
       "      <th>13356</th>\n",
       "      <td>Queens</td>\n",
       "      <td>New York</td>\n",
       "      <td>Pomonok</td>\n",
       "      <td>POLYGON ((-73.8046206487226 40.73842109479557,...</td>\n",
       "    </tr>\n",
       "    <tr>\n",
       "      <th>...</th>\n",
       "      <td>...</td>\n",
       "      <td>...</td>\n",
       "      <td>...</td>\n",
       "      <td>...</td>\n",
       "    </tr>\n",
       "    <tr>\n",
       "      <th>403225</th>\n",
       "      <td>Queens</td>\n",
       "      <td>New York</td>\n",
       "      <td>Floral park</td>\n",
       "      <td>POLYGON ((-73.71049999999991 40.72722700000008...</td>\n",
       "    </tr>\n",
       "    <tr>\n",
       "      <th>403226</th>\n",
       "      <td>Queens</td>\n",
       "      <td>New York</td>\n",
       "      <td>Bellerose</td>\n",
       "      <td>POLYGON ((-73.71682840699981 40.74205306800007...</td>\n",
       "    </tr>\n",
       "    <tr>\n",
       "      <th>403227</th>\n",
       "      <td>Queens</td>\n",
       "      <td>New York</td>\n",
       "      <td>Flushing Meadows Corona Park</td>\n",
       "      <td>POLYGON ((-73.83952692399987 40.76561027300009...</td>\n",
       "    </tr>\n",
       "    <tr>\n",
       "      <th>403228</th>\n",
       "      <td>Queens</td>\n",
       "      <td>New York</td>\n",
       "      <td>Hillcrest</td>\n",
       "      <td>POLYGON ((-73.79295606859223 40.72886376119212...</td>\n",
       "    </tr>\n",
       "    <tr>\n",
       "      <th>403229</th>\n",
       "      <td>Queens</td>\n",
       "      <td>New York</td>\n",
       "      <td>Jacob Riis Park</td>\n",
       "      <td>POLYGON ((-73.86450944399991 40.57002152700005...</td>\n",
       "    </tr>\n",
       "    <tr>\n",
       "      <th>417961</th>\n",
       "      <td>Queens</td>\n",
       "      <td>New York</td>\n",
       "      <td>East Jamaica Bay Islands</td>\n",
       "      <td>(POLYGON ((-73.82832598499994 40.5884237280000...</td>\n",
       "    </tr>\n",
       "    <tr>\n",
       "      <th>426284</th>\n",
       "      <td>Nassau</td>\n",
       "      <td>Great Neck</td>\n",
       "      <td>Great Neck Village</td>\n",
       "      <td>POLYGON ((-73.73598199999992 40.81196200000005...</td>\n",
       "    </tr>\n",
       "    <tr>\n",
       "      <th>698708</th>\n",
       "      <td>Westchester</td>\n",
       "      <td>Town of Mamaroneck</td>\n",
       "      <td>Stanford Hills</td>\n",
       "      <td>POLYGON ((-122.1984346339999 37.42225986900007...</td>\n",
       "    </tr>\n",
       "    <tr>\n",
       "      <th>760938</th>\n",
       "      <td>Schenectady</td>\n",
       "      <td>Schenectady</td>\n",
       "      <td>Central State Street</td>\n",
       "      <td>POLYGON ((-73.91397946399996 42.80508772800005...</td>\n",
       "    </tr>\n",
       "    <tr>\n",
       "      <th>760939</th>\n",
       "      <td>Schenectady</td>\n",
       "      <td>Schenectady</td>\n",
       "      <td>Stockade</td>\n",
       "      <td>POLYGON ((-73.94372443899994 42.81432098400006...</td>\n",
       "    </tr>\n",
       "    <tr>\n",
       "      <th>760940</th>\n",
       "      <td>Schenectady</td>\n",
       "      <td>Schenectady</td>\n",
       "      <td>Downtown</td>\n",
       "      <td>POLYGON ((-73.93800556699995 42.82161145700007...</td>\n",
       "    </tr>\n",
       "    <tr>\n",
       "      <th>760941</th>\n",
       "      <td>Schenectady</td>\n",
       "      <td>Schenectady</td>\n",
       "      <td>Eastern Avenue</td>\n",
       "      <td>POLYGON ((-73.91467988499994 42.80697241000007...</td>\n",
       "    </tr>\n",
       "    <tr>\n",
       "      <th>760942</th>\n",
       "      <td>Schenectady</td>\n",
       "      <td>Schenectady</td>\n",
       "      <td>Vale and Hamilton Hill</td>\n",
       "      <td>POLYGON ((-73.93038301199994 42.79828465500003...</td>\n",
       "    </tr>\n",
       "    <tr>\n",
       "      <th>760943</th>\n",
       "      <td>Schenectady</td>\n",
       "      <td>Schenectady</td>\n",
       "      <td>Mont Pleasant</td>\n",
       "      <td>POLYGON ((-73.93130504699997 42.79757979800007...</td>\n",
       "    </tr>\n",
       "    <tr>\n",
       "      <th>761208</th>\n",
       "      <td>Schenectady</td>\n",
       "      <td>Town of Niskayuna</td>\n",
       "      <td>Merlin Park</td>\n",
       "      <td>POLYGON ((-73.84944594299998 42.78090329500003...</td>\n",
       "    </tr>\n",
       "    <tr>\n",
       "      <th>762152</th>\n",
       "      <td>Schenectady</td>\n",
       "      <td>Schenectady</td>\n",
       "      <td>Union Street</td>\n",
       "      <td>POLYGON ((-73.91941467099997 42.81986491900005...</td>\n",
       "    </tr>\n",
       "    <tr>\n",
       "      <th>762572</th>\n",
       "      <td>Westchester</td>\n",
       "      <td>Mount Vernon</td>\n",
       "      <td>Mount Vernon Heights</td>\n",
       "      <td>POLYGON ((-73.81366300000001 40.910866, -73.81...</td>\n",
       "    </tr>\n",
       "    <tr>\n",
       "      <th>762573</th>\n",
       "      <td>Westchester</td>\n",
       "      <td>Mount Vernon</td>\n",
       "      <td>Downtown</td>\n",
       "      <td>POLYGON ((-73.82662737099997 40.91457648200003...</td>\n",
       "    </tr>\n",
       "    <tr>\n",
       "      <th>762884</th>\n",
       "      <td>Rensselaer</td>\n",
       "      <td>Troy</td>\n",
       "      <td>South Central</td>\n",
       "      <td>POLYGON ((-73.68388911399995 42.71904826000008...</td>\n",
       "    </tr>\n",
       "    <tr>\n",
       "      <th>762885</th>\n",
       "      <td>Rensselaer</td>\n",
       "      <td>Troy</td>\n",
       "      <td>Eastside</td>\n",
       "      <td>POLYGON ((-73.66770738299994 42.72242890300004...</td>\n",
       "    </tr>\n",
       "    <tr>\n",
       "      <th>762886</th>\n",
       "      <td>Rensselaer</td>\n",
       "      <td>Troy</td>\n",
       "      <td>Downtown</td>\n",
       "      <td>POLYGON ((-73.68164668099996 42.73964883200006...</td>\n",
       "    </tr>\n",
       "    <tr>\n",
       "      <th>762887</th>\n",
       "      <td>Rensselaer</td>\n",
       "      <td>Troy</td>\n",
       "      <td>North Central</td>\n",
       "      <td>POLYGON ((-73.67114710699997 42.75336103000006...</td>\n",
       "    </tr>\n",
       "    <tr>\n",
       "      <th>763522</th>\n",
       "      <td>Westchester</td>\n",
       "      <td>Yonkers</td>\n",
       "      <td>Nodine Hill</td>\n",
       "      <td>POLYGON ((-73.88603298099997 40.93929284700005...</td>\n",
       "    </tr>\n",
       "    <tr>\n",
       "      <th>763523</th>\n",
       "      <td>Westchester</td>\n",
       "      <td>Yonkers</td>\n",
       "      <td>Park Hill</td>\n",
       "      <td>POLYGON ((-73.88054474699999 40.92586225200006...</td>\n",
       "    </tr>\n",
       "    <tr>\n",
       "      <th>763524</th>\n",
       "      <td>Westchester</td>\n",
       "      <td>Yonkers</td>\n",
       "      <td>Getty Square</td>\n",
       "      <td>POLYGON ((-73.88603298099997 40.93929284700005...</td>\n",
       "    </tr>\n",
       "    <tr>\n",
       "      <th>763525</th>\n",
       "      <td>Westchester</td>\n",
       "      <td>Yonkers</td>\n",
       "      <td>Homefield</td>\n",
       "      <td>POLYGON ((-73.85997040899997 40.95995459500006...</td>\n",
       "    </tr>\n",
       "    <tr>\n",
       "      <th>764267</th>\n",
       "      <td>Albany</td>\n",
       "      <td>Albany</td>\n",
       "      <td>Hudson/Park</td>\n",
       "      <td>POLYGON ((-73.76180156299995 42.65156595100007...</td>\n",
       "    </tr>\n",
       "    <tr>\n",
       "      <th>764297</th>\n",
       "      <td>Schenectady</td>\n",
       "      <td>Schenectady</td>\n",
       "      <td>Northside</td>\n",
       "      <td>POLYGON ((-73.90486548599995 42.82604350400004...</td>\n",
       "    </tr>\n",
       "    <tr>\n",
       "      <th>764315</th>\n",
       "      <td>Schenectady</td>\n",
       "      <td>Town of Niskayuna</td>\n",
       "      <td>Old Niskayuna</td>\n",
       "      <td>POLYGON ((-73.88804564799995 42.85033648000007...</td>\n",
       "    </tr>\n",
       "    <tr>\n",
       "      <th>764316</th>\n",
       "      <td>Schenectady</td>\n",
       "      <td>Town of Niskayuna</td>\n",
       "      <td>Hexam Gardens</td>\n",
       "      <td>POLYGON ((-73.89304199999999 42.782689, -73.89...</td>\n",
       "    </tr>\n",
       "  </tbody>\n",
       "</table>\n",
       "<p>575 rows × 4 columns</p>\n",
       "</div>"
      ],
      "text/plain": [
       "               County                City                          Name  \\\n",
       "RegionID                                                                  \n",
       "3698          Wyoming               Eagle                         Bliss   \n",
       "3736          Suffolk       Town of Islip                       Bohemia   \n",
       "4083         Rockland              Ramapo                Chestnut Ridge   \n",
       "4257      Westchester            Yorktown                      Crompond   \n",
       "4819           Queens            New York                 Fresh Meadows   \n",
       "4982          Suffolk          Huntington                     Greenlawn   \n",
       "5061           Nassau          Great Neck                  Harbor Hills   \n",
       "5397           Nassau          Great Neck                    Kensington   \n",
       "5837           Queens            New York                       Maspeth   \n",
       "6158         Rockland              Ramapo                 New Hempstead   \n",
       "6263         Rockland          Orangetown                         Nyack   \n",
       "6498         Rockland          Orangetown                      Piermont   \n",
       "6687           Albany    Town of Coeymans                        Ravena   \n",
       "6719           Queens            New York                     Rego Park   \n",
       "6912          Suffolk       Town of Islip                      Saltaire   \n",
       "7349       Rensselaer                Troy                       Sycaway   \n",
       "7536           Nassau          Great Neck            University Gardens   \n",
       "7663         Rockland          Clarkstown                Valley Cottage   \n",
       "8349           Queens            New York                 College Point   \n",
       "8449             Erie             Amherst                  Eggertsville   \n",
       "8731            Kings            New York                 Fort Hamilton   \n",
       "9545           Albany         Guilderland                      Westmere   \n",
       "10007          Queens            New York                       Arverne   \n",
       "10329          Queens            New York                  Belle Harbor   \n",
       "10562          Queens            New York                 Broad Channel   \n",
       "10768         Suffolk       Town of Islip                 Central Islip   \n",
       "10957          Queens            New York                        Corona   \n",
       "12390     Westchester              Somers                   Lincolndale   \n",
       "12514          Putnam              Carmel                       Mahopac   \n",
       "13356          Queens            New York                       Pomonok   \n",
       "...               ...                 ...                           ...   \n",
       "403225         Queens            New York                   Floral park   \n",
       "403226         Queens            New York                     Bellerose   \n",
       "403227         Queens            New York  Flushing Meadows Corona Park   \n",
       "403228         Queens            New York                     Hillcrest   \n",
       "403229         Queens            New York               Jacob Riis Park   \n",
       "417961         Queens            New York      East Jamaica Bay Islands   \n",
       "426284         Nassau          Great Neck            Great Neck Village   \n",
       "698708    Westchester  Town of Mamaroneck                Stanford Hills   \n",
       "760938    Schenectady         Schenectady          Central State Street   \n",
       "760939    Schenectady         Schenectady                      Stockade   \n",
       "760940    Schenectady         Schenectady                      Downtown   \n",
       "760941    Schenectady         Schenectady                Eastern Avenue   \n",
       "760942    Schenectady         Schenectady        Vale and Hamilton Hill   \n",
       "760943    Schenectady         Schenectady                 Mont Pleasant   \n",
       "761208    Schenectady   Town of Niskayuna                   Merlin Park   \n",
       "762152    Schenectady         Schenectady                  Union Street   \n",
       "762572    Westchester        Mount Vernon          Mount Vernon Heights   \n",
       "762573    Westchester        Mount Vernon                      Downtown   \n",
       "762884     Rensselaer                Troy                 South Central   \n",
       "762885     Rensselaer                Troy                      Eastside   \n",
       "762886     Rensselaer                Troy                      Downtown   \n",
       "762887     Rensselaer                Troy                 North Central   \n",
       "763522    Westchester             Yonkers                   Nodine Hill   \n",
       "763523    Westchester             Yonkers                     Park Hill   \n",
       "763524    Westchester             Yonkers                  Getty Square   \n",
       "763525    Westchester             Yonkers                     Homefield   \n",
       "764267         Albany              Albany                   Hudson/Park   \n",
       "764297    Schenectady         Schenectady                     Northside   \n",
       "764315    Schenectady   Town of Niskayuna                 Old Niskayuna   \n",
       "764316    Schenectady   Town of Niskayuna                 Hexam Gardens   \n",
       "\n",
       "                                                   geometry  \n",
       "RegionID                                                     \n",
       "3698      POLYGON ((-78.23548 42.603406, -78.235438 42.5...  \n",
       "3736      POLYGON ((-73.14422599999978 40.78667100000015...  \n",
       "4083      POLYGON ((-74.05993899999993 41.10123000000004...  \n",
       "4257      POLYGON ((-73.82453700000001 41.305756, -73.82...  \n",
       "4819      POLYGON ((-73.7699123773972 40.74150740314482,...  \n",
       "4982      POLYGON ((-73.35160499999995 40.87515100000007...  \n",
       "5061      POLYGON ((-73.74329099999994 40.79097000000007...  \n",
       "5397      POLYGON ((-73.70949799999994 40.79300700000005...  \n",
       "5837      POLYGON ((-73.8881191182047 40.73555656190326,...  \n",
       "6158      POLYGON ((-74.03410099999991 41.16842200000008...  \n",
       "6263      POLYGON ((-73.89377999999994 41.09329600000007...  \n",
       "6498      POLYGON ((-73.914281 41.051497, -73.8969512889...  \n",
       "6687      POLYGON ((-73.82263299999994 42.50202800000005...  \n",
       "6719      POLYGON ((-73.85629999999999 40.72303000000012...  \n",
       "6912      POLYGON ((-73.18890699999992 40.63929400000006...  \n",
       "7349      POLYGON ((-73.65638001299999 42.72569154300004...  \n",
       "7536      POLYGON ((-73.73071499999992 40.78230600000006...  \n",
       "7663      POLYGON ((-73.96113199999991 41.11734000000007...  \n",
       "8349      POLYGON ((-73.83296769899994 40.78987896700005...  \n",
       "8449      POLYGON ((-78.79230843399995 42.97887192900004...  \n",
       "8731      POLYGON ((-74.02362999999993 40.61995000000007...  \n",
       "9545      POLYGON ((-73.87197712899996 42.69915614600006...  \n",
       "10007     POLYGON ((-73.78523334099992 40.60271283400004...  \n",
       "10329     POLYGON ((-73.85618223699993 40.56810940300005...  \n",
       "10562     POLYGON ((-73.81641929999995 40.61820489400009...  \n",
       "10768     POLYGON ((-73.199122 40.805522, -73.197293 40....  \n",
       "10957     POLYGON ((-73.85268336916212 40.74947637422606...  \n",
       "12390     POLYGON ((-73.73580899999996 41.34044500000005...  \n",
       "12514     POLYGON ((-73.71979868999995 41.34883013600006...  \n",
       "13356     POLYGON ((-73.8046206487226 40.73842109479557,...  \n",
       "...                                                     ...  \n",
       "403225    POLYGON ((-73.71049999999991 40.72722700000008...  \n",
       "403226    POLYGON ((-73.71682840699981 40.74205306800007...  \n",
       "403227    POLYGON ((-73.83952692399987 40.76561027300009...  \n",
       "403228    POLYGON ((-73.79295606859223 40.72886376119212...  \n",
       "403229    POLYGON ((-73.86450944399991 40.57002152700005...  \n",
       "417961    (POLYGON ((-73.82832598499994 40.5884237280000...  \n",
       "426284    POLYGON ((-73.73598199999992 40.81196200000005...  \n",
       "698708    POLYGON ((-122.1984346339999 37.42225986900007...  \n",
       "760938    POLYGON ((-73.91397946399996 42.80508772800005...  \n",
       "760939    POLYGON ((-73.94372443899994 42.81432098400006...  \n",
       "760940    POLYGON ((-73.93800556699995 42.82161145700007...  \n",
       "760941    POLYGON ((-73.91467988499994 42.80697241000007...  \n",
       "760942    POLYGON ((-73.93038301199994 42.79828465500003...  \n",
       "760943    POLYGON ((-73.93130504699997 42.79757979800007...  \n",
       "761208    POLYGON ((-73.84944594299998 42.78090329500003...  \n",
       "762152    POLYGON ((-73.91941467099997 42.81986491900005...  \n",
       "762572    POLYGON ((-73.81366300000001 40.910866, -73.81...  \n",
       "762573    POLYGON ((-73.82662737099997 40.91457648200003...  \n",
       "762884    POLYGON ((-73.68388911399995 42.71904826000008...  \n",
       "762885    POLYGON ((-73.66770738299994 42.72242890300004...  \n",
       "762886    POLYGON ((-73.68164668099996 42.73964883200006...  \n",
       "762887    POLYGON ((-73.67114710699997 42.75336103000006...  \n",
       "763522    POLYGON ((-73.88603298099997 40.93929284700005...  \n",
       "763523    POLYGON ((-73.88054474699999 40.92586225200006...  \n",
       "763524    POLYGON ((-73.88603298099997 40.93929284700005...  \n",
       "763525    POLYGON ((-73.85997040899997 40.95995459500006...  \n",
       "764267    POLYGON ((-73.76180156299995 42.65156595100007...  \n",
       "764297    POLYGON ((-73.90486548599995 42.82604350400004...  \n",
       "764315    POLYGON ((-73.88804564799995 42.85033648000007...  \n",
       "764316    POLYGON ((-73.89304199999999 42.782689, -73.89...  \n",
       "\n",
       "[575 rows x 4 columns]"
      ]
     },
     "execution_count": 14,
     "metadata": {},
     "output_type": "execute_result"
    }
   ],
   "source": [
    "#Convert columns to categoricals\n",
    "convert_to_categorical(ny_state, columns)"
   ]
  },
  {
   "cell_type": "code",
   "execution_count": 15,
   "metadata": {},
   "outputs": [
    {
     "name": "stdout",
     "output_type": "stream",
     "text": [
      "<class 'geopandas.geodataframe.GeoDataFrame'>\n",
      "Int64Index: 575 entries, 3698 to 764316\n",
      "Columns: 4 entries, County to geometry\n",
      "dtypes: category(2), object(2)\n",
      "memory usage: 12.3+ KB\n",
      "None\n"
     ]
    }
   ],
   "source": [
    "print(ny_state.info(verbose=False))"
   ]
  },
  {
   "cell_type": "code",
   "execution_count": 16,
   "metadata": {},
   "outputs": [
    {
     "data": {
      "text/html": [
       "<div>\n",
       "<style>\n",
       "    .dataframe thead tr:only-child th {\n",
       "        text-align: right;\n",
       "    }\n",
       "\n",
       "    .dataframe thead th {\n",
       "        text-align: left;\n",
       "    }\n",
       "\n",
       "    .dataframe tbody tr th {\n",
       "        vertical-align: top;\n",
       "    }\n",
       "</style>\n",
       "<table border=\"1\" class=\"dataframe\">\n",
       "  <thead>\n",
       "    <tr style=\"text-align: right;\">\n",
       "      <th></th>\n",
       "      <th>County</th>\n",
       "      <th>City</th>\n",
       "      <th>Name</th>\n",
       "    </tr>\n",
       "  </thead>\n",
       "  <tbody>\n",
       "    <tr>\n",
       "      <th>count</th>\n",
       "      <td>575</td>\n",
       "      <td>575</td>\n",
       "      <td>575</td>\n",
       "    </tr>\n",
       "    <tr>\n",
       "      <th>unique</th>\n",
       "      <td>24</td>\n",
       "      <td>50</td>\n",
       "      <td>558</td>\n",
       "    </tr>\n",
       "    <tr>\n",
       "      <th>top</th>\n",
       "      <td>Queens</td>\n",
       "      <td>New York</td>\n",
       "      <td>Downtown</td>\n",
       "    </tr>\n",
       "    <tr>\n",
       "      <th>freq</th>\n",
       "      <td>70</td>\n",
       "      <td>274</td>\n",
       "      <td>5</td>\n",
       "    </tr>\n",
       "  </tbody>\n",
       "</table>\n",
       "</div>"
      ],
      "text/plain": [
       "        County      City      Name\n",
       "count      575       575       575\n",
       "unique      24        50       558\n",
       "top     Queens  New York  Downtown\n",
       "freq        70       274         5"
      ]
     },
     "execution_count": 16,
     "metadata": {},
     "output_type": "execute_result"
    }
   ],
   "source": [
    "ny_state.drop('geometry', axis=1).describe()"
   ]
  },
  {
   "cell_type": "code",
   "execution_count": 17,
   "metadata": {},
   "outputs": [
    {
     "data": {
      "text/plain": [
       "(274, 4)"
      ]
     },
     "execution_count": 17,
     "metadata": {},
     "output_type": "execute_result"
    }
   ],
   "source": [
    "nyc = ny_state.loc[ny_state['City'] == 'New York']\n",
    "nyc.shape"
   ]
  },
  {
   "cell_type": "code",
   "execution_count": 18,
   "metadata": {},
   "outputs": [
    {
     "data": {
      "image/png": "[encoded data removed]",
      "text/plain": [
       "<matplotlib.figure.Figure at 0x276be270>"
      ]
     },
     "metadata": {},
     "output_type": "display_data"
    }
   ],
   "source": [
    "nyc.plot()\n",
    "plt.show()"
   ]
  },
  {
   "cell_type": "code",
   "execution_count": 19,
   "metadata": {
    "collapsed": true
   },
   "outputs": [
    {
     "name": "stdout",
     "output_type": "stream",
     "text": [
      "<class 'pandas.core.frame.DataFrame'>\n",
      "RangeIndex: 1458644 entries, 0 to 1458643\n",
      "Data columns (total 28 columns):\n",
      "Unnamed: 0           1458644 non-null int64\n",
      "pickup_datetime      1458644 non-null object\n",
      "dropoff_datetime     1458644 non-null object\n",
      "passenger_count      1458644 non-null int64\n",
      "pickup_longitude     1458644 non-null float64\n",
      "pickup_latitude      1458644 non-null float64\n",
      "dropoff_longitude    1458644 non-null float64\n",
      "dropoff_latitude     1458644 non-null float64\n",
      "trip_duration        1458644 non-null object\n",
      "date                 1458644 non-null object\n",
      "station_num          1458644 non-null object\n",
      "station_name         1458644 non-null object\n",
      "station_latitude     1458644 non-null float64\n",
      "station_longitude    1458644 non-null float64\n",
      "average_wind         1458644 non-null float64\n",
      "precipitation        1458644 non-null float64\n",
      "snowfall             1458644 non-null float64\n",
      "snow_depth           1458644 non-null float64\n",
      "avg_temp             1458644 non-null float64\n",
      "max_temp             1458644 non-null float64\n",
      "min_temp             1458644 non-null float64\n",
      "fog                  1458644 non-null bool\n",
      "fog_heavy            1458644 non-null bool\n",
      "thunder              1458644 non-null bool\n",
      "ice_pellets          1458644 non-null bool\n",
      "glaze                1458644 non-null bool\n",
      "smoke_haze           1458644 non-null bool\n",
      "blowing_snow         1458644 non-null bool\n",
      "dtypes: bool(7), float64(13), int64(2), object(6)\n",
      "memory usage: 210.1+ MB\n"
     ]
    }
   ],
   "source": [
    "taxis.info()"
   ]
  },
  {
   "cell_type": "code",
   "execution_count": 20,
   "metadata": {
    "collapsed": true
   },
   "outputs": [],
   "source": [
    "#Remove column that stores duplicate index\n",
    "taxis = taxis.iloc[:,1:]"
   ]
  },
  {
   "cell_type": "code",
   "execution_count": 21,
   "metadata": {
    "collapsed": true
   },
   "outputs": [
    {
     "name": "stdout",
     "output_type": "stream",
     "text": [
      "       pickup_datetime     dropoff_datetime  passenger_count  \\\n",
      "0  2016-03-14 17:24:55  2016-03-14 17:32:30                1   \n",
      "1  2016-06-12 00:43:35  2016-06-12 00:54:38                1   \n",
      "2  2016-01-19 11:35:24  2016-01-19 12:10:48                1   \n",
      "3  2016-04-06 19:32:31  2016-04-06 19:39:40                1   \n",
      "4  2016-03-26 13:30:55  2016-03-26 13:38:10                1   \n",
      "\n",
      "   pickup_longitude  pickup_latitude  dropoff_longitude  dropoff_latitude  \\\n",
      "0           -73.982           40.768            -73.965            40.766   \n",
      "1           -73.980           40.739            -73.999            40.731   \n",
      "2           -73.979           40.764            -74.005            40.710   \n",
      "3           -74.010           40.720            -74.012            40.707   \n",
      "4           -73.973           40.793            -73.973            40.783   \n",
      "\n",
      "               trip_duration        date  station_num  \\\n",
      "0  0 days 00:07:35.000000000  2016-03-14  USW00014732   \n",
      "1  0 days 00:11:03.000000000  2016-06-12  USW00014732   \n",
      "2  0 days 00:35:24.000000000  2016-01-19  USW00014732   \n",
      "3  0 days 00:07:09.000000000  2016-04-06  USW00014732   \n",
      "4  0 days 00:07:15.000000000  2016-03-26  USW00014732   \n",
      "\n",
      "                station_name  station_latitude  station_longitude  \\\n",
      "0  LA GUARDIA AIRPORT, NY US            40.779            -73.880   \n",
      "1  LA GUARDIA AIRPORT, NY US            40.779            -73.880   \n",
      "2  LA GUARDIA AIRPORT, NY US            40.779            -73.880   \n",
      "3  LA GUARDIA AIRPORT, NY US            40.779            -73.880   \n",
      "4  LA GUARDIA AIRPORT, NY US            40.779            -73.880   \n",
      "\n",
      "   average_wind  precipitation  snowfall  snow_depth  avg_temp  max_temp  \\\n",
      "0        17.670          0.180     0.000       0.000    48.000    52.000   \n",
      "1        19.910          0.000     0.000       0.000    80.000    86.000   \n",
      "2        21.250          0.000     0.000       0.000    23.000    30.000   \n",
      "3        11.410          0.000     0.000       0.000    39.000    48.000   \n",
      "4        10.070          0.000     0.000       0.000    47.000    51.000   \n",
      "\n",
      "   min_temp    fog  fog_heavy  thunder  ice_pellets  glaze  smoke_haze  \\\n",
      "0    41.000   True      False    False        False  False        True   \n",
      "1    63.000  False      False    False        False  False       False   \n",
      "2    18.000  False      False    False        False  False       False   \n",
      "3    32.000  False      False    False        False  False       False   \n",
      "4    39.000  False      False    False        False  False       False   \n",
      "\n",
      "   blowing_snow  \n",
      "0         False  \n",
      "1         False  \n",
      "2         False  \n",
      "3         False  \n",
      "4         False  \n"
     ]
    }
   ],
   "source": [
    "print(taxis.head())"
   ]
  },
  {
   "cell_type": "code",
   "execution_count": 22,
   "metadata": {
    "collapsed": true
   },
   "outputs": [],
   "source": [
    "#Set index to datetime of pickup\n",
    "taxis['pickup_datetime'] = pd.to_datetime(taxis['pickup_datetime'])\n",
    "datetime_ind = list(taxis['pickup_datetime'])\n",
    "taxis.index = datetime_ind"
   ]
  },
  {
   "cell_type": "code",
   "execution_count": 24,
   "metadata": {},
   "outputs": [],
   "source": [
    "#While we're at it, pair the datetimes with their respective days of the week\n",
    "day_of_week = [x.weekday() for x in datetime_ind]\n",
    "taxis['day_of_week'] = day_of_week"
   ]
  },
  {
   "cell_type": "code",
   "execution_count": 26,
   "metadata": {
    "collapsed": true
   },
   "outputs": [],
   "source": [
    "#Create a separate column with the names of the weekdays in case they're needed later\n",
    "weekday_dict = {0: 'Monday',\n",
    "               1: 'Tuesday',\n",
    "               2: 'Wednesday',\n",
    "               3: 'Thursday',\n",
    "               4: 'Friday',\n",
    "               5: 'Saturday',\n",
    "               6: 'Sunday'}\n",
    "taxis['weekday_name'] = taxis['day_of_week'].map(weekday_dict)"
   ]
  },
  {
   "cell_type": "code",
   "execution_count": 27,
   "metadata": {
    "collapsed": true
   },
   "outputs": [],
   "source": [
    "taxis['day_of_week'] = taxis['day_of_week'].astype('category').cat.as_ordered()\n",
    "taxis['weekday_name'] = taxis['weekday_name'].astype('category')"
   ]
  },
  {
   "cell_type": "code",
   "execution_count": 28,
   "metadata": {
    "collapsed": true
   },
   "outputs": [],
   "source": [
    "#Set drop off to datetime and re-calculate trip duration as TimeDelta\n",
    "taxis['dropoff_datetime'] = pd.to_datetime(taxis['dropoff_datetime'])\n",
    "taxis['trip_duration'] = taxis['dropoff_datetime'] - taxis['pickup_datetime']"
   ]
  },
  {
   "cell_type": "code",
   "execution_count": 29,
   "metadata": {},
   "outputs": [],
   "source": [
    "geometry = [Point(xy) for xy in zip(taxis['pickup_longitude'], taxis['pickup_latitude'])]\n",
    "crs = {'init': 'epsg:4326'}\n",
    "taxis = gpd.GeoDataFrame(taxis, crs=crs, geometry=geometry)"
   ]
  },
  {
   "cell_type": "code",
   "execution_count": 32,
   "metadata": {},
   "outputs": [
    {
     "data": {
      "image/png": "[encoded data removed]",
      "text/plain": [
       "<matplotlib.figure.Figure at 0x276cc650>"
      ]
     },
     "metadata": {},
     "output_type": "display_data"
    }
   ],
   "source": [
    "taxis.plot()\n",
    "plt.show()"
   ]
  },
  {
   "cell_type": "markdown",
   "metadata": {},
   "source": [
    "Some of the pickup coordinates appear to be outside of the NYC metro area entirely. Are these valid transactions?"
   ]
  },
  {
   "cell_type": "code",
   "execution_count": 46,
   "metadata": {},
   "outputs": [],
   "source": [
    "xmin = -74.3\n",
    "xmax = -73.72\n",
    "ymin = 40.47\n",
    "ymax = 40.92\n",
    "longitude_limits = (taxis['pickup_longitude'] > xmin) & (taxis['pickup_longitude'] < xmax)\n",
    "latitude_limits = (taxis['pickup_latitude'] > ymin) & (taxis['pickup_latitude'] < ymax)"
   ]
  },
  {
   "cell_type": "code",
   "execution_count": 35,
   "metadata": {},
   "outputs": [
    {
     "data": {
      "image/png": "[encoded data removed]",
      "text/plain": [
       "<matplotlib.figure.Figure at 0x3fb00350>"
      ]
     },
     "metadata": {},
     "output_type": "display_data"
    }
   ],
   "source": [
    "\n",
    "taxis.plot()\n",
    "plt.axis([xmin, xmax, ymin, ymax])\n",
    "plt.show()"
   ]
  },
  {
   "cell_type": "code",
   "execution_count": null,
   "metadata": {},
   "outputs": [],
   "source": [
    "taxis['weekday_type'] = "
   ]
  },
  {
   "cell_type": "code",
   "execution_count": null,
   "metadata": {
    "collapsed": true
   },
   "outputs": [],
   "source": [
    "print(taxis.info())"
   ]
  },
  {
   "cell_type": "code",
   "execution_count": null,
   "metadata": {
    "collapsed": true
   },
   "outputs": [],
   "source": [
    "monthly_count = taxis['pickup_datetime'].resample('M').count()"
   ]
  },
  {
   "cell_type": "code",
   "execution_count": null,
   "metadata": {
    "collapsed": true
   },
   "outputs": [],
   "source": [
    "months = monthly_count.index\n",
    "month_labels = months.strftime('%b')"
   ]
  },
  {
   "cell_type": "code",
   "execution_count": null,
   "metadata": {
    "scrolled": true
   },
   "outputs": [],
   "source": [
    "import matplotlib.pyplot as plt\n",
    "plt.plot(monthly_count)\n",
    "plt.xticks(months, month_labels)\n",
    "plt.xlabel('Month')\n",
    "plt.ylabel('Total Trips')\n",
    "plt.title('Total Yellow Cab Trips by Month')\n",
    "plt.show()"
   ]
  },
  {
   "cell_type": "code",
   "execution_count": null,
   "metadata": {
    "collapsed": true
   },
   "outputs": [],
   "source": [
    "daily_trips = taxis['pickup_datetime'].resample('D').count()"
   ]
  },
  {
   "cell_type": "code",
   "execution_count": null,
   "metadata": {
    "collapsed": true
   },
   "outputs": [],
   "source": [
    "smoothed_7d = daily_trips.rolling(window=7).mean()"
   ]
  },
  {
   "cell_type": "code",
   "execution_count": null,
   "metadata": {
    "collapsed": true
   },
   "outputs": [],
   "source": [
    "smoothed_30d = daily_trips.rolling(window=30).mean()"
   ]
  },
  {
   "cell_type": "code",
   "execution_count": null,
   "metadata": {},
   "outputs": [],
   "source": [
    "plot1, = plt.plot(daily_trips, color='red')\n",
    "plot2, = plt.plot(smoothed_7d, color='blue')\n",
    "plot3, = plt.plot(smoothed_30d, color='green')\n",
    "plt.xlabel('Month')\n",
    "plt.ylabel('Total Daily Trips')\n",
    "plt.title('Daily Taxi Trips')\n",
    "plt.legend([plot1, plot2, plot3], ['Daily Trips','Rolling 7D Avg','Rolling 30D Avg'], loc='lower right')\n",
    "plt.show()"
   ]
  },
  {
   "cell_type": "markdown",
   "metadata": {},
   "source": [
    "Taxi demand was unusually low one day in January and one day in late May."
   ]
  },
  {
   "cell_type": "code",
   "execution_count": null,
   "metadata": {},
   "outputs": [],
   "source": [
    "#Find outlier in January\n",
    "print(daily_trips.loc['2016-01'])"
   ]
  },
  {
   "cell_type": "code",
   "execution_count": null,
   "metadata": {},
   "outputs": [],
   "source": [
    "#Check weather for January 23rd\n",
    "print(taxis.loc['2016-01-23'].iloc[:,-18:])"
   ]
  },
  {
   "cell_type": "markdown",
   "metadata": {},
   "source": [
    "A large snow storm on January 23rd caused many people to stay inside. Additionally, it was a Saturday which meant fewer people were obligated to go anywhere."
   ]
  },
  {
   "cell_type": "code",
   "execution_count": null,
   "metadata": {},
   "outputs": [],
   "source": [
    "#Find outlier in late May\n",
    "print(daily_trips.loc['2016-05'])"
   ]
  },
  {
   "cell_type": "code",
   "execution_count": null,
   "metadata": {},
   "outputs": [],
   "source": [
    "#Weather on May 30\n",
    "print(taxis.loc['2016-05-30'].iloc[:,-18:])"
   ]
  },
  {
   "cell_type": "markdown",
   "metadata": {},
   "source": [
    "A quick Google search reveals that May 30, 2016 was Memorial Day!"
   ]
  },
  {
   "cell_type": "code",
   "execution_count": null,
   "metadata": {},
   "outputs": [],
   "source": [
    "#Filter down to weekdays and run hourly analysis\n",
    "hourly_trips = taxis.loc[taxis['weekday_type'] == True, 'pickup_datetime'].resample('H').count()"
   ]
  },
  {
   "cell_type": "code",
   "execution_count": null,
   "metadata": {
    "collapsed": true
   },
   "outputs": [],
   "source": [
    "hourly_trips = hourly_trips.loc[hourly_trips > 0]"
   ]
  },
  {
   "cell_type": "code",
   "execution_count": null,
   "metadata": {
    "collapsed": true
   },
   "outputs": [],
   "source": [
    "hours = []\n",
    "for idx, trip in hourly_trips.items():\n",
    "    hours.append(idx.hour)"
   ]
  },
  {
   "cell_type": "code",
   "execution_count": null,
   "metadata": {
    "collapsed": true
   },
   "outputs": [],
   "source": [
    "print(hours[:50])"
   ]
  },
  {
   "cell_type": "code",
   "execution_count": null,
   "metadata": {
    "collapsed": true
   },
   "outputs": [],
   "source": [
    "print(hourly_trips[:50])"
   ]
  }
 ],
 "metadata": {
  "kernelspec": {
   "display_name": "Python 3",
   "language": "python",
   "name": "python3"
  },
  "language_info": {
   "codemirror_mode": {
    "name": "ipython",
    "version": 3
   },
   "file_extension": ".py",
   "mimetype": "text/x-python",
   "name": "python",
   "nbconvert_exporter": "python",
   "pygments_lexer": "ipython3",
   "version": "3.6.2"
  }
 },
 "nbformat": 4,
 "nbformat_minor": 2
}
