{
 "cells": [
  {
   "cell_type": "code",
   "execution_count": 1,
   "metadata": {},
   "outputs": [
    {
     "data": {
      "text/html": [
       "<style>.container { width:100% !important; }</style>"
      ],
      "text/plain": [
       "<IPython.core.display.HTML object>"
      ]
     },
     "metadata": {},
     "output_type": "display_data"
    }
   ],
   "source": [
    "%matplotlib inline\n",
    "import matplotlib.pyplot as plt\n",
    "import pandas as pd\n",
    "import geopandas as gpd\n",
    "import numpy as np\n",
    "from shapely.geometry import Point\n",
    "\n",
    "\n",
    "from IPython.core.display import display, HTML\n",
    "display(HTML(\"<style>.container { width:100% !important; }</style>\"))\n",
    "\n",
    "#Display all columns instead of \"...\" truncation\n",
    "pd.options.display.max_columns = None\n",
    "\n",
    "#No scientific notation\n",
    "pd.set_option('display.float_format', lambda x: '%.3f' % x)\n",
    "\n",
    "#Set plot sizes\n",
    "plt.rcParams[\"figure.figsize\"] = 10, 10"
   ]
  },
  {
   "cell_type": "code",
   "execution_count": 2,
   "metadata": {
    "collapsed": true
   },
   "outputs": [],
   "source": [
    "#Read in taxi data\n",
    "taxis = pd.read_csv('nyc_taxi.csv')"
   ]
  },
  {
   "cell_type": "code",
   "execution_count": 3,
   "metadata": {
    "collapsed": true
   },
   "outputs": [],
   "source": [
    "#Read in geospatial data for New York\n",
    "ny_state = gpd.read_file('ZillowNeighborhoods-NY.shp')"
   ]
  },
  {
   "cell_type": "code",
   "execution_count": 4,
   "metadata": {},
   "outputs": [
    {
     "name": "stdout",
     "output_type": "stream",
     "text": [
      "<class 'geopandas.geodataframe.GeoDataFrame'>\n",
      "RangeIndex: 579 entries, 0 to 578\n",
      "Data columns (total 6 columns):\n",
      "State       579 non-null object\n",
      "County      579 non-null object\n",
      "City        579 non-null object\n",
      "Name        579 non-null object\n",
      "RegionID    579 non-null object\n",
      "geometry    579 non-null object\n",
      "dtypes: object(6)\n",
      "memory usage: 13.6+ KB\n",
      "None\n"
     ]
    }
   ],
   "source": [
    "print(ny_state.info())"
   ]
  },
  {
   "cell_type": "code",
   "execution_count": 5,
   "metadata": {},
   "outputs": [
    {
     "data": {
      "text/html": [
       "<div>\n",
       "<style>\n",
       "    .dataframe thead tr:only-child th {\n",
       "        text-align: right;\n",
       "    }\n",
       "\n",
       "    .dataframe thead th {\n",
       "        text-align: left;\n",
       "    }\n",
       "\n",
       "    .dataframe tbody tr th {\n",
       "        vertical-align: top;\n",
       "    }\n",
       "</style>\n",
       "<table border=\"1\" class=\"dataframe\">\n",
       "  <thead>\n",
       "    <tr style=\"text-align: right;\">\n",
       "      <th></th>\n",
       "      <th>State</th>\n",
       "      <th>County</th>\n",
       "      <th>City</th>\n",
       "      <th>Name</th>\n",
       "      <th>RegionID</th>\n",
       "      <th>geometry</th>\n",
       "    </tr>\n",
       "  </thead>\n",
       "  <tbody>\n",
       "    <tr>\n",
       "      <th>246</th>\n",
       "      <td>NY</td>\n",
       "      <td>New York</td>\n",
       "      <td>New York</td>\n",
       "      <td>Marble Hill</td>\n",
       "      <td>270880</td>\n",
       "      <td>POLYGON ((-73.91071526499991 40.87890143900006...</td>\n",
       "    </tr>\n",
       "    <tr>\n",
       "      <th>282</th>\n",
       "      <td>NY</td>\n",
       "      <td>Kings</td>\n",
       "      <td>New York</td>\n",
       "      <td>Vinegar Hill</td>\n",
       "      <td>270960</td>\n",
       "      <td>POLYGON ((-73.97901955399993 40.70666396400009...</td>\n",
       "    </tr>\n",
       "    <tr>\n",
       "      <th>310</th>\n",
       "      <td>NY</td>\n",
       "      <td>Bronx</td>\n",
       "      <td>New York</td>\n",
       "      <td>Rikers Island</td>\n",
       "      <td>270922</td>\n",
       "      <td>POLYGON ((-73.8865870059999 40.79891837000008,...</td>\n",
       "    </tr>\n",
       "    <tr>\n",
       "      <th>375</th>\n",
       "      <td>NY</td>\n",
       "      <td>New York</td>\n",
       "      <td>New York</td>\n",
       "      <td>Brooklyn Heights</td>\n",
       "      <td>403122</td>\n",
       "      <td>POLYGON ((-73.99610507599969 40.70422567500025...</td>\n",
       "    </tr>\n",
       "  </tbody>\n",
       "</table>\n",
       "</div>"
      ],
      "text/plain": [
       "    State    County      City              Name RegionID  \\\n",
       "246    NY  New York  New York       Marble Hill   270880   \n",
       "282    NY     Kings  New York      Vinegar Hill   270960   \n",
       "310    NY     Bronx  New York     Rikers Island   270922   \n",
       "375    NY  New York  New York  Brooklyn Heights   403122   \n",
       "\n",
       "                                              geometry  \n",
       "246  POLYGON ((-73.91071526499991 40.87890143900006...  \n",
       "282  POLYGON ((-73.97901955399993 40.70666396400009...  \n",
       "310  POLYGON ((-73.8865870059999 40.79891837000008,...  \n",
       "375  POLYGON ((-73.99610507599969 40.70422567500025...  "
      ]
     },
     "execution_count": 5,
     "metadata": {},
     "output_type": "execute_result"
    }
   ],
   "source": [
    "#Locate duplicate regions\n",
    "ny_state[ny_state['RegionID'].duplicated()]"
   ]
  },
  {
   "cell_type": "code",
   "execution_count": 6,
   "metadata": {},
   "outputs": [
    {
     "data": {
      "text/html": [
       "<div>\n",
       "<style>\n",
       "    .dataframe thead tr:only-child th {\n",
       "        text-align: right;\n",
       "    }\n",
       "\n",
       "    .dataframe thead th {\n",
       "        text-align: left;\n",
       "    }\n",
       "\n",
       "    .dataframe tbody tr th {\n",
       "        vertical-align: top;\n",
       "    }\n",
       "</style>\n",
       "<table border=\"1\" class=\"dataframe\">\n",
       "  <thead>\n",
       "    <tr style=\"text-align: right;\">\n",
       "      <th></th>\n",
       "      <th>State</th>\n",
       "      <th>County</th>\n",
       "      <th>City</th>\n",
       "      <th>Name</th>\n",
       "      <th>RegionID</th>\n",
       "      <th>geometry</th>\n",
       "    </tr>\n",
       "  </thead>\n",
       "  <tbody>\n",
       "    <tr>\n",
       "      <th>281</th>\n",
       "      <td>NY</td>\n",
       "      <td>New York</td>\n",
       "      <td>New York</td>\n",
       "      <td>Vinegar Hill</td>\n",
       "      <td>270960</td>\n",
       "      <td>POLYGON ((-73.97901955399993 40.70666396400009...</td>\n",
       "    </tr>\n",
       "    <tr>\n",
       "      <th>282</th>\n",
       "      <td>NY</td>\n",
       "      <td>Kings</td>\n",
       "      <td>New York</td>\n",
       "      <td>Vinegar Hill</td>\n",
       "      <td>270960</td>\n",
       "      <td>POLYGON ((-73.97901955399993 40.70666396400009...</td>\n",
       "    </tr>\n",
       "  </tbody>\n",
       "</table>\n",
       "</div>"
      ],
      "text/plain": [
       "    State    County      City          Name RegionID  \\\n",
       "281    NY  New York  New York  Vinegar Hill   270960   \n",
       "282    NY     Kings  New York  Vinegar Hill   270960   \n",
       "\n",
       "                                              geometry  \n",
       "281  POLYGON ((-73.97901955399993 40.70666396400009...  \n",
       "282  POLYGON ((-73.97901955399993 40.70666396400009...  "
      ]
     },
     "execution_count": 6,
     "metadata": {},
     "output_type": "execute_result"
    }
   ],
   "source": [
    "#Investigate one of the duplicate regions\n",
    "ny_state[ny_state['RegionID'] == '270960']"
   ]
  },
  {
   "cell_type": "code",
   "execution_count": 7,
   "metadata": {
    "collapsed": true
   },
   "outputs": [],
   "source": [
    "#Drop duplicate regions\n",
    "ny_state = ny_state.loc[ny_state['RegionID'].drop_duplicates().index]"
   ]
  },
  {
   "cell_type": "code",
   "execution_count": 8,
   "metadata": {},
   "outputs": [
    {
     "data": {
      "text/plain": [
       "1.0"
      ]
     },
     "execution_count": 8,
     "metadata": {},
     "output_type": "execute_result"
    }
   ],
   "source": [
    "#Check that all regions are unique (output should be 1)\n",
    "ny_state['RegionID'].nunique(dropna = True) / len(ny_state['RegionID'])"
   ]
  },
  {
   "cell_type": "code",
   "execution_count": 9,
   "metadata": {
    "collapsed": true
   },
   "outputs": [],
   "source": [
    "#Set index to region ID\n",
    "ny_state['RegionID'] = ny_state['RegionID'].astype('int')\n",
    "ny_state = ny_state.set_index(['RegionID'])\n",
    "ny_state = ny_state.sort_index()"
   ]
  },
  {
   "cell_type": "code",
   "execution_count": 10,
   "metadata": {
    "collapsed": true
   },
   "outputs": [],
   "source": [
    "#All data come from the same state, drop state column\n",
    "ny_state = ny_state.drop('State', axis=1)"
   ]
  },
  {
   "cell_type": "code",
   "execution_count": 11,
   "metadata": {
    "collapsed": true
   },
   "outputs": [],
   "source": [
    "#Convert columns to categoricals\n",
    "def convert_to_categorical(df, cols):\n",
    "    \"\"\"Locate columns with low number of unique values and convert them to categoricals\"\"\"\n",
    "    for col in cols:\n",
    "        unique_vals = len(df[col].unique())\n",
    "        unique_ratio = unique_vals / len(df[col])\n",
    "        if unique_ratio < 0.2:\n",
    "            df[col] = df[col].astype('category')\n",
    "    return df"
   ]
  },
  {
   "cell_type": "code",
   "execution_count": 12,
   "metadata": {},
   "outputs": [
    {
     "name": "stdout",
     "output_type": "stream",
     "text": [
      "['County', 'City', 'Name']\n"
     ]
    }
   ],
   "source": [
    "#List columns of ny_state Dataframe\n",
    "columns = list(ny_state.select_dtypes(include=['object']).columns.values)\n",
    "columns.remove('geometry')\n",
    "print(columns)"
   ]
  },
  {
   "cell_type": "code",
   "execution_count": 13,
   "metadata": {},
   "outputs": [
    {
     "data": {
      "text/html": [
       "<div>\n",
       "<style>\n",
       "    .dataframe thead tr:only-child th {\n",
       "        text-align: right;\n",
       "    }\n",
       "\n",
       "    .dataframe thead th {\n",
       "        text-align: left;\n",
       "    }\n",
       "\n",
       "    .dataframe tbody tr th {\n",
       "        vertical-align: top;\n",
       "    }\n",
       "</style>\n",
       "<table border=\"1\" class=\"dataframe\">\n",
       "  <thead>\n",
       "    <tr style=\"text-align: right;\">\n",
       "      <th></th>\n",
       "      <th>County</th>\n",
       "      <th>City</th>\n",
       "      <th>Name</th>\n",
       "      <th>geometry</th>\n",
       "    </tr>\n",
       "    <tr>\n",
       "      <th>RegionID</th>\n",
       "      <th></th>\n",
       "      <th></th>\n",
       "      <th></th>\n",
       "      <th></th>\n",
       "    </tr>\n",
       "  </thead>\n",
       "  <tbody>\n",
       "    <tr>\n",
       "      <th>3698</th>\n",
       "      <td>Wyoming</td>\n",
       "      <td>Eagle</td>\n",
       "      <td>Bliss</td>\n",
       "      <td>POLYGON ((-78.23548 42.603406, -78.235438 42.5...</td>\n",
       "    </tr>\n",
       "    <tr>\n",
       "      <th>3736</th>\n",
       "      <td>Suffolk</td>\n",
       "      <td>Town of Islip</td>\n",
       "      <td>Bohemia</td>\n",
       "      <td>POLYGON ((-73.14422599999978 40.78667100000015...</td>\n",
       "    </tr>\n",
       "    <tr>\n",
       "      <th>4083</th>\n",
       "      <td>Rockland</td>\n",
       "      <td>Ramapo</td>\n",
       "      <td>Chestnut Ridge</td>\n",
       "      <td>POLYGON ((-74.05993899999993 41.10123000000004...</td>\n",
       "    </tr>\n",
       "    <tr>\n",
       "      <th>4257</th>\n",
       "      <td>Westchester</td>\n",
       "      <td>Yorktown</td>\n",
       "      <td>Crompond</td>\n",
       "      <td>POLYGON ((-73.82453700000001 41.305756, -73.82...</td>\n",
       "    </tr>\n",
       "    <tr>\n",
       "      <th>4819</th>\n",
       "      <td>Queens</td>\n",
       "      <td>New York</td>\n",
       "      <td>Fresh Meadows</td>\n",
       "      <td>POLYGON ((-73.7699123773972 40.74150740314482,...</td>\n",
       "    </tr>\n",
       "    <tr>\n",
       "      <th>4982</th>\n",
       "      <td>Suffolk</td>\n",
       "      <td>Huntington</td>\n",
       "      <td>Greenlawn</td>\n",
       "      <td>POLYGON ((-73.35160499999995 40.87515100000007...</td>\n",
       "    </tr>\n",
       "    <tr>\n",
       "      <th>5061</th>\n",
       "      <td>Nassau</td>\n",
       "      <td>Great Neck</td>\n",
       "      <td>Harbor Hills</td>\n",
       "      <td>POLYGON ((-73.74329099999994 40.79097000000007...</td>\n",
       "    </tr>\n",
       "    <tr>\n",
       "      <th>5397</th>\n",
       "      <td>Nassau</td>\n",
       "      <td>Great Neck</td>\n",
       "      <td>Kensington</td>\n",
       "      <td>POLYGON ((-73.70949799999994 40.79300700000005...</td>\n",
       "    </tr>\n",
       "    <tr>\n",
       "      <th>5837</th>\n",
       "      <td>Queens</td>\n",
       "      <td>New York</td>\n",
       "      <td>Maspeth</td>\n",
       "      <td>POLYGON ((-73.8881191182047 40.73555656190326,...</td>\n",
       "    </tr>\n",
       "    <tr>\n",
       "      <th>6158</th>\n",
       "      <td>Rockland</td>\n",
       "      <td>Ramapo</td>\n",
       "      <td>New Hempstead</td>\n",
       "      <td>POLYGON ((-74.03410099999991 41.16842200000008...</td>\n",
       "    </tr>\n",
       "    <tr>\n",
       "      <th>6263</th>\n",
       "      <td>Rockland</td>\n",
       "      <td>Orangetown</td>\n",
       "      <td>Nyack</td>\n",
       "      <td>POLYGON ((-73.89377999999994 41.09329600000007...</td>\n",
       "    </tr>\n",
       "    <tr>\n",
       "      <th>6498</th>\n",
       "      <td>Rockland</td>\n",
       "      <td>Orangetown</td>\n",
       "      <td>Piermont</td>\n",
       "      <td>POLYGON ((-73.914281 41.051497, -73.8969512889...</td>\n",
       "    </tr>\n",
       "    <tr>\n",
       "      <th>6687</th>\n",
       "      <td>Albany</td>\n",
       "      <td>Town of Coeymans</td>\n",
       "      <td>Ravena</td>\n",
       "      <td>POLYGON ((-73.82263299999994 42.50202800000005...</td>\n",
       "    </tr>\n",
       "    <tr>\n",
       "      <th>6719</th>\n",
       "      <td>Queens</td>\n",
       "      <td>New York</td>\n",
       "      <td>Rego Park</td>\n",
       "      <td>POLYGON ((-73.85629999999999 40.72303000000012...</td>\n",
       "    </tr>\n",
       "    <tr>\n",
       "      <th>6912</th>\n",
       "      <td>Suffolk</td>\n",
       "      <td>Town of Islip</td>\n",
       "      <td>Saltaire</td>\n",
       "      <td>POLYGON ((-73.18890699999992 40.63929400000006...</td>\n",
       "    </tr>\n",
       "    <tr>\n",
       "      <th>7349</th>\n",
       "      <td>Rensselaer</td>\n",
       "      <td>Troy</td>\n",
       "      <td>Sycaway</td>\n",
       "      <td>POLYGON ((-73.65638001299999 42.72569154300004...</td>\n",
       "    </tr>\n",
       "    <tr>\n",
       "      <th>7536</th>\n",
       "      <td>Nassau</td>\n",
       "      <td>Great Neck</td>\n",
       "      <td>University Gardens</td>\n",
       "      <td>POLYGON ((-73.73071499999992 40.78230600000006...</td>\n",
       "    </tr>\n",
       "    <tr>\n",
       "      <th>7663</th>\n",
       "      <td>Rockland</td>\n",
       "      <td>Clarkstown</td>\n",
       "      <td>Valley Cottage</td>\n",
       "      <td>POLYGON ((-73.96113199999991 41.11734000000007...</td>\n",
       "    </tr>\n",
       "    <tr>\n",
       "      <th>8349</th>\n",
       "      <td>Queens</td>\n",
       "      <td>New York</td>\n",
       "      <td>College Point</td>\n",
       "      <td>POLYGON ((-73.83296769899994 40.78987896700005...</td>\n",
       "    </tr>\n",
       "    <tr>\n",
       "      <th>8449</th>\n",
       "      <td>Erie</td>\n",
       "      <td>Amherst</td>\n",
       "      <td>Eggertsville</td>\n",
       "      <td>POLYGON ((-78.79230843399995 42.97887192900004...</td>\n",
       "    </tr>\n",
       "    <tr>\n",
       "      <th>8731</th>\n",
       "      <td>Kings</td>\n",
       "      <td>New York</td>\n",
       "      <td>Fort Hamilton</td>\n",
       "      <td>POLYGON ((-74.02362999999993 40.61995000000007...</td>\n",
       "    </tr>\n",
       "    <tr>\n",
       "      <th>9545</th>\n",
       "      <td>Albany</td>\n",
       "      <td>Guilderland</td>\n",
       "      <td>Westmere</td>\n",
       "      <td>POLYGON ((-73.87197712899996 42.69915614600006...</td>\n",
       "    </tr>\n",
       "    <tr>\n",
       "      <th>10007</th>\n",
       "      <td>Queens</td>\n",
       "      <td>New York</td>\n",
       "      <td>Arverne</td>\n",
       "      <td>POLYGON ((-73.78523334099992 40.60271283400004...</td>\n",
       "    </tr>\n",
       "    <tr>\n",
       "      <th>10329</th>\n",
       "      <td>Queens</td>\n",
       "      <td>New York</td>\n",
       "      <td>Belle Harbor</td>\n",
       "      <td>POLYGON ((-73.85618223699993 40.56810940300005...</td>\n",
       "    </tr>\n",
       "    <tr>\n",
       "      <th>10562</th>\n",
       "      <td>Queens</td>\n",
       "      <td>New York</td>\n",
       "      <td>Broad Channel</td>\n",
       "      <td>POLYGON ((-73.81641929999995 40.61820489400009...</td>\n",
       "    </tr>\n",
       "    <tr>\n",
       "      <th>10768</th>\n",
       "      <td>Suffolk</td>\n",
       "      <td>Town of Islip</td>\n",
       "      <td>Central Islip</td>\n",
       "      <td>POLYGON ((-73.199122 40.805522, -73.197293 40....</td>\n",
       "    </tr>\n",
       "    <tr>\n",
       "      <th>10957</th>\n",
       "      <td>Queens</td>\n",
       "      <td>New York</td>\n",
       "      <td>Corona</td>\n",
       "      <td>POLYGON ((-73.85268336916212 40.74947637422606...</td>\n",
       "    </tr>\n",
       "    <tr>\n",
       "      <th>12390</th>\n",
       "      <td>Westchester</td>\n",
       "      <td>Somers</td>\n",
       "      <td>Lincolndale</td>\n",
       "      <td>POLYGON ((-73.73580899999996 41.34044500000005...</td>\n",
       "    </tr>\n",
       "    <tr>\n",
       "      <th>12514</th>\n",
       "      <td>Putnam</td>\n",
       "      <td>Carmel</td>\n",
       "      <td>Mahopac</td>\n",
       "      <td>POLYGON ((-73.71979868999995 41.34883013600006...</td>\n",
       "    </tr>\n",
       "    <tr>\n",
       "      <th>13356</th>\n",
       "      <td>Queens</td>\n",
       "      <td>New York</td>\n",
       "      <td>Pomonok</td>\n",
       "      <td>POLYGON ((-73.8046206487226 40.73842109479557,...</td>\n",
       "    </tr>\n",
       "    <tr>\n",
       "      <th>...</th>\n",
       "      <td>...</td>\n",
       "      <td>...</td>\n",
       "      <td>...</td>\n",
       "      <td>...</td>\n",
       "    </tr>\n",
       "    <tr>\n",
       "      <th>403225</th>\n",
       "      <td>Queens</td>\n",
       "      <td>New York</td>\n",
       "      <td>Floral park</td>\n",
       "      <td>POLYGON ((-73.71049999999991 40.72722700000008...</td>\n",
       "    </tr>\n",
       "    <tr>\n",
       "      <th>403226</th>\n",
       "      <td>Queens</td>\n",
       "      <td>New York</td>\n",
       "      <td>Bellerose</td>\n",
       "      <td>POLYGON ((-73.71682840699981 40.74205306800007...</td>\n",
       "    </tr>\n",
       "    <tr>\n",
       "      <th>403227</th>\n",
       "      <td>Queens</td>\n",
       "      <td>New York</td>\n",
       "      <td>Flushing Meadows Corona Park</td>\n",
       "      <td>POLYGON ((-73.83952692399987 40.76561027300009...</td>\n",
       "    </tr>\n",
       "    <tr>\n",
       "      <th>403228</th>\n",
       "      <td>Queens</td>\n",
       "      <td>New York</td>\n",
       "      <td>Hillcrest</td>\n",
       "      <td>POLYGON ((-73.79295606859223 40.72886376119212...</td>\n",
       "    </tr>\n",
       "    <tr>\n",
       "      <th>403229</th>\n",
       "      <td>Queens</td>\n",
       "      <td>New York</td>\n",
       "      <td>Jacob Riis Park</td>\n",
       "      <td>POLYGON ((-73.86450944399991 40.57002152700005...</td>\n",
       "    </tr>\n",
       "    <tr>\n",
       "      <th>417961</th>\n",
       "      <td>Queens</td>\n",
       "      <td>New York</td>\n",
       "      <td>East Jamaica Bay Islands</td>\n",
       "      <td>(POLYGON ((-73.82832598499994 40.5884237280000...</td>\n",
       "    </tr>\n",
       "    <tr>\n",
       "      <th>426284</th>\n",
       "      <td>Nassau</td>\n",
       "      <td>Great Neck</td>\n",
       "      <td>Great Neck Village</td>\n",
       "      <td>POLYGON ((-73.73598199999992 40.81196200000005...</td>\n",
       "    </tr>\n",
       "    <tr>\n",
       "      <th>698708</th>\n",
       "      <td>Westchester</td>\n",
       "      <td>Town of Mamaroneck</td>\n",
       "      <td>Stanford Hills</td>\n",
       "      <td>POLYGON ((-122.1984346339999 37.42225986900007...</td>\n",
       "    </tr>\n",
       "    <tr>\n",
       "      <th>760938</th>\n",
       "      <td>Schenectady</td>\n",
       "      <td>Schenectady</td>\n",
       "      <td>Central State Street</td>\n",
       "      <td>POLYGON ((-73.91397946399996 42.80508772800005...</td>\n",
       "    </tr>\n",
       "    <tr>\n",
       "      <th>760939</th>\n",
       "      <td>Schenectady</td>\n",
       "      <td>Schenectady</td>\n",
       "      <td>Stockade</td>\n",
       "      <td>POLYGON ((-73.94372443899994 42.81432098400006...</td>\n",
       "    </tr>\n",
       "    <tr>\n",
       "      <th>760940</th>\n",
       "      <td>Schenectady</td>\n",
       "      <td>Schenectady</td>\n",
       "      <td>Downtown</td>\n",
       "      <td>POLYGON ((-73.93800556699995 42.82161145700007...</td>\n",
       "    </tr>\n",
       "    <tr>\n",
       "      <th>760941</th>\n",
       "      <td>Schenectady</td>\n",
       "      <td>Schenectady</td>\n",
       "      <td>Eastern Avenue</td>\n",
       "      <td>POLYGON ((-73.91467988499994 42.80697241000007...</td>\n",
       "    </tr>\n",
       "    <tr>\n",
       "      <th>760942</th>\n",
       "      <td>Schenectady</td>\n",
       "      <td>Schenectady</td>\n",
       "      <td>Vale and Hamilton Hill</td>\n",
       "      <td>POLYGON ((-73.93038301199994 42.79828465500003...</td>\n",
       "    </tr>\n",
       "    <tr>\n",
       "      <th>760943</th>\n",
       "      <td>Schenectady</td>\n",
       "      <td>Schenectady</td>\n",
       "      <td>Mont Pleasant</td>\n",
       "      <td>POLYGON ((-73.93130504699997 42.79757979800007...</td>\n",
       "    </tr>\n",
       "    <tr>\n",
       "      <th>761208</th>\n",
       "      <td>Schenectady</td>\n",
       "      <td>Town of Niskayuna</td>\n",
       "      <td>Merlin Park</td>\n",
       "      <td>POLYGON ((-73.84944594299998 42.78090329500003...</td>\n",
       "    </tr>\n",
       "    <tr>\n",
       "      <th>762152</th>\n",
       "      <td>Schenectady</td>\n",
       "      <td>Schenectady</td>\n",
       "      <td>Union Street</td>\n",
       "      <td>POLYGON ((-73.91941467099997 42.81986491900005...</td>\n",
       "    </tr>\n",
       "    <tr>\n",
       "      <th>762572</th>\n",
       "      <td>Westchester</td>\n",
       "      <td>Mount Vernon</td>\n",
       "      <td>Mount Vernon Heights</td>\n",
       "      <td>POLYGON ((-73.81366300000001 40.910866, -73.81...</td>\n",
       "    </tr>\n",
       "    <tr>\n",
       "      <th>762573</th>\n",
       "      <td>Westchester</td>\n",
       "      <td>Mount Vernon</td>\n",
       "      <td>Downtown</td>\n",
       "      <td>POLYGON ((-73.82662737099997 40.91457648200003...</td>\n",
       "    </tr>\n",
       "    <tr>\n",
       "      <th>762884</th>\n",
       "      <td>Rensselaer</td>\n",
       "      <td>Troy</td>\n",
       "      <td>South Central</td>\n",
       "      <td>POLYGON ((-73.68388911399995 42.71904826000008...</td>\n",
       "    </tr>\n",
       "    <tr>\n",
       "      <th>762885</th>\n",
       "      <td>Rensselaer</td>\n",
       "      <td>Troy</td>\n",
       "      <td>Eastside</td>\n",
       "      <td>POLYGON ((-73.66770738299994 42.72242890300004...</td>\n",
       "    </tr>\n",
       "    <tr>\n",
       "      <th>762886</th>\n",
       "      <td>Rensselaer</td>\n",
       "      <td>Troy</td>\n",
       "      <td>Downtown</td>\n",
       "      <td>POLYGON ((-73.68164668099996 42.73964883200006...</td>\n",
       "    </tr>\n",
       "    <tr>\n",
       "      <th>762887</th>\n",
       "      <td>Rensselaer</td>\n",
       "      <td>Troy</td>\n",
       "      <td>North Central</td>\n",
       "      <td>POLYGON ((-73.67114710699997 42.75336103000006...</td>\n",
       "    </tr>\n",
       "    <tr>\n",
       "      <th>763522</th>\n",
       "      <td>Westchester</td>\n",
       "      <td>Yonkers</td>\n",
       "      <td>Nodine Hill</td>\n",
       "      <td>POLYGON ((-73.88603298099997 40.93929284700005...</td>\n",
       "    </tr>\n",
       "    <tr>\n",
       "      <th>763523</th>\n",
       "      <td>Westchester</td>\n",
       "      <td>Yonkers</td>\n",
       "      <td>Park Hill</td>\n",
       "      <td>POLYGON ((-73.88054474699999 40.92586225200006...</td>\n",
       "    </tr>\n",
       "    <tr>\n",
       "      <th>763524</th>\n",
       "      <td>Westchester</td>\n",
       "      <td>Yonkers</td>\n",
       "      <td>Getty Square</td>\n",
       "      <td>POLYGON ((-73.88603298099997 40.93929284700005...</td>\n",
       "    </tr>\n",
       "    <tr>\n",
       "      <th>763525</th>\n",
       "      <td>Westchester</td>\n",
       "      <td>Yonkers</td>\n",
       "      <td>Homefield</td>\n",
       "      <td>POLYGON ((-73.85997040899997 40.95995459500006...</td>\n",
       "    </tr>\n",
       "    <tr>\n",
       "      <th>764267</th>\n",
       "      <td>Albany</td>\n",
       "      <td>Albany</td>\n",
       "      <td>Hudson/Park</td>\n",
       "      <td>POLYGON ((-73.76180156299995 42.65156595100007...</td>\n",
       "    </tr>\n",
       "    <tr>\n",
       "      <th>764297</th>\n",
       "      <td>Schenectady</td>\n",
       "      <td>Schenectady</td>\n",
       "      <td>Northside</td>\n",
       "      <td>POLYGON ((-73.90486548599995 42.82604350400004...</td>\n",
       "    </tr>\n",
       "    <tr>\n",
       "      <th>764315</th>\n",
       "      <td>Schenectady</td>\n",
       "      <td>Town of Niskayuna</td>\n",
       "      <td>Old Niskayuna</td>\n",
       "      <td>POLYGON ((-73.88804564799995 42.85033648000007...</td>\n",
       "    </tr>\n",
       "    <tr>\n",
       "      <th>764316</th>\n",
       "      <td>Schenectady</td>\n",
       "      <td>Town of Niskayuna</td>\n",
       "      <td>Hexam Gardens</td>\n",
       "      <td>POLYGON ((-73.89304199999999 42.782689, -73.89...</td>\n",
       "    </tr>\n",
       "  </tbody>\n",
       "</table>\n",
       "<p>575 rows × 4 columns</p>\n",
       "</div>"
      ],
      "text/plain": [
       "               County                City                          Name  \\\n",
       "RegionID                                                                  \n",
       "3698          Wyoming               Eagle                         Bliss   \n",
       "3736          Suffolk       Town of Islip                       Bohemia   \n",
       "4083         Rockland              Ramapo                Chestnut Ridge   \n",
       "4257      Westchester            Yorktown                      Crompond   \n",
       "4819           Queens            New York                 Fresh Meadows   \n",
       "4982          Suffolk          Huntington                     Greenlawn   \n",
       "5061           Nassau          Great Neck                  Harbor Hills   \n",
       "5397           Nassau          Great Neck                    Kensington   \n",
       "5837           Queens            New York                       Maspeth   \n",
       "6158         Rockland              Ramapo                 New Hempstead   \n",
       "6263         Rockland          Orangetown                         Nyack   \n",
       "6498         Rockland          Orangetown                      Piermont   \n",
       "6687           Albany    Town of Coeymans                        Ravena   \n",
       "6719           Queens            New York                     Rego Park   \n",
       "6912          Suffolk       Town of Islip                      Saltaire   \n",
       "7349       Rensselaer                Troy                       Sycaway   \n",
       "7536           Nassau          Great Neck            University Gardens   \n",
       "7663         Rockland          Clarkstown                Valley Cottage   \n",
       "8349           Queens            New York                 College Point   \n",
       "8449             Erie             Amherst                  Eggertsville   \n",
       "8731            Kings            New York                 Fort Hamilton   \n",
       "9545           Albany         Guilderland                      Westmere   \n",
       "10007          Queens            New York                       Arverne   \n",
       "10329          Queens            New York                  Belle Harbor   \n",
       "10562          Queens            New York                 Broad Channel   \n",
       "10768         Suffolk       Town of Islip                 Central Islip   \n",
       "10957          Queens            New York                        Corona   \n",
       "12390     Westchester              Somers                   Lincolndale   \n",
       "12514          Putnam              Carmel                       Mahopac   \n",
       "13356          Queens            New York                       Pomonok   \n",
       "...               ...                 ...                           ...   \n",
       "403225         Queens            New York                   Floral park   \n",
       "403226         Queens            New York                     Bellerose   \n",
       "403227         Queens            New York  Flushing Meadows Corona Park   \n",
       "403228         Queens            New York                     Hillcrest   \n",
       "403229         Queens            New York               Jacob Riis Park   \n",
       "417961         Queens            New York      East Jamaica Bay Islands   \n",
       "426284         Nassau          Great Neck            Great Neck Village   \n",
       "698708    Westchester  Town of Mamaroneck                Stanford Hills   \n",
       "760938    Schenectady         Schenectady          Central State Street   \n",
       "760939    Schenectady         Schenectady                      Stockade   \n",
       "760940    Schenectady         Schenectady                      Downtown   \n",
       "760941    Schenectady         Schenectady                Eastern Avenue   \n",
       "760942    Schenectady         Schenectady        Vale and Hamilton Hill   \n",
       "760943    Schenectady         Schenectady                 Mont Pleasant   \n",
       "761208    Schenectady   Town of Niskayuna                   Merlin Park   \n",
       "762152    Schenectady         Schenectady                  Union Street   \n",
       "762572    Westchester        Mount Vernon          Mount Vernon Heights   \n",
       "762573    Westchester        Mount Vernon                      Downtown   \n",
       "762884     Rensselaer                Troy                 South Central   \n",
       "762885     Rensselaer                Troy                      Eastside   \n",
       "762886     Rensselaer                Troy                      Downtown   \n",
       "762887     Rensselaer                Troy                 North Central   \n",
       "763522    Westchester             Yonkers                   Nodine Hill   \n",
       "763523    Westchester             Yonkers                     Park Hill   \n",
       "763524    Westchester             Yonkers                  Getty Square   \n",
       "763525    Westchester             Yonkers                     Homefield   \n",
       "764267         Albany              Albany                   Hudson/Park   \n",
       "764297    Schenectady         Schenectady                     Northside   \n",
       "764315    Schenectady   Town of Niskayuna                 Old Niskayuna   \n",
       "764316    Schenectady   Town of Niskayuna                 Hexam Gardens   \n",
       "\n",
       "                                                   geometry  \n",
       "RegionID                                                     \n",
       "3698      POLYGON ((-78.23548 42.603406, -78.235438 42.5...  \n",
       "3736      POLYGON ((-73.14422599999978 40.78667100000015...  \n",
       "4083      POLYGON ((-74.05993899999993 41.10123000000004...  \n",
       "4257      POLYGON ((-73.82453700000001 41.305756, -73.82...  \n",
       "4819      POLYGON ((-73.7699123773972 40.74150740314482,...  \n",
       "4982      POLYGON ((-73.35160499999995 40.87515100000007...  \n",
       "5061      POLYGON ((-73.74329099999994 40.79097000000007...  \n",
       "5397      POLYGON ((-73.70949799999994 40.79300700000005...  \n",
       "5837      POLYGON ((-73.8881191182047 40.73555656190326,...  \n",
       "6158      POLYGON ((-74.03410099999991 41.16842200000008...  \n",
       "6263      POLYGON ((-73.89377999999994 41.09329600000007...  \n",
       "6498      POLYGON ((-73.914281 41.051497, -73.8969512889...  \n",
       "6687      POLYGON ((-73.82263299999994 42.50202800000005...  \n",
       "6719      POLYGON ((-73.85629999999999 40.72303000000012...  \n",
       "6912      POLYGON ((-73.18890699999992 40.63929400000006...  \n",
       "7349      POLYGON ((-73.65638001299999 42.72569154300004...  \n",
       "7536      POLYGON ((-73.73071499999992 40.78230600000006...  \n",
       "7663      POLYGON ((-73.96113199999991 41.11734000000007...  \n",
       "8349      POLYGON ((-73.83296769899994 40.78987896700005...  \n",
       "8449      POLYGON ((-78.79230843399995 42.97887192900004...  \n",
       "8731      POLYGON ((-74.02362999999993 40.61995000000007...  \n",
       "9545      POLYGON ((-73.87197712899996 42.69915614600006...  \n",
       "10007     POLYGON ((-73.78523334099992 40.60271283400004...  \n",
       "10329     POLYGON ((-73.85618223699993 40.56810940300005...  \n",
       "10562     POLYGON ((-73.81641929999995 40.61820489400009...  \n",
       "10768     POLYGON ((-73.199122 40.805522, -73.197293 40....  \n",
       "10957     POLYGON ((-73.85268336916212 40.74947637422606...  \n",
       "12390     POLYGON ((-73.73580899999996 41.34044500000005...  \n",
       "12514     POLYGON ((-73.71979868999995 41.34883013600006...  \n",
       "13356     POLYGON ((-73.8046206487226 40.73842109479557,...  \n",
       "...                                                     ...  \n",
       "403225    POLYGON ((-73.71049999999991 40.72722700000008...  \n",
       "403226    POLYGON ((-73.71682840699981 40.74205306800007...  \n",
       "403227    POLYGON ((-73.83952692399987 40.76561027300009...  \n",
       "403228    POLYGON ((-73.79295606859223 40.72886376119212...  \n",
       "403229    POLYGON ((-73.86450944399991 40.57002152700005...  \n",
       "417961    (POLYGON ((-73.82832598499994 40.5884237280000...  \n",
       "426284    POLYGON ((-73.73598199999992 40.81196200000005...  \n",
       "698708    POLYGON ((-122.1984346339999 37.42225986900007...  \n",
       "760938    POLYGON ((-73.91397946399996 42.80508772800005...  \n",
       "760939    POLYGON ((-73.94372443899994 42.81432098400006...  \n",
       "760940    POLYGON ((-73.93800556699995 42.82161145700007...  \n",
       "760941    POLYGON ((-73.91467988499994 42.80697241000007...  \n",
       "760942    POLYGON ((-73.93038301199994 42.79828465500003...  \n",
       "760943    POLYGON ((-73.93130504699997 42.79757979800007...  \n",
       "761208    POLYGON ((-73.84944594299998 42.78090329500003...  \n",
       "762152    POLYGON ((-73.91941467099997 42.81986491900005...  \n",
       "762572    POLYGON ((-73.81366300000001 40.910866, -73.81...  \n",
       "762573    POLYGON ((-73.82662737099997 40.91457648200003...  \n",
       "762884    POLYGON ((-73.68388911399995 42.71904826000008...  \n",
       "762885    POLYGON ((-73.66770738299994 42.72242890300004...  \n",
       "762886    POLYGON ((-73.68164668099996 42.73964883200006...  \n",
       "762887    POLYGON ((-73.67114710699997 42.75336103000006...  \n",
       "763522    POLYGON ((-73.88603298099997 40.93929284700005...  \n",
       "763523    POLYGON ((-73.88054474699999 40.92586225200006...  \n",
       "763524    POLYGON ((-73.88603298099997 40.93929284700005...  \n",
       "763525    POLYGON ((-73.85997040899997 40.95995459500006...  \n",
       "764267    POLYGON ((-73.76180156299995 42.65156595100007...  \n",
       "764297    POLYGON ((-73.90486548599995 42.82604350400004...  \n",
       "764315    POLYGON ((-73.88804564799995 42.85033648000007...  \n",
       "764316    POLYGON ((-73.89304199999999 42.782689, -73.89...  \n",
       "\n",
       "[575 rows x 4 columns]"
      ]
     },
     "execution_count": 13,
     "metadata": {},
     "output_type": "execute_result"
    }
   ],
   "source": [
    "#Convert columns to categoricals\n",
    "convert_to_categorical(ny_state, columns)"
   ]
  },
  {
   "cell_type": "code",
   "execution_count": 14,
   "metadata": {},
   "outputs": [
    {
     "name": "stdout",
     "output_type": "stream",
     "text": [
      "<class 'geopandas.geodataframe.GeoDataFrame'>\n",
      "Int64Index: 575 entries, 3698 to 764316\n",
      "Columns: 4 entries, County to geometry\n",
      "dtypes: category(2), object(2)\n",
      "memory usage: 12.3+ KB\n",
      "None\n"
     ]
    }
   ],
   "source": [
    "print(ny_state.info(verbose=False))"
   ]
  },
  {
   "cell_type": "code",
   "execution_count": 15,
   "metadata": {},
   "outputs": [
    {
     "data": {
      "text/html": [
       "<div>\n",
       "<style>\n",
       "    .dataframe thead tr:only-child th {\n",
       "        text-align: right;\n",
       "    }\n",
       "\n",
       "    .dataframe thead th {\n",
       "        text-align: left;\n",
       "    }\n",
       "\n",
       "    .dataframe tbody tr th {\n",
       "        vertical-align: top;\n",
       "    }\n",
       "</style>\n",
       "<table border=\"1\" class=\"dataframe\">\n",
       "  <thead>\n",
       "    <tr style=\"text-align: right;\">\n",
       "      <th></th>\n",
       "      <th>County</th>\n",
       "      <th>City</th>\n",
       "      <th>Name</th>\n",
       "    </tr>\n",
       "  </thead>\n",
       "  <tbody>\n",
       "    <tr>\n",
       "      <th>count</th>\n",
       "      <td>575</td>\n",
       "      <td>575</td>\n",
       "      <td>575</td>\n",
       "    </tr>\n",
       "    <tr>\n",
       "      <th>unique</th>\n",
       "      <td>24</td>\n",
       "      <td>50</td>\n",
       "      <td>558</td>\n",
       "    </tr>\n",
       "    <tr>\n",
       "      <th>top</th>\n",
       "      <td>Queens</td>\n",
       "      <td>New York</td>\n",
       "      <td>Downtown</td>\n",
       "    </tr>\n",
       "    <tr>\n",
       "      <th>freq</th>\n",
       "      <td>70</td>\n",
       "      <td>274</td>\n",
       "      <td>5</td>\n",
       "    </tr>\n",
       "  </tbody>\n",
       "</table>\n",
       "</div>"
      ],
      "text/plain": [
       "        County      City      Name\n",
       "count      575       575       575\n",
       "unique      24        50       558\n",
       "top     Queens  New York  Downtown\n",
       "freq        70       274         5"
      ]
     },
     "execution_count": 15,
     "metadata": {},
     "output_type": "execute_result"
    }
   ],
   "source": [
    "ny_state.drop('geometry', axis=1).describe()"
   ]
  },
  {
   "cell_type": "code",
   "execution_count": 16,
   "metadata": {},
   "outputs": [
    {
     "data": {
      "text/plain": [
       "(274, 4)"
      ]
     },
     "execution_count": 16,
     "metadata": {},
     "output_type": "execute_result"
    }
   ],
   "source": [
    "nyc = ny_state.loc[ny_state['City'] == 'New York']\n",
    "nyc.shape"
   ]
  },
  {
   "cell_type": "code",
   "execution_count": 17,
   "metadata": {},
   "outputs": [
    {
     "name": "stdout",
     "output_type": "stream",
     "text": [
      "<class 'pandas.core.frame.DataFrame'>\n",
      "RangeIndex: 291372 entries, 0 to 291371\n",
      "Data columns (total 28 columns):\n",
      "Unnamed: 0           291372 non-null int64\n",
      "pickup_datetime      291372 non-null object\n",
      "dropoff_datetime     291372 non-null object\n",
      "passenger_count      291372 non-null int64\n",
      "pickup_longitude     291372 non-null float64\n",
      "pickup_latitude      291372 non-null float64\n",
      "dropoff_longitude    291372 non-null float64\n",
      "dropoff_latitude     291372 non-null float64\n",
      "trip_duration        291372 non-null int64\n",
      "date                 291372 non-null object\n",
      "station_num          291372 non-null object\n",
      "station_name         291372 non-null object\n",
      "station_latitude     291372 non-null float64\n",
      "station_longitude    291372 non-null float64\n",
      "average_wind         291372 non-null float64\n",
      "precipitation        291372 non-null float64\n",
      "snowfall             291372 non-null float64\n",
      "snow_depth           291372 non-null float64\n",
      "avg_temp             291372 non-null float64\n",
      "max_temp             291372 non-null float64\n",
      "min_temp             291372 non-null float64\n",
      "fog                  291372 non-null bool\n",
      "fog_heavy            291372 non-null bool\n",
      "thunder              291372 non-null bool\n",
      "ice_pellets          291372 non-null bool\n",
      "glaze                291372 non-null bool\n",
      "smoke_haze           291372 non-null bool\n",
      "blowing_snow         291372 non-null bool\n",
      "dtypes: bool(7), float64(13), int64(3), object(5)\n",
      "memory usage: 43.1+ MB\n"
     ]
    }
   ],
   "source": [
    "taxis.info()"
   ]
  },
  {
   "cell_type": "code",
   "execution_count": 18,
   "metadata": {
    "collapsed": true
   },
   "outputs": [],
   "source": [
    "#Remove column that stores duplicate index\n",
    "taxis = taxis.iloc[:,1:]"
   ]
  },
  {
   "cell_type": "code",
   "execution_count": 19,
   "metadata": {
    "collapsed": true
   },
   "outputs": [],
   "source": [
    "#Set index to datetime of pickup\n",
    "taxis['pickup_datetime'] = pd.to_datetime(taxis['pickup_datetime'])\n",
    "datetime_ind = list(taxis['pickup_datetime'])\n",
    "taxis.index = datetime_ind\n",
    "#Set drop off to datetime\n",
    "taxis['dropoff_datetime'] = pd.to_datetime(taxis['dropoff_datetime'])"
   ]
  },
  {
   "cell_type": "code",
   "execution_count": 20,
   "metadata": {
    "collapsed": true
   },
   "outputs": [],
   "source": [
    "#While we're at it, pair the datetimes with their respective days of the week\n",
    "day_of_week = [x.weekday() for x in datetime_ind]\n",
    "taxis['day_of_week'] = day_of_week"
   ]
  },
  {
   "cell_type": "code",
   "execution_count": 21,
   "metadata": {
    "collapsed": true
   },
   "outputs": [],
   "source": [
    "#Create a separate column with the names of the weekdays in case they're needed later\n",
    "weekday_dict = {0: 'Monday',\n",
    "               1: 'Tuesday',\n",
    "               2: 'Wednesday',\n",
    "               3: 'Thursday',\n",
    "               4: 'Friday',\n",
    "               5: 'Saturday',\n",
    "               6: 'Sunday'}\n",
    "taxis['weekday_name'] = taxis['day_of_week'].map(weekday_dict)"
   ]
  },
  {
   "cell_type": "code",
   "execution_count": 22,
   "metadata": {
    "collapsed": true
   },
   "outputs": [],
   "source": [
    "#Change days of week to categoricals\n",
    "taxis['day_of_week'] = taxis['day_of_week'].astype('category').cat.as_ordered()\n",
    "taxis['weekday_name'] = taxis['weekday_name'].astype('category')"
   ]
  },
  {
   "cell_type": "code",
   "execution_count": 23,
   "metadata": {
    "collapsed": true
   },
   "outputs": [],
   "source": [
    "#Convert taxis dataframe to geodataframe for plotting\n",
    "geometry = [Point(xy) for xy in zip(taxis['pickup_longitude'], taxis['pickup_latitude'])]\n",
    "crs = {'init': 'epsg:4269'}\n",
    "taxis_geo = gpd.GeoDataFrame(taxis, crs=crs, geometry=geometry)"
   ]
  },
  {
   "cell_type": "code",
   "execution_count": 24,
   "metadata": {
    "collapsed": true
   },
   "outputs": [],
   "source": [
    "xmin = -74.3\n",
    "xmax = -73.72\n",
    "ymin = 40.47\n",
    "ymax = 40.92"
   ]
  },
  {
   "cell_type": "code",
   "execution_count": 25,
   "metadata": {},
   "outputs": [
    {
     "data": {
      "image/png": "[encoded data removed]",
      "text/plain": [
       "<matplotlib.figure.Figure at 0x18729490>"
      ]
     },
     "metadata": {},
     "output_type": "display_data"
    }
   ],
   "source": [
    "taxis_geo.plot(ax=nyc.plot(facecolor='gray'))\n",
    "plt.axis([xmin, xmax, ymin, ymax])\n",
    "plt.show()"
   ]
  },
  {
   "cell_type": "markdown",
   "metadata": {},
   "source": [
    "We can see that the pickup coordinates may not always be 100% accurate, since some of them appear to be in areas where there is no land. The area directly west of Manhattan and north of Staten Island is where New Jersey would be, so some pickups are being made out there as well."
   ]
  },
  {
   "cell_type": "markdown",
   "metadata": {},
   "source": [
    "### Frequency Analysis"
   ]
  },
  {
   "cell_type": "code",
   "execution_count": 28,
   "metadata": {
    "collapsed": true
   },
   "outputs": [],
   "source": [
    "nyc_taxi = gpd.sjoin(nyc, taxis_geo, how='inner', op='intersects')"
   ]
  },
  {
   "cell_type": "code",
   "execution_count": 29,
   "metadata": {
    "collapsed": true
   },
   "outputs": [],
   "source": [
    "nyc_dict = dict(zip(nyc['Name'], nyc['geometry']))\n",
    "nyc_count = nyc_taxi[['Name','trip_duration']].groupby('Name').count().reset_index()\n",
    "nyc_count = gpd.GeoDataFrame(nyc_count, crs={'init': 'epsg:4269'}, geometry=nyc_count['Name'].map(nyc_dict))\n",
    "nyc_count.columns = ['Name','count','geometry']"
   ]
  },
  {
   "cell_type": "code",
   "execution_count": 30,
   "metadata": {},
   "outputs": [
    {
     "data": {
      "image/png": "[encoded data removed]",
      "text/plain": [
       "<matplotlib.figure.Figure at 0x1a700b10>"
      ]
     },
     "metadata": {},
     "output_type": "display_data"
    }
   ],
   "source": [
    "import matplotlib.colors as colors\n",
    "style='autumn'\n",
    "vmin, vmax = nyc_count['count'].min(), nyc_count['count'].max()\n",
    "ax = nyc_count.plot(column='count', cmap=style, norm=colors.LogNorm(vmin=vmin, vmax=vmax))\n",
    "fig = ax.get_figure()\n",
    "plt.title('Number of Pickups by Neighborhood', {'fontsize': 18})\n",
    "cax = fig.add_axes([0.9, 0.1, 0.03, 0.8])\n",
    "sm = plt.cm.ScalarMappable(cmap=style, norm=colors.LogNorm(vmin=vmin, vmax=vmax))\n",
    "sm._A = []\n",
    "cbar = fig.colorbar(sm, cax=cax)\n",
    "plt.show()"
   ]
  },
  {
   "cell_type": "markdown",
   "metadata": {},
   "source": [
    "The logarithmic-scaled heatmap above displays only neighborhoods that had at least one pickup between 1/1/16 and 6/30/16. In general, we see that most cabs are picking up passengers in Manhattan, with a large number of pickups also occurring at JFK and LaGuardia Airports. Some neighborhoods in North Brooklyn and Western Queens see a moderate number of pickups as well."
   ]
  },
  {
   "cell_type": "markdown",
   "metadata": {},
   "source": [
    "### Map Drop Off Locations"
   ]
  },
  {
   "cell_type": "code",
   "execution_count": 31,
   "metadata": {
    "collapsed": true
   },
   "outputs": [],
   "source": [
    "taxis_drop = taxis[['trip_duration','dropoff_longitude','dropoff_latitude']]"
   ]
  },
  {
   "cell_type": "code",
   "execution_count": 32,
   "metadata": {
    "collapsed": true
   },
   "outputs": [],
   "source": [
    "geometry = [Point(xy) for xy in zip(taxis['dropoff_longitude'], taxis['dropoff_latitude'])]\n",
    "crs = {'init': 'epsg:4269'}\n",
    "taxis_geo_drop = gpd.GeoDataFrame(taxis_drop, crs=crs, geometry=geometry)"
   ]
  },
  {
   "cell_type": "code",
   "execution_count": 33,
   "metadata": {
    "collapsed": true
   },
   "outputs": [],
   "source": [
    "taxis_drop_sliced = taxis_geo_drop[['trip_duration','geometry']]\n",
    "nyc_taxi_dropoffs = gpd.sjoin(nyc, taxis_drop_sliced, how='inner', op='intersects')"
   ]
  },
  {
   "cell_type": "code",
   "execution_count": 34,
   "metadata": {
    "collapsed": true
   },
   "outputs": [],
   "source": [
    "#Use same dictionary from previous plot\n",
    "nyc_drop_count = nyc_taxi_dropoffs[['Name','trip_duration']].groupby('Name').count().reset_index()\n",
    "nyc_drop_count = gpd.GeoDataFrame(nyc_drop_count, crs={'init': 'epsg:4269'}, geometry=nyc_drop_count['Name'].map(nyc_dict))\n",
    "nyc_drop_count.columns = ['Name','count','geometry']"
   ]
  },
  {
   "cell_type": "code",
   "execution_count": 35,
   "metadata": {},
   "outputs": [
    {
     "data": {
      "image/png": "[encoded data removed]",
      "text/plain": [
       "<matplotlib.figure.Figure at 0x2363cf50>"
      ]
     },
     "metadata": {},
     "output_type": "display_data"
    }
   ],
   "source": [
    "vmin, vmax = nyc_drop_count['count'].min(), nyc_drop_count['count'].max()\n",
    "ax = nyc_drop_count.plot(column='count', cmap=style, norm=colors.LogNorm(vmin=vmin, vmax=vmax))\n",
    "fig = ax.get_figure()\n",
    "plt.title('Number of Dropoffs by Neighborhood', {'fontsize': 18})\n",
    "cax = fig.add_axes([0.9, 0.1, 0.03, 0.8])\n",
    "sm = plt.cm.ScalarMappable(cmap=style, norm=colors.LogNorm(vmin=vmin, vmax=vmax))\n",
    "sm._A = []\n",
    "cbar = fig.colorbar(sm, cax=cax)\n",
    "plt.show()"
   ]
  },
  {
   "cell_type": "markdown",
   "metadata": {},
   "source": [
    "The dropoffs appear to be more spread out than the pickups, as some neighborhoods in the outer boroughs appear lighter in this plot. Additionally, there are neighborhoods in Staten Island and Far Rockaway that appear on this plot because they recorded dropoffs, but do not appear in the previous plot since they recorded no pickups. This means that passengers are hailing cabs in more centrally located parts of the city and taking them to outlying neighborhoods and then cabs are immediately returning to the more centrally located places without passengers."
   ]
  },
  {
   "cell_type": "code",
   "execution_count": 32,
   "metadata": {
    "collapsed": true
   },
   "outputs": [],
   "source": [
    "#Take monthly count of data\n",
    "monthly_count = taxis['pickup_datetime'].resample('M').count()\n",
    "months = monthly_count.index\n",
    "month_labels = months.strftime('%b')"
   ]
  },
  {
   "cell_type": "code",
   "execution_count": 33,
   "metadata": {
    "scrolled": true
   },
   "outputs": [
    {
     "data": {
      "image/png": "[encoded data removed]",
      "text/plain": [
       "<matplotlib.figure.Figure at 0x3b780270>"
      ]
     },
     "metadata": {},
     "output_type": "display_data"
    }
   ],
   "source": [
    "plt.plot(monthly_count)\n",
    "plt.xticks(months, month_labels)\n",
    "plt.xlabel('Month')\n",
    "plt.ylabel('Total Trips')\n",
    "plt.title('Total Yellow Cab Trips by Month')\n",
    "plt.show()"
   ]
  },
  {
   "cell_type": "markdown",
   "metadata": {},
   "source": [
    "The total trip count is lowest in January and highest in March, however this graph isn't very helpful since the number of days in each month varies."
   ]
  },
  {
   "cell_type": "code",
   "execution_count": 8,
   "metadata": {
    "collapsed": true
   },
   "outputs": [],
   "source": [
    "#Take daily count of data\n",
    "daily_trips = taxis['pickup_datetime'].resample('D').count()"
   ]
  },
  {
   "cell_type": "code",
   "execution_count": 34,
   "metadata": {
    "collapsed": true
   },
   "outputs": [],
   "source": [
    "#Rolling 7-day average\n",
    "smoothed_7d = daily_trips.rolling(window=7).mean()\n",
    "#Rolling 30-day average\n",
    "smoothed_30d = daily_trips.rolling(window=30).mean()"
   ]
  },
  {
   "cell_type": "code",
   "execution_count": 35,
   "metadata": {},
   "outputs": [
    {
     "data": {
      "image/png": "[encoded data removed]",
      "text/plain": [
       "<matplotlib.figure.Figure at 0x3b72e670>"
      ]
     },
     "metadata": {},
     "output_type": "display_data"
    }
   ],
   "source": [
    "plot1, = plt.plot(daily_trips, color='red')\n",
    "plot2, = plt.plot(smoothed_7d, color='blue')\n",
    "plot3, = plt.plot(smoothed_30d, color='green')\n",
    "plt.xlabel('Month')\n",
    "plt.ylabel('Total Daily Trips')\n",
    "plt.title('Daily Taxi Trips')\n",
    "plt.legend([plot1, plot2, plot3], ['Daily Trips','Rolling 7D Avg','Rolling 30D Avg'], loc='lower right')\n",
    "plt.show()"
   ]
  },
  {
   "cell_type": "markdown",
   "metadata": {},
   "source": [
    "Looking at the 30-day rolling average, it appears that demand for taxis is pretty steady but is slightly higher in March and April. The daily trip count shows us that the number of trips sees peaks and valleys on a weekly basis, most likely peaking on Friday or Saturday. Also, we see that taxi demand was unusually low one day in January and one day in late May. These outliers are investigated below."
   ]
  },
  {
   "cell_type": "code",
   "execution_count": 36,
   "metadata": {},
   "outputs": [
    {
     "data": {
      "text/plain": [
       "index_right\n",
       "2016-01-01    7162\n",
       "2016-01-02    6512\n",
       "2016-01-03    6353\n",
       "2016-01-04    6725\n",
       "2016-01-05    7204\n",
       "2016-01-06    7365\n",
       "2016-01-07    7649\n",
       "2016-01-08    8229\n",
       "2016-01-09    8578\n",
       "2016-01-10    7454\n",
       "2016-01-11    7276\n",
       "2016-01-12    7794\n",
       "2016-01-13    8360\n",
       "2016-01-14    8277\n",
       "2016-01-15    8539\n",
       "2016-01-16    8797\n",
       "2016-01-17    7891\n",
       "2016-01-18    7146\n",
       "2016-01-19    7934\n",
       "2016-01-20    8018\n",
       "2016-01-21    8375\n",
       "2016-01-22    8805\n",
       "2016-01-23    1648\n",
       "2016-01-24    3383\n",
       "2016-01-25    6084\n",
       "2016-01-26    6941\n",
       "2016-01-27    7571\n",
       "2016-01-28    8066\n",
       "2016-01-29    8735\n",
       "2016-01-30    9166\n",
       "2016-01-31    7670\n",
       "Freq: D, Name: pickup_datetime, dtype: int64"
      ]
     },
     "execution_count": 36,
     "metadata": {},
     "output_type": "execute_result"
    }
   ],
   "source": [
    "#Find outlier in January\n",
    "daily_trips.loc['2016-01']"
   ]
  },
  {
   "cell_type": "code",
   "execution_count": 37,
   "metadata": {},
   "outputs": [
    {
     "data": {
      "text/html": [
       "<div>\n",
       "<style>\n",
       "    .dataframe thead tr:only-child th {\n",
       "        text-align: right;\n",
       "    }\n",
       "\n",
       "    .dataframe thead th {\n",
       "        text-align: left;\n",
       "    }\n",
       "\n",
       "    .dataframe tbody tr th {\n",
       "        vertical-align: top;\n",
       "    }\n",
       "</style>\n",
       "<table border=\"1\" class=\"dataframe\">\n",
       "  <thead>\n",
       "    <tr style=\"text-align: right;\">\n",
       "      <th></th>\n",
       "      <th>station_longitude</th>\n",
       "      <th>average_wind</th>\n",
       "      <th>precipitation</th>\n",
       "      <th>snowfall</th>\n",
       "      <th>snow_depth</th>\n",
       "      <th>avg_temp</th>\n",
       "      <th>max_temp</th>\n",
       "      <th>min_temp</th>\n",
       "      <th>fog</th>\n",
       "      <th>fog_heavy</th>\n",
       "      <th>thunder</th>\n",
       "      <th>ice_pellets</th>\n",
       "      <th>glaze</th>\n",
       "      <th>smoke_haze</th>\n",
       "      <th>blowing_snow</th>\n",
       "      <th>day_of_week</th>\n",
       "      <th>weekday_name</th>\n",
       "      <th>geometry</th>\n",
       "    </tr>\n",
       "    <tr>\n",
       "      <th>index_right</th>\n",
       "      <th></th>\n",
       "      <th></th>\n",
       "      <th></th>\n",
       "      <th></th>\n",
       "      <th></th>\n",
       "      <th></th>\n",
       "      <th></th>\n",
       "      <th></th>\n",
       "      <th></th>\n",
       "      <th></th>\n",
       "      <th></th>\n",
       "      <th></th>\n",
       "      <th></th>\n",
       "      <th></th>\n",
       "      <th></th>\n",
       "      <th></th>\n",
       "      <th></th>\n",
       "      <th></th>\n",
       "    </tr>\n",
       "  </thead>\n",
       "  <tbody>\n",
       "    <tr>\n",
       "      <th>2016-01-23 08:46:42</th>\n",
       "      <td>-73.880</td>\n",
       "      <td>24.160</td>\n",
       "      <td>2.400</td>\n",
       "      <td>27.900</td>\n",
       "      <td>7.000</td>\n",
       "      <td>28.000</td>\n",
       "      <td>28.000</td>\n",
       "      <td>25.000</td>\n",
       "      <td>True</td>\n",
       "      <td>True</td>\n",
       "      <td>False</td>\n",
       "      <td>False</td>\n",
       "      <td>False</td>\n",
       "      <td>False</td>\n",
       "      <td>True</td>\n",
       "      <td>5</td>\n",
       "      <td>Saturday</td>\n",
       "      <td>POINT (-73.96953582763672 40.75521850585938)</td>\n",
       "    </tr>\n",
       "    <tr>\n",
       "      <th>2016-01-23 00:06:25</th>\n",
       "      <td>-73.880</td>\n",
       "      <td>24.160</td>\n",
       "      <td>2.400</td>\n",
       "      <td>27.900</td>\n",
       "      <td>7.000</td>\n",
       "      <td>28.000</td>\n",
       "      <td>28.000</td>\n",
       "      <td>25.000</td>\n",
       "      <td>True</td>\n",
       "      <td>True</td>\n",
       "      <td>False</td>\n",
       "      <td>False</td>\n",
       "      <td>False</td>\n",
       "      <td>False</td>\n",
       "      <td>True</td>\n",
       "      <td>5</td>\n",
       "      <td>Saturday</td>\n",
       "      <td>POINT (-73.9821014404297 40.74590301513672)</td>\n",
       "    </tr>\n",
       "    <tr>\n",
       "      <th>2016-01-23 10:38:43</th>\n",
       "      <td>-73.880</td>\n",
       "      <td>24.160</td>\n",
       "      <td>2.400</td>\n",
       "      <td>27.900</td>\n",
       "      <td>7.000</td>\n",
       "      <td>28.000</td>\n",
       "      <td>28.000</td>\n",
       "      <td>25.000</td>\n",
       "      <td>True</td>\n",
       "      <td>True</td>\n",
       "      <td>False</td>\n",
       "      <td>False</td>\n",
       "      <td>False</td>\n",
       "      <td>False</td>\n",
       "      <td>True</td>\n",
       "      <td>5</td>\n",
       "      <td>Saturday</td>\n",
       "      <td>POINT (-73.97528076171875 40.76099014282227)</td>\n",
       "    </tr>\n",
       "    <tr>\n",
       "      <th>2016-01-23 01:16:58</th>\n",
       "      <td>-73.880</td>\n",
       "      <td>24.160</td>\n",
       "      <td>2.400</td>\n",
       "      <td>27.900</td>\n",
       "      <td>7.000</td>\n",
       "      <td>28.000</td>\n",
       "      <td>28.000</td>\n",
       "      <td>25.000</td>\n",
       "      <td>True</td>\n",
       "      <td>True</td>\n",
       "      <td>False</td>\n",
       "      <td>False</td>\n",
       "      <td>False</td>\n",
       "      <td>False</td>\n",
       "      <td>True</td>\n",
       "      <td>5</td>\n",
       "      <td>Saturday</td>\n",
       "      <td>POINT (-74.00491333007811 40.72830963134766)</td>\n",
       "    </tr>\n",
       "    <tr>\n",
       "      <th>2016-01-23 00:19:01</th>\n",
       "      <td>-73.880</td>\n",
       "      <td>24.160</td>\n",
       "      <td>2.400</td>\n",
       "      <td>27.900</td>\n",
       "      <td>7.000</td>\n",
       "      <td>28.000</td>\n",
       "      <td>28.000</td>\n",
       "      <td>25.000</td>\n",
       "      <td>True</td>\n",
       "      <td>True</td>\n",
       "      <td>False</td>\n",
       "      <td>False</td>\n",
       "      <td>False</td>\n",
       "      <td>False</td>\n",
       "      <td>True</td>\n",
       "      <td>5</td>\n",
       "      <td>Saturday</td>\n",
       "      <td>POINT (-73.99310302734375 40.69293975830078)</td>\n",
       "    </tr>\n",
       "  </tbody>\n",
       "</table>\n",
       "</div>"
      ],
      "text/plain": [
       "                     station_longitude  average_wind  precipitation  snowfall  \\\n",
       "index_right                                                                     \n",
       "2016-01-23 08:46:42            -73.880        24.160          2.400    27.900   \n",
       "2016-01-23 00:06:25            -73.880        24.160          2.400    27.900   \n",
       "2016-01-23 10:38:43            -73.880        24.160          2.400    27.900   \n",
       "2016-01-23 01:16:58            -73.880        24.160          2.400    27.900   \n",
       "2016-01-23 00:19:01            -73.880        24.160          2.400    27.900   \n",
       "\n",
       "                     snow_depth  avg_temp  max_temp  min_temp   fog  \\\n",
       "index_right                                                           \n",
       "2016-01-23 08:46:42       7.000    28.000    28.000    25.000  True   \n",
       "2016-01-23 00:06:25       7.000    28.000    28.000    25.000  True   \n",
       "2016-01-23 10:38:43       7.000    28.000    28.000    25.000  True   \n",
       "2016-01-23 01:16:58       7.000    28.000    28.000    25.000  True   \n",
       "2016-01-23 00:19:01       7.000    28.000    28.000    25.000  True   \n",
       "\n",
       "                     fog_heavy  thunder  ice_pellets  glaze  smoke_haze  \\\n",
       "index_right                                                               \n",
       "2016-01-23 08:46:42       True    False        False  False       False   \n",
       "2016-01-23 00:06:25       True    False        False  False       False   \n",
       "2016-01-23 10:38:43       True    False        False  False       False   \n",
       "2016-01-23 01:16:58       True    False        False  False       False   \n",
       "2016-01-23 00:19:01       True    False        False  False       False   \n",
       "\n",
       "                     blowing_snow day_of_week weekday_name  \\\n",
       "index_right                                                  \n",
       "2016-01-23 08:46:42          True           5     Saturday   \n",
       "2016-01-23 00:06:25          True           5     Saturday   \n",
       "2016-01-23 10:38:43          True           5     Saturday   \n",
       "2016-01-23 01:16:58          True           5     Saturday   \n",
       "2016-01-23 00:19:01          True           5     Saturday   \n",
       "\n",
       "                                                         geometry  \n",
       "index_right                                                        \n",
       "2016-01-23 08:46:42  POINT (-73.96953582763672 40.75521850585938)  \n",
       "2016-01-23 00:06:25   POINT (-73.9821014404297 40.74590301513672)  \n",
       "2016-01-23 10:38:43  POINT (-73.97528076171875 40.76099014282227)  \n",
       "2016-01-23 01:16:58  POINT (-74.00491333007811 40.72830963134766)  \n",
       "2016-01-23 00:19:01  POINT (-73.99310302734375 40.69293975830078)  "
      ]
     },
     "execution_count": 37,
     "metadata": {},
     "output_type": "execute_result"
    }
   ],
   "source": [
    "#Check weather for January 23rd\n",
    "taxis.loc['2016-01-23'].iloc[:,-18:].head()"
   ]
  },
  {
   "cell_type": "markdown",
   "metadata": {},
   "source": [
    "A large snow storm on January 23rd caused many people to stay inside. Additionally, it was a Saturday which meant fewer people were obligated to go anywhere."
   ]
  },
  {
   "cell_type": "code",
   "execution_count": 38,
   "metadata": {},
   "outputs": [
    {
     "data": {
      "text/plain": [
       "index_right\n",
       "2016-05-01    7964\n",
       "2016-05-02    7344\n",
       "2016-05-03    8457\n",
       "2016-05-04    8535\n",
       "2016-05-05    8896\n",
       "2016-05-06    9202\n",
       "2016-05-07    9285\n",
       "2016-05-08    7801\n",
       "2016-05-09    7174\n",
       "2016-05-10    7789\n",
       "2016-05-11    7941\n",
       "2016-05-12    8524\n",
       "2016-05-13    8476\n",
       "2016-05-14    9147\n",
       "2016-05-15    8547\n",
       "2016-05-16    8077\n",
       "2016-05-17    8237\n",
       "2016-05-18    7971\n",
       "2016-05-19    8455\n",
       "2016-05-20    8808\n",
       "2016-05-21    9127\n",
       "2016-05-22    7745\n",
       "2016-05-23    7300\n",
       "2016-05-24    7762\n",
       "2016-05-25    8195\n",
       "2016-05-26    8121\n",
       "2016-05-27    7530\n",
       "2016-05-28    7004\n",
       "2016-05-29    6372\n",
       "2016-05-30    5570\n",
       "2016-05-31    7131\n",
       "Freq: D, Name: pickup_datetime, dtype: int64"
      ]
     },
     "execution_count": 38,
     "metadata": {},
     "output_type": "execute_result"
    }
   ],
   "source": [
    "#Find outlier in late May\n",
    "daily_trips.loc['2016-05']"
   ]
  },
  {
   "cell_type": "code",
   "execution_count": 39,
   "metadata": {},
   "outputs": [
    {
     "data": {
      "text/html": [
       "<div>\n",
       "<style>\n",
       "    .dataframe thead tr:only-child th {\n",
       "        text-align: right;\n",
       "    }\n",
       "\n",
       "    .dataframe thead th {\n",
       "        text-align: left;\n",
       "    }\n",
       "\n",
       "    .dataframe tbody tr th {\n",
       "        vertical-align: top;\n",
       "    }\n",
       "</style>\n",
       "<table border=\"1\" class=\"dataframe\">\n",
       "  <thead>\n",
       "    <tr style=\"text-align: right;\">\n",
       "      <th></th>\n",
       "      <th>pickup_datetime</th>\n",
       "      <th>dropoff_datetime</th>\n",
       "      <th>passenger_count</th>\n",
       "      <th>pickup_longitude</th>\n",
       "      <th>pickup_latitude</th>\n",
       "      <th>dropoff_longitude</th>\n",
       "      <th>dropoff_latitude</th>\n",
       "      <th>trip_duration</th>\n",
       "      <th>date</th>\n",
       "      <th>station_num</th>\n",
       "      <th>station_name</th>\n",
       "      <th>station_latitude</th>\n",
       "      <th>station_longitude</th>\n",
       "      <th>average_wind</th>\n",
       "      <th>precipitation</th>\n",
       "      <th>snowfall</th>\n",
       "      <th>snow_depth</th>\n",
       "      <th>avg_temp</th>\n",
       "      <th>max_temp</th>\n",
       "      <th>min_temp</th>\n",
       "      <th>fog</th>\n",
       "      <th>fog_heavy</th>\n",
       "      <th>thunder</th>\n",
       "      <th>ice_pellets</th>\n",
       "      <th>glaze</th>\n",
       "      <th>smoke_haze</th>\n",
       "      <th>blowing_snow</th>\n",
       "      <th>day_of_week</th>\n",
       "      <th>weekday_name</th>\n",
       "      <th>geometry</th>\n",
       "    </tr>\n",
       "    <tr>\n",
       "      <th>index_right</th>\n",
       "      <th></th>\n",
       "      <th></th>\n",
       "      <th></th>\n",
       "      <th></th>\n",
       "      <th></th>\n",
       "      <th></th>\n",
       "      <th></th>\n",
       "      <th></th>\n",
       "      <th></th>\n",
       "      <th></th>\n",
       "      <th></th>\n",
       "      <th></th>\n",
       "      <th></th>\n",
       "      <th></th>\n",
       "      <th></th>\n",
       "      <th></th>\n",
       "      <th></th>\n",
       "      <th></th>\n",
       "      <th></th>\n",
       "      <th></th>\n",
       "      <th></th>\n",
       "      <th></th>\n",
       "      <th></th>\n",
       "      <th></th>\n",
       "      <th></th>\n",
       "      <th></th>\n",
       "      <th></th>\n",
       "      <th></th>\n",
       "      <th></th>\n",
       "      <th></th>\n",
       "    </tr>\n",
       "  </thead>\n",
       "  <tbody>\n",
       "    <tr>\n",
       "      <th>2016-05-30 13:33:07</th>\n",
       "      <td>2016-05-30 13:33:07</td>\n",
       "      <td>2016-05-30 13:41:03</td>\n",
       "      <td>2</td>\n",
       "      <td>-74.001</td>\n",
       "      <td>40.718</td>\n",
       "      <td>-73.996</td>\n",
       "      <td>40.691</td>\n",
       "      <td>476</td>\n",
       "      <td>2016-05-30</td>\n",
       "      <td>USW00014732</td>\n",
       "      <td>LA GUARDIA AIRPORT, NY US</td>\n",
       "      <td>40.779</td>\n",
       "      <td>-73.880</td>\n",
       "      <td>7.610</td>\n",
       "      <td>1.530</td>\n",
       "      <td>0.000</td>\n",
       "      <td>0.000</td>\n",
       "      <td>74.000</td>\n",
       "      <td>82.000</td>\n",
       "      <td>69.000</td>\n",
       "      <td>True</td>\n",
       "      <td>False</td>\n",
       "      <td>False</td>\n",
       "      <td>False</td>\n",
       "      <td>False</td>\n",
       "      <td>False</td>\n",
       "      <td>False</td>\n",
       "      <td>0</td>\n",
       "      <td>Monday</td>\n",
       "      <td>POINT (-74.00074768066406 40.71828079223633)</td>\n",
       "    </tr>\n",
       "    <tr>\n",
       "      <th>2016-05-30 13:08:31</th>\n",
       "      <td>2016-05-30 13:08:31</td>\n",
       "      <td>2016-05-30 13:15:25</td>\n",
       "      <td>2</td>\n",
       "      <td>-74.005</td>\n",
       "      <td>40.719</td>\n",
       "      <td>-74.015</td>\n",
       "      <td>40.714</td>\n",
       "      <td>414</td>\n",
       "      <td>2016-05-30</td>\n",
       "      <td>USW00014732</td>\n",
       "      <td>LA GUARDIA AIRPORT, NY US</td>\n",
       "      <td>40.779</td>\n",
       "      <td>-73.880</td>\n",
       "      <td>7.610</td>\n",
       "      <td>1.530</td>\n",
       "      <td>0.000</td>\n",
       "      <td>0.000</td>\n",
       "      <td>74.000</td>\n",
       "      <td>82.000</td>\n",
       "      <td>69.000</td>\n",
       "      <td>True</td>\n",
       "      <td>False</td>\n",
       "      <td>False</td>\n",
       "      <td>False</td>\n",
       "      <td>False</td>\n",
       "      <td>False</td>\n",
       "      <td>False</td>\n",
       "      <td>0</td>\n",
       "      <td>Monday</td>\n",
       "      <td>POINT (-74.00528717041014 40.71915817260742)</td>\n",
       "    </tr>\n",
       "    <tr>\n",
       "      <th>2016-05-30 12:13:20</th>\n",
       "      <td>2016-05-30 12:13:20</td>\n",
       "      <td>2016-05-30 12:31:27</td>\n",
       "      <td>2</td>\n",
       "      <td>-73.871</td>\n",
       "      <td>40.774</td>\n",
       "      <td>-73.929</td>\n",
       "      <td>40.851</td>\n",
       "      <td>1087</td>\n",
       "      <td>2016-05-30</td>\n",
       "      <td>USW00014732</td>\n",
       "      <td>LA GUARDIA AIRPORT, NY US</td>\n",
       "      <td>40.779</td>\n",
       "      <td>-73.880</td>\n",
       "      <td>7.610</td>\n",
       "      <td>1.530</td>\n",
       "      <td>0.000</td>\n",
       "      <td>0.000</td>\n",
       "      <td>74.000</td>\n",
       "      <td>82.000</td>\n",
       "      <td>69.000</td>\n",
       "      <td>True</td>\n",
       "      <td>False</td>\n",
       "      <td>False</td>\n",
       "      <td>False</td>\n",
       "      <td>False</td>\n",
       "      <td>False</td>\n",
       "      <td>False</td>\n",
       "      <td>0</td>\n",
       "      <td>Monday</td>\n",
       "      <td>POINT (-73.87088012695313 40.77373886108398)</td>\n",
       "    </tr>\n",
       "    <tr>\n",
       "      <th>2016-05-30 04:01:54</th>\n",
       "      <td>2016-05-30 04:01:54</td>\n",
       "      <td>2016-05-30 04:16:24</td>\n",
       "      <td>5</td>\n",
       "      <td>-73.993</td>\n",
       "      <td>40.722</td>\n",
       "      <td>-73.999</td>\n",
       "      <td>40.673</td>\n",
       "      <td>870</td>\n",
       "      <td>2016-05-30</td>\n",
       "      <td>USW00014732</td>\n",
       "      <td>LA GUARDIA AIRPORT, NY US</td>\n",
       "      <td>40.779</td>\n",
       "      <td>-73.880</td>\n",
       "      <td>7.610</td>\n",
       "      <td>1.530</td>\n",
       "      <td>0.000</td>\n",
       "      <td>0.000</td>\n",
       "      <td>74.000</td>\n",
       "      <td>82.000</td>\n",
       "      <td>69.000</td>\n",
       "      <td>True</td>\n",
       "      <td>False</td>\n",
       "      <td>False</td>\n",
       "      <td>False</td>\n",
       "      <td>False</td>\n",
       "      <td>False</td>\n",
       "      <td>False</td>\n",
       "      <td>0</td>\n",
       "      <td>Monday</td>\n",
       "      <td>POINT (-73.99329376220702 40.72245025634766)</td>\n",
       "    </tr>\n",
       "    <tr>\n",
       "      <th>2016-05-30 23:02:53</th>\n",
       "      <td>2016-05-30 23:02:53</td>\n",
       "      <td>2016-05-30 23:31:42</td>\n",
       "      <td>2</td>\n",
       "      <td>-73.777</td>\n",
       "      <td>40.645</td>\n",
       "      <td>-73.917</td>\n",
       "      <td>40.701</td>\n",
       "      <td>1729</td>\n",
       "      <td>2016-05-30</td>\n",
       "      <td>USW00014732</td>\n",
       "      <td>LA GUARDIA AIRPORT, NY US</td>\n",
       "      <td>40.779</td>\n",
       "      <td>-73.880</td>\n",
       "      <td>7.610</td>\n",
       "      <td>1.530</td>\n",
       "      <td>0.000</td>\n",
       "      <td>0.000</td>\n",
       "      <td>74.000</td>\n",
       "      <td>82.000</td>\n",
       "      <td>69.000</td>\n",
       "      <td>True</td>\n",
       "      <td>False</td>\n",
       "      <td>False</td>\n",
       "      <td>False</td>\n",
       "      <td>False</td>\n",
       "      <td>False</td>\n",
       "      <td>False</td>\n",
       "      <td>0</td>\n",
       "      <td>Monday</td>\n",
       "      <td>POINT (-73.77671813964845 40.64510726928711)</td>\n",
       "    </tr>\n",
       "  </tbody>\n",
       "</table>\n",
       "</div>"
      ],
      "text/plain": [
       "                        pickup_datetime    dropoff_datetime  passenger_count  \\\n",
       "index_right                                                                    \n",
       "2016-05-30 13:33:07 2016-05-30 13:33:07 2016-05-30 13:41:03                2   \n",
       "2016-05-30 13:08:31 2016-05-30 13:08:31 2016-05-30 13:15:25                2   \n",
       "2016-05-30 12:13:20 2016-05-30 12:13:20 2016-05-30 12:31:27                2   \n",
       "2016-05-30 04:01:54 2016-05-30 04:01:54 2016-05-30 04:16:24                5   \n",
       "2016-05-30 23:02:53 2016-05-30 23:02:53 2016-05-30 23:31:42                2   \n",
       "\n",
       "                     pickup_longitude  pickup_latitude  dropoff_longitude  \\\n",
       "index_right                                                                 \n",
       "2016-05-30 13:33:07           -74.001           40.718            -73.996   \n",
       "2016-05-30 13:08:31           -74.005           40.719            -74.015   \n",
       "2016-05-30 12:13:20           -73.871           40.774            -73.929   \n",
       "2016-05-30 04:01:54           -73.993           40.722            -73.999   \n",
       "2016-05-30 23:02:53           -73.777           40.645            -73.917   \n",
       "\n",
       "                     dropoff_latitude  trip_duration        date  station_num  \\\n",
       "index_right                                                                     \n",
       "2016-05-30 13:33:07            40.691            476  2016-05-30  USW00014732   \n",
       "2016-05-30 13:08:31            40.714            414  2016-05-30  USW00014732   \n",
       "2016-05-30 12:13:20            40.851           1087  2016-05-30  USW00014732   \n",
       "2016-05-30 04:01:54            40.673            870  2016-05-30  USW00014732   \n",
       "2016-05-30 23:02:53            40.701           1729  2016-05-30  USW00014732   \n",
       "\n",
       "                                  station_name  station_latitude  \\\n",
       "index_right                                                        \n",
       "2016-05-30 13:33:07  LA GUARDIA AIRPORT, NY US            40.779   \n",
       "2016-05-30 13:08:31  LA GUARDIA AIRPORT, NY US            40.779   \n",
       "2016-05-30 12:13:20  LA GUARDIA AIRPORT, NY US            40.779   \n",
       "2016-05-30 04:01:54  LA GUARDIA AIRPORT, NY US            40.779   \n",
       "2016-05-30 23:02:53  LA GUARDIA AIRPORT, NY US            40.779   \n",
       "\n",
       "                     station_longitude  average_wind  precipitation  snowfall  \\\n",
       "index_right                                                                     \n",
       "2016-05-30 13:33:07            -73.880         7.610          1.530     0.000   \n",
       "2016-05-30 13:08:31            -73.880         7.610          1.530     0.000   \n",
       "2016-05-30 12:13:20            -73.880         7.610          1.530     0.000   \n",
       "2016-05-30 04:01:54            -73.880         7.610          1.530     0.000   \n",
       "2016-05-30 23:02:53            -73.880         7.610          1.530     0.000   \n",
       "\n",
       "                     snow_depth  avg_temp  max_temp  min_temp   fog  \\\n",
       "index_right                                                           \n",
       "2016-05-30 13:33:07       0.000    74.000    82.000    69.000  True   \n",
       "2016-05-30 13:08:31       0.000    74.000    82.000    69.000  True   \n",
       "2016-05-30 12:13:20       0.000    74.000    82.000    69.000  True   \n",
       "2016-05-30 04:01:54       0.000    74.000    82.000    69.000  True   \n",
       "2016-05-30 23:02:53       0.000    74.000    82.000    69.000  True   \n",
       "\n",
       "                     fog_heavy  thunder  ice_pellets  glaze  smoke_haze  \\\n",
       "index_right                                                               \n",
       "2016-05-30 13:33:07      False    False        False  False       False   \n",
       "2016-05-30 13:08:31      False    False        False  False       False   \n",
       "2016-05-30 12:13:20      False    False        False  False       False   \n",
       "2016-05-30 04:01:54      False    False        False  False       False   \n",
       "2016-05-30 23:02:53      False    False        False  False       False   \n",
       "\n",
       "                     blowing_snow day_of_week weekday_name  \\\n",
       "index_right                                                  \n",
       "2016-05-30 13:33:07         False           0       Monday   \n",
       "2016-05-30 13:08:31         False           0       Monday   \n",
       "2016-05-30 12:13:20         False           0       Monday   \n",
       "2016-05-30 04:01:54         False           0       Monday   \n",
       "2016-05-30 23:02:53         False           0       Monday   \n",
       "\n",
       "                                                         geometry  \n",
       "index_right                                                        \n",
       "2016-05-30 13:33:07  POINT (-74.00074768066406 40.71828079223633)  \n",
       "2016-05-30 13:08:31  POINT (-74.00528717041014 40.71915817260742)  \n",
       "2016-05-30 12:13:20  POINT (-73.87088012695313 40.77373886108398)  \n",
       "2016-05-30 04:01:54  POINT (-73.99329376220702 40.72245025634766)  \n",
       "2016-05-30 23:02:53  POINT (-73.77671813964845 40.64510726928711)  "
      ]
     },
     "execution_count": 39,
     "metadata": {},
     "output_type": "execute_result"
    }
   ],
   "source": [
    "#Weather on May 30\n",
    "taxis.loc['2016-05-30'].head()"
   ]
  },
  {
   "cell_type": "markdown",
   "metadata": {},
   "source": [
    "May 30, 2016 was a Monday which is somewhat unexpected given that taxi demand is usually pretty steady on business days. There was some precipitation and fog, but the temperature was pretty warm. However, a quick Google search reveals that May 30, 2016 was Memorial Day! This is a widely observed federal holiday in the U.S. that occurs on the last Monday in May, so not many people work on that day."
   ]
  },
  {
   "cell_type": "code",
   "execution_count": 9,
   "metadata": {
    "collapsed": true
   },
   "outputs": [],
   "source": [
    "weekday = [x.weekday() for x in list(daily_trips.index)]\n",
    "trips_by_weekday = pd.DataFrame({'weekday': weekday, 'trip_count': list(daily_trips)})"
   ]
  },
  {
   "cell_type": "code",
   "execution_count": 41,
   "metadata": {},
   "outputs": [
    {
     "data": {
      "text/html": [
       "<div>\n",
       "<style>\n",
       "    .dataframe thead tr:only-child th {\n",
       "        text-align: right;\n",
       "    }\n",
       "\n",
       "    .dataframe thead th {\n",
       "        text-align: left;\n",
       "    }\n",
       "\n",
       "    .dataframe tbody tr th {\n",
       "        vertical-align: top;\n",
       "    }\n",
       "</style>\n",
       "<table border=\"1\" class=\"dataframe\">\n",
       "  <thead>\n",
       "    <tr>\n",
       "      <th></th>\n",
       "      <th colspan=\"8\" halign=\"left\">trip_count</th>\n",
       "    </tr>\n",
       "    <tr>\n",
       "      <th></th>\n",
       "      <th>count</th>\n",
       "      <th>mean</th>\n",
       "      <th>std</th>\n",
       "      <th>min</th>\n",
       "      <th>25%</th>\n",
       "      <th>50%</th>\n",
       "      <th>75%</th>\n",
       "      <th>max</th>\n",
       "    </tr>\n",
       "    <tr>\n",
       "      <th>weekday</th>\n",
       "      <th></th>\n",
       "      <th></th>\n",
       "      <th></th>\n",
       "      <th></th>\n",
       "      <th></th>\n",
       "      <th></th>\n",
       "      <th></th>\n",
       "      <th></th>\n",
       "    </tr>\n",
       "  </thead>\n",
       "  <tbody>\n",
       "    <tr>\n",
       "      <th>0</th>\n",
       "      <td>26.000</td>\n",
       "      <td>7208.385</td>\n",
       "      <td>516.406</td>\n",
       "      <td>5570.000</td>\n",
       "      <td>7111.000</td>\n",
       "      <td>7262.000</td>\n",
       "      <td>7398.000</td>\n",
       "      <td>8091.000</td>\n",
       "    </tr>\n",
       "    <tr>\n",
       "      <th>1</th>\n",
       "      <td>26.000</td>\n",
       "      <td>7798.038</td>\n",
       "      <td>372.522</td>\n",
       "      <td>6941.000</td>\n",
       "      <td>7648.000</td>\n",
       "      <td>7816.500</td>\n",
       "      <td>7978.250</td>\n",
       "      <td>8457.000</td>\n",
       "    </tr>\n",
       "    <tr>\n",
       "      <th>2</th>\n",
       "      <td>26.000</td>\n",
       "      <td>8082.154</td>\n",
       "      <td>305.647</td>\n",
       "      <td>7365.000</td>\n",
       "      <td>7941.500</td>\n",
       "      <td>8027.500</td>\n",
       "      <td>8333.500</td>\n",
       "      <td>8578.000</td>\n",
       "    </tr>\n",
       "    <tr>\n",
       "      <th>3</th>\n",
       "      <td>26.000</td>\n",
       "      <td>8406.692</td>\n",
       "      <td>354.070</td>\n",
       "      <td>7588.000</td>\n",
       "      <td>8205.000</td>\n",
       "      <td>8416.000</td>\n",
       "      <td>8568.500</td>\n",
       "      <td>9116.000</td>\n",
       "    </tr>\n",
       "    <tr>\n",
       "      <th>4</th>\n",
       "      <td>26.000</td>\n",
       "      <td>8597.423</td>\n",
       "      <td>519.947</td>\n",
       "      <td>7162.000</td>\n",
       "      <td>8339.500</td>\n",
       "      <td>8686.000</td>\n",
       "      <td>9012.000</td>\n",
       "      <td>9276.000</td>\n",
       "    </tr>\n",
       "    <tr>\n",
       "      <th>5</th>\n",
       "      <td>26.000</td>\n",
       "      <td>8494.923</td>\n",
       "      <td>1594.600</td>\n",
       "      <td>1648.000</td>\n",
       "      <td>8397.750</td>\n",
       "      <td>8913.000</td>\n",
       "      <td>9238.750</td>\n",
       "      <td>9796.000</td>\n",
       "    </tr>\n",
       "    <tr>\n",
       "      <th>6</th>\n",
       "      <td>26.000</td>\n",
       "      <td>7514.077</td>\n",
       "      <td>1012.193</td>\n",
       "      <td>3383.000</td>\n",
       "      <td>7386.500</td>\n",
       "      <td>7741.500</td>\n",
       "      <td>8054.000</td>\n",
       "      <td>8547.000</td>\n",
       "    </tr>\n",
       "  </tbody>\n",
       "</table>\n",
       "</div>"
      ],
      "text/plain": [
       "        trip_count                                                        \\\n",
       "             count     mean      std      min      25%      50%      75%   \n",
       "weekday                                                                    \n",
       "0           26.000 7208.385  516.406 5570.000 7111.000 7262.000 7398.000   \n",
       "1           26.000 7798.038  372.522 6941.000 7648.000 7816.500 7978.250   \n",
       "2           26.000 8082.154  305.647 7365.000 7941.500 8027.500 8333.500   \n",
       "3           26.000 8406.692  354.070 7588.000 8205.000 8416.000 8568.500   \n",
       "4           26.000 8597.423  519.947 7162.000 8339.500 8686.000 9012.000   \n",
       "5           26.000 8494.923 1594.600 1648.000 8397.750 8913.000 9238.750   \n",
       "6           26.000 7514.077 1012.193 3383.000 7386.500 7741.500 8054.000   \n",
       "\n",
       "                  \n",
       "             max  \n",
       "weekday           \n",
       "0       8091.000  \n",
       "1       8457.000  \n",
       "2       8578.000  \n",
       "3       9116.000  \n",
       "4       9276.000  \n",
       "5       9796.000  \n",
       "6       8547.000  "
      ]
     },
     "execution_count": 41,
     "metadata": {},
     "output_type": "execute_result"
    }
   ],
   "source": [
    "trips_by_weekday.groupby('weekday').describe()"
   ]
  },
  {
   "cell_type": "code",
   "execution_count": 42,
   "metadata": {},
   "outputs": [
    {
     "data": {
      "text/html": [
       "<div>\n",
       "<style>\n",
       "    .dataframe thead tr:only-child th {\n",
       "        text-align: right;\n",
       "    }\n",
       "\n",
       "    .dataframe thead th {\n",
       "        text-align: left;\n",
       "    }\n",
       "\n",
       "    .dataframe tbody tr th {\n",
       "        vertical-align: top;\n",
       "    }\n",
       "</style>\n",
       "<table border=\"1\" class=\"dataframe\">\n",
       "  <thead>\n",
       "    <tr style=\"text-align: right;\">\n",
       "      <th></th>\n",
       "      <th>trip_count</th>\n",
       "      <th>weekday</th>\n",
       "    </tr>\n",
       "  </thead>\n",
       "  <tbody>\n",
       "    <tr>\n",
       "      <th>0</th>\n",
       "      <td>7162</td>\n",
       "      <td>4</td>\n",
       "    </tr>\n",
       "    <tr>\n",
       "      <th>1</th>\n",
       "      <td>6512</td>\n",
       "      <td>5</td>\n",
       "    </tr>\n",
       "    <tr>\n",
       "      <th>2</th>\n",
       "      <td>6353</td>\n",
       "      <td>6</td>\n",
       "    </tr>\n",
       "    <tr>\n",
       "      <th>3</th>\n",
       "      <td>6725</td>\n",
       "      <td>0</td>\n",
       "    </tr>\n",
       "    <tr>\n",
       "      <th>4</th>\n",
       "      <td>7204</td>\n",
       "      <td>1</td>\n",
       "    </tr>\n",
       "  </tbody>\n",
       "</table>\n",
       "</div>"
      ],
      "text/plain": [
       "   trip_count  weekday\n",
       "0        7162        4\n",
       "1        6512        5\n",
       "2        6353        6\n",
       "3        6725        0\n",
       "4        7204        1"
      ]
     },
     "execution_count": 42,
     "metadata": {},
     "output_type": "execute_result"
    }
   ],
   "source": [
    "trips_by_weekday.head()"
   ]
  },
  {
   "cell_type": "code",
   "execution_count": 43,
   "metadata": {},
   "outputs": [
    {
     "data": {
      "image/png": "[encoded data removed]",
      "text/plain": [
       "<matplotlib.figure.Figure at 0x57301450>"
      ]
     },
     "metadata": {},
     "output_type": "display_data"
    }
   ],
   "source": [
    "#Boxplot of taxi trips by weekday\n",
    "trips_by_weekday.pivot(columns='weekday').boxplot()\n",
    "plt.xlabel('Day of Week')\n",
    "plt.ylabel('Trip Count')\n",
    "plt.title('Taxi Trip Count by Weekday')\n",
    "plt.xticks(np.arange(1,8),('Monday','Tuesday','Wednesday','Thursday','Friday','Saturday','Sunday'))\n",
    "plt.show()"
   ]
  },
  {
   "cell_type": "markdown",
   "metadata": {},
   "source": [
    "The demand for taxis gradually increases throughout the week, peaking on Saturday and then dropping significantly on Sunday. The spread of trip counts also appears to increase as the week progresses as the IQR of trip counts is much larger for Friday, Saturday and Sunday."
   ]
  },
  {
   "cell_type": "code",
   "execution_count": 44,
   "metadata": {
    "collapsed": true
   },
   "outputs": [],
   "source": [
    "#Create column indicating weather the day of the week is Mon-Fri\n",
    "taxis['weekday_type'] = taxis['day_of_week'] <= 4"
   ]
  },
  {
   "cell_type": "code",
   "execution_count": 45,
   "metadata": {
    "collapsed": true
   },
   "outputs": [],
   "source": [
    "#Filter down to weekdays and run hourly analysis\n",
    "hourly_trips = taxis.loc[taxis['weekday_type'] == True, 'pickup_datetime'].resample('H').count()"
   ]
  },
  {
   "cell_type": "code",
   "execution_count": 46,
   "metadata": {
    "collapsed": true
   },
   "outputs": [],
   "source": [
    "#Filter weekend dates out of index\n",
    "hourly_trips = hourly_trips.loc[hourly_trips > 0]"
   ]
  },
  {
   "cell_type": "code",
   "execution_count": 47,
   "metadata": {
    "collapsed": true
   },
   "outputs": [],
   "source": [
    "#Create list extracting hours from datetime index\n",
    "hours = []\n",
    "for idx, trip in hourly_trips.items():\n",
    "    hours.append(str(idx)[-8:])"
   ]
  },
  {
   "cell_type": "code",
   "execution_count": 48,
   "metadata": {
    "collapsed": true
   },
   "outputs": [],
   "source": [
    "#Create new dataframe with hours and trip count\n",
    "hourly_trips_df = pd.DataFrame({'hours':hours, 'weekday':list(hourly_trips)})\n",
    "hourly_summary = hourly_trips_df.groupby(hours).mean()"
   ]
  },
  {
   "cell_type": "code",
   "execution_count": 49,
   "metadata": {
    "collapsed": true
   },
   "outputs": [],
   "source": [
    "hourly_trips_weekend = taxis.loc[taxis['weekday_type'] == False, 'pickup_datetime'].resample('H').count()\n",
    "hourly_trips_weekend = hourly_trips_weekend.loc[hourly_trips_weekend > 0]\n",
    "hours = []\n",
    "for idx, trip in hourly_trips_weekend.items():\n",
    "    hours.append(str(idx)[-8:])\n",
    "hourly_trips_df2 = pd.DataFrame({'hours':hours, 'weekend':list(hourly_trips_weekend)})\n",
    "hourly_summary2 = hourly_trips_df2.groupby(hours).mean()"
   ]
  },
  {
   "cell_type": "code",
   "execution_count": 50,
   "metadata": {},
   "outputs": [
    {
     "data": {
      "text/html": [
       "<div>\n",
       "<style>\n",
       "    .dataframe thead tr:only-child th {\n",
       "        text-align: right;\n",
       "    }\n",
       "\n",
       "    .dataframe thead th {\n",
       "        text-align: left;\n",
       "    }\n",
       "\n",
       "    .dataframe tbody tr th {\n",
       "        vertical-align: top;\n",
       "    }\n",
       "</style>\n",
       "<table border=\"1\" class=\"dataframe\">\n",
       "  <thead>\n",
       "    <tr style=\"text-align: right;\">\n",
       "      <th></th>\n",
       "      <th>weekend</th>\n",
       "    </tr>\n",
       "  </thead>\n",
       "  <tbody>\n",
       "    <tr>\n",
       "      <th>00:00:00</th>\n",
       "      <td>471.333</td>\n",
       "    </tr>\n",
       "    <tr>\n",
       "      <th>01:00:00</th>\n",
       "      <td>408.804</td>\n",
       "    </tr>\n",
       "    <tr>\n",
       "      <th>02:00:00</th>\n",
       "      <td>329.843</td>\n",
       "    </tr>\n",
       "    <tr>\n",
       "      <th>03:00:00</th>\n",
       "      <td>253.000</td>\n",
       "    </tr>\n",
       "    <tr>\n",
       "      <th>04:00:00</th>\n",
       "      <td>160.558</td>\n",
       "    </tr>\n",
       "  </tbody>\n",
       "</table>\n",
       "</div>"
      ],
      "text/plain": [
       "          weekend\n",
       "00:00:00  471.333\n",
       "01:00:00  408.804\n",
       "02:00:00  329.843\n",
       "03:00:00  253.000\n",
       "04:00:00  160.558"
      ]
     },
     "execution_count": 50,
     "metadata": {},
     "output_type": "execute_result"
    }
   ],
   "source": [
    "hourly_summary2.head()"
   ]
  },
  {
   "cell_type": "code",
   "execution_count": 51,
   "metadata": {
    "collapsed": true
   },
   "outputs": [],
   "source": [
    "hourly_summary = pd.concat([hourly_summary, hourly_summary2], axis=1)"
   ]
  },
  {
   "cell_type": "code",
   "execution_count": 52,
   "metadata": {},
   "outputs": [
    {
     "data": {
      "image/png": "[encoded data removed]",
      "text/plain": [
       "<matplotlib.figure.Figure at 0x5720c590>"
      ]
     },
     "metadata": {},
     "output_type": "display_data"
    }
   ],
   "source": [
    "line1, line2, = plt.plot(hourly_summary)\n",
    "plt.xticks(rotation=60)\n",
    "plt.xlabel('Time')\n",
    "plt.ylabel('Trip Count')\n",
    "plt.title('Average Trips by Hour of Day')\n",
    "plt.legend((line1, line2), ['Weekday','Weekend'],loc='center right')\n",
    "plt.show()"
   ]
  },
  {
   "cell_type": "markdown",
   "metadata": {},
   "source": [
    "On weekdays, the demand for taxis fluctuates quite a bit, hitting peaks around 8-9am and 7-8pm. It is common for people to take taxis to and from work, which explains the morning and afternoon peaks. Additionally, people frequently use taxis during the 2-3 hours immediately after work for various purposes such as work-related events, happy hours, sporting events or simply socializing with friends and family. The total count of trips bottoms out from 3-4am since hardly anyone is out and about during those hours. During the afternoon, there is a moderate dip in demand between 4 and 5pm as cab drivers tend to change shifts during that hour."
   ]
  },
  {
   "cell_type": "markdown",
   "metadata": {},
   "source": [
    "On weekends, demand for taxis is highest at midnight and then declines drastically until 5am, at which point it begins to increase, hitting peaks in the early afternoon and again around 7pm."
   ]
  },
  {
   "cell_type": "markdown",
   "metadata": {},
   "source": [
    "### Trip Duration"
   ]
  },
  {
   "cell_type": "code",
   "execution_count": 10,
   "metadata": {
    "collapsed": true
   },
   "outputs": [],
   "source": [
    "taxis['trip_minutes'] = taxis['trip_duration'].apply(lambda x: x/60)"
   ]
  },
  {
   "cell_type": "code",
   "execution_count": 11,
   "metadata": {},
   "outputs": [
    {
     "data": {
      "text/plain": [
       "count   1458644.000\n",
       "mean         15.992\n",
       "std          87.291\n",
       "min           0.017\n",
       "25%           6.617\n",
       "50%          11.033\n",
       "75%          17.917\n",
       "max       58771.367\n",
       "Name: trip_minutes, dtype: float64"
      ]
     },
     "execution_count": 11,
     "metadata": {},
     "output_type": "execute_result"
    }
   ],
   "source": [
    "taxis['trip_minutes'].describe()"
   ]
  },
  {
   "cell_type": "markdown",
   "metadata": {},
   "source": [
    "Trip duration has a few extremely high values that don't seem realistic. A 30,000 minute-long trip is equivalent to 500 hours or almost 21 days."
   ]
  },
  {
   "cell_type": "code",
   "execution_count": 12,
   "metadata": {
    "collapsed": true
   },
   "outputs": [],
   "source": [
    "taxis = taxis.loc[taxis['trip_minutes'] < 30000]"
   ]
  },
  {
   "cell_type": "code",
   "execution_count": 13,
   "metadata": {},
   "outputs": [
    {
     "data": {
      "image/png": "[encoded data removed]",
      "text/plain": [
       "<matplotlib.figure.Figure at 0x929f970>"
      ]
     },
     "metadata": {},
     "output_type": "display_data"
    }
   ],
   "source": [
    "#Trip duration histogram\n",
    "upper_bound = 120\n",
    "taxis.loc[taxis['trip_minutes'] <= upper_bound, 'trip_minutes'].plot(kind='hist', bins=30)\n",
    "plt.xlim((0,upper_bound))\n",
    "plt.show()"
   ]
  },
  {
   "cell_type": "code",
   "execution_count": 14,
   "metadata": {
    "collapsed": true
   },
   "outputs": [],
   "source": [
    "taxis['month'] = taxis['pickup_datetime'].apply(lambda x: x.month)"
   ]
  },
  {
   "cell_type": "code",
   "execution_count": 15,
   "metadata": {
    "collapsed": true
   },
   "outputs": [],
   "source": [
    "month_dict = {1: 'January', 2: 'February', 3: 'March', 4: 'April', 5: 'May', 6: 'June'}\n",
    "taxis['month'] = taxis['month'].astype('category').cat.as_ordered()\n",
    "taxis['month'] = taxis['month'].map(month_dict)"
   ]
  },
  {
   "cell_type": "code",
   "execution_count": 16,
   "metadata": {},
   "outputs": [
    {
     "name": "stdout",
     "output_type": "stream",
     "text": [
      "<class 'pandas.core.frame.DataFrame'>\n",
      "DatetimeIndex: 1458640 entries, 2016-03-14 17:24:55 to 2016-04-05 14:44:25\n",
      "Columns: 31 entries, pickup_datetime to month\n",
      "dtypes: bool(7), category(2), datetime64[ns](2), float64(14), int64(2), object(4)\n",
      "memory usage: 246.2+ MB\n"
     ]
    }
   ],
   "source": [
    "taxis.info(verbose=False)"
   ]
  },
  {
   "cell_type": "code",
   "execution_count": 36,
   "metadata": {},
   "outputs": [
    {
     "data": {
      "text/html": [
       "<div>\n",
       "<style>\n",
       "    .dataframe thead tr:only-child th {\n",
       "        text-align: right;\n",
       "    }\n",
       "\n",
       "    .dataframe thead th {\n",
       "        text-align: left;\n",
       "    }\n",
       "\n",
       "    .dataframe tbody tr th {\n",
       "        vertical-align: top;\n",
       "    }\n",
       "</style>\n",
       "<table border=\"1\" class=\"dataframe\">\n",
       "  <thead>\n",
       "    <tr style=\"text-align: right;\">\n",
       "      <th></th>\n",
       "      <th>pickup_datetime</th>\n",
       "      <th>dropoff_datetime</th>\n",
       "      <th>passenger_count</th>\n",
       "      <th>pickup_longitude</th>\n",
       "      <th>pickup_latitude</th>\n",
       "      <th>dropoff_longitude</th>\n",
       "      <th>dropoff_latitude</th>\n",
       "      <th>trip_duration</th>\n",
       "      <th>date</th>\n",
       "      <th>station_num</th>\n",
       "      <th>station_name</th>\n",
       "      <th>station_latitude</th>\n",
       "      <th>station_longitude</th>\n",
       "      <th>average_wind</th>\n",
       "      <th>precipitation</th>\n",
       "      <th>snowfall</th>\n",
       "      <th>snow_depth</th>\n",
       "      <th>avg_temp</th>\n",
       "      <th>max_temp</th>\n",
       "      <th>min_temp</th>\n",
       "      <th>fog</th>\n",
       "      <th>fog_heavy</th>\n",
       "      <th>thunder</th>\n",
       "      <th>ice_pellets</th>\n",
       "      <th>glaze</th>\n",
       "      <th>smoke_haze</th>\n",
       "      <th>blowing_snow</th>\n",
       "      <th>day_of_week</th>\n",
       "      <th>weekday_name</th>\n",
       "      <th>trip_minutes</th>\n",
       "      <th>month</th>\n",
       "    </tr>\n",
       "  </thead>\n",
       "  <tbody>\n",
       "    <tr>\n",
       "      <th>2016-03-14 17:24:55</th>\n",
       "      <td>2016-03-14 17:24:55</td>\n",
       "      <td>2016-03-14 17:32:30</td>\n",
       "      <td>1</td>\n",
       "      <td>-73.982</td>\n",
       "      <td>40.768</td>\n",
       "      <td>-73.965</td>\n",
       "      <td>40.766</td>\n",
       "      <td>455</td>\n",
       "      <td>2016-03-14</td>\n",
       "      <td>USW00014732</td>\n",
       "      <td>LA GUARDIA AIRPORT, NY US</td>\n",
       "      <td>40.779</td>\n",
       "      <td>-73.880</td>\n",
       "      <td>17.670</td>\n",
       "      <td>0.180</td>\n",
       "      <td>0.000</td>\n",
       "      <td>0.000</td>\n",
       "      <td>48.000</td>\n",
       "      <td>52.000</td>\n",
       "      <td>41.000</td>\n",
       "      <td>True</td>\n",
       "      <td>False</td>\n",
       "      <td>False</td>\n",
       "      <td>False</td>\n",
       "      <td>False</td>\n",
       "      <td>True</td>\n",
       "      <td>False</td>\n",
       "      <td>0</td>\n",
       "      <td>Monday</td>\n",
       "      <td>7.583</td>\n",
       "      <td>March</td>\n",
       "    </tr>\n",
       "    <tr>\n",
       "      <th>2016-06-12 00:43:35</th>\n",
       "      <td>2016-06-12 00:43:35</td>\n",
       "      <td>2016-06-12 00:54:38</td>\n",
       "      <td>1</td>\n",
       "      <td>-73.980</td>\n",
       "      <td>40.739</td>\n",
       "      <td>-73.999</td>\n",
       "      <td>40.731</td>\n",
       "      <td>663</td>\n",
       "      <td>2016-06-12</td>\n",
       "      <td>USW00014732</td>\n",
       "      <td>LA GUARDIA AIRPORT, NY US</td>\n",
       "      <td>40.779</td>\n",
       "      <td>-73.880</td>\n",
       "      <td>19.910</td>\n",
       "      <td>0.000</td>\n",
       "      <td>0.000</td>\n",
       "      <td>0.000</td>\n",
       "      <td>80.000</td>\n",
       "      <td>86.000</td>\n",
       "      <td>63.000</td>\n",
       "      <td>False</td>\n",
       "      <td>False</td>\n",
       "      <td>False</td>\n",
       "      <td>False</td>\n",
       "      <td>False</td>\n",
       "      <td>False</td>\n",
       "      <td>False</td>\n",
       "      <td>6</td>\n",
       "      <td>Sunday</td>\n",
       "      <td>11.050</td>\n",
       "      <td>June</td>\n",
       "    </tr>\n",
       "    <tr>\n",
       "      <th>2016-01-19 11:35:24</th>\n",
       "      <td>2016-01-19 11:35:24</td>\n",
       "      <td>2016-01-19 12:10:48</td>\n",
       "      <td>1</td>\n",
       "      <td>-73.979</td>\n",
       "      <td>40.764</td>\n",
       "      <td>-74.005</td>\n",
       "      <td>40.710</td>\n",
       "      <td>2124</td>\n",
       "      <td>2016-01-19</td>\n",
       "      <td>USW00014732</td>\n",
       "      <td>LA GUARDIA AIRPORT, NY US</td>\n",
       "      <td>40.779</td>\n",
       "      <td>-73.880</td>\n",
       "      <td>21.250</td>\n",
       "      <td>0.000</td>\n",
       "      <td>0.000</td>\n",
       "      <td>0.000</td>\n",
       "      <td>23.000</td>\n",
       "      <td>30.000</td>\n",
       "      <td>18.000</td>\n",
       "      <td>False</td>\n",
       "      <td>False</td>\n",
       "      <td>False</td>\n",
       "      <td>False</td>\n",
       "      <td>False</td>\n",
       "      <td>False</td>\n",
       "      <td>False</td>\n",
       "      <td>1</td>\n",
       "      <td>Tuesday</td>\n",
       "      <td>35.400</td>\n",
       "      <td>January</td>\n",
       "    </tr>\n",
       "    <tr>\n",
       "      <th>2016-04-06 19:32:31</th>\n",
       "      <td>2016-04-06 19:32:31</td>\n",
       "      <td>2016-04-06 19:39:40</td>\n",
       "      <td>1</td>\n",
       "      <td>-74.010</td>\n",
       "      <td>40.720</td>\n",
       "      <td>-74.012</td>\n",
       "      <td>40.707</td>\n",
       "      <td>429</td>\n",
       "      <td>2016-04-06</td>\n",
       "      <td>USW00014732</td>\n",
       "      <td>LA GUARDIA AIRPORT, NY US</td>\n",
       "      <td>40.779</td>\n",
       "      <td>-73.880</td>\n",
       "      <td>11.410</td>\n",
       "      <td>0.000</td>\n",
       "      <td>0.000</td>\n",
       "      <td>0.000</td>\n",
       "      <td>39.000</td>\n",
       "      <td>48.000</td>\n",
       "      <td>32.000</td>\n",
       "      <td>False</td>\n",
       "      <td>False</td>\n",
       "      <td>False</td>\n",
       "      <td>False</td>\n",
       "      <td>False</td>\n",
       "      <td>False</td>\n",
       "      <td>False</td>\n",
       "      <td>2</td>\n",
       "      <td>Wednesday</td>\n",
       "      <td>7.150</td>\n",
       "      <td>April</td>\n",
       "    </tr>\n",
       "    <tr>\n",
       "      <th>2016-03-26 13:30:55</th>\n",
       "      <td>2016-03-26 13:30:55</td>\n",
       "      <td>2016-03-26 13:38:10</td>\n",
       "      <td>1</td>\n",
       "      <td>-73.973</td>\n",
       "      <td>40.793</td>\n",
       "      <td>-73.973</td>\n",
       "      <td>40.783</td>\n",
       "      <td>435</td>\n",
       "      <td>2016-03-26</td>\n",
       "      <td>USW00014732</td>\n",
       "      <td>LA GUARDIA AIRPORT, NY US</td>\n",
       "      <td>40.779</td>\n",
       "      <td>-73.880</td>\n",
       "      <td>10.070</td>\n",
       "      <td>0.000</td>\n",
       "      <td>0.000</td>\n",
       "      <td>0.000</td>\n",
       "      <td>47.000</td>\n",
       "      <td>51.000</td>\n",
       "      <td>39.000</td>\n",
       "      <td>False</td>\n",
       "      <td>False</td>\n",
       "      <td>False</td>\n",
       "      <td>False</td>\n",
       "      <td>False</td>\n",
       "      <td>False</td>\n",
       "      <td>False</td>\n",
       "      <td>5</td>\n",
       "      <td>Saturday</td>\n",
       "      <td>7.250</td>\n",
       "      <td>March</td>\n",
       "    </tr>\n",
       "  </tbody>\n",
       "</table>\n",
       "</div>"
      ],
      "text/plain": [
       "                        pickup_datetime    dropoff_datetime  passenger_count  \\\n",
       "2016-03-14 17:24:55 2016-03-14 17:24:55 2016-03-14 17:32:30                1   \n",
       "2016-06-12 00:43:35 2016-06-12 00:43:35 2016-06-12 00:54:38                1   \n",
       "2016-01-19 11:35:24 2016-01-19 11:35:24 2016-01-19 12:10:48                1   \n",
       "2016-04-06 19:32:31 2016-04-06 19:32:31 2016-04-06 19:39:40                1   \n",
       "2016-03-26 13:30:55 2016-03-26 13:30:55 2016-03-26 13:38:10                1   \n",
       "\n",
       "                     pickup_longitude  pickup_latitude  dropoff_longitude  \\\n",
       "2016-03-14 17:24:55           -73.982           40.768            -73.965   \n",
       "2016-06-12 00:43:35           -73.980           40.739            -73.999   \n",
       "2016-01-19 11:35:24           -73.979           40.764            -74.005   \n",
       "2016-04-06 19:32:31           -74.010           40.720            -74.012   \n",
       "2016-03-26 13:30:55           -73.973           40.793            -73.973   \n",
       "\n",
       "                     dropoff_latitude  trip_duration        date  station_num  \\\n",
       "2016-03-14 17:24:55            40.766            455  2016-03-14  USW00014732   \n",
       "2016-06-12 00:43:35            40.731            663  2016-06-12  USW00014732   \n",
       "2016-01-19 11:35:24            40.710           2124  2016-01-19  USW00014732   \n",
       "2016-04-06 19:32:31            40.707            429  2016-04-06  USW00014732   \n",
       "2016-03-26 13:30:55            40.783            435  2016-03-26  USW00014732   \n",
       "\n",
       "                                  station_name  station_latitude  \\\n",
       "2016-03-14 17:24:55  LA GUARDIA AIRPORT, NY US            40.779   \n",
       "2016-06-12 00:43:35  LA GUARDIA AIRPORT, NY US            40.779   \n",
       "2016-01-19 11:35:24  LA GUARDIA AIRPORT, NY US            40.779   \n",
       "2016-04-06 19:32:31  LA GUARDIA AIRPORT, NY US            40.779   \n",
       "2016-03-26 13:30:55  LA GUARDIA AIRPORT, NY US            40.779   \n",
       "\n",
       "                     station_longitude  average_wind  precipitation  snowfall  \\\n",
       "2016-03-14 17:24:55            -73.880        17.670          0.180     0.000   \n",
       "2016-06-12 00:43:35            -73.880        19.910          0.000     0.000   \n",
       "2016-01-19 11:35:24            -73.880        21.250          0.000     0.000   \n",
       "2016-04-06 19:32:31            -73.880        11.410          0.000     0.000   \n",
       "2016-03-26 13:30:55            -73.880        10.070          0.000     0.000   \n",
       "\n",
       "                     snow_depth  avg_temp  max_temp  min_temp    fog  \\\n",
       "2016-03-14 17:24:55       0.000    48.000    52.000    41.000   True   \n",
       "2016-06-12 00:43:35       0.000    80.000    86.000    63.000  False   \n",
       "2016-01-19 11:35:24       0.000    23.000    30.000    18.000  False   \n",
       "2016-04-06 19:32:31       0.000    39.000    48.000    32.000  False   \n",
       "2016-03-26 13:30:55       0.000    47.000    51.000    39.000  False   \n",
       "\n",
       "                     fog_heavy  thunder  ice_pellets  glaze  smoke_haze  \\\n",
       "2016-03-14 17:24:55      False    False        False  False        True   \n",
       "2016-06-12 00:43:35      False    False        False  False       False   \n",
       "2016-01-19 11:35:24      False    False        False  False       False   \n",
       "2016-04-06 19:32:31      False    False        False  False       False   \n",
       "2016-03-26 13:30:55      False    False        False  False       False   \n",
       "\n",
       "                     blowing_snow day_of_week weekday_name  trip_minutes  \\\n",
       "2016-03-14 17:24:55         False           0       Monday         7.583   \n",
       "2016-06-12 00:43:35         False           6       Sunday        11.050   \n",
       "2016-01-19 11:35:24         False           1      Tuesday        35.400   \n",
       "2016-04-06 19:32:31         False           2    Wednesday         7.150   \n",
       "2016-03-26 13:30:55         False           5     Saturday         7.250   \n",
       "\n",
       "                       month  \n",
       "2016-03-14 17:24:55    March  \n",
       "2016-06-12 00:43:35     June  \n",
       "2016-01-19 11:35:24  January  \n",
       "2016-04-06 19:32:31    April  \n",
       "2016-03-26 13:30:55    March  "
      ]
     },
     "execution_count": 36,
     "metadata": {},
     "output_type": "execute_result"
    }
   ],
   "source": [
    "taxis.head()"
   ]
  },
  {
   "cell_type": "markdown",
   "metadata": {},
   "source": [
    "What effect does weather have on trip duration?"
   ]
  },
  {
   "cell_type": "markdown",
   "metadata": {},
   "source": [
    "### Weather's Impact on Taxis"
   ]
  },
  {
   "cell_type": "code",
   "execution_count": 17,
   "metadata": {
    "collapsed": true
   },
   "outputs": [],
   "source": [
    "daily_temp = taxis['avg_temp'].resample('D').mean()"
   ]
  },
  {
   "cell_type": "code",
   "execution_count": 20,
   "metadata": {
    "scrolled": true
   },
   "outputs": [
    {
     "data": {
      "image/png": "[encoded data removed]",
      "text/plain": [
       "<matplotlib.figure.Figure at 0x3035d910>"
      ]
     },
     "metadata": {},
     "output_type": "display_data"
    }
   ],
   "source": [
    "plt.scatter(daily_temp, daily_trips)\n",
    "plt.xlabel('Daily Average Temperature')\n",
    "plt.ylabel('Daily Trip Count')\n",
    "plt.title('Daily Total Trips by Average Daily Temp')\n",
    "plt.show()"
   ]
  },
  {
   "cell_type": "code",
   "execution_count": 10,
   "metadata": {
    "collapsed": true
   },
   "outputs": [],
   "source": [
    "daily_temp_trips = taxis[['avg_temp', 'trip_duration']].resample('D').mean()"
   ]
  },
  {
   "cell_type": "code",
   "execution_count": 23,
   "metadata": {
    "collapsed": true
   },
   "outputs": [],
   "source": [
    "day_of_week = [x.weekday() for x in list(daily_temp_trips.index)]\n",
    "wkday_wkend = [x < 5 for x in day_of_week]\n",
    "#Convert this to weekday/weekend only"
   ]
  },
  {
   "cell_type": "code",
   "execution_count": 24,
   "metadata": {},
   "outputs": [
    {
     "name": "stdout",
     "output_type": "stream",
     "text": [
      "[True, False, False, True, True, True, True, True, False, False]\n"
     ]
    }
   ],
   "source": [
    "print(wkday_wkend[:10])"
   ]
  },
  {
   "cell_type": "code",
   "execution_count": 69,
   "metadata": {
    "collapsed": true
   },
   "outputs": [],
   "source": [
    "daily_temp_trips['wkday_wkend'] = wkday_wkend"
   ]
  },
  {
   "cell_type": "code",
   "execution_count": 73,
   "metadata": {
    "collapsed": true
   },
   "outputs": [],
   "source": [
    "slope, intercept = np.polyfit(daily_temp_trips['avg_temp'], daily_temp_trips['trip_duration'], deg=1)\n",
    "trip_prediction = [slope * i + intercept for i in list(daily_temp_trips['avg_temp'])]\n",
    "daily_temp_trips['trip_prediction'] = trip_prediction"
   ]
  },
  {
   "cell_type": "code",
   "execution_count": 74,
   "metadata": {
    "collapsed": true
   },
   "outputs": [],
   "source": [
    "weekday_temp_trips = daily_temp_trips.loc[daily_temp_trips['wkday_wkend'] == True]\n",
    "weekend_temp_trips = daily_temp_trips.loc[daily_temp_trips['wkday_wkend'] == False]"
   ]
  },
  {
   "cell_type": "code",
   "execution_count": 81,
   "metadata": {},
   "outputs": [
    {
     "data": {
      "image/png": "[encoded data removed]",
      "text/plain": [
       "<matplotlib.figure.Figure at 0x155de430>"
      ]
     },
     "metadata": {},
     "output_type": "display_data"
    }
   ],
   "source": [
    "plt.scatter(weekday_temp_trips['avg_temp'], weekday_temp_trips['trip_duration'], label='Weekday')\n",
    "plt.xlabel('Daily Average Temperature')\n",
    "plt.ylabel('Daily Average Trip Length')\n",
    "plt.scatter(weekend_temp_trips['avg_temp'], weekend_temp_trips['trip_duration'], label='Weekend')\n",
    "plt.plot(weekday_temp_trips['avg_temp'], weekday_temp_trips['trip_prediction'])\n",
    "plt.plot(weekend_temp_trips['avg_temp'], weekend_temp_trips['trip_prediction'])\n",
    "plt.legend()\n",
    "plt.show()"
   ]
  },
  {
   "cell_type": "code",
   "execution_count": 25,
   "metadata": {},
   "outputs": [
    {
     "name": "stdout",
     "output_type": "stream",
     "text": [
      "Pearsons Correlation Coefficient: 0.455949038989\n"
     ]
    }
   ],
   "source": [
    "print('Pearson''s Correlation Coefficient:' , np.corrcoef(daily_temp_trips['avg_temp'], daily_temp_trips['trip_duration'])[0][1])"
   ]
  },
  {
   "cell_type": "markdown",
   "metadata": {},
   "source": [
    "As the daily average temperature increases, so does the average trip duration in minutes. This most likely reflects people's tendency to take cabs when travelling short distances during the winter since they prefer not to walk outside when it's cold out."
   ]
  },
  {
   "cell_type": "code",
   "execution_count": 36,
   "metadata": {
    "collapsed": true
   },
   "outputs": [],
   "source": [
    "#Plot precipitation and trip count\n",
    "daily_precip = taxis['precipitation'].resample('D').mean()"
   ]
  },
  {
   "cell_type": "code",
   "execution_count": 38,
   "metadata": {},
   "outputs": [
    {
     "data": {
      "image/png": "[encoded data removed]",
      "text/plain": [
       "<matplotlib.figure.Figure at 0x1c60e770>"
      ]
     },
     "metadata": {},
     "output_type": "display_data"
    }
   ],
   "source": [
    "plt.scatter(daily_precip, daily_trips)\n",
    "plt.show()"
   ]
  },
  {
   "cell_type": "code",
   "execution_count": 39,
   "metadata": {},
   "outputs": [
    {
     "data": {
      "image/png": "[encoded data removed]",
      "text/plain": [
       "<matplotlib.figure.Figure at 0x1c607fd0>"
      ]
     },
     "metadata": {},
     "output_type": "display_data"
    }
   ],
   "source": [
    "#Plot precipitation and trip duration\n",
    "plt.scatter(daily_precip, daily_temp_trips['trip_duration'])\n",
    "plt.show()"
   ]
  },
  {
   "cell_type": "code",
   "execution_count": 41,
   "metadata": {
    "collapsed": true
   },
   "outputs": [],
   "source": [
    "#Boxplot snow and trip duration\n",
    "snowfall = taxis['snowfall'].resample('D').mean()\n",
    "snowfall = snowfall > 0"
   ]
  },
  {
   "cell_type": "code",
   "execution_count": 64,
   "metadata": {},
   "outputs": [
    {
     "data": {
      "text/plain": [
       "183"
      ]
     },
     "execution_count": 64,
     "metadata": {},
     "output_type": "execute_result"
    }
   ],
   "source": [
    "len(daily_trips)"
   ]
  },
  {
   "cell_type": "code",
   "execution_count": 63,
   "metadata": {},
   "outputs": [
    {
     "data": {
      "text/plain": [
       "182"
      ]
     },
     "execution_count": 63,
     "metadata": {},
     "output_type": "execute_result"
    }
   ],
   "source": [
    "len(snowfall)"
   ]
  },
  {
   "cell_type": "code",
   "execution_count": 62,
   "metadata": {
    "collapsed": true
   },
   "outputs": [
    {
     "ename": "ValueError",
     "evalue": "arrays must all be same length",
     "output_type": "error",
     "traceback": [
      "\u001b[1;31m---------------------------------------------------------------------------\u001b[0m",
      "\u001b[1;31mValueError\u001b[0m                                Traceback (most recent call last)",
      "\u001b[1;32m<ipython-input-62-2989599fa872>\u001b[0m in \u001b[0;36m<module>\u001b[1;34m()\u001b[0m\n\u001b[1;32m----> 1\u001b[1;33m \u001b[0mpd\u001b[0m\u001b[1;33m.\u001b[0m\u001b[0mDataFrame\u001b[0m\u001b[1;33m(\u001b[0m\u001b[1;33m{\u001b[0m\u001b[1;34m'trip_count'\u001b[0m\u001b[1;33m:\u001b[0m \u001b[0mlist\u001b[0m\u001b[1;33m(\u001b[0m\u001b[0mdaily_trips\u001b[0m\u001b[1;33m)\u001b[0m\u001b[1;33m,\u001b[0m \u001b[1;34m'snowfall'\u001b[0m\u001b[1;33m:\u001b[0m\u001b[0mlist\u001b[0m\u001b[1;33m(\u001b[0m\u001b[0msnowfall\u001b[0m\u001b[1;33m)\u001b[0m\u001b[1;33m}\u001b[0m\u001b[1;33m)\u001b[0m\u001b[1;33m\u001b[0m\u001b[0m\n\u001b[0m",
      "\u001b[1;32m~\\Anaconda3\\lib\\site-packages\\pandas\\core\\frame.py\u001b[0m in \u001b[0;36m__init__\u001b[1;34m(self, data, index, columns, dtype, copy)\u001b[0m\n\u001b[0;32m    273\u001b[0m                                  dtype=dtype, copy=copy)\n\u001b[0;32m    274\u001b[0m         \u001b[1;32melif\u001b[0m \u001b[0misinstance\u001b[0m\u001b[1;33m(\u001b[0m\u001b[0mdata\u001b[0m\u001b[1;33m,\u001b[0m \u001b[0mdict\u001b[0m\u001b[1;33m)\u001b[0m\u001b[1;33m:\u001b[0m\u001b[1;33m\u001b[0m\u001b[0m\n\u001b[1;32m--> 275\u001b[1;33m             \u001b[0mmgr\u001b[0m \u001b[1;33m=\u001b[0m \u001b[0mself\u001b[0m\u001b[1;33m.\u001b[0m\u001b[0m_init_dict\u001b[0m\u001b[1;33m(\u001b[0m\u001b[0mdata\u001b[0m\u001b[1;33m,\u001b[0m \u001b[0mindex\u001b[0m\u001b[1;33m,\u001b[0m \u001b[0mcolumns\u001b[0m\u001b[1;33m,\u001b[0m \u001b[0mdtype\u001b[0m\u001b[1;33m=\u001b[0m\u001b[0mdtype\u001b[0m\u001b[1;33m)\u001b[0m\u001b[1;33m\u001b[0m\u001b[0m\n\u001b[0m\u001b[0;32m    276\u001b[0m         \u001b[1;32melif\u001b[0m \u001b[0misinstance\u001b[0m\u001b[1;33m(\u001b[0m\u001b[0mdata\u001b[0m\u001b[1;33m,\u001b[0m \u001b[0mma\u001b[0m\u001b[1;33m.\u001b[0m\u001b[0mMaskedArray\u001b[0m\u001b[1;33m)\u001b[0m\u001b[1;33m:\u001b[0m\u001b[1;33m\u001b[0m\u001b[0m\n\u001b[0;32m    277\u001b[0m             \u001b[1;32mimport\u001b[0m \u001b[0mnumpy\u001b[0m\u001b[1;33m.\u001b[0m\u001b[0mma\u001b[0m\u001b[1;33m.\u001b[0m\u001b[0mmrecords\u001b[0m \u001b[1;32mas\u001b[0m \u001b[0mmrecords\u001b[0m\u001b[1;33m\u001b[0m\u001b[0m\n",
      "\u001b[1;32m~\\Anaconda3\\lib\\site-packages\\pandas\\core\\frame.py\u001b[0m in \u001b[0;36m_init_dict\u001b[1;34m(self, data, index, columns, dtype)\u001b[0m\n\u001b[0;32m    409\u001b[0m             \u001b[0marrays\u001b[0m \u001b[1;33m=\u001b[0m \u001b[1;33m[\u001b[0m\u001b[0mdata\u001b[0m\u001b[1;33m[\u001b[0m\u001b[0mk\u001b[0m\u001b[1;33m]\u001b[0m \u001b[1;32mfor\u001b[0m \u001b[0mk\u001b[0m \u001b[1;32min\u001b[0m \u001b[0mkeys\u001b[0m\u001b[1;33m]\u001b[0m\u001b[1;33m\u001b[0m\u001b[0m\n\u001b[0;32m    410\u001b[0m \u001b[1;33m\u001b[0m\u001b[0m\n\u001b[1;32m--> 411\u001b[1;33m         \u001b[1;32mreturn\u001b[0m \u001b[0m_arrays_to_mgr\u001b[0m\u001b[1;33m(\u001b[0m\u001b[0marrays\u001b[0m\u001b[1;33m,\u001b[0m \u001b[0mdata_names\u001b[0m\u001b[1;33m,\u001b[0m \u001b[0mindex\u001b[0m\u001b[1;33m,\u001b[0m \u001b[0mcolumns\u001b[0m\u001b[1;33m,\u001b[0m \u001b[0mdtype\u001b[0m\u001b[1;33m=\u001b[0m\u001b[0mdtype\u001b[0m\u001b[1;33m)\u001b[0m\u001b[1;33m\u001b[0m\u001b[0m\n\u001b[0m\u001b[0;32m    412\u001b[0m \u001b[1;33m\u001b[0m\u001b[0m\n\u001b[0;32m    413\u001b[0m     \u001b[1;32mdef\u001b[0m \u001b[0m_init_ndarray\u001b[0m\u001b[1;33m(\u001b[0m\u001b[0mself\u001b[0m\u001b[1;33m,\u001b[0m \u001b[0mvalues\u001b[0m\u001b[1;33m,\u001b[0m \u001b[0mindex\u001b[0m\u001b[1;33m,\u001b[0m \u001b[0mcolumns\u001b[0m\u001b[1;33m,\u001b[0m \u001b[0mdtype\u001b[0m\u001b[1;33m=\u001b[0m\u001b[1;32mNone\u001b[0m\u001b[1;33m,\u001b[0m \u001b[0mcopy\u001b[0m\u001b[1;33m=\u001b[0m\u001b[1;32mFalse\u001b[0m\u001b[1;33m)\u001b[0m\u001b[1;33m:\u001b[0m\u001b[1;33m\u001b[0m\u001b[0m\n",
      "\u001b[1;32m~\\Anaconda3\\lib\\site-packages\\pandas\\core\\frame.py\u001b[0m in \u001b[0;36m_arrays_to_mgr\u001b[1;34m(arrays, arr_names, index, columns, dtype)\u001b[0m\n\u001b[0;32m   5494\u001b[0m     \u001b[1;31m# figure out the index, if necessary\u001b[0m\u001b[1;33m\u001b[0m\u001b[1;33m\u001b[0m\u001b[0m\n\u001b[0;32m   5495\u001b[0m     \u001b[1;32mif\u001b[0m \u001b[0mindex\u001b[0m \u001b[1;32mis\u001b[0m \u001b[1;32mNone\u001b[0m\u001b[1;33m:\u001b[0m\u001b[1;33m\u001b[0m\u001b[0m\n\u001b[1;32m-> 5496\u001b[1;33m         \u001b[0mindex\u001b[0m \u001b[1;33m=\u001b[0m \u001b[0mextract_index\u001b[0m\u001b[1;33m(\u001b[0m\u001b[0marrays\u001b[0m\u001b[1;33m)\u001b[0m\u001b[1;33m\u001b[0m\u001b[0m\n\u001b[0m\u001b[0;32m   5497\u001b[0m     \u001b[1;32melse\u001b[0m\u001b[1;33m:\u001b[0m\u001b[1;33m\u001b[0m\u001b[0m\n\u001b[0;32m   5498\u001b[0m         \u001b[0mindex\u001b[0m \u001b[1;33m=\u001b[0m \u001b[0m_ensure_index\u001b[0m\u001b[1;33m(\u001b[0m\u001b[0mindex\u001b[0m\u001b[1;33m)\u001b[0m\u001b[1;33m\u001b[0m\u001b[0m\n",
      "\u001b[1;32m~\\Anaconda3\\lib\\site-packages\\pandas\\core\\frame.py\u001b[0m in \u001b[0;36mextract_index\u001b[1;34m(data)\u001b[0m\n\u001b[0;32m   5542\u001b[0m             \u001b[0mlengths\u001b[0m \u001b[1;33m=\u001b[0m \u001b[0mlist\u001b[0m\u001b[1;33m(\u001b[0m\u001b[0mset\u001b[0m\u001b[1;33m(\u001b[0m\u001b[0mraw_lengths\u001b[0m\u001b[1;33m)\u001b[0m\u001b[1;33m)\u001b[0m\u001b[1;33m\u001b[0m\u001b[0m\n\u001b[0;32m   5543\u001b[0m             \u001b[1;32mif\u001b[0m \u001b[0mlen\u001b[0m\u001b[1;33m(\u001b[0m\u001b[0mlengths\u001b[0m\u001b[1;33m)\u001b[0m \u001b[1;33m>\u001b[0m \u001b[1;36m1\u001b[0m\u001b[1;33m:\u001b[0m\u001b[1;33m\u001b[0m\u001b[0m\n\u001b[1;32m-> 5544\u001b[1;33m                 \u001b[1;32mraise\u001b[0m \u001b[0mValueError\u001b[0m\u001b[1;33m(\u001b[0m\u001b[1;34m'arrays must all be same length'\u001b[0m\u001b[1;33m)\u001b[0m\u001b[1;33m\u001b[0m\u001b[0m\n\u001b[0m\u001b[0;32m   5545\u001b[0m \u001b[1;33m\u001b[0m\u001b[0m\n\u001b[0;32m   5546\u001b[0m             \u001b[1;32mif\u001b[0m \u001b[0mhave_dicts\u001b[0m\u001b[1;33m:\u001b[0m\u001b[1;33m\u001b[0m\u001b[0m\n",
      "\u001b[1;31mValueError\u001b[0m: arrays must all be same length"
     ]
    }
   ],
   "source": [
    "pd.DataFrame({'trip_count': list(daily_trips), 'snowfall':list(snowfall)})"
   ]
  },
  {
   "cell_type": "code",
   "execution_count": 55,
   "metadata": {
    "collapsed": true
   },
   "outputs": [],
   "source": [
    "snowfall_trips = taxis['snowfall'].loc[taxis['snowfall'] > 0].resample('D').count()\n",
    "no_snowfall_trips = taxis['snowfall'].loc[taxis['snowfall'] == 0].resample('D').count()"
   ]
  },
  {
   "cell_type": "code",
   "execution_count": 59,
   "metadata": {},
   "outputs": [
    {
     "data": {
      "text/plain": [
       "2016-01-17   7891.000\n",
       "2016-01-18      0.000\n",
       "2016-01-19      0.000\n",
       "2016-01-20      0.000\n",
       "2016-01-21      0.000\n",
       "2016-01-22      0.000\n",
       "2016-01-23   1648.000\n",
       "2016-01-24   3383.000\n",
       "2016-01-25      0.000\n",
       "2016-01-26      0.000\n",
       "2016-01-27      0.000\n",
       "2016-01-28      0.000\n",
       "2016-01-29      0.000\n",
       "2016-01-30      0.000\n",
       "2016-01-31      0.000\n",
       "2016-02-01      0.000\n",
       "2016-02-02      0.000\n",
       "2016-02-03      0.000\n",
       "2016-02-04      0.000\n",
       "2016-02-05   8501.000\n",
       "2016-02-06      0.000\n",
       "2016-02-07      0.000\n",
       "2016-02-08   7110.000\n",
       "2016-02-09      0.000\n",
       "2016-02-10      0.000\n",
       "2016-02-11   9116.000\n",
       "2016-02-12      0.000\n",
       "2016-02-13      0.000\n",
       "2016-02-14      0.000\n",
       "2016-02-15   7373.000\n",
       "               ...   \n",
       "2016-02-21      0.000\n",
       "2016-02-22      0.000\n",
       "2016-02-23      0.000\n",
       "2016-02-24      0.000\n",
       "2016-02-25      0.000\n",
       "2016-02-26      0.000\n",
       "2016-02-27      0.000\n",
       "2016-02-28      0.000\n",
       "2016-02-29      0.000\n",
       "2016-03-01      0.000\n",
       "2016-03-02      0.000\n",
       "2016-03-03      0.000\n",
       "2016-03-04   9237.000\n",
       "2016-03-05      0.000\n",
       "2016-03-06      0.000\n",
       "2016-03-07      0.000\n",
       "2016-03-08      0.000\n",
       "2016-03-09      0.000\n",
       "2016-03-10      0.000\n",
       "2016-03-11      0.000\n",
       "2016-03-12      0.000\n",
       "2016-03-13      0.000\n",
       "2016-03-14      0.000\n",
       "2016-03-15      0.000\n",
       "2016-03-16      0.000\n",
       "2016-03-17      0.000\n",
       "2016-03-18      0.000\n",
       "2016-03-19      0.000\n",
       "2016-03-20   8199.000\n",
       "2016-03-21   7248.000\n",
       "Freq: D, Name: snowfall, Length: 65, dtype: float64"
      ]
     },
     "execution_count": 59,
     "metadata": {},
     "output_type": "execute_result"
    }
   ],
   "source": [
    "snowfall_trips.astype('float')"
   ]
  },
  {
   "cell_type": "markdown",
   "metadata": {},
   "source": [
    "#### Location of Pickups for Airport Trips"
   ]
  },
  {
   "cell_type": "code",
   "execution_count": 23,
   "metadata": {
    "collapsed": true
   },
   "outputs": [],
   "source": [
    "geometry = [Point(xy) for xy in zip(taxis['dropoff_longitude'], taxis['dropoff_latitude'])]\n",
    "crs = {'init': 'epsg:4269'}\n",
    "taxis_airport = gpd.GeoDataFrame(taxis, crs=crs, geometry=geometry)"
   ]
  },
  {
   "cell_type": "code",
   "execution_count": 24,
   "metadata": {
    "collapsed": true
   },
   "outputs": [],
   "source": [
    "taxis_airport = gpd.sjoin(nyc, taxis_airport , how='inner', op='intersects')"
   ]
  },
  {
   "cell_type": "code",
   "execution_count": 25,
   "metadata": {
    "collapsed": true
   },
   "outputs": [],
   "source": [
    "airport_trips = list(taxis_airport['Name'].apply(lambda x: x.endswith('Airport')))"
   ]
  },
  {
   "cell_type": "code",
   "execution_count": 26,
   "metadata": {
    "collapsed": true
   },
   "outputs": [],
   "source": [
    "taxis_airport = taxis_airport.loc[airport_trips]"
   ]
  },
  {
   "cell_type": "code",
   "execution_count": 27,
   "metadata": {
    "collapsed": true
   },
   "outputs": [],
   "source": [
    "taxis_airport = pd.DataFrame(taxis_airport).drop('geometry', axis=1)"
   ]
  },
  {
   "cell_type": "code",
   "execution_count": 28,
   "metadata": {
    "collapsed": true
   },
   "outputs": [],
   "source": [
    "geometry = [Point(xy) for xy in zip(taxis_airport['pickup_longitude'], taxis_airport['pickup_latitude'])]\n",
    "taxis_airport = gpd.GeoDataFrame(taxis_airport, crs={'init': 'epsg:4269'}, geometry=geometry)"
   ]
  },
  {
   "cell_type": "code",
   "execution_count": 32,
   "metadata": {
    "collapsed": true
   },
   "outputs": [],
   "source": [
    "taxis_airport = taxis_airport.drop('index_right', axis=1)"
   ]
  },
  {
   "cell_type": "code",
   "execution_count": 30,
   "metadata": {
    "collapsed": true
   },
   "outputs": [],
   "source": [
    "#Join geospatial data for pickup neighborhoods\n",
    "nyc2 = nyc\n",
    "nyc2.columns = ['pickup_county','pickup_city','pickup_neighborhood','geometry']"
   ]
  },
  {
   "cell_type": "code",
   "execution_count": 33,
   "metadata": {
    "collapsed": true,
    "scrolled": false
   },
   "outputs": [],
   "source": [
    "taxis_airport = gpd.sjoin(nyc2, taxis_airport, how='inner', op='intersects')"
   ]
  },
  {
   "cell_type": "markdown",
   "metadata": {},
   "source": [
    "A look at the top neighborhoods originating trips to the airports:"
   ]
  },
  {
   "cell_type": "code",
   "execution_count": 62,
   "metadata": {},
   "outputs": [
    {
     "data": {
      "text/html": [
       "<div>\n",
       "<style>\n",
       "    .dataframe thead tr:only-child th {\n",
       "        text-align: right;\n",
       "    }\n",
       "\n",
       "    .dataframe thead th {\n",
       "        text-align: left;\n",
       "    }\n",
       "\n",
       "    .dataframe tbody tr th {\n",
       "        vertical-align: top;\n",
       "    }\n",
       "</style>\n",
       "<table border=\"1\" class=\"dataframe\">\n",
       "  <thead>\n",
       "    <tr style=\"text-align: right;\">\n",
       "      <th></th>\n",
       "      <th>Name</th>\n",
       "    </tr>\n",
       "    <tr>\n",
       "      <th>pickup_neighborhood</th>\n",
       "      <th></th>\n",
       "    </tr>\n",
       "  </thead>\n",
       "  <tbody>\n",
       "    <tr>\n",
       "      <th>Midtown</th>\n",
       "      <td>1294</td>\n",
       "    </tr>\n",
       "    <tr>\n",
       "      <th>Upper East Side</th>\n",
       "      <td>593</td>\n",
       "    </tr>\n",
       "    <tr>\n",
       "      <th>Upper West Side</th>\n",
       "      <td>375</td>\n",
       "    </tr>\n",
       "    <tr>\n",
       "      <th>Flatiron District</th>\n",
       "      <td>360</td>\n",
       "    </tr>\n",
       "    <tr>\n",
       "      <th>John F. Kennedy International Airport</th>\n",
       "      <td>337</td>\n",
       "    </tr>\n",
       "    <tr>\n",
       "      <th>Garment District</th>\n",
       "      <td>305</td>\n",
       "    </tr>\n",
       "    <tr>\n",
       "      <th>Turtle Bay</th>\n",
       "      <td>262</td>\n",
       "    </tr>\n",
       "    <tr>\n",
       "      <th>Murray Hill</th>\n",
       "      <td>218</td>\n",
       "    </tr>\n",
       "    <tr>\n",
       "      <th>Financial District</th>\n",
       "      <td>197</td>\n",
       "    </tr>\n",
       "    <tr>\n",
       "      <th>Gramercy</th>\n",
       "      <td>187</td>\n",
       "    </tr>\n",
       "  </tbody>\n",
       "</table>\n",
       "</div>"
      ],
      "text/plain": [
       "                                       Name\n",
       "pickup_neighborhood                        \n",
       "Midtown                                1294\n",
       "Upper East Side                         593\n",
       "Upper West Side                         375\n",
       "Flatiron District                       360\n",
       "John F. Kennedy International Airport   337\n",
       "Garment District                        305\n",
       "Turtle Bay                              262\n",
       "Murray Hill                             218\n",
       "Financial District                      197\n",
       "Gramercy                                187"
      ]
     },
     "execution_count": 62,
     "metadata": {},
     "output_type": "execute_result"
    }
   ],
   "source": [
    "taxis_airport[['pickup_neighborhood','Name']].groupby('pickup_neighborhood').count().sort_values(by=['Name'], ascending=False).head(10)"
   ]
  },
  {
   "cell_type": "markdown",
   "metadata": {},
   "source": [
    "Midtown is the origin point for the most trips to the airports by far. To anyone who lives in New York, this may not come as a surprise since such a large number of tourists, business travelers and diplomats stay at hotels in midtown. Let's split the data into subsets for JFK and LaGuardia airports."
   ]
  },
  {
   "cell_type": "code",
   "execution_count": 56,
   "metadata": {
    "collapsed": true
   },
   "outputs": [],
   "source": [
    "taxis_lga = taxis_airport.loc[taxis_airport['Name'] == 'La Guardia Airport']\n",
    "taxis_jfk = taxis_airport.loc[taxis_airport['Name'] == 'John F. Kennedy International Airport']"
   ]
  },
  {
   "cell_type": "markdown",
   "metadata": {},
   "source": [
    "Here are the top neighborhoods originating trips to LaGuardia Airport:"
   ]
  },
  {
   "cell_type": "code",
   "execution_count": 61,
   "metadata": {},
   "outputs": [
    {
     "data": {
      "text/html": [
       "<div>\n",
       "<style>\n",
       "    .dataframe thead tr:only-child th {\n",
       "        text-align: right;\n",
       "    }\n",
       "\n",
       "    .dataframe thead th {\n",
       "        text-align: left;\n",
       "    }\n",
       "\n",
       "    .dataframe tbody tr th {\n",
       "        vertical-align: top;\n",
       "    }\n",
       "</style>\n",
       "<table border=\"1\" class=\"dataframe\">\n",
       "  <thead>\n",
       "    <tr style=\"text-align: right;\">\n",
       "      <th></th>\n",
       "      <th>Name</th>\n",
       "    </tr>\n",
       "    <tr>\n",
       "      <th>pickup_neighborhood</th>\n",
       "      <th></th>\n",
       "    </tr>\n",
       "  </thead>\n",
       "  <tbody>\n",
       "    <tr>\n",
       "      <th>Midtown</th>\n",
       "      <td>850</td>\n",
       "    </tr>\n",
       "    <tr>\n",
       "      <th>Upper East Side</th>\n",
       "      <td>379</td>\n",
       "    </tr>\n",
       "    <tr>\n",
       "      <th>Upper West Side</th>\n",
       "      <td>217</td>\n",
       "    </tr>\n",
       "    <tr>\n",
       "      <th>Flatiron District</th>\n",
       "      <td>210</td>\n",
       "    </tr>\n",
       "    <tr>\n",
       "      <th>Garment District</th>\n",
       "      <td>186</td>\n",
       "    </tr>\n",
       "    <tr>\n",
       "      <th>Turtle Bay</th>\n",
       "      <td>173</td>\n",
       "    </tr>\n",
       "    <tr>\n",
       "      <th>Murray Hill</th>\n",
       "      <td>141</td>\n",
       "    </tr>\n",
       "    <tr>\n",
       "      <th>La Guardia Airport</th>\n",
       "      <td>114</td>\n",
       "    </tr>\n",
       "    <tr>\n",
       "      <th>Financial District</th>\n",
       "      <td>114</td>\n",
       "    </tr>\n",
       "    <tr>\n",
       "      <th>Gramercy</th>\n",
       "      <td>103</td>\n",
       "    </tr>\n",
       "  </tbody>\n",
       "</table>\n",
       "</div>"
      ],
      "text/plain": [
       "                     Name\n",
       "pickup_neighborhood      \n",
       "Midtown               850\n",
       "Upper East Side       379\n",
       "Upper West Side       217\n",
       "Flatiron District     210\n",
       "Garment District      186\n",
       "Turtle Bay            173\n",
       "Murray Hill           141\n",
       "La Guardia Airport    114\n",
       "Financial District    114\n",
       "Gramercy              103"
      ]
     },
     "execution_count": 61,
     "metadata": {},
     "output_type": "execute_result"
    }
   ],
   "source": [
    "taxis_lga[['pickup_neighborhood','Name']].groupby('pickup_neighborhood').count().sort_values(by='Name', ascending=False).head(10)"
   ]
  },
  {
   "cell_type": "markdown",
   "metadata": {},
   "source": [
    "And the top neighborhoods going to JFK:"
   ]
  },
  {
   "cell_type": "code",
   "execution_count": 63,
   "metadata": {
    "scrolled": true
   },
   "outputs": [
    {
     "data": {
      "text/html": [
       "<div>\n",
       "<style>\n",
       "    .dataframe thead tr:only-child th {\n",
       "        text-align: right;\n",
       "    }\n",
       "\n",
       "    .dataframe thead th {\n",
       "        text-align: left;\n",
       "    }\n",
       "\n",
       "    .dataframe tbody tr th {\n",
       "        vertical-align: top;\n",
       "    }\n",
       "</style>\n",
       "<table border=\"1\" class=\"dataframe\">\n",
       "  <thead>\n",
       "    <tr style=\"text-align: right;\">\n",
       "      <th></th>\n",
       "      <th>Name</th>\n",
       "    </tr>\n",
       "    <tr>\n",
       "      <th>pickup_neighborhood</th>\n",
       "      <th></th>\n",
       "    </tr>\n",
       "  </thead>\n",
       "  <tbody>\n",
       "    <tr>\n",
       "      <th>Midtown</th>\n",
       "      <td>444</td>\n",
       "    </tr>\n",
       "    <tr>\n",
       "      <th>John F. Kennedy International Airport</th>\n",
       "      <td>272</td>\n",
       "    </tr>\n",
       "    <tr>\n",
       "      <th>Upper East Side</th>\n",
       "      <td>214</td>\n",
       "    </tr>\n",
       "    <tr>\n",
       "      <th>Upper West Side</th>\n",
       "      <td>158</td>\n",
       "    </tr>\n",
       "    <tr>\n",
       "      <th>Flatiron District</th>\n",
       "      <td>150</td>\n",
       "    </tr>\n",
       "    <tr>\n",
       "      <th>Garment District</th>\n",
       "      <td>119</td>\n",
       "    </tr>\n",
       "    <tr>\n",
       "      <th>Turtle Bay</th>\n",
       "      <td>89</td>\n",
       "    </tr>\n",
       "    <tr>\n",
       "      <th>Gramercy</th>\n",
       "      <td>84</td>\n",
       "    </tr>\n",
       "    <tr>\n",
       "      <th>Financial District</th>\n",
       "      <td>83</td>\n",
       "    </tr>\n",
       "    <tr>\n",
       "      <th>Murray Hill</th>\n",
       "      <td>77</td>\n",
       "    </tr>\n",
       "  </tbody>\n",
       "</table>\n",
       "</div>"
      ],
      "text/plain": [
       "                                       Name\n",
       "pickup_neighborhood                        \n",
       "Midtown                                 444\n",
       "John F. Kennedy International Airport   272\n",
       "Upper East Side                         214\n",
       "Upper West Side                         158\n",
       "Flatiron District                       150\n",
       "Garment District                        119\n",
       "Turtle Bay                               89\n",
       "Gramercy                                 84\n",
       "Financial District                       83\n",
       "Murray Hill                              77"
      ]
     },
     "execution_count": 63,
     "metadata": {},
     "output_type": "execute_result"
    }
   ],
   "source": [
    "taxis_jfk[['pickup_neighborhood','Name']].groupby('pickup_neighborhood').count().sort_values(by='Name', ascending=False).head(10)"
   ]
  },
  {
   "cell_type": "markdown",
   "metadata": {},
   "source": [
    "### Passenger Count"
   ]
  },
  {
   "cell_type": "code",
   "execution_count": 55,
   "metadata": {
    "collapsed": true
   },
   "outputs": [],
   "source": [
    "#Passenger count overall\n"
   ]
  },
  {
   "cell_type": "code",
   "execution_count": 56,
   "metadata": {
    "collapsed": true
   },
   "outputs": [],
   "source": [
    "#Passenger count on weekdays vs. weekends"
   ]
  }
 ],
 "metadata": {
  "kernelspec": {
   "display_name": "Python 3",
   "language": "python",
   "name": "python3"
  },
  "language_info": {
   "codemirror_mode": {
    "name": "ipython",
    "version": 3
   },
   "file_extension": ".py",
   "mimetype": "text/x-python",
   "name": "python",
   "nbconvert_exporter": "python",
   "pygments_lexer": "ipython3",
   "version": "3.6.2"
  }
 },
 "nbformat": 4,
 "nbformat_minor": 2
}
