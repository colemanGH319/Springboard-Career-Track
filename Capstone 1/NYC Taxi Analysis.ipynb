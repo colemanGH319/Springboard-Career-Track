{
 "cells": [
  {
   "cell_type": "code",
   "execution_count": 1,
   "metadata": {},
   "outputs": [
    {
     "data": {
      "text/html": [
       "<style>.container { width:100% !important; }</style>"
      ],
      "text/plain": [
       "<IPython.core.display.HTML object>"
      ]
     },
     "metadata": {},
     "output_type": "display_data"
    }
   ],
   "source": [
    "%matplotlib inline\n",
    "import matplotlib.pyplot as plt\n",
    "import pandas as pd\n",
    "import geopandas as gpd\n",
    "import numpy as np\n",
    "from shapely.geometry import Point\n",
    "\n",
    "\n",
    "from IPython.core.display import display, HTML\n",
    "display(HTML(\"<style>.container { width:100% !important; }</style>\"))\n",
    "\n",
    "#Display all columns instead of \"...\" truncation\n",
    "pd.options.display.max_columns = None\n",
    "\n",
    "#No scientific notation\n",
    "pd.set_option('display.float_format', lambda x: '%.3f' % x)\n",
    "\n",
    "#Set plot sizes\n",
    "plt.rcParams[\"figure.figsize\"] = 10, 10"
   ]
  },
  {
   "cell_type": "code",
   "execution_count": 2,
   "metadata": {
    "collapsed": true
   },
   "outputs": [],
   "source": [
    "#Read in taxi data\n",
    "taxis = pd.read_csv('nyc_taxi.csv')"
   ]
  },
  {
   "cell_type": "code",
   "execution_count": 3,
   "metadata": {
    "collapsed": true
   },
   "outputs": [],
   "source": [
    "#Read in geospatial data for New York\n",
    "ny_state = gpd.read_file('ZillowNeighborhoods-NY.shp')"
   ]
  },
  {
   "cell_type": "code",
   "execution_count": 4,
   "metadata": {},
   "outputs": [
    {
     "name": "stdout",
     "output_type": "stream",
     "text": [
      "<class 'geopandas.geodataframe.GeoDataFrame'>\n",
      "RangeIndex: 579 entries, 0 to 578\n",
      "Data columns (total 6 columns):\n",
      "State       579 non-null object\n",
      "County      579 non-null object\n",
      "City        579 non-null object\n",
      "Name        579 non-null object\n",
      "RegionID    579 non-null object\n",
      "geometry    579 non-null object\n",
      "dtypes: object(6)\n",
      "memory usage: 13.6+ KB\n",
      "None\n"
     ]
    }
   ],
   "source": [
    "print(ny_state.info())"
   ]
  },
  {
   "cell_type": "code",
   "execution_count": 5,
   "metadata": {},
   "outputs": [
    {
     "data": {
      "text/html": [
       "<div>\n",
       "<style>\n",
       "    .dataframe thead tr:only-child th {\n",
       "        text-align: right;\n",
       "    }\n",
       "\n",
       "    .dataframe thead th {\n",
       "        text-align: left;\n",
       "    }\n",
       "\n",
       "    .dataframe tbody tr th {\n",
       "        vertical-align: top;\n",
       "    }\n",
       "</style>\n",
       "<table border=\"1\" class=\"dataframe\">\n",
       "  <thead>\n",
       "    <tr style=\"text-align: right;\">\n",
       "      <th></th>\n",
       "      <th>State</th>\n",
       "      <th>County</th>\n",
       "      <th>City</th>\n",
       "      <th>Name</th>\n",
       "      <th>RegionID</th>\n",
       "      <th>geometry</th>\n",
       "    </tr>\n",
       "  </thead>\n",
       "  <tbody>\n",
       "    <tr>\n",
       "      <th>246</th>\n",
       "      <td>NY</td>\n",
       "      <td>New York</td>\n",
       "      <td>New York</td>\n",
       "      <td>Marble Hill</td>\n",
       "      <td>270880</td>\n",
       "      <td>POLYGON ((-73.91071526499991 40.87890143900006...</td>\n",
       "    </tr>\n",
       "    <tr>\n",
       "      <th>282</th>\n",
       "      <td>NY</td>\n",
       "      <td>Kings</td>\n",
       "      <td>New York</td>\n",
       "      <td>Vinegar Hill</td>\n",
       "      <td>270960</td>\n",
       "      <td>POLYGON ((-73.97901955399993 40.70666396400009...</td>\n",
       "    </tr>\n",
       "    <tr>\n",
       "      <th>310</th>\n",
       "      <td>NY</td>\n",
       "      <td>Bronx</td>\n",
       "      <td>New York</td>\n",
       "      <td>Rikers Island</td>\n",
       "      <td>270922</td>\n",
       "      <td>POLYGON ((-73.8865870059999 40.79891837000008,...</td>\n",
       "    </tr>\n",
       "    <tr>\n",
       "      <th>375</th>\n",
       "      <td>NY</td>\n",
       "      <td>New York</td>\n",
       "      <td>New York</td>\n",
       "      <td>Brooklyn Heights</td>\n",
       "      <td>403122</td>\n",
       "      <td>POLYGON ((-73.99610507599969 40.70422567500025...</td>\n",
       "    </tr>\n",
       "  </tbody>\n",
       "</table>\n",
       "</div>"
      ],
      "text/plain": [
       "    State    County      City              Name RegionID  \\\n",
       "246    NY  New York  New York       Marble Hill   270880   \n",
       "282    NY     Kings  New York      Vinegar Hill   270960   \n",
       "310    NY     Bronx  New York     Rikers Island   270922   \n",
       "375    NY  New York  New York  Brooklyn Heights   403122   \n",
       "\n",
       "                                              geometry  \n",
       "246  POLYGON ((-73.91071526499991 40.87890143900006...  \n",
       "282  POLYGON ((-73.97901955399993 40.70666396400009...  \n",
       "310  POLYGON ((-73.8865870059999 40.79891837000008,...  \n",
       "375  POLYGON ((-73.99610507599969 40.70422567500025...  "
      ]
     },
     "execution_count": 5,
     "metadata": {},
     "output_type": "execute_result"
    }
   ],
   "source": [
    "#Locate duplicate regions\n",
    "ny_state[ny_state['RegionID'].duplicated()]"
   ]
  },
  {
   "cell_type": "code",
   "execution_count": 6,
   "metadata": {},
   "outputs": [
    {
     "data": {
      "text/html": [
       "<div>\n",
       "<style>\n",
       "    .dataframe thead tr:only-child th {\n",
       "        text-align: right;\n",
       "    }\n",
       "\n",
       "    .dataframe thead th {\n",
       "        text-align: left;\n",
       "    }\n",
       "\n",
       "    .dataframe tbody tr th {\n",
       "        vertical-align: top;\n",
       "    }\n",
       "</style>\n",
       "<table border=\"1\" class=\"dataframe\">\n",
       "  <thead>\n",
       "    <tr style=\"text-align: right;\">\n",
       "      <th></th>\n",
       "      <th>State</th>\n",
       "      <th>County</th>\n",
       "      <th>City</th>\n",
       "      <th>Name</th>\n",
       "      <th>RegionID</th>\n",
       "      <th>geometry</th>\n",
       "    </tr>\n",
       "  </thead>\n",
       "  <tbody>\n",
       "    <tr>\n",
       "      <th>281</th>\n",
       "      <td>NY</td>\n",
       "      <td>New York</td>\n",
       "      <td>New York</td>\n",
       "      <td>Vinegar Hill</td>\n",
       "      <td>270960</td>\n",
       "      <td>POLYGON ((-73.97901955399993 40.70666396400009...</td>\n",
       "    </tr>\n",
       "    <tr>\n",
       "      <th>282</th>\n",
       "      <td>NY</td>\n",
       "      <td>Kings</td>\n",
       "      <td>New York</td>\n",
       "      <td>Vinegar Hill</td>\n",
       "      <td>270960</td>\n",
       "      <td>POLYGON ((-73.97901955399993 40.70666396400009...</td>\n",
       "    </tr>\n",
       "  </tbody>\n",
       "</table>\n",
       "</div>"
      ],
      "text/plain": [
       "    State    County      City          Name RegionID  \\\n",
       "281    NY  New York  New York  Vinegar Hill   270960   \n",
       "282    NY     Kings  New York  Vinegar Hill   270960   \n",
       "\n",
       "                                              geometry  \n",
       "281  POLYGON ((-73.97901955399993 40.70666396400009...  \n",
       "282  POLYGON ((-73.97901955399993 40.70666396400009...  "
      ]
     },
     "execution_count": 6,
     "metadata": {},
     "output_type": "execute_result"
    }
   ],
   "source": [
    "#Investigate one of the duplicate regions\n",
    "ny_state[ny_state['RegionID'] == '270960']"
   ]
  },
  {
   "cell_type": "code",
   "execution_count": 7,
   "metadata": {
    "collapsed": true
   },
   "outputs": [],
   "source": [
    "#Drop duplicate regions\n",
    "ny_state = ny_state.loc[ny_state['RegionID'].drop_duplicates().index]"
   ]
  },
  {
   "cell_type": "code",
   "execution_count": 8,
   "metadata": {},
   "outputs": [
    {
     "data": {
      "text/plain": [
       "1.0"
      ]
     },
     "execution_count": 8,
     "metadata": {},
     "output_type": "execute_result"
    }
   ],
   "source": [
    "#Check that all regions are unique (output should be 1)\n",
    "ny_state['RegionID'].nunique(dropna = True) / len(ny_state['RegionID'])"
   ]
  },
  {
   "cell_type": "code",
   "execution_count": 9,
   "metadata": {
    "collapsed": true
   },
   "outputs": [],
   "source": [
    "#Set index to region ID\n",
    "ny_state['RegionID'] = ny_state['RegionID'].astype('int')\n",
    "ny_state = ny_state.set_index(['RegionID'])\n",
    "ny_state = ny_state.sort_index()"
   ]
  },
  {
   "cell_type": "code",
   "execution_count": 10,
   "metadata": {
    "collapsed": true
   },
   "outputs": [],
   "source": [
    "#All data come from the same state, drop state column\n",
    "ny_state = ny_state.drop('State', axis=1)"
   ]
  },
  {
   "cell_type": "code",
   "execution_count": 11,
   "metadata": {
    "collapsed": true
   },
   "outputs": [],
   "source": [
    "#Convert columns to categoricals\n",
    "def convert_to_categorical(df, cols):\n",
    "    \"\"\"Locate columns with low number of unique values and convert them to categoricals\"\"\"\n",
    "    for col in cols:\n",
    "        unique_vals = len(df[col].unique())\n",
    "        unique_ratio = unique_vals / len(df[col])\n",
    "        if unique_ratio < 0.2:\n",
    "            df[col] = df[col].astype('category')\n",
    "    return df"
   ]
  },
  {
   "cell_type": "code",
   "execution_count": 12,
   "metadata": {},
   "outputs": [
    {
     "name": "stdout",
     "output_type": "stream",
     "text": [
      "['County', 'City', 'Name']\n"
     ]
    }
   ],
   "source": [
    "#List columns of ny_state Dataframe\n",
    "columns = list(ny_state.select_dtypes(include=['object']).columns.values)\n",
    "columns.remove('geometry')\n",
    "print(columns)"
   ]
  },
  {
   "cell_type": "code",
   "execution_count": 13,
   "metadata": {},
   "outputs": [
    {
     "data": {
      "text/html": [
       "<div>\n",
       "<style>\n",
       "    .dataframe thead tr:only-child th {\n",
       "        text-align: right;\n",
       "    }\n",
       "\n",
       "    .dataframe thead th {\n",
       "        text-align: left;\n",
       "    }\n",
       "\n",
       "    .dataframe tbody tr th {\n",
       "        vertical-align: top;\n",
       "    }\n",
       "</style>\n",
       "<table border=\"1\" class=\"dataframe\">\n",
       "  <thead>\n",
       "    <tr style=\"text-align: right;\">\n",
       "      <th></th>\n",
       "      <th>County</th>\n",
       "      <th>City</th>\n",
       "      <th>Name</th>\n",
       "      <th>geometry</th>\n",
       "    </tr>\n",
       "    <tr>\n",
       "      <th>RegionID</th>\n",
       "      <th></th>\n",
       "      <th></th>\n",
       "      <th></th>\n",
       "      <th></th>\n",
       "    </tr>\n",
       "  </thead>\n",
       "  <tbody>\n",
       "    <tr>\n",
       "      <th>3698</th>\n",
       "      <td>Wyoming</td>\n",
       "      <td>Eagle</td>\n",
       "      <td>Bliss</td>\n",
       "      <td>POLYGON ((-78.23548 42.603406, -78.235438 42.5...</td>\n",
       "    </tr>\n",
       "    <tr>\n",
       "      <th>3736</th>\n",
       "      <td>Suffolk</td>\n",
       "      <td>Town of Islip</td>\n",
       "      <td>Bohemia</td>\n",
       "      <td>POLYGON ((-73.14422599999978 40.78667100000015...</td>\n",
       "    </tr>\n",
       "    <tr>\n",
       "      <th>4083</th>\n",
       "      <td>Rockland</td>\n",
       "      <td>Ramapo</td>\n",
       "      <td>Chestnut Ridge</td>\n",
       "      <td>POLYGON ((-74.05993899999993 41.10123000000004...</td>\n",
       "    </tr>\n",
       "    <tr>\n",
       "      <th>4257</th>\n",
       "      <td>Westchester</td>\n",
       "      <td>Yorktown</td>\n",
       "      <td>Crompond</td>\n",
       "      <td>POLYGON ((-73.82453700000001 41.305756, -73.82...</td>\n",
       "    </tr>\n",
       "    <tr>\n",
       "      <th>4819</th>\n",
       "      <td>Queens</td>\n",
       "      <td>New York</td>\n",
       "      <td>Fresh Meadows</td>\n",
       "      <td>POLYGON ((-73.7699123773972 40.74150740314482,...</td>\n",
       "    </tr>\n",
       "    <tr>\n",
       "      <th>4982</th>\n",
       "      <td>Suffolk</td>\n",
       "      <td>Huntington</td>\n",
       "      <td>Greenlawn</td>\n",
       "      <td>POLYGON ((-73.35160499999995 40.87515100000007...</td>\n",
       "    </tr>\n",
       "    <tr>\n",
       "      <th>5061</th>\n",
       "      <td>Nassau</td>\n",
       "      <td>Great Neck</td>\n",
       "      <td>Harbor Hills</td>\n",
       "      <td>POLYGON ((-73.74329099999994 40.79097000000007...</td>\n",
       "    </tr>\n",
       "    <tr>\n",
       "      <th>5397</th>\n",
       "      <td>Nassau</td>\n",
       "      <td>Great Neck</td>\n",
       "      <td>Kensington</td>\n",
       "      <td>POLYGON ((-73.70949799999994 40.79300700000005...</td>\n",
       "    </tr>\n",
       "    <tr>\n",
       "      <th>5837</th>\n",
       "      <td>Queens</td>\n",
       "      <td>New York</td>\n",
       "      <td>Maspeth</td>\n",
       "      <td>POLYGON ((-73.8881191182047 40.73555656190326,...</td>\n",
       "    </tr>\n",
       "    <tr>\n",
       "      <th>6158</th>\n",
       "      <td>Rockland</td>\n",
       "      <td>Ramapo</td>\n",
       "      <td>New Hempstead</td>\n",
       "      <td>POLYGON ((-74.03410099999991 41.16842200000008...</td>\n",
       "    </tr>\n",
       "    <tr>\n",
       "      <th>6263</th>\n",
       "      <td>Rockland</td>\n",
       "      <td>Orangetown</td>\n",
       "      <td>Nyack</td>\n",
       "      <td>POLYGON ((-73.89377999999994 41.09329600000007...</td>\n",
       "    </tr>\n",
       "    <tr>\n",
       "      <th>6498</th>\n",
       "      <td>Rockland</td>\n",
       "      <td>Orangetown</td>\n",
       "      <td>Piermont</td>\n",
       "      <td>POLYGON ((-73.914281 41.051497, -73.8969512889...</td>\n",
       "    </tr>\n",
       "    <tr>\n",
       "      <th>6687</th>\n",
       "      <td>Albany</td>\n",
       "      <td>Town of Coeymans</td>\n",
       "      <td>Ravena</td>\n",
       "      <td>POLYGON ((-73.82263299999994 42.50202800000005...</td>\n",
       "    </tr>\n",
       "    <tr>\n",
       "      <th>6719</th>\n",
       "      <td>Queens</td>\n",
       "      <td>New York</td>\n",
       "      <td>Rego Park</td>\n",
       "      <td>POLYGON ((-73.85629999999999 40.72303000000012...</td>\n",
       "    </tr>\n",
       "    <tr>\n",
       "      <th>6912</th>\n",
       "      <td>Suffolk</td>\n",
       "      <td>Town of Islip</td>\n",
       "      <td>Saltaire</td>\n",
       "      <td>POLYGON ((-73.18890699999992 40.63929400000006...</td>\n",
       "    </tr>\n",
       "    <tr>\n",
       "      <th>7349</th>\n",
       "      <td>Rensselaer</td>\n",
       "      <td>Troy</td>\n",
       "      <td>Sycaway</td>\n",
       "      <td>POLYGON ((-73.65638001299999 42.72569154300004...</td>\n",
       "    </tr>\n",
       "    <tr>\n",
       "      <th>7536</th>\n",
       "      <td>Nassau</td>\n",
       "      <td>Great Neck</td>\n",
       "      <td>University Gardens</td>\n",
       "      <td>POLYGON ((-73.73071499999992 40.78230600000006...</td>\n",
       "    </tr>\n",
       "    <tr>\n",
       "      <th>7663</th>\n",
       "      <td>Rockland</td>\n",
       "      <td>Clarkstown</td>\n",
       "      <td>Valley Cottage</td>\n",
       "      <td>POLYGON ((-73.96113199999991 41.11734000000007...</td>\n",
       "    </tr>\n",
       "    <tr>\n",
       "      <th>8349</th>\n",
       "      <td>Queens</td>\n",
       "      <td>New York</td>\n",
       "      <td>College Point</td>\n",
       "      <td>POLYGON ((-73.83296769899994 40.78987896700005...</td>\n",
       "    </tr>\n",
       "    <tr>\n",
       "      <th>8449</th>\n",
       "      <td>Erie</td>\n",
       "      <td>Amherst</td>\n",
       "      <td>Eggertsville</td>\n",
       "      <td>POLYGON ((-78.79230843399995 42.97887192900004...</td>\n",
       "    </tr>\n",
       "    <tr>\n",
       "      <th>8731</th>\n",
       "      <td>Kings</td>\n",
       "      <td>New York</td>\n",
       "      <td>Fort Hamilton</td>\n",
       "      <td>POLYGON ((-74.02362999999993 40.61995000000007...</td>\n",
       "    </tr>\n",
       "    <tr>\n",
       "      <th>9545</th>\n",
       "      <td>Albany</td>\n",
       "      <td>Guilderland</td>\n",
       "      <td>Westmere</td>\n",
       "      <td>POLYGON ((-73.87197712899996 42.69915614600006...</td>\n",
       "    </tr>\n",
       "    <tr>\n",
       "      <th>10007</th>\n",
       "      <td>Queens</td>\n",
       "      <td>New York</td>\n",
       "      <td>Arverne</td>\n",
       "      <td>POLYGON ((-73.78523334099992 40.60271283400004...</td>\n",
       "    </tr>\n",
       "    <tr>\n",
       "      <th>10329</th>\n",
       "      <td>Queens</td>\n",
       "      <td>New York</td>\n",
       "      <td>Belle Harbor</td>\n",
       "      <td>POLYGON ((-73.85618223699993 40.56810940300005...</td>\n",
       "    </tr>\n",
       "    <tr>\n",
       "      <th>10562</th>\n",
       "      <td>Queens</td>\n",
       "      <td>New York</td>\n",
       "      <td>Broad Channel</td>\n",
       "      <td>POLYGON ((-73.81641929999995 40.61820489400009...</td>\n",
       "    </tr>\n",
       "    <tr>\n",
       "      <th>10768</th>\n",
       "      <td>Suffolk</td>\n",
       "      <td>Town of Islip</td>\n",
       "      <td>Central Islip</td>\n",
       "      <td>POLYGON ((-73.199122 40.805522, -73.197293 40....</td>\n",
       "    </tr>\n",
       "    <tr>\n",
       "      <th>10957</th>\n",
       "      <td>Queens</td>\n",
       "      <td>New York</td>\n",
       "      <td>Corona</td>\n",
       "      <td>POLYGON ((-73.85268336916212 40.74947637422606...</td>\n",
       "    </tr>\n",
       "    <tr>\n",
       "      <th>12390</th>\n",
       "      <td>Westchester</td>\n",
       "      <td>Somers</td>\n",
       "      <td>Lincolndale</td>\n",
       "      <td>POLYGON ((-73.73580899999996 41.34044500000005...</td>\n",
       "    </tr>\n",
       "    <tr>\n",
       "      <th>12514</th>\n",
       "      <td>Putnam</td>\n",
       "      <td>Carmel</td>\n",
       "      <td>Mahopac</td>\n",
       "      <td>POLYGON ((-73.71979868999995 41.34883013600006...</td>\n",
       "    </tr>\n",
       "    <tr>\n",
       "      <th>13356</th>\n",
       "      <td>Queens</td>\n",
       "      <td>New York</td>\n",
       "      <td>Pomonok</td>\n",
       "      <td>POLYGON ((-73.8046206487226 40.73842109479557,...</td>\n",
       "    </tr>\n",
       "    <tr>\n",
       "      <th>...</th>\n",
       "      <td>...</td>\n",
       "      <td>...</td>\n",
       "      <td>...</td>\n",
       "      <td>...</td>\n",
       "    </tr>\n",
       "    <tr>\n",
       "      <th>403225</th>\n",
       "      <td>Queens</td>\n",
       "      <td>New York</td>\n",
       "      <td>Floral park</td>\n",
       "      <td>POLYGON ((-73.71049999999991 40.72722700000008...</td>\n",
       "    </tr>\n",
       "    <tr>\n",
       "      <th>403226</th>\n",
       "      <td>Queens</td>\n",
       "      <td>New York</td>\n",
       "      <td>Bellerose</td>\n",
       "      <td>POLYGON ((-73.71682840699981 40.74205306800007...</td>\n",
       "    </tr>\n",
       "    <tr>\n",
       "      <th>403227</th>\n",
       "      <td>Queens</td>\n",
       "      <td>New York</td>\n",
       "      <td>Flushing Meadows Corona Park</td>\n",
       "      <td>POLYGON ((-73.83952692399987 40.76561027300009...</td>\n",
       "    </tr>\n",
       "    <tr>\n",
       "      <th>403228</th>\n",
       "      <td>Queens</td>\n",
       "      <td>New York</td>\n",
       "      <td>Hillcrest</td>\n",
       "      <td>POLYGON ((-73.79295606859223 40.72886376119212...</td>\n",
       "    </tr>\n",
       "    <tr>\n",
       "      <th>403229</th>\n",
       "      <td>Queens</td>\n",
       "      <td>New York</td>\n",
       "      <td>Jacob Riis Park</td>\n",
       "      <td>POLYGON ((-73.86450944399991 40.57002152700005...</td>\n",
       "    </tr>\n",
       "    <tr>\n",
       "      <th>417961</th>\n",
       "      <td>Queens</td>\n",
       "      <td>New York</td>\n",
       "      <td>East Jamaica Bay Islands</td>\n",
       "      <td>(POLYGON ((-73.82832598499994 40.5884237280000...</td>\n",
       "    </tr>\n",
       "    <tr>\n",
       "      <th>426284</th>\n",
       "      <td>Nassau</td>\n",
       "      <td>Great Neck</td>\n",
       "      <td>Great Neck Village</td>\n",
       "      <td>POLYGON ((-73.73598199999992 40.81196200000005...</td>\n",
       "    </tr>\n",
       "    <tr>\n",
       "      <th>698708</th>\n",
       "      <td>Westchester</td>\n",
       "      <td>Town of Mamaroneck</td>\n",
       "      <td>Stanford Hills</td>\n",
       "      <td>POLYGON ((-122.1984346339999 37.42225986900007...</td>\n",
       "    </tr>\n",
       "    <tr>\n",
       "      <th>760938</th>\n",
       "      <td>Schenectady</td>\n",
       "      <td>Schenectady</td>\n",
       "      <td>Central State Street</td>\n",
       "      <td>POLYGON ((-73.91397946399996 42.80508772800005...</td>\n",
       "    </tr>\n",
       "    <tr>\n",
       "      <th>760939</th>\n",
       "      <td>Schenectady</td>\n",
       "      <td>Schenectady</td>\n",
       "      <td>Stockade</td>\n",
       "      <td>POLYGON ((-73.94372443899994 42.81432098400006...</td>\n",
       "    </tr>\n",
       "    <tr>\n",
       "      <th>760940</th>\n",
       "      <td>Schenectady</td>\n",
       "      <td>Schenectady</td>\n",
       "      <td>Downtown</td>\n",
       "      <td>POLYGON ((-73.93800556699995 42.82161145700007...</td>\n",
       "    </tr>\n",
       "    <tr>\n",
       "      <th>760941</th>\n",
       "      <td>Schenectady</td>\n",
       "      <td>Schenectady</td>\n",
       "      <td>Eastern Avenue</td>\n",
       "      <td>POLYGON ((-73.91467988499994 42.80697241000007...</td>\n",
       "    </tr>\n",
       "    <tr>\n",
       "      <th>760942</th>\n",
       "      <td>Schenectady</td>\n",
       "      <td>Schenectady</td>\n",
       "      <td>Vale and Hamilton Hill</td>\n",
       "      <td>POLYGON ((-73.93038301199994 42.79828465500003...</td>\n",
       "    </tr>\n",
       "    <tr>\n",
       "      <th>760943</th>\n",
       "      <td>Schenectady</td>\n",
       "      <td>Schenectady</td>\n",
       "      <td>Mont Pleasant</td>\n",
       "      <td>POLYGON ((-73.93130504699997 42.79757979800007...</td>\n",
       "    </tr>\n",
       "    <tr>\n",
       "      <th>761208</th>\n",
       "      <td>Schenectady</td>\n",
       "      <td>Town of Niskayuna</td>\n",
       "      <td>Merlin Park</td>\n",
       "      <td>POLYGON ((-73.84944594299998 42.78090329500003...</td>\n",
       "    </tr>\n",
       "    <tr>\n",
       "      <th>762152</th>\n",
       "      <td>Schenectady</td>\n",
       "      <td>Schenectady</td>\n",
       "      <td>Union Street</td>\n",
       "      <td>POLYGON ((-73.91941467099997 42.81986491900005...</td>\n",
       "    </tr>\n",
       "    <tr>\n",
       "      <th>762572</th>\n",
       "      <td>Westchester</td>\n",
       "      <td>Mount Vernon</td>\n",
       "      <td>Mount Vernon Heights</td>\n",
       "      <td>POLYGON ((-73.81366300000001 40.910866, -73.81...</td>\n",
       "    </tr>\n",
       "    <tr>\n",
       "      <th>762573</th>\n",
       "      <td>Westchester</td>\n",
       "      <td>Mount Vernon</td>\n",
       "      <td>Downtown</td>\n",
       "      <td>POLYGON ((-73.82662737099997 40.91457648200003...</td>\n",
       "    </tr>\n",
       "    <tr>\n",
       "      <th>762884</th>\n",
       "      <td>Rensselaer</td>\n",
       "      <td>Troy</td>\n",
       "      <td>South Central</td>\n",
       "      <td>POLYGON ((-73.68388911399995 42.71904826000008...</td>\n",
       "    </tr>\n",
       "    <tr>\n",
       "      <th>762885</th>\n",
       "      <td>Rensselaer</td>\n",
       "      <td>Troy</td>\n",
       "      <td>Eastside</td>\n",
       "      <td>POLYGON ((-73.66770738299994 42.72242890300004...</td>\n",
       "    </tr>\n",
       "    <tr>\n",
       "      <th>762886</th>\n",
       "      <td>Rensselaer</td>\n",
       "      <td>Troy</td>\n",
       "      <td>Downtown</td>\n",
       "      <td>POLYGON ((-73.68164668099996 42.73964883200006...</td>\n",
       "    </tr>\n",
       "    <tr>\n",
       "      <th>762887</th>\n",
       "      <td>Rensselaer</td>\n",
       "      <td>Troy</td>\n",
       "      <td>North Central</td>\n",
       "      <td>POLYGON ((-73.67114710699997 42.75336103000006...</td>\n",
       "    </tr>\n",
       "    <tr>\n",
       "      <th>763522</th>\n",
       "      <td>Westchester</td>\n",
       "      <td>Yonkers</td>\n",
       "      <td>Nodine Hill</td>\n",
       "      <td>POLYGON ((-73.88603298099997 40.93929284700005...</td>\n",
       "    </tr>\n",
       "    <tr>\n",
       "      <th>763523</th>\n",
       "      <td>Westchester</td>\n",
       "      <td>Yonkers</td>\n",
       "      <td>Park Hill</td>\n",
       "      <td>POLYGON ((-73.88054474699999 40.92586225200006...</td>\n",
       "    </tr>\n",
       "    <tr>\n",
       "      <th>763524</th>\n",
       "      <td>Westchester</td>\n",
       "      <td>Yonkers</td>\n",
       "      <td>Getty Square</td>\n",
       "      <td>POLYGON ((-73.88603298099997 40.93929284700005...</td>\n",
       "    </tr>\n",
       "    <tr>\n",
       "      <th>763525</th>\n",
       "      <td>Westchester</td>\n",
       "      <td>Yonkers</td>\n",
       "      <td>Homefield</td>\n",
       "      <td>POLYGON ((-73.85997040899997 40.95995459500006...</td>\n",
       "    </tr>\n",
       "    <tr>\n",
       "      <th>764267</th>\n",
       "      <td>Albany</td>\n",
       "      <td>Albany</td>\n",
       "      <td>Hudson/Park</td>\n",
       "      <td>POLYGON ((-73.76180156299995 42.65156595100007...</td>\n",
       "    </tr>\n",
       "    <tr>\n",
       "      <th>764297</th>\n",
       "      <td>Schenectady</td>\n",
       "      <td>Schenectady</td>\n",
       "      <td>Northside</td>\n",
       "      <td>POLYGON ((-73.90486548599995 42.82604350400004...</td>\n",
       "    </tr>\n",
       "    <tr>\n",
       "      <th>764315</th>\n",
       "      <td>Schenectady</td>\n",
       "      <td>Town of Niskayuna</td>\n",
       "      <td>Old Niskayuna</td>\n",
       "      <td>POLYGON ((-73.88804564799995 42.85033648000007...</td>\n",
       "    </tr>\n",
       "    <tr>\n",
       "      <th>764316</th>\n",
       "      <td>Schenectady</td>\n",
       "      <td>Town of Niskayuna</td>\n",
       "      <td>Hexam Gardens</td>\n",
       "      <td>POLYGON ((-73.89304199999999 42.782689, -73.89...</td>\n",
       "    </tr>\n",
       "  </tbody>\n",
       "</table>\n",
       "<p>575 rows × 4 columns</p>\n",
       "</div>"
      ],
      "text/plain": [
       "               County                City                          Name  \\\n",
       "RegionID                                                                  \n",
       "3698          Wyoming               Eagle                         Bliss   \n",
       "3736          Suffolk       Town of Islip                       Bohemia   \n",
       "4083         Rockland              Ramapo                Chestnut Ridge   \n",
       "4257      Westchester            Yorktown                      Crompond   \n",
       "4819           Queens            New York                 Fresh Meadows   \n",
       "4982          Suffolk          Huntington                     Greenlawn   \n",
       "5061           Nassau          Great Neck                  Harbor Hills   \n",
       "5397           Nassau          Great Neck                    Kensington   \n",
       "5837           Queens            New York                       Maspeth   \n",
       "6158         Rockland              Ramapo                 New Hempstead   \n",
       "6263         Rockland          Orangetown                         Nyack   \n",
       "6498         Rockland          Orangetown                      Piermont   \n",
       "6687           Albany    Town of Coeymans                        Ravena   \n",
       "6719           Queens            New York                     Rego Park   \n",
       "6912          Suffolk       Town of Islip                      Saltaire   \n",
       "7349       Rensselaer                Troy                       Sycaway   \n",
       "7536           Nassau          Great Neck            University Gardens   \n",
       "7663         Rockland          Clarkstown                Valley Cottage   \n",
       "8349           Queens            New York                 College Point   \n",
       "8449             Erie             Amherst                  Eggertsville   \n",
       "8731            Kings            New York                 Fort Hamilton   \n",
       "9545           Albany         Guilderland                      Westmere   \n",
       "10007          Queens            New York                       Arverne   \n",
       "10329          Queens            New York                  Belle Harbor   \n",
       "10562          Queens            New York                 Broad Channel   \n",
       "10768         Suffolk       Town of Islip                 Central Islip   \n",
       "10957          Queens            New York                        Corona   \n",
       "12390     Westchester              Somers                   Lincolndale   \n",
       "12514          Putnam              Carmel                       Mahopac   \n",
       "13356          Queens            New York                       Pomonok   \n",
       "...               ...                 ...                           ...   \n",
       "403225         Queens            New York                   Floral park   \n",
       "403226         Queens            New York                     Bellerose   \n",
       "403227         Queens            New York  Flushing Meadows Corona Park   \n",
       "403228         Queens            New York                     Hillcrest   \n",
       "403229         Queens            New York               Jacob Riis Park   \n",
       "417961         Queens            New York      East Jamaica Bay Islands   \n",
       "426284         Nassau          Great Neck            Great Neck Village   \n",
       "698708    Westchester  Town of Mamaroneck                Stanford Hills   \n",
       "760938    Schenectady         Schenectady          Central State Street   \n",
       "760939    Schenectady         Schenectady                      Stockade   \n",
       "760940    Schenectady         Schenectady                      Downtown   \n",
       "760941    Schenectady         Schenectady                Eastern Avenue   \n",
       "760942    Schenectady         Schenectady        Vale and Hamilton Hill   \n",
       "760943    Schenectady         Schenectady                 Mont Pleasant   \n",
       "761208    Schenectady   Town of Niskayuna                   Merlin Park   \n",
       "762152    Schenectady         Schenectady                  Union Street   \n",
       "762572    Westchester        Mount Vernon          Mount Vernon Heights   \n",
       "762573    Westchester        Mount Vernon                      Downtown   \n",
       "762884     Rensselaer                Troy                 South Central   \n",
       "762885     Rensselaer                Troy                      Eastside   \n",
       "762886     Rensselaer                Troy                      Downtown   \n",
       "762887     Rensselaer                Troy                 North Central   \n",
       "763522    Westchester             Yonkers                   Nodine Hill   \n",
       "763523    Westchester             Yonkers                     Park Hill   \n",
       "763524    Westchester             Yonkers                  Getty Square   \n",
       "763525    Westchester             Yonkers                     Homefield   \n",
       "764267         Albany              Albany                   Hudson/Park   \n",
       "764297    Schenectady         Schenectady                     Northside   \n",
       "764315    Schenectady   Town of Niskayuna                 Old Niskayuna   \n",
       "764316    Schenectady   Town of Niskayuna                 Hexam Gardens   \n",
       "\n",
       "                                                   geometry  \n",
       "RegionID                                                     \n",
       "3698      POLYGON ((-78.23548 42.603406, -78.235438 42.5...  \n",
       "3736      POLYGON ((-73.14422599999978 40.78667100000015...  \n",
       "4083      POLYGON ((-74.05993899999993 41.10123000000004...  \n",
       "4257      POLYGON ((-73.82453700000001 41.305756, -73.82...  \n",
       "4819      POLYGON ((-73.7699123773972 40.74150740314482,...  \n",
       "4982      POLYGON ((-73.35160499999995 40.87515100000007...  \n",
       "5061      POLYGON ((-73.74329099999994 40.79097000000007...  \n",
       "5397      POLYGON ((-73.70949799999994 40.79300700000005...  \n",
       "5837      POLYGON ((-73.8881191182047 40.73555656190326,...  \n",
       "6158      POLYGON ((-74.03410099999991 41.16842200000008...  \n",
       "6263      POLYGON ((-73.89377999999994 41.09329600000007...  \n",
       "6498      POLYGON ((-73.914281 41.051497, -73.8969512889...  \n",
       "6687      POLYGON ((-73.82263299999994 42.50202800000005...  \n",
       "6719      POLYGON ((-73.85629999999999 40.72303000000012...  \n",
       "6912      POLYGON ((-73.18890699999992 40.63929400000006...  \n",
       "7349      POLYGON ((-73.65638001299999 42.72569154300004...  \n",
       "7536      POLYGON ((-73.73071499999992 40.78230600000006...  \n",
       "7663      POLYGON ((-73.96113199999991 41.11734000000007...  \n",
       "8349      POLYGON ((-73.83296769899994 40.78987896700005...  \n",
       "8449      POLYGON ((-78.79230843399995 42.97887192900004...  \n",
       "8731      POLYGON ((-74.02362999999993 40.61995000000007...  \n",
       "9545      POLYGON ((-73.87197712899996 42.69915614600006...  \n",
       "10007     POLYGON ((-73.78523334099992 40.60271283400004...  \n",
       "10329     POLYGON ((-73.85618223699993 40.56810940300005...  \n",
       "10562     POLYGON ((-73.81641929999995 40.61820489400009...  \n",
       "10768     POLYGON ((-73.199122 40.805522, -73.197293 40....  \n",
       "10957     POLYGON ((-73.85268336916212 40.74947637422606...  \n",
       "12390     POLYGON ((-73.73580899999996 41.34044500000005...  \n",
       "12514     POLYGON ((-73.71979868999995 41.34883013600006...  \n",
       "13356     POLYGON ((-73.8046206487226 40.73842109479557,...  \n",
       "...                                                     ...  \n",
       "403225    POLYGON ((-73.71049999999991 40.72722700000008...  \n",
       "403226    POLYGON ((-73.71682840699981 40.74205306800007...  \n",
       "403227    POLYGON ((-73.83952692399987 40.76561027300009...  \n",
       "403228    POLYGON ((-73.79295606859223 40.72886376119212...  \n",
       "403229    POLYGON ((-73.86450944399991 40.57002152700005...  \n",
       "417961    (POLYGON ((-73.82832598499994 40.5884237280000...  \n",
       "426284    POLYGON ((-73.73598199999992 40.81196200000005...  \n",
       "698708    POLYGON ((-122.1984346339999 37.42225986900007...  \n",
       "760938    POLYGON ((-73.91397946399996 42.80508772800005...  \n",
       "760939    POLYGON ((-73.94372443899994 42.81432098400006...  \n",
       "760940    POLYGON ((-73.93800556699995 42.82161145700007...  \n",
       "760941    POLYGON ((-73.91467988499994 42.80697241000007...  \n",
       "760942    POLYGON ((-73.93038301199994 42.79828465500003...  \n",
       "760943    POLYGON ((-73.93130504699997 42.79757979800007...  \n",
       "761208    POLYGON ((-73.84944594299998 42.78090329500003...  \n",
       "762152    POLYGON ((-73.91941467099997 42.81986491900005...  \n",
       "762572    POLYGON ((-73.81366300000001 40.910866, -73.81...  \n",
       "762573    POLYGON ((-73.82662737099997 40.91457648200003...  \n",
       "762884    POLYGON ((-73.68388911399995 42.71904826000008...  \n",
       "762885    POLYGON ((-73.66770738299994 42.72242890300004...  \n",
       "762886    POLYGON ((-73.68164668099996 42.73964883200006...  \n",
       "762887    POLYGON ((-73.67114710699997 42.75336103000006...  \n",
       "763522    POLYGON ((-73.88603298099997 40.93929284700005...  \n",
       "763523    POLYGON ((-73.88054474699999 40.92586225200006...  \n",
       "763524    POLYGON ((-73.88603298099997 40.93929284700005...  \n",
       "763525    POLYGON ((-73.85997040899997 40.95995459500006...  \n",
       "764267    POLYGON ((-73.76180156299995 42.65156595100007...  \n",
       "764297    POLYGON ((-73.90486548599995 42.82604350400004...  \n",
       "764315    POLYGON ((-73.88804564799995 42.85033648000007...  \n",
       "764316    POLYGON ((-73.89304199999999 42.782689, -73.89...  \n",
       "\n",
       "[575 rows x 4 columns]"
      ]
     },
     "execution_count": 13,
     "metadata": {},
     "output_type": "execute_result"
    }
   ],
   "source": [
    "#Convert columns to categoricals\n",
    "convert_to_categorical(ny_state, columns)"
   ]
  },
  {
   "cell_type": "code",
   "execution_count": 14,
   "metadata": {},
   "outputs": [
    {
     "name": "stdout",
     "output_type": "stream",
     "text": [
      "<class 'geopandas.geodataframe.GeoDataFrame'>\n",
      "Int64Index: 575 entries, 3698 to 764316\n",
      "Columns: 4 entries, County to geometry\n",
      "dtypes: category(2), object(2)\n",
      "memory usage: 12.3+ KB\n",
      "None\n"
     ]
    }
   ],
   "source": [
    "print(ny_state.info(verbose=False))"
   ]
  },
  {
   "cell_type": "code",
   "execution_count": 15,
   "metadata": {},
   "outputs": [
    {
     "data": {
      "text/html": [
       "<div>\n",
       "<style>\n",
       "    .dataframe thead tr:only-child th {\n",
       "        text-align: right;\n",
       "    }\n",
       "\n",
       "    .dataframe thead th {\n",
       "        text-align: left;\n",
       "    }\n",
       "\n",
       "    .dataframe tbody tr th {\n",
       "        vertical-align: top;\n",
       "    }\n",
       "</style>\n",
       "<table border=\"1\" class=\"dataframe\">\n",
       "  <thead>\n",
       "    <tr style=\"text-align: right;\">\n",
       "      <th></th>\n",
       "      <th>County</th>\n",
       "      <th>City</th>\n",
       "      <th>Name</th>\n",
       "    </tr>\n",
       "  </thead>\n",
       "  <tbody>\n",
       "    <tr>\n",
       "      <th>count</th>\n",
       "      <td>575</td>\n",
       "      <td>575</td>\n",
       "      <td>575</td>\n",
       "    </tr>\n",
       "    <tr>\n",
       "      <th>unique</th>\n",
       "      <td>24</td>\n",
       "      <td>50</td>\n",
       "      <td>558</td>\n",
       "    </tr>\n",
       "    <tr>\n",
       "      <th>top</th>\n",
       "      <td>Queens</td>\n",
       "      <td>New York</td>\n",
       "      <td>Downtown</td>\n",
       "    </tr>\n",
       "    <tr>\n",
       "      <th>freq</th>\n",
       "      <td>70</td>\n",
       "      <td>274</td>\n",
       "      <td>5</td>\n",
       "    </tr>\n",
       "  </tbody>\n",
       "</table>\n",
       "</div>"
      ],
      "text/plain": [
       "        County      City      Name\n",
       "count      575       575       575\n",
       "unique      24        50       558\n",
       "top     Queens  New York  Downtown\n",
       "freq        70       274         5"
      ]
     },
     "execution_count": 15,
     "metadata": {},
     "output_type": "execute_result"
    }
   ],
   "source": [
    "ny_state.drop('geometry', axis=1).describe()"
   ]
  },
  {
   "cell_type": "code",
   "execution_count": 16,
   "metadata": {},
   "outputs": [
    {
     "data": {
      "text/plain": [
       "(274, 4)"
      ]
     },
     "execution_count": 16,
     "metadata": {},
     "output_type": "execute_result"
    }
   ],
   "source": [
    "nyc = ny_state.loc[ny_state['City'] == 'New York']\n",
    "nyc.shape"
   ]
  },
  {
   "cell_type": "code",
   "execution_count": 17,
   "metadata": {},
   "outputs": [
    {
     "name": "stdout",
     "output_type": "stream",
     "text": [
      "<class 'pandas.core.frame.DataFrame'>\n",
      "RangeIndex: 291372 entries, 0 to 291371\n",
      "Data columns (total 28 columns):\n",
      "Unnamed: 0           291372 non-null int64\n",
      "pickup_datetime      291372 non-null object\n",
      "dropoff_datetime     291372 non-null object\n",
      "passenger_count      291372 non-null int64\n",
      "pickup_longitude     291372 non-null float64\n",
      "pickup_latitude      291372 non-null float64\n",
      "dropoff_longitude    291372 non-null float64\n",
      "dropoff_latitude     291372 non-null float64\n",
      "trip_duration        291372 non-null int64\n",
      "date                 291372 non-null object\n",
      "station_num          291372 non-null object\n",
      "station_name         291372 non-null object\n",
      "station_latitude     291372 non-null float64\n",
      "station_longitude    291372 non-null float64\n",
      "average_wind         291372 non-null float64\n",
      "precipitation        291372 non-null float64\n",
      "snowfall             291372 non-null float64\n",
      "snow_depth           291372 non-null float64\n",
      "avg_temp             291372 non-null float64\n",
      "max_temp             291372 non-null float64\n",
      "min_temp             291372 non-null float64\n",
      "fog                  291372 non-null bool\n",
      "fog_heavy            291372 non-null bool\n",
      "thunder              291372 non-null bool\n",
      "ice_pellets          291372 non-null bool\n",
      "glaze                291372 non-null bool\n",
      "smoke_haze           291372 non-null bool\n",
      "blowing_snow         291372 non-null bool\n",
      "dtypes: bool(7), float64(13), int64(3), object(5)\n",
      "memory usage: 43.1+ MB\n"
     ]
    }
   ],
   "source": [
    "taxis.info()"
   ]
  },
  {
   "cell_type": "code",
   "execution_count": 18,
   "metadata": {
    "collapsed": true
   },
   "outputs": [],
   "source": [
    "#Remove column that stores duplicate index\n",
    "taxis = taxis.iloc[:,1:]"
   ]
  },
  {
   "cell_type": "code",
   "execution_count": 19,
   "metadata": {
    "collapsed": true
   },
   "outputs": [],
   "source": [
    "#Set index to datetime of pickup\n",
    "taxis['pickup_datetime'] = pd.to_datetime(taxis['pickup_datetime'])\n",
    "datetime_ind = list(taxis['pickup_datetime'])\n",
    "taxis.index = datetime_ind\n",
    "#Set drop off to datetime\n",
    "taxis['dropoff_datetime'] = pd.to_datetime(taxis['dropoff_datetime'])"
   ]
  },
  {
   "cell_type": "code",
   "execution_count": 20,
   "metadata": {
    "collapsed": true
   },
   "outputs": [],
   "source": [
    "#While we're at it, pair the datetimes with their respective days of the week\n",
    "day_of_week = [x.weekday() for x in datetime_ind]\n",
    "taxis['day_of_week'] = day_of_week"
   ]
  },
  {
   "cell_type": "code",
   "execution_count": 21,
   "metadata": {
    "collapsed": true
   },
   "outputs": [],
   "source": [
    "#Create a separate column with the names of the weekdays in case they're needed later\n",
    "weekday_dict = {0: 'Monday',\n",
    "               1: 'Tuesday',\n",
    "               2: 'Wednesday',\n",
    "               3: 'Thursday',\n",
    "               4: 'Friday',\n",
    "               5: 'Saturday',\n",
    "               6: 'Sunday'}\n",
    "taxis['weekday_name'] = taxis['day_of_week'].map(weekday_dict)"
   ]
  },
  {
   "cell_type": "code",
   "execution_count": 22,
   "metadata": {
    "collapsed": true
   },
   "outputs": [],
   "source": [
    "#Change days of week to categoricals\n",
    "taxis['day_of_week'] = taxis['day_of_week'].astype('category').cat.as_ordered()\n",
    "taxis['weekday_name'] = taxis['weekday_name'].astype('category')"
   ]
  },
  {
   "cell_type": "code",
   "execution_count": 23,
   "metadata": {
    "collapsed": true
   },
   "outputs": [],
   "source": [
    "#Convert taxis dataframe to geodataframe for plotting\n",
    "geometry = [Point(xy) for xy in zip(taxis['pickup_longitude'], taxis['pickup_latitude'])]\n",
    "crs = {'init': 'epsg:4269'}\n",
    "taxis_geo = gpd.GeoDataFrame(taxis, crs=crs, geometry=geometry)"
   ]
  },
  {
   "cell_type": "code",
   "execution_count": null,
   "metadata": {
    "collapsed": true
   },
   "outputs": [],
   "source": [
    "pickup_geometry = [Point(xy) for xy in zip(taxis['pickup_longitude'], taxis['pickup_latitude'])]\n",
    "dropoff_geometry = [Point(xy) for xy in zip(taxis['dropoff_longitude'], taxis['dropoff_latitude'])]\n"
   ]
  },
  {
   "cell_type": "code",
   "execution_count": 24,
   "metadata": {
    "collapsed": true
   },
   "outputs": [],
   "source": [
    "xmin = -74.3\n",
    "xmax = -73.72\n",
    "ymin = 40.47\n",
    "ymax = 40.92"
   ]
  },
  {
   "cell_type": "code",
   "execution_count": 25,
   "metadata": {},
   "outputs": [
    {
     "data": {
      "image/png": "[encoded data removed]",
      "text/plain": [
       "<matplotlib.figure.Figure at 0x17bdb630>"
      ]
     },
     "metadata": {},
     "output_type": "display_data"
    }
   ],
   "source": [
    "taxis_geo.plot(ax=nyc.plot(facecolor='gray'))\n",
    "plt.axis([xmin, xmax, ymin, ymax])\n",
    "plt.show()"
   ]
  },
  {
   "cell_type": "markdown",
   "metadata": {},
   "source": [
    "We can see that the pickup coordinates may not always be 100% accurate, since some of them appear to be in areas where there is no land. The area directly west of Manhattan and north of Staten Island is where New Jersey would be, so some pickups are being made out there as well."
   ]
  },
  {
   "cell_type": "markdown",
   "metadata": {},
   "source": [
    "### Frequency Analysis"
   ]
  },
  {
   "cell_type": "code",
   "execution_count": 26,
   "metadata": {
    "collapsed": true
   },
   "outputs": [],
   "source": [
    "nyc_taxi = gpd.sjoin(nyc, taxis_geo, how='inner', op='intersects')"
   ]
  },
  {
   "cell_type": "code",
   "execution_count": 27,
   "metadata": {
    "collapsed": true
   },
   "outputs": [],
   "source": [
    "nyc_dict = dict(zip(nyc['Name'], nyc['geometry']))\n",
    "nyc_count = nyc_taxi[['Name','trip_duration']].groupby('Name').count().reset_index()\n",
    "nyc_count = gpd.GeoDataFrame(nyc_count, crs={'init': 'epsg:4269'}, geometry=nyc_count['Name'].map(nyc_dict))\n",
    "nyc_count.columns = ['Name','count','geometry']"
   ]
  },
  {
   "cell_type": "code",
   "execution_count": 28,
   "metadata": {},
   "outputs": [
    {
     "data": {
      "image/png": "[encoded data removed]",
      "text/plain": [
       "<matplotlib.figure.Figure at 0x1a0abaf0>"
      ]
     },
     "metadata": {},
     "output_type": "display_data"
    }
   ],
   "source": [
    "import matplotlib.colors as colors\n",
    "style='autumn'\n",
    "vmin, vmax = nyc_count['count'].min(), nyc_count['count'].max()\n",
    "ax = nyc_count.plot(column='count', cmap=style, norm=colors.LogNorm(vmin=vmin, vmax=vmax))\n",
    "fig = ax.get_figure()\n",
    "plt.title('Number of Pickups by Neighborhood', {'fontsize': 18})\n",
    "cax = fig.add_axes([0.9, 0.1, 0.03, 0.8])\n",
    "sm = plt.cm.ScalarMappable(cmap=style, norm=colors.LogNorm(vmin=vmin, vmax=vmax))\n",
    "sm._A = []\n",
    "cbar = fig.colorbar(sm, cax=cax)\n",
    "plt.show()"
   ]
  },
  {
   "cell_type": "markdown",
   "metadata": {},
   "source": [
    "The logarithmic-scaled heatmap above displays only neighborhoods that had at least one pickup between 1/1/16 and 6/30/16. In general, we see that most cabs are picking up passengers in Manhattan, with a large number of pickups also occurring at JFK and LaGuardia Airports. Some neighborhoods in North Brooklyn and Western Queens see a moderate number of pickups as well."
   ]
  },
  {
   "cell_type": "markdown",
   "metadata": {},
   "source": [
    "### Map Drop Off Locations"
   ]
  },
  {
   "cell_type": "code",
   "execution_count": 29,
   "metadata": {
    "collapsed": true
   },
   "outputs": [],
   "source": [
    "taxis_drop = taxis[['trip_duration','dropoff_longitude','dropoff_latitude']]"
   ]
  },
  {
   "cell_type": "code",
   "execution_count": 30,
   "metadata": {
    "collapsed": true
   },
   "outputs": [],
   "source": [
    "geometry = [Point(xy) for xy in zip(taxis['dropoff_longitude'], taxis['dropoff_latitude'])]\n",
    "crs = {'init': 'epsg:4269'}\n",
    "taxis_geo_drop = gpd.GeoDataFrame(taxis_drop, crs=crs, geometry=geometry)"
   ]
  },
  {
   "cell_type": "code",
   "execution_count": 31,
   "metadata": {
    "collapsed": true
   },
   "outputs": [],
   "source": [
    "taxis_drop_sliced = taxis_geo_drop[['trip_duration','geometry']]\n",
    "nyc_taxi_dropoffs = gpd.sjoin(nyc, taxis_drop_sliced, how='inner', op='intersects')"
   ]
  },
  {
   "cell_type": "code",
   "execution_count": 32,
   "metadata": {
    "collapsed": true
   },
   "outputs": [],
   "source": [
    "#Use same dictionary from previous plot\n",
    "nyc_drop_count = nyc_taxi_dropoffs[['Name','trip_duration']].groupby('Name').count().reset_index()\n",
    "nyc_drop_count = gpd.GeoDataFrame(nyc_drop_count, crs={'init': 'epsg:4269'}, geometry=nyc_drop_count['Name'].map(nyc_dict))\n",
    "nyc_drop_count.columns = ['Name','count','geometry']"
   ]
  },
  {
   "cell_type": "code",
   "execution_count": 33,
   "metadata": {},
   "outputs": [
    {
     "data": {
      "image/png": "[encoded data removed]",
      "text/plain": [
       "<matplotlib.figure.Figure at 0x2482e290>"
      ]
     },
     "metadata": {},
     "output_type": "display_data"
    }
   ],
   "source": [
    "vmin, vmax = nyc_drop_count['count'].min(), nyc_drop_count['count'].max()\n",
    "ax = nyc_drop_count.plot(column='count', cmap=style, norm=colors.LogNorm(vmin=vmin, vmax=vmax))\n",
    "fig = ax.get_figure()\n",
    "plt.title('Number of Dropoffs by Neighborhood', {'fontsize': 18})\n",
    "cax = fig.add_axes([0.9, 0.1, 0.03, 0.8])\n",
    "sm = plt.cm.ScalarMappable(cmap=style, norm=colors.LogNorm(vmin=vmin, vmax=vmax))\n",
    "sm._A = []\n",
    "cbar = fig.colorbar(sm, cax=cax)\n",
    "plt.show()"
   ]
  },
  {
   "cell_type": "markdown",
   "metadata": {},
   "source": [
    "The dropoffs appear to be more spread out than the pickups, as some neighborhoods in the outer boroughs appear lighter in this plot. Additionally, there are neighborhoods in Staten Island and Far Rockaway that appear on this plot because they recorded dropoffs, but do not appear in the previous plot since they recorded no pickups. This means that passengers are hailing cabs in more centrally located parts of the city and taking them to outlying neighborhoods and then cabs are immediately returning to the more centrally located places without passengers."
   ]
  },
  {
   "cell_type": "code",
   "execution_count": 34,
   "metadata": {
    "collapsed": true
   },
   "outputs": [],
   "source": [
    "#Take monthly count of data\n",
    "monthly_count = taxis['pickup_datetime'].resample('M').count()\n",
    "months = monthly_count.index\n",
    "month_labels = months.strftime('%b')"
   ]
  },
  {
   "cell_type": "code",
   "execution_count": 35,
   "metadata": {
    "scrolled": true
   },
   "outputs": [
    {
     "data": {
      "image/png": "[encoded data removed]",
      "text/plain": [
       "<matplotlib.figure.Figure at 0x24fcc5f0>"
      ]
     },
     "metadata": {},
     "output_type": "display_data"
    }
   ],
   "source": [
    "plt.plot(monthly_count)\n",
    "plt.xticks(months, month_labels)\n",
    "plt.xlabel('Month')\n",
    "plt.ylabel('Total Trips')\n",
    "plt.title('Total Yellow Cab Trips by Month')\n",
    "plt.show()"
   ]
  },
  {
   "cell_type": "markdown",
   "metadata": {},
   "source": [
    "The total trip count is lowest in January and highest in March, however this graph isn't very helpful since the number of days in each month varies."
   ]
  },
  {
   "cell_type": "code",
   "execution_count": 36,
   "metadata": {
    "collapsed": true
   },
   "outputs": [],
   "source": [
    "#Take daily count of data\n",
    "daily_trips = taxis['pickup_datetime'].resample('D').count()"
   ]
  },
  {
   "cell_type": "code",
   "execution_count": 37,
   "metadata": {
    "collapsed": true
   },
   "outputs": [],
   "source": [
    "#Rolling 7-day average\n",
    "smoothed_7d = daily_trips.rolling(window=7).mean()\n",
    "#Rolling 30-day average\n",
    "smoothed_30d = daily_trips.rolling(window=30).mean()"
   ]
  },
  {
   "cell_type": "code",
   "execution_count": 38,
   "metadata": {},
   "outputs": [
    {
     "data": {
      "image/png": "[encoded data removed]",
      "text/plain": [
       "<matplotlib.figure.Figure at 0x1fa99d10>"
      ]
     },
     "metadata": {},
     "output_type": "display_data"
    }
   ],
   "source": [
    "#Plot daily taxi trips with moving averages\n",
    "plot1, = plt.plot(daily_trips, color='red')\n",
    "plot2, = plt.plot(smoothed_7d, color='blue')\n",
    "plot3, = plt.plot(smoothed_30d, color='green')\n",
    "plt.xlabel('Month')\n",
    "plt.ylabel('Total Daily Trips')\n",
    "plt.title('Daily Taxi Trips')\n",
    "plt.legend([plot1, plot2, plot3], ['Daily Trips','Rolling 7D Avg','Rolling 30D Avg'], loc='lower right')\n",
    "plt.show()"
   ]
  },
  {
   "cell_type": "markdown",
   "metadata": {},
   "source": [
    "Looking at the 30-day rolling average, it appears that demand for taxis is pretty steady but is slightly higher in March and April. The daily trip count shows us that the number of trips sees peaks and valleys on a weekly basis, most likely peaking on Friday or Saturday. Also, we see that taxi demand was unusually low one day in January and one day in late May. These outliers are investigated below."
   ]
  },
  {
   "cell_type": "code",
   "execution_count": 39,
   "metadata": {},
   "outputs": [
    {
     "data": {
      "text/plain": [
       "index_right\n",
       "2016-01-01    1385\n",
       "2016-01-02    1321\n",
       "2016-01-03    1259\n",
       "2016-01-04    1346\n",
       "2016-01-05    1447\n",
       "2016-01-06    1465\n",
       "2016-01-07    1572\n",
       "2016-01-08    1676\n",
       "2016-01-09    1816\n",
       "2016-01-10    1504\n",
       "2016-01-11    1382\n",
       "2016-01-12    1584\n",
       "2016-01-13    1641\n",
       "2016-01-14    1624\n",
       "2016-01-15    1738\n",
       "2016-01-16    1673\n",
       "2016-01-17    1535\n",
       "2016-01-18    1406\n",
       "2016-01-19    1592\n",
       "2016-01-20    1493\n",
       "2016-01-21    1667\n",
       "2016-01-22    1732\n",
       "2016-01-23     321\n",
       "2016-01-24     667\n",
       "2016-01-25    1203\n",
       "2016-01-26    1309\n",
       "2016-01-27    1502\n",
       "2016-01-28    1654\n",
       "2016-01-29    1822\n",
       "2016-01-30    1816\n",
       "2016-01-31    1479\n",
       "Freq: D, Name: pickup_datetime, dtype: int64"
      ]
     },
     "execution_count": 39,
     "metadata": {},
     "output_type": "execute_result"
    }
   ],
   "source": [
    "#Find outlier in January\n",
    "daily_trips.loc['2016-01']"
   ]
  },
  {
   "cell_type": "code",
   "execution_count": 40,
   "metadata": {},
   "outputs": [
    {
     "data": {
      "text/html": [
       "<div>\n",
       "<style>\n",
       "    .dataframe thead tr:only-child th {\n",
       "        text-align: right;\n",
       "    }\n",
       "\n",
       "    .dataframe thead th {\n",
       "        text-align: left;\n",
       "    }\n",
       "\n",
       "    .dataframe tbody tr th {\n",
       "        vertical-align: top;\n",
       "    }\n",
       "</style>\n",
       "<table border=\"1\" class=\"dataframe\">\n",
       "  <thead>\n",
       "    <tr style=\"text-align: right;\">\n",
       "      <th></th>\n",
       "      <th>station_longitude</th>\n",
       "      <th>average_wind</th>\n",
       "      <th>precipitation</th>\n",
       "      <th>snowfall</th>\n",
       "      <th>snow_depth</th>\n",
       "      <th>avg_temp</th>\n",
       "      <th>max_temp</th>\n",
       "      <th>min_temp</th>\n",
       "      <th>fog</th>\n",
       "      <th>fog_heavy</th>\n",
       "      <th>thunder</th>\n",
       "      <th>ice_pellets</th>\n",
       "      <th>glaze</th>\n",
       "      <th>smoke_haze</th>\n",
       "      <th>blowing_snow</th>\n",
       "      <th>day_of_week</th>\n",
       "      <th>weekday_name</th>\n",
       "      <th>geometry</th>\n",
       "    </tr>\n",
       "    <tr>\n",
       "      <th>index_right</th>\n",
       "      <th></th>\n",
       "      <th></th>\n",
       "      <th></th>\n",
       "      <th></th>\n",
       "      <th></th>\n",
       "      <th></th>\n",
       "      <th></th>\n",
       "      <th></th>\n",
       "      <th></th>\n",
       "      <th></th>\n",
       "      <th></th>\n",
       "      <th></th>\n",
       "      <th></th>\n",
       "      <th></th>\n",
       "      <th></th>\n",
       "      <th></th>\n",
       "      <th></th>\n",
       "      <th></th>\n",
       "    </tr>\n",
       "  </thead>\n",
       "  <tbody>\n",
       "    <tr>\n",
       "      <th>2016-01-23 01:16:58</th>\n",
       "      <td>-73.880</td>\n",
       "      <td>24.160</td>\n",
       "      <td>2.400</td>\n",
       "      <td>27.900</td>\n",
       "      <td>7.000</td>\n",
       "      <td>28.000</td>\n",
       "      <td>28.000</td>\n",
       "      <td>25.000</td>\n",
       "      <td>True</td>\n",
       "      <td>True</td>\n",
       "      <td>False</td>\n",
       "      <td>False</td>\n",
       "      <td>False</td>\n",
       "      <td>False</td>\n",
       "      <td>True</td>\n",
       "      <td>5</td>\n",
       "      <td>Saturday</td>\n",
       "      <td>POINT (-74.00491333007811 40.72830963134766)</td>\n",
       "    </tr>\n",
       "    <tr>\n",
       "      <th>2016-01-23 00:19:01</th>\n",
       "      <td>-73.880</td>\n",
       "      <td>24.160</td>\n",
       "      <td>2.400</td>\n",
       "      <td>27.900</td>\n",
       "      <td>7.000</td>\n",
       "      <td>28.000</td>\n",
       "      <td>28.000</td>\n",
       "      <td>25.000</td>\n",
       "      <td>True</td>\n",
       "      <td>True</td>\n",
       "      <td>False</td>\n",
       "      <td>False</td>\n",
       "      <td>False</td>\n",
       "      <td>False</td>\n",
       "      <td>True</td>\n",
       "      <td>5</td>\n",
       "      <td>Saturday</td>\n",
       "      <td>POINT (-73.99310302734375 40.69293975830078)</td>\n",
       "    </tr>\n",
       "    <tr>\n",
       "      <th>2016-01-23 00:56:53</th>\n",
       "      <td>-73.880</td>\n",
       "      <td>24.160</td>\n",
       "      <td>2.400</td>\n",
       "      <td>27.900</td>\n",
       "      <td>7.000</td>\n",
       "      <td>28.000</td>\n",
       "      <td>28.000</td>\n",
       "      <td>25.000</td>\n",
       "      <td>True</td>\n",
       "      <td>True</td>\n",
       "      <td>False</td>\n",
       "      <td>False</td>\n",
       "      <td>False</td>\n",
       "      <td>False</td>\n",
       "      <td>True</td>\n",
       "      <td>5</td>\n",
       "      <td>Saturday</td>\n",
       "      <td>POINT (-73.98740386962891 40.74761581420898)</td>\n",
       "    </tr>\n",
       "    <tr>\n",
       "      <th>2016-01-23 01:42:47</th>\n",
       "      <td>-73.880</td>\n",
       "      <td>24.160</td>\n",
       "      <td>2.400</td>\n",
       "      <td>27.900</td>\n",
       "      <td>7.000</td>\n",
       "      <td>28.000</td>\n",
       "      <td>28.000</td>\n",
       "      <td>25.000</td>\n",
       "      <td>True</td>\n",
       "      <td>True</td>\n",
       "      <td>False</td>\n",
       "      <td>False</td>\n",
       "      <td>False</td>\n",
       "      <td>False</td>\n",
       "      <td>True</td>\n",
       "      <td>5</td>\n",
       "      <td>Saturday</td>\n",
       "      <td>POINT (-73.97232055664063 40.75915145874024)</td>\n",
       "    </tr>\n",
       "    <tr>\n",
       "      <th>2016-01-23 03:39:30</th>\n",
       "      <td>-73.880</td>\n",
       "      <td>24.160</td>\n",
       "      <td>2.400</td>\n",
       "      <td>27.900</td>\n",
       "      <td>7.000</td>\n",
       "      <td>28.000</td>\n",
       "      <td>28.000</td>\n",
       "      <td>25.000</td>\n",
       "      <td>True</td>\n",
       "      <td>True</td>\n",
       "      <td>False</td>\n",
       "      <td>False</td>\n",
       "      <td>False</td>\n",
       "      <td>False</td>\n",
       "      <td>True</td>\n",
       "      <td>5</td>\n",
       "      <td>Saturday</td>\n",
       "      <td>POINT (-73.98978424072266 40.72913360595703)</td>\n",
       "    </tr>\n",
       "  </tbody>\n",
       "</table>\n",
       "</div>"
      ],
      "text/plain": [
       "                     station_longitude  average_wind  precipitation  snowfall  \\\n",
       "index_right                                                                     \n",
       "2016-01-23 01:16:58            -73.880        24.160          2.400    27.900   \n",
       "2016-01-23 00:19:01            -73.880        24.160          2.400    27.900   \n",
       "2016-01-23 00:56:53            -73.880        24.160          2.400    27.900   \n",
       "2016-01-23 01:42:47            -73.880        24.160          2.400    27.900   \n",
       "2016-01-23 03:39:30            -73.880        24.160          2.400    27.900   \n",
       "\n",
       "                     snow_depth  avg_temp  max_temp  min_temp   fog  \\\n",
       "index_right                                                           \n",
       "2016-01-23 01:16:58       7.000    28.000    28.000    25.000  True   \n",
       "2016-01-23 00:19:01       7.000    28.000    28.000    25.000  True   \n",
       "2016-01-23 00:56:53       7.000    28.000    28.000    25.000  True   \n",
       "2016-01-23 01:42:47       7.000    28.000    28.000    25.000  True   \n",
       "2016-01-23 03:39:30       7.000    28.000    28.000    25.000  True   \n",
       "\n",
       "                     fog_heavy  thunder  ice_pellets  glaze  smoke_haze  \\\n",
       "index_right                                                               \n",
       "2016-01-23 01:16:58       True    False        False  False       False   \n",
       "2016-01-23 00:19:01       True    False        False  False       False   \n",
       "2016-01-23 00:56:53       True    False        False  False       False   \n",
       "2016-01-23 01:42:47       True    False        False  False       False   \n",
       "2016-01-23 03:39:30       True    False        False  False       False   \n",
       "\n",
       "                     blowing_snow day_of_week weekday_name  \\\n",
       "index_right                                                  \n",
       "2016-01-23 01:16:58          True           5     Saturday   \n",
       "2016-01-23 00:19:01          True           5     Saturday   \n",
       "2016-01-23 00:56:53          True           5     Saturday   \n",
       "2016-01-23 01:42:47          True           5     Saturday   \n",
       "2016-01-23 03:39:30          True           5     Saturday   \n",
       "\n",
       "                                                         geometry  \n",
       "index_right                                                        \n",
       "2016-01-23 01:16:58  POINT (-74.00491333007811 40.72830963134766)  \n",
       "2016-01-23 00:19:01  POINT (-73.99310302734375 40.69293975830078)  \n",
       "2016-01-23 00:56:53  POINT (-73.98740386962891 40.74761581420898)  \n",
       "2016-01-23 01:42:47  POINT (-73.97232055664063 40.75915145874024)  \n",
       "2016-01-23 03:39:30  POINT (-73.98978424072266 40.72913360595703)  "
      ]
     },
     "execution_count": 40,
     "metadata": {},
     "output_type": "execute_result"
    }
   ],
   "source": [
    "#Check weather for January 23rd\n",
    "taxis.loc['2016-01-23'].iloc[:,-18:].head()"
   ]
  },
  {
   "cell_type": "markdown",
   "metadata": {},
   "source": [
    "A large snow storm on January 23rd caused many people to stay inside. Additionally, it was a Saturday which meant fewer people were obligated to go anywhere."
   ]
  },
  {
   "cell_type": "code",
   "execution_count": 41,
   "metadata": {},
   "outputs": [
    {
     "data": {
      "text/plain": [
       "index_right\n",
       "2016-05-01    1527\n",
       "2016-05-02    1518\n",
       "2016-05-03    1702\n",
       "2016-05-04    1713\n",
       "2016-05-05    1806\n",
       "2016-05-06    1885\n",
       "2016-05-07    1860\n",
       "2016-05-08    1556\n",
       "2016-05-09    1474\n",
       "2016-05-10    1566\n",
       "2016-05-11    1513\n",
       "2016-05-12    1792\n",
       "2016-05-13    1668\n",
       "2016-05-14    1911\n",
       "2016-05-15    1717\n",
       "2016-05-16    1634\n",
       "2016-05-17    1643\n",
       "2016-05-18    1623\n",
       "2016-05-19    1692\n",
       "2016-05-20    1769\n",
       "2016-05-21    1861\n",
       "2016-05-22    1577\n",
       "2016-05-23    1389\n",
       "2016-05-24    1516\n",
       "2016-05-25    1649\n",
       "2016-05-26    1630\n",
       "2016-05-27    1505\n",
       "2016-05-28    1391\n",
       "2016-05-29    1299\n",
       "2016-05-30    1120\n",
       "2016-05-31    1404\n",
       "Freq: D, Name: pickup_datetime, dtype: int64"
      ]
     },
     "execution_count": 41,
     "metadata": {},
     "output_type": "execute_result"
    }
   ],
   "source": [
    "#Find outlier in late May\n",
    "daily_trips.loc['2016-05']"
   ]
  },
  {
   "cell_type": "code",
   "execution_count": 42,
   "metadata": {},
   "outputs": [
    {
     "data": {
      "text/html": [
       "<div>\n",
       "<style>\n",
       "    .dataframe thead tr:only-child th {\n",
       "        text-align: right;\n",
       "    }\n",
       "\n",
       "    .dataframe thead th {\n",
       "        text-align: left;\n",
       "    }\n",
       "\n",
       "    .dataframe tbody tr th {\n",
       "        vertical-align: top;\n",
       "    }\n",
       "</style>\n",
       "<table border=\"1\" class=\"dataframe\">\n",
       "  <thead>\n",
       "    <tr style=\"text-align: right;\">\n",
       "      <th></th>\n",
       "      <th>pickup_datetime</th>\n",
       "      <th>dropoff_datetime</th>\n",
       "      <th>passenger_count</th>\n",
       "      <th>pickup_longitude</th>\n",
       "      <th>pickup_latitude</th>\n",
       "      <th>dropoff_longitude</th>\n",
       "      <th>dropoff_latitude</th>\n",
       "      <th>trip_duration</th>\n",
       "      <th>date</th>\n",
       "      <th>station_num</th>\n",
       "      <th>station_name</th>\n",
       "      <th>station_latitude</th>\n",
       "      <th>station_longitude</th>\n",
       "      <th>average_wind</th>\n",
       "      <th>precipitation</th>\n",
       "      <th>snowfall</th>\n",
       "      <th>snow_depth</th>\n",
       "      <th>avg_temp</th>\n",
       "      <th>max_temp</th>\n",
       "      <th>min_temp</th>\n",
       "      <th>fog</th>\n",
       "      <th>fog_heavy</th>\n",
       "      <th>thunder</th>\n",
       "      <th>ice_pellets</th>\n",
       "      <th>glaze</th>\n",
       "      <th>smoke_haze</th>\n",
       "      <th>blowing_snow</th>\n",
       "      <th>day_of_week</th>\n",
       "      <th>weekday_name</th>\n",
       "      <th>geometry</th>\n",
       "    </tr>\n",
       "    <tr>\n",
       "      <th>index_right</th>\n",
       "      <th></th>\n",
       "      <th></th>\n",
       "      <th></th>\n",
       "      <th></th>\n",
       "      <th></th>\n",
       "      <th></th>\n",
       "      <th></th>\n",
       "      <th></th>\n",
       "      <th></th>\n",
       "      <th></th>\n",
       "      <th></th>\n",
       "      <th></th>\n",
       "      <th></th>\n",
       "      <th></th>\n",
       "      <th></th>\n",
       "      <th></th>\n",
       "      <th></th>\n",
       "      <th></th>\n",
       "      <th></th>\n",
       "      <th></th>\n",
       "      <th></th>\n",
       "      <th></th>\n",
       "      <th></th>\n",
       "      <th></th>\n",
       "      <th></th>\n",
       "      <th></th>\n",
       "      <th></th>\n",
       "      <th></th>\n",
       "      <th></th>\n",
       "      <th></th>\n",
       "    </tr>\n",
       "  </thead>\n",
       "  <tbody>\n",
       "    <tr>\n",
       "      <th>2016-05-30 04:01:54</th>\n",
       "      <td>2016-05-30 04:01:54</td>\n",
       "      <td>2016-05-30 04:16:24</td>\n",
       "      <td>5</td>\n",
       "      <td>-73.993</td>\n",
       "      <td>40.722</td>\n",
       "      <td>-73.999</td>\n",
       "      <td>40.673</td>\n",
       "      <td>870</td>\n",
       "      <td>2016-05-30 00:00:00</td>\n",
       "      <td>USW00014732</td>\n",
       "      <td>LA GUARDIA AIRPORT, NY US</td>\n",
       "      <td>40.779</td>\n",
       "      <td>-73.880</td>\n",
       "      <td>7.610</td>\n",
       "      <td>1.530</td>\n",
       "      <td>0.000</td>\n",
       "      <td>0.000</td>\n",
       "      <td>74.000</td>\n",
       "      <td>82.000</td>\n",
       "      <td>69.000</td>\n",
       "      <td>True</td>\n",
       "      <td>False</td>\n",
       "      <td>False</td>\n",
       "      <td>False</td>\n",
       "      <td>False</td>\n",
       "      <td>False</td>\n",
       "      <td>False</td>\n",
       "      <td>0</td>\n",
       "      <td>Monday</td>\n",
       "      <td>POINT (-73.99329376220702 40.72245025634766)</td>\n",
       "    </tr>\n",
       "    <tr>\n",
       "      <th>2016-05-30 03:20:26</th>\n",
       "      <td>2016-05-30 03:20:26</td>\n",
       "      <td>2016-05-30 03:58:49</td>\n",
       "      <td>1</td>\n",
       "      <td>-74.003</td>\n",
       "      <td>40.734</td>\n",
       "      <td>-73.965</td>\n",
       "      <td>40.603</td>\n",
       "      <td>2303</td>\n",
       "      <td>2016-05-30 00:00:00</td>\n",
       "      <td>USW00014732</td>\n",
       "      <td>LA GUARDIA AIRPORT, NY US</td>\n",
       "      <td>40.779</td>\n",
       "      <td>-73.880</td>\n",
       "      <td>7.610</td>\n",
       "      <td>1.530</td>\n",
       "      <td>0.000</td>\n",
       "      <td>0.000</td>\n",
       "      <td>74.000</td>\n",
       "      <td>82.000</td>\n",
       "      <td>69.000</td>\n",
       "      <td>True</td>\n",
       "      <td>False</td>\n",
       "      <td>False</td>\n",
       "      <td>False</td>\n",
       "      <td>False</td>\n",
       "      <td>False</td>\n",
       "      <td>False</td>\n",
       "      <td>0</td>\n",
       "      <td>Monday</td>\n",
       "      <td>POINT (-74.00274658203125 40.73357772827149)</td>\n",
       "    </tr>\n",
       "    <tr>\n",
       "      <th>2016-05-30 18:44:24</th>\n",
       "      <td>2016-05-30 18:44:24</td>\n",
       "      <td>2016-05-30 19:06:04</td>\n",
       "      <td>1</td>\n",
       "      <td>-73.984</td>\n",
       "      <td>40.725</td>\n",
       "      <td>-74.000</td>\n",
       "      <td>40.763</td>\n",
       "      <td>1300</td>\n",
       "      <td>2016-05-30 00:00:00</td>\n",
       "      <td>USW00014732</td>\n",
       "      <td>LA GUARDIA AIRPORT, NY US</td>\n",
       "      <td>40.779</td>\n",
       "      <td>-73.880</td>\n",
       "      <td>7.610</td>\n",
       "      <td>1.530</td>\n",
       "      <td>0.000</td>\n",
       "      <td>0.000</td>\n",
       "      <td>74.000</td>\n",
       "      <td>82.000</td>\n",
       "      <td>69.000</td>\n",
       "      <td>True</td>\n",
       "      <td>False</td>\n",
       "      <td>False</td>\n",
       "      <td>False</td>\n",
       "      <td>False</td>\n",
       "      <td>False</td>\n",
       "      <td>False</td>\n",
       "      <td>0</td>\n",
       "      <td>Monday</td>\n",
       "      <td>POINT (-73.98416137695313 40.72518920898438)</td>\n",
       "    </tr>\n",
       "    <tr>\n",
       "      <th>2016-05-30 20:47:12</th>\n",
       "      <td>2016-05-30 20:47:12</td>\n",
       "      <td>2016-05-30 20:50:34</td>\n",
       "      <td>1</td>\n",
       "      <td>-73.973</td>\n",
       "      <td>40.794</td>\n",
       "      <td>-73.967</td>\n",
       "      <td>40.803</td>\n",
       "      <td>202</td>\n",
       "      <td>2016-05-30 00:00:00</td>\n",
       "      <td>USW00014732</td>\n",
       "      <td>LA GUARDIA AIRPORT, NY US</td>\n",
       "      <td>40.779</td>\n",
       "      <td>-73.880</td>\n",
       "      <td>7.610</td>\n",
       "      <td>1.530</td>\n",
       "      <td>0.000</td>\n",
       "      <td>0.000</td>\n",
       "      <td>74.000</td>\n",
       "      <td>82.000</td>\n",
       "      <td>69.000</td>\n",
       "      <td>True</td>\n",
       "      <td>False</td>\n",
       "      <td>False</td>\n",
       "      <td>False</td>\n",
       "      <td>False</td>\n",
       "      <td>False</td>\n",
       "      <td>False</td>\n",
       "      <td>0</td>\n",
       "      <td>Monday</td>\n",
       "      <td>POINT (-73.97261810302734 40.79381561279297)</td>\n",
       "    </tr>\n",
       "    <tr>\n",
       "      <th>2016-05-30 13:40:07</th>\n",
       "      <td>2016-05-30 13:40:07</td>\n",
       "      <td>2016-05-30 13:45:29</td>\n",
       "      <td>1</td>\n",
       "      <td>-73.986</td>\n",
       "      <td>40.746</td>\n",
       "      <td>-73.978</td>\n",
       "      <td>40.751</td>\n",
       "      <td>322</td>\n",
       "      <td>2016-05-30 00:00:00</td>\n",
       "      <td>USW00014732</td>\n",
       "      <td>LA GUARDIA AIRPORT, NY US</td>\n",
       "      <td>40.779</td>\n",
       "      <td>-73.880</td>\n",
       "      <td>7.610</td>\n",
       "      <td>1.530</td>\n",
       "      <td>0.000</td>\n",
       "      <td>0.000</td>\n",
       "      <td>74.000</td>\n",
       "      <td>82.000</td>\n",
       "      <td>69.000</td>\n",
       "      <td>True</td>\n",
       "      <td>False</td>\n",
       "      <td>False</td>\n",
       "      <td>False</td>\n",
       "      <td>False</td>\n",
       "      <td>False</td>\n",
       "      <td>False</td>\n",
       "      <td>0</td>\n",
       "      <td>Monday</td>\n",
       "      <td>POINT (-73.98595428466798 40.74616622924805)</td>\n",
       "    </tr>\n",
       "  </tbody>\n",
       "</table>\n",
       "</div>"
      ],
      "text/plain": [
       "                        pickup_datetime    dropoff_datetime  passenger_count  \\\n",
       "index_right                                                                    \n",
       "2016-05-30 04:01:54 2016-05-30 04:01:54 2016-05-30 04:16:24                5   \n",
       "2016-05-30 03:20:26 2016-05-30 03:20:26 2016-05-30 03:58:49                1   \n",
       "2016-05-30 18:44:24 2016-05-30 18:44:24 2016-05-30 19:06:04                1   \n",
       "2016-05-30 20:47:12 2016-05-30 20:47:12 2016-05-30 20:50:34                1   \n",
       "2016-05-30 13:40:07 2016-05-30 13:40:07 2016-05-30 13:45:29                1   \n",
       "\n",
       "                     pickup_longitude  pickup_latitude  dropoff_longitude  \\\n",
       "index_right                                                                 \n",
       "2016-05-30 04:01:54           -73.993           40.722            -73.999   \n",
       "2016-05-30 03:20:26           -74.003           40.734            -73.965   \n",
       "2016-05-30 18:44:24           -73.984           40.725            -74.000   \n",
       "2016-05-30 20:47:12           -73.973           40.794            -73.967   \n",
       "2016-05-30 13:40:07           -73.986           40.746            -73.978   \n",
       "\n",
       "                     dropoff_latitude  trip_duration                 date  \\\n",
       "index_right                                                                 \n",
       "2016-05-30 04:01:54            40.673            870  2016-05-30 00:00:00   \n",
       "2016-05-30 03:20:26            40.603           2303  2016-05-30 00:00:00   \n",
       "2016-05-30 18:44:24            40.763           1300  2016-05-30 00:00:00   \n",
       "2016-05-30 20:47:12            40.803            202  2016-05-30 00:00:00   \n",
       "2016-05-30 13:40:07            40.751            322  2016-05-30 00:00:00   \n",
       "\n",
       "                     station_num               station_name  station_latitude  \\\n",
       "index_right                                                                     \n",
       "2016-05-30 04:01:54  USW00014732  LA GUARDIA AIRPORT, NY US            40.779   \n",
       "2016-05-30 03:20:26  USW00014732  LA GUARDIA AIRPORT, NY US            40.779   \n",
       "2016-05-30 18:44:24  USW00014732  LA GUARDIA AIRPORT, NY US            40.779   \n",
       "2016-05-30 20:47:12  USW00014732  LA GUARDIA AIRPORT, NY US            40.779   \n",
       "2016-05-30 13:40:07  USW00014732  LA GUARDIA AIRPORT, NY US            40.779   \n",
       "\n",
       "                     station_longitude  average_wind  precipitation  snowfall  \\\n",
       "index_right                                                                     \n",
       "2016-05-30 04:01:54            -73.880         7.610          1.530     0.000   \n",
       "2016-05-30 03:20:26            -73.880         7.610          1.530     0.000   \n",
       "2016-05-30 18:44:24            -73.880         7.610          1.530     0.000   \n",
       "2016-05-30 20:47:12            -73.880         7.610          1.530     0.000   \n",
       "2016-05-30 13:40:07            -73.880         7.610          1.530     0.000   \n",
       "\n",
       "                     snow_depth  avg_temp  max_temp  min_temp   fog  \\\n",
       "index_right                                                           \n",
       "2016-05-30 04:01:54       0.000    74.000    82.000    69.000  True   \n",
       "2016-05-30 03:20:26       0.000    74.000    82.000    69.000  True   \n",
       "2016-05-30 18:44:24       0.000    74.000    82.000    69.000  True   \n",
       "2016-05-30 20:47:12       0.000    74.000    82.000    69.000  True   \n",
       "2016-05-30 13:40:07       0.000    74.000    82.000    69.000  True   \n",
       "\n",
       "                     fog_heavy  thunder  ice_pellets  glaze  smoke_haze  \\\n",
       "index_right                                                               \n",
       "2016-05-30 04:01:54      False    False        False  False       False   \n",
       "2016-05-30 03:20:26      False    False        False  False       False   \n",
       "2016-05-30 18:44:24      False    False        False  False       False   \n",
       "2016-05-30 20:47:12      False    False        False  False       False   \n",
       "2016-05-30 13:40:07      False    False        False  False       False   \n",
       "\n",
       "                     blowing_snow day_of_week weekday_name  \\\n",
       "index_right                                                  \n",
       "2016-05-30 04:01:54         False           0       Monday   \n",
       "2016-05-30 03:20:26         False           0       Monday   \n",
       "2016-05-30 18:44:24         False           0       Monday   \n",
       "2016-05-30 20:47:12         False           0       Monday   \n",
       "2016-05-30 13:40:07         False           0       Monday   \n",
       "\n",
       "                                                         geometry  \n",
       "index_right                                                        \n",
       "2016-05-30 04:01:54  POINT (-73.99329376220702 40.72245025634766)  \n",
       "2016-05-30 03:20:26  POINT (-74.00274658203125 40.73357772827149)  \n",
       "2016-05-30 18:44:24  POINT (-73.98416137695313 40.72518920898438)  \n",
       "2016-05-30 20:47:12  POINT (-73.97261810302734 40.79381561279297)  \n",
       "2016-05-30 13:40:07  POINT (-73.98595428466798 40.74616622924805)  "
      ]
     },
     "execution_count": 42,
     "metadata": {},
     "output_type": "execute_result"
    }
   ],
   "source": [
    "#Weather on May 30\n",
    "taxis.loc['2016-05-30'].head()"
   ]
  },
  {
   "cell_type": "markdown",
   "metadata": {},
   "source": [
    "May 30, 2016 was a Monday which is somewhat unexpected given that taxi demand is usually pretty steady on business days. There was some precipitation and fog, but the temperature was pretty warm. However, a quick Google search reveals that May 30, 2016 was Memorial Day! This is a widely observed federal holiday in the U.S. that occurs on the last Monday in May, so not many people work on that day."
   ]
  },
  {
   "cell_type": "code",
   "execution_count": 43,
   "metadata": {
    "collapsed": true
   },
   "outputs": [],
   "source": [
    "weekday = [x.weekday() for x in list(daily_trips.index)]\n",
    "trips_by_weekday = pd.DataFrame({'weekday': weekday, 'trip_count': list(daily_trips)})"
   ]
  },
  {
   "cell_type": "code",
   "execution_count": 44,
   "metadata": {},
   "outputs": [
    {
     "data": {
      "text/html": [
       "<div>\n",
       "<style>\n",
       "    .dataframe thead tr:only-child th {\n",
       "        text-align: right;\n",
       "    }\n",
       "\n",
       "    .dataframe thead th {\n",
       "        text-align: left;\n",
       "    }\n",
       "\n",
       "    .dataframe tbody tr th {\n",
       "        vertical-align: top;\n",
       "    }\n",
       "</style>\n",
       "<table border=\"1\" class=\"dataframe\">\n",
       "  <thead>\n",
       "    <tr>\n",
       "      <th></th>\n",
       "      <th colspan=\"8\" halign=\"left\">trip_count</th>\n",
       "    </tr>\n",
       "    <tr>\n",
       "      <th></th>\n",
       "      <th>count</th>\n",
       "      <th>mean</th>\n",
       "      <th>std</th>\n",
       "      <th>min</th>\n",
       "      <th>25%</th>\n",
       "      <th>50%</th>\n",
       "      <th>75%</th>\n",
       "      <th>max</th>\n",
       "    </tr>\n",
       "    <tr>\n",
       "      <th>weekday</th>\n",
       "      <th></th>\n",
       "      <th></th>\n",
       "      <th></th>\n",
       "      <th></th>\n",
       "      <th></th>\n",
       "      <th></th>\n",
       "      <th></th>\n",
       "      <th></th>\n",
       "    </tr>\n",
       "  </thead>\n",
       "  <tbody>\n",
       "    <tr>\n",
       "      <th>0</th>\n",
       "      <td>26.000</td>\n",
       "      <td>1432.500</td>\n",
       "      <td>103.038</td>\n",
       "      <td>1120.000</td>\n",
       "      <td>1398.250</td>\n",
       "      <td>1458.000</td>\n",
       "      <td>1473.250</td>\n",
       "      <td>1634.000</td>\n",
       "    </tr>\n",
       "    <tr>\n",
       "      <th>1</th>\n",
       "      <td>26.000</td>\n",
       "      <td>1549.308</td>\n",
       "      <td>80.672</td>\n",
       "      <td>1309.000</td>\n",
       "      <td>1516.500</td>\n",
       "      <td>1567.500</td>\n",
       "      <td>1595.750</td>\n",
       "      <td>1702.000</td>\n",
       "    </tr>\n",
       "    <tr>\n",
       "      <th>2</th>\n",
       "      <td>26.000</td>\n",
       "      <td>1612.654</td>\n",
       "      <td>75.854</td>\n",
       "      <td>1465.000</td>\n",
       "      <td>1555.500</td>\n",
       "      <td>1632.000</td>\n",
       "      <td>1663.000</td>\n",
       "      <td>1739.000</td>\n",
       "    </tr>\n",
       "    <tr>\n",
       "      <th>3</th>\n",
       "      <td>26.000</td>\n",
       "      <td>1682.308</td>\n",
       "      <td>81.606</td>\n",
       "      <td>1439.000</td>\n",
       "      <td>1636.000</td>\n",
       "      <td>1686.500</td>\n",
       "      <td>1720.500</td>\n",
       "      <td>1806.000</td>\n",
       "    </tr>\n",
       "    <tr>\n",
       "      <th>4</th>\n",
       "      <td>26.000</td>\n",
       "      <td>1721.769</td>\n",
       "      <td>117.724</td>\n",
       "      <td>1385.000</td>\n",
       "      <td>1674.500</td>\n",
       "      <td>1735.000</td>\n",
       "      <td>1809.000</td>\n",
       "      <td>1887.000</td>\n",
       "    </tr>\n",
       "    <tr>\n",
       "      <th>5</th>\n",
       "      <td>26.000</td>\n",
       "      <td>1708.269</td>\n",
       "      <td>328.238</td>\n",
       "      <td>321.000</td>\n",
       "      <td>1684.000</td>\n",
       "      <td>1811.000</td>\n",
       "      <td>1858.750</td>\n",
       "      <td>2019.000</td>\n",
       "    </tr>\n",
       "    <tr>\n",
       "      <th>6</th>\n",
       "      <td>26.000</td>\n",
       "      <td>1499.808</td>\n",
       "      <td>204.884</td>\n",
       "      <td>667.000</td>\n",
       "      <td>1460.250</td>\n",
       "      <td>1551.500</td>\n",
       "      <td>1590.750</td>\n",
       "      <td>1718.000</td>\n",
       "    </tr>\n",
       "  </tbody>\n",
       "</table>\n",
       "</div>"
      ],
      "text/plain": [
       "        trip_count                                                       \\\n",
       "             count     mean     std      min      25%      50%      75%   \n",
       "weekday                                                                   \n",
       "0           26.000 1432.500 103.038 1120.000 1398.250 1458.000 1473.250   \n",
       "1           26.000 1549.308  80.672 1309.000 1516.500 1567.500 1595.750   \n",
       "2           26.000 1612.654  75.854 1465.000 1555.500 1632.000 1663.000   \n",
       "3           26.000 1682.308  81.606 1439.000 1636.000 1686.500 1720.500   \n",
       "4           26.000 1721.769 117.724 1385.000 1674.500 1735.000 1809.000   \n",
       "5           26.000 1708.269 328.238  321.000 1684.000 1811.000 1858.750   \n",
       "6           26.000 1499.808 204.884  667.000 1460.250 1551.500 1590.750   \n",
       "\n",
       "                  \n",
       "             max  \n",
       "weekday           \n",
       "0       1634.000  \n",
       "1       1702.000  \n",
       "2       1739.000  \n",
       "3       1806.000  \n",
       "4       1887.000  \n",
       "5       2019.000  \n",
       "6       1718.000  "
      ]
     },
     "execution_count": 44,
     "metadata": {},
     "output_type": "execute_result"
    }
   ],
   "source": [
    "trips_by_weekday.groupby('weekday').describe()"
   ]
  },
  {
   "cell_type": "code",
   "execution_count": 45,
   "metadata": {},
   "outputs": [
    {
     "data": {
      "text/html": [
       "<div>\n",
       "<style>\n",
       "    .dataframe thead tr:only-child th {\n",
       "        text-align: right;\n",
       "    }\n",
       "\n",
       "    .dataframe thead th {\n",
       "        text-align: left;\n",
       "    }\n",
       "\n",
       "    .dataframe tbody tr th {\n",
       "        vertical-align: top;\n",
       "    }\n",
       "</style>\n",
       "<table border=\"1\" class=\"dataframe\">\n",
       "  <thead>\n",
       "    <tr style=\"text-align: right;\">\n",
       "      <th></th>\n",
       "      <th>trip_count</th>\n",
       "      <th>weekday</th>\n",
       "    </tr>\n",
       "  </thead>\n",
       "  <tbody>\n",
       "    <tr>\n",
       "      <th>0</th>\n",
       "      <td>1385</td>\n",
       "      <td>4</td>\n",
       "    </tr>\n",
       "    <tr>\n",
       "      <th>1</th>\n",
       "      <td>1321</td>\n",
       "      <td>5</td>\n",
       "    </tr>\n",
       "    <tr>\n",
       "      <th>2</th>\n",
       "      <td>1259</td>\n",
       "      <td>6</td>\n",
       "    </tr>\n",
       "    <tr>\n",
       "      <th>3</th>\n",
       "      <td>1346</td>\n",
       "      <td>0</td>\n",
       "    </tr>\n",
       "    <tr>\n",
       "      <th>4</th>\n",
       "      <td>1447</td>\n",
       "      <td>1</td>\n",
       "    </tr>\n",
       "  </tbody>\n",
       "</table>\n",
       "</div>"
      ],
      "text/plain": [
       "   trip_count  weekday\n",
       "0        1385        4\n",
       "1        1321        5\n",
       "2        1259        6\n",
       "3        1346        0\n",
       "4        1447        1"
      ]
     },
     "execution_count": 45,
     "metadata": {},
     "output_type": "execute_result"
    }
   ],
   "source": [
    "trips_by_weekday.head()"
   ]
  },
  {
   "cell_type": "code",
   "execution_count": 46,
   "metadata": {},
   "outputs": [
    {
     "data": {
      "image/png": "[encoded data removed]",
      "text/plain": [
       "<matplotlib.figure.Figure at 0x1fa99bd0>"
      ]
     },
     "metadata": {},
     "output_type": "display_data"
    }
   ],
   "source": [
    "#Boxplot of taxi trips by weekday\n",
    "trips_by_weekday.pivot(columns='weekday').boxplot()\n",
    "plt.xlabel('Day of Week')\n",
    "plt.ylabel('Trip Count')\n",
    "plt.title('Taxi Trip Count by Weekday')\n",
    "plt.xticks(np.arange(1,8),('Monday','Tuesday','Wednesday','Thursday','Friday','Saturday','Sunday'))\n",
    "plt.show()"
   ]
  },
  {
   "cell_type": "markdown",
   "metadata": {},
   "source": [
    "The demand for taxis gradually increases throughout the week, peaking on Saturday and then dropping significantly on Sunday. The spread of trip counts also appears to increase as the week progresses as the IQR of trip counts is much larger for Friday, Saturday and Sunday."
   ]
  },
  {
   "cell_type": "code",
   "execution_count": 47,
   "metadata": {
    "collapsed": true
   },
   "outputs": [],
   "source": [
    "#Create column indicating weather the day of the week is Mon-Fri\n",
    "taxis['weekday_type'] = taxis['day_of_week'] <= 4"
   ]
  },
  {
   "cell_type": "code",
   "execution_count": 48,
   "metadata": {
    "collapsed": true
   },
   "outputs": [],
   "source": [
    "#Filter down to weekdays and run hourly analysis\n",
    "hourly_trips = taxis.loc[taxis['weekday_type'] == True, 'pickup_datetime'].resample('H').count()"
   ]
  },
  {
   "cell_type": "code",
   "execution_count": 49,
   "metadata": {
    "collapsed": true
   },
   "outputs": [],
   "source": [
    "#Filter weekend dates out of index\n",
    "hourly_trips = hourly_trips.loc[hourly_trips > 0]"
   ]
  },
  {
   "cell_type": "code",
   "execution_count": 50,
   "metadata": {
    "collapsed": true
   },
   "outputs": [],
   "source": [
    "#Create list extracting hours from datetime index\n",
    "hours = []\n",
    "for idx, trip in hourly_trips.items():\n",
    "    hours.append(str(idx)[-8:])"
   ]
  },
  {
   "cell_type": "code",
   "execution_count": 51,
   "metadata": {
    "collapsed": true
   },
   "outputs": [],
   "source": [
    "#Create new dataframe with hours and trip count\n",
    "hourly_trips_df = pd.DataFrame({'hours':hours, 'weekday':list(hourly_trips)})\n",
    "hourly_summary = hourly_trips_df.groupby(hours).mean()"
   ]
  },
  {
   "cell_type": "code",
   "execution_count": 52,
   "metadata": {
    "collapsed": true
   },
   "outputs": [],
   "source": [
    "hourly_trips_weekend = taxis.loc[taxis['weekday_type'] == False, 'pickup_datetime'].resample('H').count()\n",
    "hourly_trips_weekend = hourly_trips_weekend.loc[hourly_trips_weekend > 0]\n",
    "hours = []\n",
    "for idx, trip in hourly_trips_weekend.items():\n",
    "    hours.append(str(idx)[-8:])\n",
    "hourly_trips_df2 = pd.DataFrame({'hours':hours, 'weekend':list(hourly_trips_weekend)})\n",
    "hourly_summary2 = hourly_trips_df2.groupby(hours).mean()"
   ]
  },
  {
   "cell_type": "code",
   "execution_count": 53,
   "metadata": {},
   "outputs": [
    {
     "data": {
      "text/html": [
       "<div>\n",
       "<style>\n",
       "    .dataframe thead tr:only-child th {\n",
       "        text-align: right;\n",
       "    }\n",
       "\n",
       "    .dataframe thead th {\n",
       "        text-align: left;\n",
       "    }\n",
       "\n",
       "    .dataframe tbody tr th {\n",
       "        vertical-align: top;\n",
       "    }\n",
       "</style>\n",
       "<table border=\"1\" class=\"dataframe\">\n",
       "  <thead>\n",
       "    <tr style=\"text-align: right;\">\n",
       "      <th></th>\n",
       "      <th>weekend</th>\n",
       "    </tr>\n",
       "  </thead>\n",
       "  <tbody>\n",
       "    <tr>\n",
       "      <th>00:00:00</th>\n",
       "      <td>94.078</td>\n",
       "    </tr>\n",
       "    <tr>\n",
       "      <th>01:00:00</th>\n",
       "      <td>82.235</td>\n",
       "    </tr>\n",
       "    <tr>\n",
       "      <th>02:00:00</th>\n",
       "      <td>66.980</td>\n",
       "    </tr>\n",
       "    <tr>\n",
       "      <th>03:00:00</th>\n",
       "      <td>50.686</td>\n",
       "    </tr>\n",
       "    <tr>\n",
       "      <th>04:00:00</th>\n",
       "      <td>33.250</td>\n",
       "    </tr>\n",
       "  </tbody>\n",
       "</table>\n",
       "</div>"
      ],
      "text/plain": [
       "          weekend\n",
       "00:00:00   94.078\n",
       "01:00:00   82.235\n",
       "02:00:00   66.980\n",
       "03:00:00   50.686\n",
       "04:00:00   33.250"
      ]
     },
     "execution_count": 53,
     "metadata": {},
     "output_type": "execute_result"
    }
   ],
   "source": [
    "hourly_summary2.head()"
   ]
  },
  {
   "cell_type": "code",
   "execution_count": 54,
   "metadata": {
    "collapsed": true
   },
   "outputs": [],
   "source": [
    "hourly_summary = pd.concat([hourly_summary, hourly_summary2], axis=1)"
   ]
  },
  {
   "cell_type": "code",
   "execution_count": 55,
   "metadata": {},
   "outputs": [
    {
     "data": {
      "image/png": "[encoded data removed]",
      "text/plain": [
       "<matplotlib.figure.Figure at 0x17bdb270>"
      ]
     },
     "metadata": {},
     "output_type": "display_data"
    }
   ],
   "source": [
    "line1, line2, = plt.plot(hourly_summary)\n",
    "plt.xticks(rotation=60)\n",
    "plt.xlabel('Time')\n",
    "plt.ylabel('Trip Count')\n",
    "plt.title('Average Trips by Hour of Day')\n",
    "plt.legend((line1, line2), ['Weekday','Weekend'],loc='center right')\n",
    "plt.show()"
   ]
  },
  {
   "cell_type": "markdown",
   "metadata": {},
   "source": [
    "On weekdays, the demand for taxis fluctuates quite a bit, hitting peaks around 8-9am and 7-8pm. It is common for people to take taxis to and from work, which explains the morning and afternoon peaks. Additionally, people frequently use taxis during the 2-3 hours immediately after work for various purposes such as work-related events, happy hours, sporting events or simply socializing with friends and family. The total count of trips bottoms out from 3-4am since hardly anyone is out and about during those hours. During the afternoon, there is a moderate dip in demand between 4 and 5pm as cab drivers tend to change shifts during that hour."
   ]
  },
  {
   "cell_type": "markdown",
   "metadata": {},
   "source": [
    "On weekends, demand for taxis is highest at midnight and then declines drastically until 5am, at which point it begins to increase, hitting peaks in the early afternoon and again around 7pm."
   ]
  },
  {
   "cell_type": "markdown",
   "metadata": {},
   "source": [
    "### Trip Duration"
   ]
  },
  {
   "cell_type": "code",
   "execution_count": 56,
   "metadata": {
    "collapsed": true
   },
   "outputs": [],
   "source": [
    "taxis['trip_minutes'] = taxis['trip_duration'].apply(lambda x: x/60)"
   ]
  },
  {
   "cell_type": "code",
   "execution_count": 57,
   "metadata": {},
   "outputs": [
    {
     "data": {
      "text/plain": [
       "count   291372.000\n",
       "mean        15.854\n",
       "std         52.431\n",
       "min          0.017\n",
       "25%          6.617\n",
       "50%         11.050\n",
       "75%         17.917\n",
       "max       1439.650\n",
       "Name: trip_minutes, dtype: float64"
      ]
     },
     "execution_count": 57,
     "metadata": {},
     "output_type": "execute_result"
    }
   ],
   "source": [
    "taxis['trip_minutes'].describe()"
   ]
  },
  {
   "cell_type": "markdown",
   "metadata": {},
   "source": [
    "Trip duration has a few extremely high values that don't seem realistic. A 30,000 minute-long trip is equivalent to 500 hours or almost 21 days."
   ]
  },
  {
   "cell_type": "code",
   "execution_count": 58,
   "metadata": {
    "collapsed": true
   },
   "outputs": [],
   "source": [
    "taxis = taxis.loc[taxis['trip_minutes'] < 30000]"
   ]
  },
  {
   "cell_type": "code",
   "execution_count": 59,
   "metadata": {},
   "outputs": [
    {
     "data": {
      "image/png": "[encoded data removed]",
      "text/plain": [
       "<matplotlib.figure.Figure at 0x1f9beb90>"
      ]
     },
     "metadata": {},
     "output_type": "display_data"
    }
   ],
   "source": [
    "#Trip duration histogram\n",
    "upper_bound = 120\n",
    "taxis.loc[taxis['trip_minutes'] <= upper_bound, 'trip_minutes'].plot(kind='hist', bins=30)\n",
    "plt.xlabel('Trip Length (Minutes)')\n",
    "plt.xlim((0,upper_bound))\n",
    "plt.show()"
   ]
  },
  {
   "cell_type": "code",
   "execution_count": 60,
   "metadata": {
    "collapsed": true
   },
   "outputs": [],
   "source": [
    "taxis['month'] = taxis['pickup_datetime'].apply(lambda x: x.month)"
   ]
  },
  {
   "cell_type": "code",
   "execution_count": 61,
   "metadata": {
    "collapsed": true
   },
   "outputs": [],
   "source": [
    "month_dict = {1: 'January', 2: 'February', 3: 'March', 4: 'April', 5: 'May', 6: 'June'}\n",
    "taxis['month'] = taxis['month'].astype('category').cat.as_ordered()\n",
    "taxis['month'] = taxis['month'].map(month_dict)"
   ]
  },
  {
   "cell_type": "code",
   "execution_count": 62,
   "metadata": {},
   "outputs": [
    {
     "name": "stdout",
     "output_type": "stream",
     "text": [
      "<class 'pandas.core.frame.DataFrame'>\n",
      "DatetimeIndex: 291372 entries, 2016-01-19 11:35:24 to 2016-01-05 15:56:26\n",
      "Columns: 33 entries, pickup_datetime to month\n",
      "dtypes: bool(8), category(2), datetime64[ns](2), float64(14), int64(2), object(5)\n",
      "memory usage: 50.6+ MB\n"
     ]
    }
   ],
   "source": [
    "taxis.info(verbose=False)"
   ]
  },
  {
   "cell_type": "code",
   "execution_count": 63,
   "metadata": {},
   "outputs": [
    {
     "data": {
      "text/html": [
       "<div>\n",
       "<style>\n",
       "    .dataframe thead tr:only-child th {\n",
       "        text-align: right;\n",
       "    }\n",
       "\n",
       "    .dataframe thead th {\n",
       "        text-align: left;\n",
       "    }\n",
       "\n",
       "    .dataframe tbody tr th {\n",
       "        vertical-align: top;\n",
       "    }\n",
       "</style>\n",
       "<table border=\"1\" class=\"dataframe\">\n",
       "  <thead>\n",
       "    <tr style=\"text-align: right;\">\n",
       "      <th></th>\n",
       "      <th>pickup_datetime</th>\n",
       "      <th>dropoff_datetime</th>\n",
       "      <th>passenger_count</th>\n",
       "      <th>pickup_longitude</th>\n",
       "      <th>pickup_latitude</th>\n",
       "      <th>dropoff_longitude</th>\n",
       "      <th>dropoff_latitude</th>\n",
       "      <th>trip_duration</th>\n",
       "      <th>date</th>\n",
       "      <th>station_num</th>\n",
       "      <th>station_name</th>\n",
       "      <th>station_latitude</th>\n",
       "      <th>station_longitude</th>\n",
       "      <th>average_wind</th>\n",
       "      <th>precipitation</th>\n",
       "      <th>snowfall</th>\n",
       "      <th>snow_depth</th>\n",
       "      <th>avg_temp</th>\n",
       "      <th>max_temp</th>\n",
       "      <th>min_temp</th>\n",
       "      <th>fog</th>\n",
       "      <th>fog_heavy</th>\n",
       "      <th>thunder</th>\n",
       "      <th>ice_pellets</th>\n",
       "      <th>glaze</th>\n",
       "      <th>smoke_haze</th>\n",
       "      <th>blowing_snow</th>\n",
       "      <th>day_of_week</th>\n",
       "      <th>weekday_name</th>\n",
       "      <th>geometry</th>\n",
       "      <th>weekday_type</th>\n",
       "      <th>trip_minutes</th>\n",
       "      <th>month</th>\n",
       "    </tr>\n",
       "    <tr>\n",
       "      <th>index_right</th>\n",
       "      <th></th>\n",
       "      <th></th>\n",
       "      <th></th>\n",
       "      <th></th>\n",
       "      <th></th>\n",
       "      <th></th>\n",
       "      <th></th>\n",
       "      <th></th>\n",
       "      <th></th>\n",
       "      <th></th>\n",
       "      <th></th>\n",
       "      <th></th>\n",
       "      <th></th>\n",
       "      <th></th>\n",
       "      <th></th>\n",
       "      <th></th>\n",
       "      <th></th>\n",
       "      <th></th>\n",
       "      <th></th>\n",
       "      <th></th>\n",
       "      <th></th>\n",
       "      <th></th>\n",
       "      <th></th>\n",
       "      <th></th>\n",
       "      <th></th>\n",
       "      <th></th>\n",
       "      <th></th>\n",
       "      <th></th>\n",
       "      <th></th>\n",
       "      <th></th>\n",
       "      <th></th>\n",
       "      <th></th>\n",
       "      <th></th>\n",
       "    </tr>\n",
       "  </thead>\n",
       "  <tbody>\n",
       "    <tr>\n",
       "      <th>2016-01-19 11:35:24</th>\n",
       "      <td>2016-01-19 11:35:24</td>\n",
       "      <td>2016-01-19 12:10:48</td>\n",
       "      <td>1</td>\n",
       "      <td>-73.979</td>\n",
       "      <td>40.764</td>\n",
       "      <td>-74.005</td>\n",
       "      <td>40.710</td>\n",
       "      <td>2124</td>\n",
       "      <td>2016-01-19 00:00:00</td>\n",
       "      <td>USW00014732</td>\n",
       "      <td>LA GUARDIA AIRPORT, NY US</td>\n",
       "      <td>40.779</td>\n",
       "      <td>-73.880</td>\n",
       "      <td>21.250</td>\n",
       "      <td>0.000</td>\n",
       "      <td>0.000</td>\n",
       "      <td>0.000</td>\n",
       "      <td>23.000</td>\n",
       "      <td>30.000</td>\n",
       "      <td>18.000</td>\n",
       "      <td>False</td>\n",
       "      <td>False</td>\n",
       "      <td>False</td>\n",
       "      <td>False</td>\n",
       "      <td>False</td>\n",
       "      <td>False</td>\n",
       "      <td>False</td>\n",
       "      <td>1</td>\n",
       "      <td>Tuesday</td>\n",
       "      <td>POINT (-73.97902679443358 40.76393890380859)</td>\n",
       "      <td>True</td>\n",
       "      <td>35.400</td>\n",
       "      <td>January</td>\n",
       "    </tr>\n",
       "    <tr>\n",
       "      <th>2016-05-10 22:08:41</th>\n",
       "      <td>2016-05-10 22:08:41</td>\n",
       "      <td>2016-05-10 22:29:55</td>\n",
       "      <td>1</td>\n",
       "      <td>-73.983</td>\n",
       "      <td>40.764</td>\n",
       "      <td>-74.002</td>\n",
       "      <td>40.733</td>\n",
       "      <td>1274</td>\n",
       "      <td>2016-05-10 00:00:00</td>\n",
       "      <td>USW00014732</td>\n",
       "      <td>LA GUARDIA AIRPORT, NY US</td>\n",
       "      <td>40.779</td>\n",
       "      <td>-73.880</td>\n",
       "      <td>6.930</td>\n",
       "      <td>0.000</td>\n",
       "      <td>0.000</td>\n",
       "      <td>0.000</td>\n",
       "      <td>59.000</td>\n",
       "      <td>65.000</td>\n",
       "      <td>51.000</td>\n",
       "      <td>False</td>\n",
       "      <td>False</td>\n",
       "      <td>False</td>\n",
       "      <td>False</td>\n",
       "      <td>False</td>\n",
       "      <td>False</td>\n",
       "      <td>False</td>\n",
       "      <td>1</td>\n",
       "      <td>Tuesday</td>\n",
       "      <td>POINT (-73.98265075683594 40.76383972167969)</td>\n",
       "      <td>True</td>\n",
       "      <td>21.233</td>\n",
       "      <td>May</td>\n",
       "    </tr>\n",
       "    <tr>\n",
       "      <th>2016-04-09 03:34:27</th>\n",
       "      <td>2016-04-09 03:34:27</td>\n",
       "      <td>2016-04-09 03:41:30</td>\n",
       "      <td>1</td>\n",
       "      <td>-73.996</td>\n",
       "      <td>40.759</td>\n",
       "      <td>-73.993</td>\n",
       "      <td>40.740</td>\n",
       "      <td>423</td>\n",
       "      <td>2016-04-09 00:00:00</td>\n",
       "      <td>USW00014732</td>\n",
       "      <td>LA GUARDIA AIRPORT, NY US</td>\n",
       "      <td>40.779</td>\n",
       "      <td>-73.880</td>\n",
       "      <td>11.410</td>\n",
       "      <td>0.070</td>\n",
       "      <td>0.000</td>\n",
       "      <td>0.000</td>\n",
       "      <td>41.000</td>\n",
       "      <td>44.000</td>\n",
       "      <td>38.000</td>\n",
       "      <td>False</td>\n",
       "      <td>False</td>\n",
       "      <td>False</td>\n",
       "      <td>False</td>\n",
       "      <td>False</td>\n",
       "      <td>False</td>\n",
       "      <td>False</td>\n",
       "      <td>5</td>\n",
       "      <td>Saturday</td>\n",
       "      <td>POINT (-73.99586486816406 40.7588119506836)</td>\n",
       "      <td>False</td>\n",
       "      <td>7.050</td>\n",
       "      <td>April</td>\n",
       "    </tr>\n",
       "    <tr>\n",
       "      <th>2016-06-25 10:36:26</th>\n",
       "      <td>2016-06-25 10:36:26</td>\n",
       "      <td>2016-06-25 10:55:49</td>\n",
       "      <td>1</td>\n",
       "      <td>-73.994</td>\n",
       "      <td>40.747</td>\n",
       "      <td>-74.006</td>\n",
       "      <td>40.704</td>\n",
       "      <td>1163</td>\n",
       "      <td>2016-06-25 00:00:00</td>\n",
       "      <td>USW00014732</td>\n",
       "      <td>LA GUARDIA AIRPORT, NY US</td>\n",
       "      <td>40.779</td>\n",
       "      <td>-73.880</td>\n",
       "      <td>9.620</td>\n",
       "      <td>0.000</td>\n",
       "      <td>0.000</td>\n",
       "      <td>0.000</td>\n",
       "      <td>73.000</td>\n",
       "      <td>83.000</td>\n",
       "      <td>65.000</td>\n",
       "      <td>False</td>\n",
       "      <td>False</td>\n",
       "      <td>False</td>\n",
       "      <td>False</td>\n",
       "      <td>False</td>\n",
       "      <td>False</td>\n",
       "      <td>False</td>\n",
       "      <td>5</td>\n",
       "      <td>Saturday</td>\n",
       "      <td>POINT (-73.99355316162109 40.74717330932617)</td>\n",
       "      <td>False</td>\n",
       "      <td>19.383</td>\n",
       "      <td>June</td>\n",
       "    </tr>\n",
       "    <tr>\n",
       "      <th>2016-02-14 13:27:56</th>\n",
       "      <td>2016-02-14 13:27:56</td>\n",
       "      <td>2016-02-14 13:49:19</td>\n",
       "      <td>1</td>\n",
       "      <td>-73.957</td>\n",
       "      <td>40.771</td>\n",
       "      <td>-73.975</td>\n",
       "      <td>40.733</td>\n",
       "      <td>1283</td>\n",
       "      <td>2016-02-14 00:00:00</td>\n",
       "      <td>USW00014732</td>\n",
       "      <td>LA GUARDIA AIRPORT, NY US</td>\n",
       "      <td>40.779</td>\n",
       "      <td>-73.880</td>\n",
       "      <td>13.870</td>\n",
       "      <td>0.000</td>\n",
       "      <td>0.000</td>\n",
       "      <td>0.000</td>\n",
       "      <td>8.000</td>\n",
       "      <td>17.000</td>\n",
       "      <td>1.000</td>\n",
       "      <td>False</td>\n",
       "      <td>False</td>\n",
       "      <td>False</td>\n",
       "      <td>False</td>\n",
       "      <td>False</td>\n",
       "      <td>False</td>\n",
       "      <td>False</td>\n",
       "      <td>6</td>\n",
       "      <td>Sunday</td>\n",
       "      <td>POINT (-73.95658111572266 40.77135848999024)</td>\n",
       "      <td>False</td>\n",
       "      <td>21.383</td>\n",
       "      <td>February</td>\n",
       "    </tr>\n",
       "  </tbody>\n",
       "</table>\n",
       "</div>"
      ],
      "text/plain": [
       "                        pickup_datetime    dropoff_datetime  passenger_count  \\\n",
       "index_right                                                                    \n",
       "2016-01-19 11:35:24 2016-01-19 11:35:24 2016-01-19 12:10:48                1   \n",
       "2016-05-10 22:08:41 2016-05-10 22:08:41 2016-05-10 22:29:55                1   \n",
       "2016-04-09 03:34:27 2016-04-09 03:34:27 2016-04-09 03:41:30                1   \n",
       "2016-06-25 10:36:26 2016-06-25 10:36:26 2016-06-25 10:55:49                1   \n",
       "2016-02-14 13:27:56 2016-02-14 13:27:56 2016-02-14 13:49:19                1   \n",
       "\n",
       "                     pickup_longitude  pickup_latitude  dropoff_longitude  \\\n",
       "index_right                                                                 \n",
       "2016-01-19 11:35:24           -73.979           40.764            -74.005   \n",
       "2016-05-10 22:08:41           -73.983           40.764            -74.002   \n",
       "2016-04-09 03:34:27           -73.996           40.759            -73.993   \n",
       "2016-06-25 10:36:26           -73.994           40.747            -74.006   \n",
       "2016-02-14 13:27:56           -73.957           40.771            -73.975   \n",
       "\n",
       "                     dropoff_latitude  trip_duration                 date  \\\n",
       "index_right                                                                 \n",
       "2016-01-19 11:35:24            40.710           2124  2016-01-19 00:00:00   \n",
       "2016-05-10 22:08:41            40.733           1274  2016-05-10 00:00:00   \n",
       "2016-04-09 03:34:27            40.740            423  2016-04-09 00:00:00   \n",
       "2016-06-25 10:36:26            40.704           1163  2016-06-25 00:00:00   \n",
       "2016-02-14 13:27:56            40.733           1283  2016-02-14 00:00:00   \n",
       "\n",
       "                     station_num               station_name  station_latitude  \\\n",
       "index_right                                                                     \n",
       "2016-01-19 11:35:24  USW00014732  LA GUARDIA AIRPORT, NY US            40.779   \n",
       "2016-05-10 22:08:41  USW00014732  LA GUARDIA AIRPORT, NY US            40.779   \n",
       "2016-04-09 03:34:27  USW00014732  LA GUARDIA AIRPORT, NY US            40.779   \n",
       "2016-06-25 10:36:26  USW00014732  LA GUARDIA AIRPORT, NY US            40.779   \n",
       "2016-02-14 13:27:56  USW00014732  LA GUARDIA AIRPORT, NY US            40.779   \n",
       "\n",
       "                     station_longitude  average_wind  precipitation  snowfall  \\\n",
       "index_right                                                                     \n",
       "2016-01-19 11:35:24            -73.880        21.250          0.000     0.000   \n",
       "2016-05-10 22:08:41            -73.880         6.930          0.000     0.000   \n",
       "2016-04-09 03:34:27            -73.880        11.410          0.070     0.000   \n",
       "2016-06-25 10:36:26            -73.880         9.620          0.000     0.000   \n",
       "2016-02-14 13:27:56            -73.880        13.870          0.000     0.000   \n",
       "\n",
       "                     snow_depth  avg_temp  max_temp  min_temp    fog  \\\n",
       "index_right                                                            \n",
       "2016-01-19 11:35:24       0.000    23.000    30.000    18.000  False   \n",
       "2016-05-10 22:08:41       0.000    59.000    65.000    51.000  False   \n",
       "2016-04-09 03:34:27       0.000    41.000    44.000    38.000  False   \n",
       "2016-06-25 10:36:26       0.000    73.000    83.000    65.000  False   \n",
       "2016-02-14 13:27:56       0.000     8.000    17.000     1.000  False   \n",
       "\n",
       "                     fog_heavy  thunder  ice_pellets  glaze  smoke_haze  \\\n",
       "index_right                                                               \n",
       "2016-01-19 11:35:24      False    False        False  False       False   \n",
       "2016-05-10 22:08:41      False    False        False  False       False   \n",
       "2016-04-09 03:34:27      False    False        False  False       False   \n",
       "2016-06-25 10:36:26      False    False        False  False       False   \n",
       "2016-02-14 13:27:56      False    False        False  False       False   \n",
       "\n",
       "                     blowing_snow day_of_week weekday_name  \\\n",
       "index_right                                                  \n",
       "2016-01-19 11:35:24         False           1      Tuesday   \n",
       "2016-05-10 22:08:41         False           1      Tuesday   \n",
       "2016-04-09 03:34:27         False           5     Saturday   \n",
       "2016-06-25 10:36:26         False           5     Saturday   \n",
       "2016-02-14 13:27:56         False           6       Sunday   \n",
       "\n",
       "                                                         geometry  \\\n",
       "index_right                                                         \n",
       "2016-01-19 11:35:24  POINT (-73.97902679443358 40.76393890380859)   \n",
       "2016-05-10 22:08:41  POINT (-73.98265075683594 40.76383972167969)   \n",
       "2016-04-09 03:34:27   POINT (-73.99586486816406 40.7588119506836)   \n",
       "2016-06-25 10:36:26  POINT (-73.99355316162109 40.74717330932617)   \n",
       "2016-02-14 13:27:56  POINT (-73.95658111572266 40.77135848999024)   \n",
       "\n",
       "                     weekday_type  trip_minutes     month  \n",
       "index_right                                                \n",
       "2016-01-19 11:35:24          True        35.400   January  \n",
       "2016-05-10 22:08:41          True        21.233       May  \n",
       "2016-04-09 03:34:27         False         7.050     April  \n",
       "2016-06-25 10:36:26         False        19.383      June  \n",
       "2016-02-14 13:27:56         False        21.383  February  "
      ]
     },
     "execution_count": 63,
     "metadata": {},
     "output_type": "execute_result"
    }
   ],
   "source": [
    "taxis.head()"
   ]
  },
  {
   "cell_type": "markdown",
   "metadata": {},
   "source": [
    "What effect does weather have on trip duration?"
   ]
  },
  {
   "cell_type": "markdown",
   "metadata": {},
   "source": [
    "### Weather's Impact on Taxis"
   ]
  },
  {
   "cell_type": "code",
   "execution_count": 64,
   "metadata": {
    "collapsed": true
   },
   "outputs": [],
   "source": [
    "daily_temp = taxis['avg_temp'].resample('D').mean()"
   ]
  },
  {
   "cell_type": "code",
   "execution_count": 65,
   "metadata": {
    "scrolled": true
   },
   "outputs": [
    {
     "data": {
      "image/png": "[encoded data removed]",
      "text/plain": [
       "<matplotlib.figure.Figure at 0x234d98d0>"
      ]
     },
     "metadata": {},
     "output_type": "display_data"
    }
   ],
   "source": [
    "plt.scatter(daily_temp, daily_trips)\n",
    "plt.xlabel('Daily Average Temperature')\n",
    "plt.ylabel('Daily Trip Count')\n",
    "plt.title('Daily Total Trips by Average Daily Temp')\n",
    "plt.show()"
   ]
  },
  {
   "cell_type": "markdown",
   "metadata": {},
   "source": [
    "Average daily temperature appears to have little impact on the total count of trips per day."
   ]
  },
  {
   "cell_type": "code",
   "execution_count": 66,
   "metadata": {
    "collapsed": true
   },
   "outputs": [],
   "source": [
    "daily_temp_trips = taxis[['avg_temp', 'trip_duration']].resample('D').mean()"
   ]
  },
  {
   "cell_type": "code",
   "execution_count": 67,
   "metadata": {
    "collapsed": true
   },
   "outputs": [],
   "source": [
    "day_of_week = [x.weekday() for x in list(daily_temp_trips.index)]\n",
    "wkday_wkend = [x < 5 for x in day_of_week]\n",
    "#Convert this to weekday/weekend only"
   ]
  },
  {
   "cell_type": "code",
   "execution_count": 68,
   "metadata": {},
   "outputs": [
    {
     "name": "stdout",
     "output_type": "stream",
     "text": [
      "[True, False, False, True, True, True, True, True, False, False]\n"
     ]
    }
   ],
   "source": [
    "print(wkday_wkend[:10])"
   ]
  },
  {
   "cell_type": "code",
   "execution_count": 69,
   "metadata": {
    "collapsed": true
   },
   "outputs": [],
   "source": [
    "daily_temp_trips['wkday_wkend'] = wkday_wkend"
   ]
  },
  {
   "cell_type": "code",
   "execution_count": 70,
   "metadata": {
    "collapsed": true
   },
   "outputs": [],
   "source": [
    "slope, intercept = np.polyfit(daily_temp_trips['avg_temp'], daily_temp_trips['trip_duration'], deg=1)\n",
    "trip_prediction = [slope * i + intercept for i in list(daily_temp_trips['avg_temp'])]\n",
    "daily_temp_trips['trip_prediction'] = trip_prediction"
   ]
  },
  {
   "cell_type": "code",
   "execution_count": 71,
   "metadata": {
    "collapsed": true
   },
   "outputs": [],
   "source": [
    "weekday_temp_trips = daily_temp_trips.loc[daily_temp_trips['wkday_wkend'] == True]\n",
    "weekend_temp_trips = daily_temp_trips.loc[daily_temp_trips['wkday_wkend'] == False]"
   ]
  },
  {
   "cell_type": "code",
   "execution_count": 72,
   "metadata": {},
   "outputs": [
    {
     "data": {
      "image/png": "[encoded data removed]",
      "text/plain": [
       "<matplotlib.figure.Figure at 0x2454f1f0>"
      ]
     },
     "metadata": {},
     "output_type": "display_data"
    }
   ],
   "source": [
    "plt.scatter(weekday_temp_trips['avg_temp'], weekday_temp_trips['trip_duration'], label='Weekday')\n",
    "plt.xlabel('Daily Average Temperature')\n",
    "plt.ylabel('Daily Average Trip Length')\n",
    "plt.scatter(weekend_temp_trips['avg_temp'], weekend_temp_trips['trip_duration'], label='Weekend')\n",
    "plt.plot(weekday_temp_trips['avg_temp'], weekday_temp_trips['trip_prediction'])\n",
    "plt.plot(weekend_temp_trips['avg_temp'], weekend_temp_trips['trip_prediction'])\n",
    "plt.legend()\n",
    "plt.show()"
   ]
  },
  {
   "cell_type": "code",
   "execution_count": 73,
   "metadata": {},
   "outputs": [
    {
     "name": "stdout",
     "output_type": "stream",
     "text": [
      "Pearsons Correlation Coefficient: 0.336623354688\n"
     ]
    }
   ],
   "source": [
    "print('Pearson''s Correlation Coefficient:' , np.corrcoef(daily_temp_trips['avg_temp'], daily_temp_trips['trip_duration'])[0][1])"
   ]
  },
  {
   "cell_type": "markdown",
   "metadata": {},
   "source": [
    "As the daily average temperature increases, so does the average trip duration in minutes. This most likely reflects people's tendency to take cabs when travelling short distances during the winter since they prefer not to walk outside when it's cold out."
   ]
  },
  {
   "cell_type": "code",
   "execution_count": 74,
   "metadata": {
    "collapsed": true
   },
   "outputs": [],
   "source": [
    "#Plot precipitation and trip count\n",
    "daily_precip = taxis['precipitation'].resample('D').mean()"
   ]
  },
  {
   "cell_type": "code",
   "execution_count": 41,
   "metadata": {
    "collapsed": true
   },
   "outputs": [],
   "source": [
    "#Boxplot snow and trip duration\n",
    "snowfall = taxis['snowfall'].resample('D').mean()\n",
    "snowfall = snowfall > 0"
   ]
  },
  {
   "cell_type": "code",
   "execution_count": 64,
   "metadata": {},
   "outputs": [
    {
     "data": {
      "text/plain": [
       "183"
      ]
     },
     "execution_count": 64,
     "metadata": {},
     "output_type": "execute_result"
    }
   ],
   "source": [
    "len(daily_trips)"
   ]
  },
  {
   "cell_type": "code",
   "execution_count": 63,
   "metadata": {},
   "outputs": [
    {
     "data": {
      "text/plain": [
       "182"
      ]
     },
     "execution_count": 63,
     "metadata": {},
     "output_type": "execute_result"
    }
   ],
   "source": [
    "len(snowfall)"
   ]
  },
  {
   "cell_type": "code",
   "execution_count": 62,
   "metadata": {
    "collapsed": true
   },
   "outputs": [
    {
     "ename": "ValueError",
     "evalue": "arrays must all be same length",
     "output_type": "error",
     "traceback": [
      "\u001b[1;31m---------------------------------------------------------------------------\u001b[0m",
      "\u001b[1;31mValueError\u001b[0m                                Traceback (most recent call last)",
      "\u001b[1;32m<ipython-input-62-2989599fa872>\u001b[0m in \u001b[0;36m<module>\u001b[1;34m()\u001b[0m\n\u001b[1;32m----> 1\u001b[1;33m \u001b[0mpd\u001b[0m\u001b[1;33m.\u001b[0m\u001b[0mDataFrame\u001b[0m\u001b[1;33m(\u001b[0m\u001b[1;33m{\u001b[0m\u001b[1;34m'trip_count'\u001b[0m\u001b[1;33m:\u001b[0m \u001b[0mlist\u001b[0m\u001b[1;33m(\u001b[0m\u001b[0mdaily_trips\u001b[0m\u001b[1;33m)\u001b[0m\u001b[1;33m,\u001b[0m \u001b[1;34m'snowfall'\u001b[0m\u001b[1;33m:\u001b[0m\u001b[0mlist\u001b[0m\u001b[1;33m(\u001b[0m\u001b[0msnowfall\u001b[0m\u001b[1;33m)\u001b[0m\u001b[1;33m}\u001b[0m\u001b[1;33m)\u001b[0m\u001b[1;33m\u001b[0m\u001b[0m\n\u001b[0m",
      "\u001b[1;32m~\\Anaconda3\\lib\\site-packages\\pandas\\core\\frame.py\u001b[0m in \u001b[0;36m__init__\u001b[1;34m(self, data, index, columns, dtype, copy)\u001b[0m\n\u001b[0;32m    273\u001b[0m                                  dtype=dtype, copy=copy)\n\u001b[0;32m    274\u001b[0m         \u001b[1;32melif\u001b[0m \u001b[0misinstance\u001b[0m\u001b[1;33m(\u001b[0m\u001b[0mdata\u001b[0m\u001b[1;33m,\u001b[0m \u001b[0mdict\u001b[0m\u001b[1;33m)\u001b[0m\u001b[1;33m:\u001b[0m\u001b[1;33m\u001b[0m\u001b[0m\n\u001b[1;32m--> 275\u001b[1;33m             \u001b[0mmgr\u001b[0m \u001b[1;33m=\u001b[0m \u001b[0mself\u001b[0m\u001b[1;33m.\u001b[0m\u001b[0m_init_dict\u001b[0m\u001b[1;33m(\u001b[0m\u001b[0mdata\u001b[0m\u001b[1;33m,\u001b[0m \u001b[0mindex\u001b[0m\u001b[1;33m,\u001b[0m \u001b[0mcolumns\u001b[0m\u001b[1;33m,\u001b[0m \u001b[0mdtype\u001b[0m\u001b[1;33m=\u001b[0m\u001b[0mdtype\u001b[0m\u001b[1;33m)\u001b[0m\u001b[1;33m\u001b[0m\u001b[0m\n\u001b[0m\u001b[0;32m    276\u001b[0m         \u001b[1;32melif\u001b[0m \u001b[0misinstance\u001b[0m\u001b[1;33m(\u001b[0m\u001b[0mdata\u001b[0m\u001b[1;33m,\u001b[0m \u001b[0mma\u001b[0m\u001b[1;33m.\u001b[0m\u001b[0mMaskedArray\u001b[0m\u001b[1;33m)\u001b[0m\u001b[1;33m:\u001b[0m\u001b[1;33m\u001b[0m\u001b[0m\n\u001b[0;32m    277\u001b[0m             \u001b[1;32mimport\u001b[0m \u001b[0mnumpy\u001b[0m\u001b[1;33m.\u001b[0m\u001b[0mma\u001b[0m\u001b[1;33m.\u001b[0m\u001b[0mmrecords\u001b[0m \u001b[1;32mas\u001b[0m \u001b[0mmrecords\u001b[0m\u001b[1;33m\u001b[0m\u001b[0m\n",
      "\u001b[1;32m~\\Anaconda3\\lib\\site-packages\\pandas\\core\\frame.py\u001b[0m in \u001b[0;36m_init_dict\u001b[1;34m(self, data, index, columns, dtype)\u001b[0m\n\u001b[0;32m    409\u001b[0m             \u001b[0marrays\u001b[0m \u001b[1;33m=\u001b[0m \u001b[1;33m[\u001b[0m\u001b[0mdata\u001b[0m\u001b[1;33m[\u001b[0m\u001b[0mk\u001b[0m\u001b[1;33m]\u001b[0m \u001b[1;32mfor\u001b[0m \u001b[0mk\u001b[0m \u001b[1;32min\u001b[0m \u001b[0mkeys\u001b[0m\u001b[1;33m]\u001b[0m\u001b[1;33m\u001b[0m\u001b[0m\n\u001b[0;32m    410\u001b[0m \u001b[1;33m\u001b[0m\u001b[0m\n\u001b[1;32m--> 411\u001b[1;33m         \u001b[1;32mreturn\u001b[0m \u001b[0m_arrays_to_mgr\u001b[0m\u001b[1;33m(\u001b[0m\u001b[0marrays\u001b[0m\u001b[1;33m,\u001b[0m \u001b[0mdata_names\u001b[0m\u001b[1;33m,\u001b[0m \u001b[0mindex\u001b[0m\u001b[1;33m,\u001b[0m \u001b[0mcolumns\u001b[0m\u001b[1;33m,\u001b[0m \u001b[0mdtype\u001b[0m\u001b[1;33m=\u001b[0m\u001b[0mdtype\u001b[0m\u001b[1;33m)\u001b[0m\u001b[1;33m\u001b[0m\u001b[0m\n\u001b[0m\u001b[0;32m    412\u001b[0m \u001b[1;33m\u001b[0m\u001b[0m\n\u001b[0;32m    413\u001b[0m     \u001b[1;32mdef\u001b[0m \u001b[0m_init_ndarray\u001b[0m\u001b[1;33m(\u001b[0m\u001b[0mself\u001b[0m\u001b[1;33m,\u001b[0m \u001b[0mvalues\u001b[0m\u001b[1;33m,\u001b[0m \u001b[0mindex\u001b[0m\u001b[1;33m,\u001b[0m \u001b[0mcolumns\u001b[0m\u001b[1;33m,\u001b[0m \u001b[0mdtype\u001b[0m\u001b[1;33m=\u001b[0m\u001b[1;32mNone\u001b[0m\u001b[1;33m,\u001b[0m \u001b[0mcopy\u001b[0m\u001b[1;33m=\u001b[0m\u001b[1;32mFalse\u001b[0m\u001b[1;33m)\u001b[0m\u001b[1;33m:\u001b[0m\u001b[1;33m\u001b[0m\u001b[0m\n",
      "\u001b[1;32m~\\Anaconda3\\lib\\site-packages\\pandas\\core\\frame.py\u001b[0m in \u001b[0;36m_arrays_to_mgr\u001b[1;34m(arrays, arr_names, index, columns, dtype)\u001b[0m\n\u001b[0;32m   5494\u001b[0m     \u001b[1;31m# figure out the index, if necessary\u001b[0m\u001b[1;33m\u001b[0m\u001b[1;33m\u001b[0m\u001b[0m\n\u001b[0;32m   5495\u001b[0m     \u001b[1;32mif\u001b[0m \u001b[0mindex\u001b[0m \u001b[1;32mis\u001b[0m \u001b[1;32mNone\u001b[0m\u001b[1;33m:\u001b[0m\u001b[1;33m\u001b[0m\u001b[0m\n\u001b[1;32m-> 5496\u001b[1;33m         \u001b[0mindex\u001b[0m \u001b[1;33m=\u001b[0m \u001b[0mextract_index\u001b[0m\u001b[1;33m(\u001b[0m\u001b[0marrays\u001b[0m\u001b[1;33m)\u001b[0m\u001b[1;33m\u001b[0m\u001b[0m\n\u001b[0m\u001b[0;32m   5497\u001b[0m     \u001b[1;32melse\u001b[0m\u001b[1;33m:\u001b[0m\u001b[1;33m\u001b[0m\u001b[0m\n\u001b[0;32m   5498\u001b[0m         \u001b[0mindex\u001b[0m \u001b[1;33m=\u001b[0m \u001b[0m_ensure_index\u001b[0m\u001b[1;33m(\u001b[0m\u001b[0mindex\u001b[0m\u001b[1;33m)\u001b[0m\u001b[1;33m\u001b[0m\u001b[0m\n",
      "\u001b[1;32m~\\Anaconda3\\lib\\site-packages\\pandas\\core\\frame.py\u001b[0m in \u001b[0;36mextract_index\u001b[1;34m(data)\u001b[0m\n\u001b[0;32m   5542\u001b[0m             \u001b[0mlengths\u001b[0m \u001b[1;33m=\u001b[0m \u001b[0mlist\u001b[0m\u001b[1;33m(\u001b[0m\u001b[0mset\u001b[0m\u001b[1;33m(\u001b[0m\u001b[0mraw_lengths\u001b[0m\u001b[1;33m)\u001b[0m\u001b[1;33m)\u001b[0m\u001b[1;33m\u001b[0m\u001b[0m\n\u001b[0;32m   5543\u001b[0m             \u001b[1;32mif\u001b[0m \u001b[0mlen\u001b[0m\u001b[1;33m(\u001b[0m\u001b[0mlengths\u001b[0m\u001b[1;33m)\u001b[0m \u001b[1;33m>\u001b[0m \u001b[1;36m1\u001b[0m\u001b[1;33m:\u001b[0m\u001b[1;33m\u001b[0m\u001b[0m\n\u001b[1;32m-> 5544\u001b[1;33m                 \u001b[1;32mraise\u001b[0m \u001b[0mValueError\u001b[0m\u001b[1;33m(\u001b[0m\u001b[1;34m'arrays must all be same length'\u001b[0m\u001b[1;33m)\u001b[0m\u001b[1;33m\u001b[0m\u001b[0m\n\u001b[0m\u001b[0;32m   5545\u001b[0m \u001b[1;33m\u001b[0m\u001b[0m\n\u001b[0;32m   5546\u001b[0m             \u001b[1;32mif\u001b[0m \u001b[0mhave_dicts\u001b[0m\u001b[1;33m:\u001b[0m\u001b[1;33m\u001b[0m\u001b[0m\n",
      "\u001b[1;31mValueError\u001b[0m: arrays must all be same length"
     ]
    }
   ],
   "source": [
    "pd.DataFrame({'trip_count': list(daily_trips), 'snowfall':list(snowfall)})"
   ]
  },
  {
   "cell_type": "code",
   "execution_count": 55,
   "metadata": {
    "collapsed": true
   },
   "outputs": [],
   "source": [
    "snowfall_trips = taxis['snowfall'].loc[taxis['snowfall'] > 0].resample('D').count()\n",
    "no_snowfall_trips = taxis['snowfall'].loc[taxis['snowfall'] == 0].resample('D').count()"
   ]
  },
  {
   "cell_type": "code",
   "execution_count": 59,
   "metadata": {},
   "outputs": [
    {
     "data": {
      "text/plain": [
       "2016-01-17   7891.000\n",
       "2016-01-18      0.000\n",
       "2016-01-19      0.000\n",
       "2016-01-20      0.000\n",
       "2016-01-21      0.000\n",
       "2016-01-22      0.000\n",
       "2016-01-23   1648.000\n",
       "2016-01-24   3383.000\n",
       "2016-01-25      0.000\n",
       "2016-01-26      0.000\n",
       "2016-01-27      0.000\n",
       "2016-01-28      0.000\n",
       "2016-01-29      0.000\n",
       "2016-01-30      0.000\n",
       "2016-01-31      0.000\n",
       "2016-02-01      0.000\n",
       "2016-02-02      0.000\n",
       "2016-02-03      0.000\n",
       "2016-02-04      0.000\n",
       "2016-02-05   8501.000\n",
       "2016-02-06      0.000\n",
       "2016-02-07      0.000\n",
       "2016-02-08   7110.000\n",
       "2016-02-09      0.000\n",
       "2016-02-10      0.000\n",
       "2016-02-11   9116.000\n",
       "2016-02-12      0.000\n",
       "2016-02-13      0.000\n",
       "2016-02-14      0.000\n",
       "2016-02-15   7373.000\n",
       "               ...   \n",
       "2016-02-21      0.000\n",
       "2016-02-22      0.000\n",
       "2016-02-23      0.000\n",
       "2016-02-24      0.000\n",
       "2016-02-25      0.000\n",
       "2016-02-26      0.000\n",
       "2016-02-27      0.000\n",
       "2016-02-28      0.000\n",
       "2016-02-29      0.000\n",
       "2016-03-01      0.000\n",
       "2016-03-02      0.000\n",
       "2016-03-03      0.000\n",
       "2016-03-04   9237.000\n",
       "2016-03-05      0.000\n",
       "2016-03-06      0.000\n",
       "2016-03-07      0.000\n",
       "2016-03-08      0.000\n",
       "2016-03-09      0.000\n",
       "2016-03-10      0.000\n",
       "2016-03-11      0.000\n",
       "2016-03-12      0.000\n",
       "2016-03-13      0.000\n",
       "2016-03-14      0.000\n",
       "2016-03-15      0.000\n",
       "2016-03-16      0.000\n",
       "2016-03-17      0.000\n",
       "2016-03-18      0.000\n",
       "2016-03-19      0.000\n",
       "2016-03-20   8199.000\n",
       "2016-03-21   7248.000\n",
       "Freq: D, Name: snowfall, Length: 65, dtype: float64"
      ]
     },
     "execution_count": 59,
     "metadata": {},
     "output_type": "execute_result"
    }
   ],
   "source": [
    "snowfall_trips.astype('float')"
   ]
  },
  {
   "cell_type": "markdown",
   "metadata": {},
   "source": [
    "#### Location of Pickups for Airport Trips"
   ]
  },
  {
   "cell_type": "code",
   "execution_count": 75,
   "metadata": {
    "collapsed": true
   },
   "outputs": [],
   "source": [
    "#GeoDataFrame for dropoff points\n",
    "geometry = [Point(xy) for xy in zip(taxis['dropoff_longitude'], taxis['dropoff_latitude'])]\n",
    "crs = {'init': 'epsg:4269'}\n",
    "taxis_airport = gpd.GeoDataFrame(taxis, crs=crs, geometry=geometry)\n",
    "taxis_airport = gpd.sjoin(nyc, taxis_airport , how='inner', op='intersects')"
   ]
  },
  {
   "cell_type": "code",
   "execution_count": 76,
   "metadata": {
    "collapsed": true
   },
   "outputs": [],
   "source": [
    "#Filter to airport dropoffs only\n",
    "airport_trips = list(taxis_airport['Name'].apply(lambda x: x.endswith('Airport')))\n",
    "taxis_airport = taxis_airport.loc[airport_trips]"
   ]
  },
  {
   "cell_type": "code",
   "execution_count": 77,
   "metadata": {
    "collapsed": true
   },
   "outputs": [],
   "source": [
    "#GeoDataFrame for origin points of trips to airport\n",
    "taxis_airport = pd.DataFrame(taxis_airport).drop('geometry', axis=1)\n",
    "geometry = [Point(xy) for xy in zip(taxis_airport['pickup_longitude'], taxis_airport['pickup_latitude'])]\n",
    "taxis_airport = gpd.GeoDataFrame(taxis_airport, crs={'init': 'epsg:4269'}, geometry=geometry)\n",
    "taxis_airport = taxis_airport.drop('index_right', axis=1)"
   ]
  },
  {
   "cell_type": "code",
   "execution_count": 78,
   "metadata": {
    "collapsed": true
   },
   "outputs": [],
   "source": [
    "#Join geospatial data for pickup neighborhoods\n",
    "nyc2 = nyc\n",
    "nyc2.columns = ['pickup_county','pickup_city','pickup_neighborhood','geometry']\n",
    "taxis_airport = gpd.sjoin(nyc2, taxis_airport, how='inner', op='intersects')"
   ]
  },
  {
   "cell_type": "markdown",
   "metadata": {},
   "source": [
    "A look at the top neighborhoods originating trips to the airports:"
   ]
  },
  {
   "cell_type": "code",
   "execution_count": 79,
   "metadata": {},
   "outputs": [
    {
     "data": {
      "text/html": [
       "<div>\n",
       "<style>\n",
       "    .dataframe thead tr:only-child th {\n",
       "        text-align: right;\n",
       "    }\n",
       "\n",
       "    .dataframe thead th {\n",
       "        text-align: left;\n",
       "    }\n",
       "\n",
       "    .dataframe tbody tr th {\n",
       "        vertical-align: top;\n",
       "    }\n",
       "</style>\n",
       "<table border=\"1\" class=\"dataframe\">\n",
       "  <thead>\n",
       "    <tr style=\"text-align: right;\">\n",
       "      <th></th>\n",
       "      <th>Name</th>\n",
       "    </tr>\n",
       "    <tr>\n",
       "      <th>pickup_neighborhood</th>\n",
       "      <th></th>\n",
       "    </tr>\n",
       "  </thead>\n",
       "  <tbody>\n",
       "    <tr>\n",
       "      <th>Midtown</th>\n",
       "      <td>1294</td>\n",
       "    </tr>\n",
       "    <tr>\n",
       "      <th>Upper East Side</th>\n",
       "      <td>593</td>\n",
       "    </tr>\n",
       "    <tr>\n",
       "      <th>Upper West Side</th>\n",
       "      <td>375</td>\n",
       "    </tr>\n",
       "    <tr>\n",
       "      <th>Flatiron District</th>\n",
       "      <td>360</td>\n",
       "    </tr>\n",
       "    <tr>\n",
       "      <th>John F. Kennedy International Airport</th>\n",
       "      <td>337</td>\n",
       "    </tr>\n",
       "    <tr>\n",
       "      <th>Garment District</th>\n",
       "      <td>305</td>\n",
       "    </tr>\n",
       "    <tr>\n",
       "      <th>Turtle Bay</th>\n",
       "      <td>262</td>\n",
       "    </tr>\n",
       "    <tr>\n",
       "      <th>Murray Hill</th>\n",
       "      <td>218</td>\n",
       "    </tr>\n",
       "    <tr>\n",
       "      <th>Financial District</th>\n",
       "      <td>197</td>\n",
       "    </tr>\n",
       "    <tr>\n",
       "      <th>Gramercy</th>\n",
       "      <td>187</td>\n",
       "    </tr>\n",
       "  </tbody>\n",
       "</table>\n",
       "</div>"
      ],
      "text/plain": [
       "                                       Name\n",
       "pickup_neighborhood                        \n",
       "Midtown                                1294\n",
       "Upper East Side                         593\n",
       "Upper West Side                         375\n",
       "Flatiron District                       360\n",
       "John F. Kennedy International Airport   337\n",
       "Garment District                        305\n",
       "Turtle Bay                              262\n",
       "Murray Hill                             218\n",
       "Financial District                      197\n",
       "Gramercy                                187"
      ]
     },
     "execution_count": 79,
     "metadata": {},
     "output_type": "execute_result"
    }
   ],
   "source": [
    "taxis_airport[['pickup_neighborhood','Name']].groupby('pickup_neighborhood').count().sort_values(by=['Name'], ascending=False).head(10)"
   ]
  },
  {
   "cell_type": "markdown",
   "metadata": {},
   "source": [
    "Midtown is the origin point for the most trips to the airports by far. To anyone who lives in New York, this may not come as a surprise since such a large number of tourists, business travelers and diplomats stay at hotels in midtown. Let's split the data into subsets for JFK and LaGuardia airports."
   ]
  },
  {
   "cell_type": "code",
   "execution_count": 80,
   "metadata": {
    "collapsed": true
   },
   "outputs": [],
   "source": [
    "taxis_lga = taxis_airport.loc[taxis_airport['Name'] == 'La Guardia Airport']\n",
    "taxis_jfk = taxis_airport.loc[taxis_airport['Name'] == 'John F. Kennedy International Airport']"
   ]
  },
  {
   "cell_type": "markdown",
   "metadata": {},
   "source": [
    "Here are the top neighborhoods originating trips to LaGuardia Airport:"
   ]
  },
  {
   "cell_type": "code",
   "execution_count": 81,
   "metadata": {},
   "outputs": [
    {
     "data": {
      "text/html": [
       "<div>\n",
       "<style>\n",
       "    .dataframe thead tr:only-child th {\n",
       "        text-align: right;\n",
       "    }\n",
       "\n",
       "    .dataframe thead th {\n",
       "        text-align: left;\n",
       "    }\n",
       "\n",
       "    .dataframe tbody tr th {\n",
       "        vertical-align: top;\n",
       "    }\n",
       "</style>\n",
       "<table border=\"1\" class=\"dataframe\">\n",
       "  <thead>\n",
       "    <tr style=\"text-align: right;\">\n",
       "      <th></th>\n",
       "      <th>Name</th>\n",
       "    </tr>\n",
       "    <tr>\n",
       "      <th>pickup_neighborhood</th>\n",
       "      <th></th>\n",
       "    </tr>\n",
       "  </thead>\n",
       "  <tbody>\n",
       "    <tr>\n",
       "      <th>Midtown</th>\n",
       "      <td>850</td>\n",
       "    </tr>\n",
       "    <tr>\n",
       "      <th>Upper East Side</th>\n",
       "      <td>379</td>\n",
       "    </tr>\n",
       "    <tr>\n",
       "      <th>Upper West Side</th>\n",
       "      <td>217</td>\n",
       "    </tr>\n",
       "    <tr>\n",
       "      <th>Flatiron District</th>\n",
       "      <td>210</td>\n",
       "    </tr>\n",
       "    <tr>\n",
       "      <th>Garment District</th>\n",
       "      <td>186</td>\n",
       "    </tr>\n",
       "    <tr>\n",
       "      <th>Turtle Bay</th>\n",
       "      <td>173</td>\n",
       "    </tr>\n",
       "    <tr>\n",
       "      <th>Murray Hill</th>\n",
       "      <td>141</td>\n",
       "    </tr>\n",
       "    <tr>\n",
       "      <th>La Guardia Airport</th>\n",
       "      <td>114</td>\n",
       "    </tr>\n",
       "    <tr>\n",
       "      <th>Financial District</th>\n",
       "      <td>114</td>\n",
       "    </tr>\n",
       "    <tr>\n",
       "      <th>Gramercy</th>\n",
       "      <td>103</td>\n",
       "    </tr>\n",
       "  </tbody>\n",
       "</table>\n",
       "</div>"
      ],
      "text/plain": [
       "                     Name\n",
       "pickup_neighborhood      \n",
       "Midtown               850\n",
       "Upper East Side       379\n",
       "Upper West Side       217\n",
       "Flatiron District     210\n",
       "Garment District      186\n",
       "Turtle Bay            173\n",
       "Murray Hill           141\n",
       "La Guardia Airport    114\n",
       "Financial District    114\n",
       "Gramercy              103"
      ]
     },
     "execution_count": 81,
     "metadata": {},
     "output_type": "execute_result"
    }
   ],
   "source": [
    "taxis_lga[['pickup_neighborhood','Name']].groupby('pickup_neighborhood').count().sort_values(by='Name', ascending=False).head(10)"
   ]
  },
  {
   "cell_type": "markdown",
   "metadata": {},
   "source": [
    "And the top neighborhoods going to JFK:"
   ]
  },
  {
   "cell_type": "code",
   "execution_count": 82,
   "metadata": {
    "scrolled": true
   },
   "outputs": [
    {
     "data": {
      "text/html": [
       "<div>\n",
       "<style>\n",
       "    .dataframe thead tr:only-child th {\n",
       "        text-align: right;\n",
       "    }\n",
       "\n",
       "    .dataframe thead th {\n",
       "        text-align: left;\n",
       "    }\n",
       "\n",
       "    .dataframe tbody tr th {\n",
       "        vertical-align: top;\n",
       "    }\n",
       "</style>\n",
       "<table border=\"1\" class=\"dataframe\">\n",
       "  <thead>\n",
       "    <tr style=\"text-align: right;\">\n",
       "      <th></th>\n",
       "      <th>Name</th>\n",
       "    </tr>\n",
       "    <tr>\n",
       "      <th>pickup_neighborhood</th>\n",
       "      <th></th>\n",
       "    </tr>\n",
       "  </thead>\n",
       "  <tbody>\n",
       "    <tr>\n",
       "      <th>Midtown</th>\n",
       "      <td>444</td>\n",
       "    </tr>\n",
       "    <tr>\n",
       "      <th>John F. Kennedy International Airport</th>\n",
       "      <td>272</td>\n",
       "    </tr>\n",
       "    <tr>\n",
       "      <th>Upper East Side</th>\n",
       "      <td>214</td>\n",
       "    </tr>\n",
       "    <tr>\n",
       "      <th>Upper West Side</th>\n",
       "      <td>158</td>\n",
       "    </tr>\n",
       "    <tr>\n",
       "      <th>Flatiron District</th>\n",
       "      <td>150</td>\n",
       "    </tr>\n",
       "    <tr>\n",
       "      <th>Garment District</th>\n",
       "      <td>119</td>\n",
       "    </tr>\n",
       "    <tr>\n",
       "      <th>Turtle Bay</th>\n",
       "      <td>89</td>\n",
       "    </tr>\n",
       "    <tr>\n",
       "      <th>Gramercy</th>\n",
       "      <td>84</td>\n",
       "    </tr>\n",
       "    <tr>\n",
       "      <th>Financial District</th>\n",
       "      <td>83</td>\n",
       "    </tr>\n",
       "    <tr>\n",
       "      <th>Murray Hill</th>\n",
       "      <td>77</td>\n",
       "    </tr>\n",
       "  </tbody>\n",
       "</table>\n",
       "</div>"
      ],
      "text/plain": [
       "                                       Name\n",
       "pickup_neighborhood                        \n",
       "Midtown                                 444\n",
       "John F. Kennedy International Airport   272\n",
       "Upper East Side                         214\n",
       "Upper West Side                         158\n",
       "Flatiron District                       150\n",
       "Garment District                        119\n",
       "Turtle Bay                               89\n",
       "Gramercy                                 84\n",
       "Financial District                       83\n",
       "Murray Hill                              77"
      ]
     },
     "execution_count": 82,
     "metadata": {},
     "output_type": "execute_result"
    }
   ],
   "source": [
    "taxis_jfk[['pickup_neighborhood','Name']].groupby('pickup_neighborhood').count().sort_values(by='Name', ascending=False).head(10)"
   ]
  },
  {
   "cell_type": "code",
   "execution_count": 88,
   "metadata": {},
   "outputs": [
    {
     "name": "stderr",
     "output_type": "stream",
     "text": [
      "C:\\Users\\Matt\\Anaconda3\\lib\\site-packages\\ipykernel_launcher.py:1: SettingWithCopyWarning: \n",
      "A value is trying to be set on a copy of a slice from a DataFrame.\n",
      "Try using .loc[row_indexer,col_indexer] = value instead\n",
      "\n",
      "See the caveats in the documentation: http://pandas.pydata.org/pandas-docs/stable/indexing.html#indexing-view-versus-copy\n",
      "  \"\"\"Entry point for launching an IPython kernel.\n"
     ]
    }
   ],
   "source": [
    "taxis_jfk['geometry'] = [Point(xy) for xy in zip(taxis_jfk['pickup_longitude'], taxis_jfk['pickup_latitude'])]"
   ]
  },
  {
   "cell_type": "code",
   "execution_count": 157,
   "metadata": {},
   "outputs": [
    {
     "ename": "AttributeError",
     "evalue": "Unknown property facecolor",
     "output_type": "error",
     "traceback": [
      "\u001b[1;31m---------------------------------------------------------------------------\u001b[0m",
      "\u001b[1;31mAttributeError\u001b[0m                            Traceback (most recent call last)",
      "\u001b[1;32m<ipython-input-157-ee5f26c2072e>\u001b[0m in \u001b[0;36m<module>\u001b[1;34m()\u001b[0m\n\u001b[0;32m      1\u001b[0m \u001b[1;31m#Plot trips occurring within JFK airport\u001b[0m\u001b[1;33m\u001b[0m\u001b[1;33m\u001b[0m\u001b[0m\n\u001b[1;32m----> 2\u001b[1;33m \u001b[0mtaxis_jfk\u001b[0m\u001b[1;33m.\u001b[0m\u001b[0mloc\u001b[0m\u001b[1;33m[\u001b[0m\u001b[0mtaxis_jfk\u001b[0m\u001b[1;33m[\u001b[0m\u001b[1;34m'pickup_neighborhood'\u001b[0m\u001b[1;33m]\u001b[0m \u001b[1;33m==\u001b[0m \u001b[1;34m'John F. Kennedy International Airport'\u001b[0m\u001b[1;33m]\u001b[0m\u001b[1;33m.\u001b[0m\u001b[0mplot\u001b[0m\u001b[1;33m(\u001b[0m\u001b[0max\u001b[0m\u001b[1;33m=\u001b[0m\u001b[0mnyc2\u001b[0m\u001b[1;33m.\u001b[0m\u001b[0mloc\u001b[0m\u001b[1;33m[\u001b[0m\u001b[0mnyc2\u001b[0m\u001b[1;33m[\u001b[0m\u001b[1;34m'pickup_neighborhood'\u001b[0m\u001b[1;33m]\u001b[0m \u001b[1;33m==\u001b[0m \u001b[1;34m'John F. Kennedy International Airport'\u001b[0m\u001b[1;33m]\u001b[0m\u001b[1;33m.\u001b[0m\u001b[0mplot\u001b[0m\u001b[1;33m(\u001b[0m\u001b[1;33m)\u001b[0m\u001b[1;33m,\u001b[0m \u001b[0mfacecolor\u001b[0m\u001b[1;33m=\u001b[0m\u001b[1;34m'gray'\u001b[0m\u001b[1;33m)\u001b[0m\u001b[1;33m\u001b[0m\u001b[0m\n\u001b[0m\u001b[0;32m      3\u001b[0m \u001b[0mplt\u001b[0m\u001b[1;33m.\u001b[0m\u001b[0mtitle\u001b[0m\u001b[1;33m(\u001b[0m\u001b[1;34m'Trips Occurring Within JFK Airport'\u001b[0m\u001b[1;33m)\u001b[0m\u001b[1;33m\u001b[0m\u001b[0m\n\u001b[0;32m      4\u001b[0m \u001b[0mplt\u001b[0m\u001b[1;33m.\u001b[0m\u001b[0mshow\u001b[0m\u001b[1;33m(\u001b[0m\u001b[1;33m)\u001b[0m\u001b[1;33m\u001b[0m\u001b[0m\n",
      "\u001b[1;32m~\\Anaconda3\\lib\\site-packages\\pandas\\plotting\\_core.py\u001b[0m in \u001b[0;36m__call__\u001b[1;34m(self, x, y, kind, ax, subplots, sharex, sharey, layout, figsize, use_index, title, grid, legend, style, logx, logy, loglog, xticks, yticks, xlim, ylim, rot, fontsize, colormap, table, yerr, xerr, secondary_y, sort_columns, **kwds)\u001b[0m\n\u001b[0;32m   2625\u001b[0m                           \u001b[0mfontsize\u001b[0m\u001b[1;33m=\u001b[0m\u001b[0mfontsize\u001b[0m\u001b[1;33m,\u001b[0m \u001b[0mcolormap\u001b[0m\u001b[1;33m=\u001b[0m\u001b[0mcolormap\u001b[0m\u001b[1;33m,\u001b[0m \u001b[0mtable\u001b[0m\u001b[1;33m=\u001b[0m\u001b[0mtable\u001b[0m\u001b[1;33m,\u001b[0m\u001b[1;33m\u001b[0m\u001b[0m\n\u001b[0;32m   2626\u001b[0m                           \u001b[0myerr\u001b[0m\u001b[1;33m=\u001b[0m\u001b[0myerr\u001b[0m\u001b[1;33m,\u001b[0m \u001b[0mxerr\u001b[0m\u001b[1;33m=\u001b[0m\u001b[0mxerr\u001b[0m\u001b[1;33m,\u001b[0m \u001b[0msecondary_y\u001b[0m\u001b[1;33m=\u001b[0m\u001b[0msecondary_y\u001b[0m\u001b[1;33m,\u001b[0m\u001b[1;33m\u001b[0m\u001b[0m\n\u001b[1;32m-> 2627\u001b[1;33m                           sort_columns=sort_columns, **kwds)\n\u001b[0m\u001b[0;32m   2628\u001b[0m     \u001b[0m__call__\u001b[0m\u001b[1;33m.\u001b[0m\u001b[0m__doc__\u001b[0m \u001b[1;33m=\u001b[0m \u001b[0mplot_frame\u001b[0m\u001b[1;33m.\u001b[0m\u001b[0m__doc__\u001b[0m\u001b[1;33m\u001b[0m\u001b[0m\n\u001b[0;32m   2629\u001b[0m \u001b[1;33m\u001b[0m\u001b[0m\n",
      "\u001b[1;32m~\\Anaconda3\\lib\\site-packages\\pandas\\plotting\\_core.py\u001b[0m in \u001b[0;36mplot_frame\u001b[1;34m(data, x, y, kind, ax, subplots, sharex, sharey, layout, figsize, use_index, title, grid, legend, style, logx, logy, loglog, xticks, yticks, xlim, ylim, rot, fontsize, colormap, table, yerr, xerr, secondary_y, sort_columns, **kwds)\u001b[0m\n\u001b[0;32m   1867\u001b[0m                  \u001b[0myerr\u001b[0m\u001b[1;33m=\u001b[0m\u001b[0myerr\u001b[0m\u001b[1;33m,\u001b[0m \u001b[0mxerr\u001b[0m\u001b[1;33m=\u001b[0m\u001b[0mxerr\u001b[0m\u001b[1;33m,\u001b[0m\u001b[1;33m\u001b[0m\u001b[0m\n\u001b[0;32m   1868\u001b[0m                  \u001b[0msecondary_y\u001b[0m\u001b[1;33m=\u001b[0m\u001b[0msecondary_y\u001b[0m\u001b[1;33m,\u001b[0m \u001b[0msort_columns\u001b[0m\u001b[1;33m=\u001b[0m\u001b[0msort_columns\u001b[0m\u001b[1;33m,\u001b[0m\u001b[1;33m\u001b[0m\u001b[0m\n\u001b[1;32m-> 1869\u001b[1;33m                  **kwds)\n\u001b[0m\u001b[0;32m   1870\u001b[0m \u001b[1;33m\u001b[0m\u001b[0m\n\u001b[0;32m   1871\u001b[0m \u001b[1;33m\u001b[0m\u001b[0m\n",
      "\u001b[1;32m~\\Anaconda3\\lib\\site-packages\\pandas\\plotting\\_core.py\u001b[0m in \u001b[0;36m_plot\u001b[1;34m(data, x, y, subplots, ax, kind, **kwds)\u001b[0m\n\u001b[0;32m   1692\u001b[0m         \u001b[0mplot_obj\u001b[0m \u001b[1;33m=\u001b[0m \u001b[0mklass\u001b[0m\u001b[1;33m(\u001b[0m\u001b[0mdata\u001b[0m\u001b[1;33m,\u001b[0m \u001b[0msubplots\u001b[0m\u001b[1;33m=\u001b[0m\u001b[0msubplots\u001b[0m\u001b[1;33m,\u001b[0m \u001b[0max\u001b[0m\u001b[1;33m=\u001b[0m\u001b[0max\u001b[0m\u001b[1;33m,\u001b[0m \u001b[0mkind\u001b[0m\u001b[1;33m=\u001b[0m\u001b[0mkind\u001b[0m\u001b[1;33m,\u001b[0m \u001b[1;33m**\u001b[0m\u001b[0mkwds\u001b[0m\u001b[1;33m)\u001b[0m\u001b[1;33m\u001b[0m\u001b[0m\n\u001b[0;32m   1693\u001b[0m \u001b[1;33m\u001b[0m\u001b[0m\n\u001b[1;32m-> 1694\u001b[1;33m     \u001b[0mplot_obj\u001b[0m\u001b[1;33m.\u001b[0m\u001b[0mgenerate\u001b[0m\u001b[1;33m(\u001b[0m\u001b[1;33m)\u001b[0m\u001b[1;33m\u001b[0m\u001b[0m\n\u001b[0m\u001b[0;32m   1695\u001b[0m     \u001b[0mplot_obj\u001b[0m\u001b[1;33m.\u001b[0m\u001b[0mdraw\u001b[0m\u001b[1;33m(\u001b[0m\u001b[1;33m)\u001b[0m\u001b[1;33m\u001b[0m\u001b[0m\n\u001b[0;32m   1696\u001b[0m     \u001b[1;32mreturn\u001b[0m \u001b[0mplot_obj\u001b[0m\u001b[1;33m.\u001b[0m\u001b[0mresult\u001b[0m\u001b[1;33m\u001b[0m\u001b[0m\n",
      "\u001b[1;32m~\\Anaconda3\\lib\\site-packages\\pandas\\plotting\\_core.py\u001b[0m in \u001b[0;36mgenerate\u001b[1;34m(self)\u001b[0m\n\u001b[0;32m    243\u001b[0m         \u001b[0mself\u001b[0m\u001b[1;33m.\u001b[0m\u001b[0m_compute_plot_data\u001b[0m\u001b[1;33m(\u001b[0m\u001b[1;33m)\u001b[0m\u001b[1;33m\u001b[0m\u001b[0m\n\u001b[0;32m    244\u001b[0m         \u001b[0mself\u001b[0m\u001b[1;33m.\u001b[0m\u001b[0m_setup_subplots\u001b[0m\u001b[1;33m(\u001b[0m\u001b[1;33m)\u001b[0m\u001b[1;33m\u001b[0m\u001b[0m\n\u001b[1;32m--> 245\u001b[1;33m         \u001b[0mself\u001b[0m\u001b[1;33m.\u001b[0m\u001b[0m_make_plot\u001b[0m\u001b[1;33m(\u001b[0m\u001b[1;33m)\u001b[0m\u001b[1;33m\u001b[0m\u001b[0m\n\u001b[0m\u001b[0;32m    246\u001b[0m         \u001b[0mself\u001b[0m\u001b[1;33m.\u001b[0m\u001b[0m_add_table\u001b[0m\u001b[1;33m(\u001b[0m\u001b[1;33m)\u001b[0m\u001b[1;33m\u001b[0m\u001b[0m\n\u001b[0;32m    247\u001b[0m         \u001b[0mself\u001b[0m\u001b[1;33m.\u001b[0m\u001b[0m_make_legend\u001b[0m\u001b[1;33m(\u001b[0m\u001b[1;33m)\u001b[0m\u001b[1;33m\u001b[0m\u001b[0m\n",
      "\u001b[1;32m~\\Anaconda3\\lib\\site-packages\\pandas\\plotting\\_core.py\u001b[0m in \u001b[0;36m_make_plot\u001b[1;34m(self)\u001b[0m\n\u001b[0;32m    948\u001b[0m                              \u001b[0mstacking_id\u001b[0m\u001b[1;33m=\u001b[0m\u001b[0mstacking_id\u001b[0m\u001b[1;33m,\u001b[0m\u001b[1;33m\u001b[0m\u001b[0m\n\u001b[0;32m    949\u001b[0m                              \u001b[0mis_errorbar\u001b[0m\u001b[1;33m=\u001b[0m\u001b[0mis_errorbar\u001b[0m\u001b[1;33m,\u001b[0m\u001b[1;33m\u001b[0m\u001b[0m\n\u001b[1;32m--> 950\u001b[1;33m                              **kwds)\n\u001b[0m\u001b[0;32m    951\u001b[0m             \u001b[0mself\u001b[0m\u001b[1;33m.\u001b[0m\u001b[0m_add_legend_handle\u001b[0m\u001b[1;33m(\u001b[0m\u001b[0mnewlines\u001b[0m\u001b[1;33m[\u001b[0m\u001b[1;36m0\u001b[0m\u001b[1;33m]\u001b[0m\u001b[1;33m,\u001b[0m \u001b[0mlabel\u001b[0m\u001b[1;33m,\u001b[0m \u001b[0mindex\u001b[0m\u001b[1;33m=\u001b[0m\u001b[0mi\u001b[0m\u001b[1;33m)\u001b[0m\u001b[1;33m\u001b[0m\u001b[0m\n\u001b[0;32m    952\u001b[0m \u001b[1;33m\u001b[0m\u001b[0m\n",
      "\u001b[1;32m~\\Anaconda3\\lib\\site-packages\\pandas\\plotting\\_core.py\u001b[0m in \u001b[0;36m_plot\u001b[1;34m(cls, ax, x, y, style, column_num, stacking_id, **kwds)\u001b[0m\n\u001b[0;32m    963\u001b[0m             \u001b[0mcls\u001b[0m\u001b[1;33m.\u001b[0m\u001b[0m_initialize_stacker\u001b[0m\u001b[1;33m(\u001b[0m\u001b[0max\u001b[0m\u001b[1;33m,\u001b[0m \u001b[0mstacking_id\u001b[0m\u001b[1;33m,\u001b[0m \u001b[0mlen\u001b[0m\u001b[1;33m(\u001b[0m\u001b[0my\u001b[0m\u001b[1;33m)\u001b[0m\u001b[1;33m)\u001b[0m\u001b[1;33m\u001b[0m\u001b[0m\n\u001b[0;32m    964\u001b[0m         \u001b[0my_values\u001b[0m \u001b[1;33m=\u001b[0m \u001b[0mcls\u001b[0m\u001b[1;33m.\u001b[0m\u001b[0m_get_stacked_values\u001b[0m\u001b[1;33m(\u001b[0m\u001b[0max\u001b[0m\u001b[1;33m,\u001b[0m \u001b[0mstacking_id\u001b[0m\u001b[1;33m,\u001b[0m \u001b[0my\u001b[0m\u001b[1;33m,\u001b[0m \u001b[0mkwds\u001b[0m\u001b[1;33m[\u001b[0m\u001b[1;34m'label'\u001b[0m\u001b[1;33m]\u001b[0m\u001b[1;33m)\u001b[0m\u001b[1;33m\u001b[0m\u001b[0m\n\u001b[1;32m--> 965\u001b[1;33m         \u001b[0mlines\u001b[0m \u001b[1;33m=\u001b[0m \u001b[0mMPLPlot\u001b[0m\u001b[1;33m.\u001b[0m\u001b[0m_plot\u001b[0m\u001b[1;33m(\u001b[0m\u001b[0max\u001b[0m\u001b[1;33m,\u001b[0m \u001b[0mx\u001b[0m\u001b[1;33m,\u001b[0m \u001b[0my_values\u001b[0m\u001b[1;33m,\u001b[0m \u001b[0mstyle\u001b[0m\u001b[1;33m=\u001b[0m\u001b[0mstyle\u001b[0m\u001b[1;33m,\u001b[0m \u001b[1;33m**\u001b[0m\u001b[0mkwds\u001b[0m\u001b[1;33m)\u001b[0m\u001b[1;33m\u001b[0m\u001b[0m\n\u001b[0m\u001b[0;32m    966\u001b[0m         \u001b[0mcls\u001b[0m\u001b[1;33m.\u001b[0m\u001b[0m_update_stacker\u001b[0m\u001b[1;33m(\u001b[0m\u001b[0max\u001b[0m\u001b[1;33m,\u001b[0m \u001b[0mstacking_id\u001b[0m\u001b[1;33m,\u001b[0m \u001b[0my\u001b[0m\u001b[1;33m)\u001b[0m\u001b[1;33m\u001b[0m\u001b[0m\n\u001b[0;32m    967\u001b[0m         \u001b[1;32mreturn\u001b[0m \u001b[0mlines\u001b[0m\u001b[1;33m\u001b[0m\u001b[0m\n",
      "\u001b[1;32m~\\Anaconda3\\lib\\site-packages\\pandas\\plotting\\_core.py\u001b[0m in \u001b[0;36m_plot\u001b[1;34m(cls, ax, x, y, style, is_errorbar, **kwds)\u001b[0m\n\u001b[0;32m    578\u001b[0m             \u001b[1;32melse\u001b[0m\u001b[1;33m:\u001b[0m\u001b[1;33m\u001b[0m\u001b[0m\n\u001b[0;32m    579\u001b[0m                 \u001b[0margs\u001b[0m \u001b[1;33m=\u001b[0m \u001b[1;33m(\u001b[0m\u001b[0mx\u001b[0m\u001b[1;33m,\u001b[0m \u001b[0my\u001b[0m\u001b[1;33m)\u001b[0m\u001b[1;33m\u001b[0m\u001b[0m\n\u001b[1;32m--> 580\u001b[1;33m             \u001b[1;32mreturn\u001b[0m \u001b[0max\u001b[0m\u001b[1;33m.\u001b[0m\u001b[0mplot\u001b[0m\u001b[1;33m(\u001b[0m\u001b[1;33m*\u001b[0m\u001b[0margs\u001b[0m\u001b[1;33m,\u001b[0m \u001b[1;33m**\u001b[0m\u001b[0mkwds\u001b[0m\u001b[1;33m)\u001b[0m\u001b[1;33m\u001b[0m\u001b[0m\n\u001b[0m\u001b[0;32m    581\u001b[0m \u001b[1;33m\u001b[0m\u001b[0m\n\u001b[0;32m    582\u001b[0m     \u001b[1;32mdef\u001b[0m \u001b[0m_get_index_name\u001b[0m\u001b[1;33m(\u001b[0m\u001b[0mself\u001b[0m\u001b[1;33m)\u001b[0m\u001b[1;33m:\u001b[0m\u001b[1;33m\u001b[0m\u001b[0m\n",
      "\u001b[1;32m~\\Anaconda3\\lib\\site-packages\\matplotlib\\__init__.py\u001b[0m in \u001b[0;36minner\u001b[1;34m(ax, *args, **kwargs)\u001b[0m\n\u001b[0;32m   1708\u001b[0m                     warnings.warn(msg % (label_namer, func.__name__),\n\u001b[0;32m   1709\u001b[0m                                   RuntimeWarning, stacklevel=2)\n\u001b[1;32m-> 1710\u001b[1;33m             \u001b[1;32mreturn\u001b[0m \u001b[0mfunc\u001b[0m\u001b[1;33m(\u001b[0m\u001b[0max\u001b[0m\u001b[1;33m,\u001b[0m \u001b[1;33m*\u001b[0m\u001b[0margs\u001b[0m\u001b[1;33m,\u001b[0m \u001b[1;33m**\u001b[0m\u001b[0mkwargs\u001b[0m\u001b[1;33m)\u001b[0m\u001b[1;33m\u001b[0m\u001b[0m\n\u001b[0m\u001b[0;32m   1711\u001b[0m         \u001b[0mpre_doc\u001b[0m \u001b[1;33m=\u001b[0m \u001b[0minner\u001b[0m\u001b[1;33m.\u001b[0m\u001b[0m__doc__\u001b[0m\u001b[1;33m\u001b[0m\u001b[0m\n\u001b[0;32m   1712\u001b[0m         \u001b[1;32mif\u001b[0m \u001b[0mpre_doc\u001b[0m \u001b[1;32mis\u001b[0m \u001b[1;32mNone\u001b[0m\u001b[1;33m:\u001b[0m\u001b[1;33m\u001b[0m\u001b[0m\n",
      "\u001b[1;32m~\\Anaconda3\\lib\\site-packages\\matplotlib\\axes\\_axes.py\u001b[0m in \u001b[0;36mplot\u001b[1;34m(self, *args, **kwargs)\u001b[0m\n\u001b[0;32m   1435\u001b[0m         \u001b[0mkwargs\u001b[0m \u001b[1;33m=\u001b[0m \u001b[0mcbook\u001b[0m\u001b[1;33m.\u001b[0m\u001b[0mnormalize_kwargs\u001b[0m\u001b[1;33m(\u001b[0m\u001b[0mkwargs\u001b[0m\u001b[1;33m,\u001b[0m \u001b[0m_alias_map\u001b[0m\u001b[1;33m)\u001b[0m\u001b[1;33m\u001b[0m\u001b[0m\n\u001b[0;32m   1436\u001b[0m \u001b[1;33m\u001b[0m\u001b[0m\n\u001b[1;32m-> 1437\u001b[1;33m         \u001b[1;32mfor\u001b[0m \u001b[0mline\u001b[0m \u001b[1;32min\u001b[0m \u001b[0mself\u001b[0m\u001b[1;33m.\u001b[0m\u001b[0m_get_lines\u001b[0m\u001b[1;33m(\u001b[0m\u001b[1;33m*\u001b[0m\u001b[0margs\u001b[0m\u001b[1;33m,\u001b[0m \u001b[1;33m**\u001b[0m\u001b[0mkwargs\u001b[0m\u001b[1;33m)\u001b[0m\u001b[1;33m:\u001b[0m\u001b[1;33m\u001b[0m\u001b[0m\n\u001b[0m\u001b[0;32m   1438\u001b[0m             \u001b[0mself\u001b[0m\u001b[1;33m.\u001b[0m\u001b[0madd_line\u001b[0m\u001b[1;33m(\u001b[0m\u001b[0mline\u001b[0m\u001b[1;33m)\u001b[0m\u001b[1;33m\u001b[0m\u001b[0m\n\u001b[0;32m   1439\u001b[0m             \u001b[0mlines\u001b[0m\u001b[1;33m.\u001b[0m\u001b[0mappend\u001b[0m\u001b[1;33m(\u001b[0m\u001b[0mline\u001b[0m\u001b[1;33m)\u001b[0m\u001b[1;33m\u001b[0m\u001b[0m\n",
      "\u001b[1;32m~\\Anaconda3\\lib\\site-packages\\matplotlib\\axes\\_base.py\u001b[0m in \u001b[0;36m_grab_next_args\u001b[1;34m(self, *args, **kwargs)\u001b[0m\n\u001b[0;32m    402\u001b[0m                 \u001b[0mthis\u001b[0m \u001b[1;33m+=\u001b[0m \u001b[0margs\u001b[0m\u001b[1;33m[\u001b[0m\u001b[1;36m0\u001b[0m\u001b[1;33m]\u001b[0m\u001b[1;33m,\u001b[0m\u001b[1;33m\u001b[0m\u001b[0m\n\u001b[0;32m    403\u001b[0m                 \u001b[0margs\u001b[0m \u001b[1;33m=\u001b[0m \u001b[0margs\u001b[0m\u001b[1;33m[\u001b[0m\u001b[1;36m1\u001b[0m\u001b[1;33m:\u001b[0m\u001b[1;33m]\u001b[0m\u001b[1;33m\u001b[0m\u001b[0m\n\u001b[1;32m--> 404\u001b[1;33m             \u001b[1;32mfor\u001b[0m \u001b[0mseg\u001b[0m \u001b[1;32min\u001b[0m \u001b[0mself\u001b[0m\u001b[1;33m.\u001b[0m\u001b[0m_plot_args\u001b[0m\u001b[1;33m(\u001b[0m\u001b[0mthis\u001b[0m\u001b[1;33m,\u001b[0m \u001b[0mkwargs\u001b[0m\u001b[1;33m)\u001b[0m\u001b[1;33m:\u001b[0m\u001b[1;33m\u001b[0m\u001b[0m\n\u001b[0m\u001b[0;32m    405\u001b[0m                 \u001b[1;32myield\u001b[0m \u001b[0mseg\u001b[0m\u001b[1;33m\u001b[0m\u001b[0m\n\u001b[0;32m    406\u001b[0m \u001b[1;33m\u001b[0m\u001b[0m\n",
      "\u001b[1;32m~\\Anaconda3\\lib\\site-packages\\matplotlib\\axes\\_base.py\u001b[0m in \u001b[0;36m_plot_args\u001b[1;34m(self, tup, kwargs)\u001b[0m\n\u001b[0;32m    392\u001b[0m         \u001b[0mncx\u001b[0m\u001b[1;33m,\u001b[0m \u001b[0mncy\u001b[0m \u001b[1;33m=\u001b[0m \u001b[0mx\u001b[0m\u001b[1;33m.\u001b[0m\u001b[0mshape\u001b[0m\u001b[1;33m[\u001b[0m\u001b[1;36m1\u001b[0m\u001b[1;33m]\u001b[0m\u001b[1;33m,\u001b[0m \u001b[0my\u001b[0m\u001b[1;33m.\u001b[0m\u001b[0mshape\u001b[0m\u001b[1;33m[\u001b[0m\u001b[1;36m1\u001b[0m\u001b[1;33m]\u001b[0m\u001b[1;33m\u001b[0m\u001b[0m\n\u001b[0;32m    393\u001b[0m         \u001b[1;32mfor\u001b[0m \u001b[0mj\u001b[0m \u001b[1;32min\u001b[0m \u001b[0mxrange\u001b[0m\u001b[1;33m(\u001b[0m\u001b[0mmax\u001b[0m\u001b[1;33m(\u001b[0m\u001b[0mncx\u001b[0m\u001b[1;33m,\u001b[0m \u001b[0mncy\u001b[0m\u001b[1;33m)\u001b[0m\u001b[1;33m)\u001b[0m\u001b[1;33m:\u001b[0m\u001b[1;33m\u001b[0m\u001b[0m\n\u001b[1;32m--> 394\u001b[1;33m             \u001b[0mseg\u001b[0m \u001b[1;33m=\u001b[0m \u001b[0mfunc\u001b[0m\u001b[1;33m(\u001b[0m\u001b[0mx\u001b[0m\u001b[1;33m[\u001b[0m\u001b[1;33m:\u001b[0m\u001b[1;33m,\u001b[0m \u001b[0mj\u001b[0m \u001b[1;33m%\u001b[0m \u001b[0mncx\u001b[0m\u001b[1;33m]\u001b[0m\u001b[1;33m,\u001b[0m \u001b[0my\u001b[0m\u001b[1;33m[\u001b[0m\u001b[1;33m:\u001b[0m\u001b[1;33m,\u001b[0m \u001b[0mj\u001b[0m \u001b[1;33m%\u001b[0m \u001b[0mncy\u001b[0m\u001b[1;33m]\u001b[0m\u001b[1;33m,\u001b[0m \u001b[0mkw\u001b[0m\u001b[1;33m,\u001b[0m \u001b[0mkwargs\u001b[0m\u001b[1;33m)\u001b[0m\u001b[1;33m\u001b[0m\u001b[0m\n\u001b[0m\u001b[0;32m    395\u001b[0m             \u001b[0mret\u001b[0m\u001b[1;33m.\u001b[0m\u001b[0mappend\u001b[0m\u001b[1;33m(\u001b[0m\u001b[0mseg\u001b[0m\u001b[1;33m)\u001b[0m\u001b[1;33m\u001b[0m\u001b[0m\n\u001b[0;32m    396\u001b[0m         \u001b[1;32mreturn\u001b[0m \u001b[0mret\u001b[0m\u001b[1;33m\u001b[0m\u001b[0m\n",
      "\u001b[1;32m~\\Anaconda3\\lib\\site-packages\\matplotlib\\axes\\_base.py\u001b[0m in \u001b[0;36m_makeline\u001b[1;34m(self, x, y, kw, kwargs)\u001b[0m\n\u001b[0;32m    299\u001b[0m         \u001b[0mdefault_dict\u001b[0m \u001b[1;33m=\u001b[0m \u001b[0mself\u001b[0m\u001b[1;33m.\u001b[0m\u001b[0m_getdefaults\u001b[0m\u001b[1;33m(\u001b[0m\u001b[1;32mNone\u001b[0m\u001b[1;33m,\u001b[0m \u001b[0mkw\u001b[0m\u001b[1;33m)\u001b[0m\u001b[1;33m\u001b[0m\u001b[0m\n\u001b[0;32m    300\u001b[0m         \u001b[0mself\u001b[0m\u001b[1;33m.\u001b[0m\u001b[0m_setdefaults\u001b[0m\u001b[1;33m(\u001b[0m\u001b[0mdefault_dict\u001b[0m\u001b[1;33m,\u001b[0m \u001b[0mkw\u001b[0m\u001b[1;33m)\u001b[0m\u001b[1;33m\u001b[0m\u001b[0m\n\u001b[1;32m--> 301\u001b[1;33m         \u001b[0mseg\u001b[0m \u001b[1;33m=\u001b[0m \u001b[0mmlines\u001b[0m\u001b[1;33m.\u001b[0m\u001b[0mLine2D\u001b[0m\u001b[1;33m(\u001b[0m\u001b[0mx\u001b[0m\u001b[1;33m,\u001b[0m \u001b[0my\u001b[0m\u001b[1;33m,\u001b[0m \u001b[1;33m**\u001b[0m\u001b[0mkw\u001b[0m\u001b[1;33m)\u001b[0m\u001b[1;33m\u001b[0m\u001b[0m\n\u001b[0m\u001b[0;32m    302\u001b[0m         \u001b[1;32mreturn\u001b[0m \u001b[0mseg\u001b[0m\u001b[1;33m\u001b[0m\u001b[0m\n\u001b[0;32m    303\u001b[0m \u001b[1;33m\u001b[0m\u001b[0m\n",
      "\u001b[1;32m~\\Anaconda3\\lib\\site-packages\\matplotlib\\lines.py\u001b[0m in \u001b[0;36m__init__\u001b[1;34m(self, xdata, ydata, linewidth, linestyle, color, marker, markersize, markeredgewidth, markeredgecolor, markerfacecolor, markerfacecoloralt, fillstyle, antialiased, dash_capstyle, solid_capstyle, dash_joinstyle, solid_joinstyle, pickradius, drawstyle, markevery, **kwargs)\u001b[0m\n\u001b[0;32m    424\u001b[0m         \u001b[1;31m# update kwargs before updating data to give the caller a\u001b[0m\u001b[1;33m\u001b[0m\u001b[1;33m\u001b[0m\u001b[0m\n\u001b[0;32m    425\u001b[0m         \u001b[1;31m# chance to init axes (and hence unit support)\u001b[0m\u001b[1;33m\u001b[0m\u001b[1;33m\u001b[0m\u001b[0m\n\u001b[1;32m--> 426\u001b[1;33m         \u001b[0mself\u001b[0m\u001b[1;33m.\u001b[0m\u001b[0mupdate\u001b[0m\u001b[1;33m(\u001b[0m\u001b[0mkwargs\u001b[0m\u001b[1;33m)\u001b[0m\u001b[1;33m\u001b[0m\u001b[0m\n\u001b[0m\u001b[0;32m    427\u001b[0m         \u001b[0mself\u001b[0m\u001b[1;33m.\u001b[0m\u001b[0mpickradius\u001b[0m \u001b[1;33m=\u001b[0m \u001b[0mpickradius\u001b[0m\u001b[1;33m\u001b[0m\u001b[0m\n\u001b[0;32m    428\u001b[0m         \u001b[0mself\u001b[0m\u001b[1;33m.\u001b[0m\u001b[0mind_offset\u001b[0m \u001b[1;33m=\u001b[0m \u001b[1;36m0\u001b[0m\u001b[1;33m\u001b[0m\u001b[0m\n",
      "\u001b[1;32m~\\Anaconda3\\lib\\site-packages\\matplotlib\\artist.py\u001b[0m in \u001b[0;36mupdate\u001b[1;34m(self, props)\u001b[0m\n\u001b[0;32m    845\u001b[0m         \u001b[1;32mtry\u001b[0m\u001b[1;33m:\u001b[0m\u001b[1;33m\u001b[0m\u001b[0m\n\u001b[0;32m    846\u001b[0m             ret = [_update_property(self, k, v)\n\u001b[1;32m--> 847\u001b[1;33m                    for k, v in props.items()]\n\u001b[0m\u001b[0;32m    848\u001b[0m         \u001b[1;32mfinally\u001b[0m\u001b[1;33m:\u001b[0m\u001b[1;33m\u001b[0m\u001b[0m\n\u001b[0;32m    849\u001b[0m             \u001b[0mself\u001b[0m\u001b[1;33m.\u001b[0m\u001b[0meventson\u001b[0m \u001b[1;33m=\u001b[0m \u001b[0mstore\u001b[0m\u001b[1;33m\u001b[0m\u001b[0m\n",
      "\u001b[1;32m~\\Anaconda3\\lib\\site-packages\\matplotlib\\artist.py\u001b[0m in \u001b[0;36m<listcomp>\u001b[1;34m(.0)\u001b[0m\n\u001b[0;32m    845\u001b[0m         \u001b[1;32mtry\u001b[0m\u001b[1;33m:\u001b[0m\u001b[1;33m\u001b[0m\u001b[0m\n\u001b[0;32m    846\u001b[0m             ret = [_update_property(self, k, v)\n\u001b[1;32m--> 847\u001b[1;33m                    for k, v in props.items()]\n\u001b[0m\u001b[0;32m    848\u001b[0m         \u001b[1;32mfinally\u001b[0m\u001b[1;33m:\u001b[0m\u001b[1;33m\u001b[0m\u001b[0m\n\u001b[0;32m    849\u001b[0m             \u001b[0mself\u001b[0m\u001b[1;33m.\u001b[0m\u001b[0meventson\u001b[0m \u001b[1;33m=\u001b[0m \u001b[0mstore\u001b[0m\u001b[1;33m\u001b[0m\u001b[0m\n",
      "\u001b[1;32m~\\Anaconda3\\lib\\site-packages\\matplotlib\\artist.py\u001b[0m in \u001b[0;36m_update_property\u001b[1;34m(self, k, v)\u001b[0m\n\u001b[0;32m    838\u001b[0m                 \u001b[0mfunc\u001b[0m \u001b[1;33m=\u001b[0m \u001b[0mgetattr\u001b[0m\u001b[1;33m(\u001b[0m\u001b[0mself\u001b[0m\u001b[1;33m,\u001b[0m \u001b[1;34m'set_'\u001b[0m \u001b[1;33m+\u001b[0m \u001b[0mk\u001b[0m\u001b[1;33m,\u001b[0m \u001b[1;32mNone\u001b[0m\u001b[1;33m)\u001b[0m\u001b[1;33m\u001b[0m\u001b[0m\n\u001b[0;32m    839\u001b[0m                 \u001b[1;32mif\u001b[0m \u001b[1;32mnot\u001b[0m \u001b[0mcallable\u001b[0m\u001b[1;33m(\u001b[0m\u001b[0mfunc\u001b[0m\u001b[1;33m)\u001b[0m\u001b[1;33m:\u001b[0m\u001b[1;33m\u001b[0m\u001b[0m\n\u001b[1;32m--> 840\u001b[1;33m                     \u001b[1;32mraise\u001b[0m \u001b[0mAttributeError\u001b[0m\u001b[1;33m(\u001b[0m\u001b[1;34m'Unknown property %s'\u001b[0m \u001b[1;33m%\u001b[0m \u001b[0mk\u001b[0m\u001b[1;33m)\u001b[0m\u001b[1;33m\u001b[0m\u001b[0m\n\u001b[0m\u001b[0;32m    841\u001b[0m                 \u001b[1;32mreturn\u001b[0m \u001b[0mfunc\u001b[0m\u001b[1;33m(\u001b[0m\u001b[0mv\u001b[0m\u001b[1;33m)\u001b[0m\u001b[1;33m\u001b[0m\u001b[0m\n\u001b[0;32m    842\u001b[0m \u001b[1;33m\u001b[0m\u001b[0m\n",
      "\u001b[1;31mAttributeError\u001b[0m: Unknown property facecolor"
     ]
    },
    {
     "ename": "ValueError",
     "evalue": "ordinal must be >= 1",
     "output_type": "error",
     "traceback": [
      "\u001b[1;31m---------------------------------------------------------------------------\u001b[0m",
      "\u001b[1;31mValueError\u001b[0m                                Traceback (most recent call last)",
      "\u001b[1;32m~\\Anaconda3\\lib\\site-packages\\IPython\\core\\formatters.py\u001b[0m in \u001b[0;36m__call__\u001b[1;34m(self, obj)\u001b[0m\n\u001b[0;32m    330\u001b[0m                 \u001b[1;32mpass\u001b[0m\u001b[1;33m\u001b[0m\u001b[0m\n\u001b[0;32m    331\u001b[0m             \u001b[1;32melse\u001b[0m\u001b[1;33m:\u001b[0m\u001b[1;33m\u001b[0m\u001b[0m\n\u001b[1;32m--> 332\u001b[1;33m                 \u001b[1;32mreturn\u001b[0m \u001b[0mprinter\u001b[0m\u001b[1;33m(\u001b[0m\u001b[0mobj\u001b[0m\u001b[1;33m)\u001b[0m\u001b[1;33m\u001b[0m\u001b[0m\n\u001b[0m\u001b[0;32m    333\u001b[0m             \u001b[1;31m# Finally look for special method names\u001b[0m\u001b[1;33m\u001b[0m\u001b[1;33m\u001b[0m\u001b[0m\n\u001b[0;32m    334\u001b[0m             \u001b[0mmethod\u001b[0m \u001b[1;33m=\u001b[0m \u001b[0mget_real_method\u001b[0m\u001b[1;33m(\u001b[0m\u001b[0mobj\u001b[0m\u001b[1;33m,\u001b[0m \u001b[0mself\u001b[0m\u001b[1;33m.\u001b[0m\u001b[0mprint_method\u001b[0m\u001b[1;33m)\u001b[0m\u001b[1;33m\u001b[0m\u001b[0m\n",
      "\u001b[1;32m~\\Anaconda3\\lib\\site-packages\\IPython\\core\\pylabtools.py\u001b[0m in \u001b[0;36m<lambda>\u001b[1;34m(fig)\u001b[0m\n\u001b[0;32m    235\u001b[0m \u001b[1;33m\u001b[0m\u001b[0m\n\u001b[0;32m    236\u001b[0m     \u001b[1;32mif\u001b[0m \u001b[1;34m'png'\u001b[0m \u001b[1;32min\u001b[0m \u001b[0mformats\u001b[0m\u001b[1;33m:\u001b[0m\u001b[1;33m\u001b[0m\u001b[0m\n\u001b[1;32m--> 237\u001b[1;33m         \u001b[0mpng_formatter\u001b[0m\u001b[1;33m.\u001b[0m\u001b[0mfor_type\u001b[0m\u001b[1;33m(\u001b[0m\u001b[0mFigure\u001b[0m\u001b[1;33m,\u001b[0m \u001b[1;32mlambda\u001b[0m \u001b[0mfig\u001b[0m\u001b[1;33m:\u001b[0m \u001b[0mprint_figure\u001b[0m\u001b[1;33m(\u001b[0m\u001b[0mfig\u001b[0m\u001b[1;33m,\u001b[0m \u001b[1;34m'png'\u001b[0m\u001b[1;33m,\u001b[0m \u001b[1;33m**\u001b[0m\u001b[0mkwargs\u001b[0m\u001b[1;33m)\u001b[0m\u001b[1;33m)\u001b[0m\u001b[1;33m\u001b[0m\u001b[0m\n\u001b[0m\u001b[0;32m    238\u001b[0m     \u001b[1;32mif\u001b[0m \u001b[1;34m'retina'\u001b[0m \u001b[1;32min\u001b[0m \u001b[0mformats\u001b[0m \u001b[1;32mor\u001b[0m \u001b[1;34m'png2x'\u001b[0m \u001b[1;32min\u001b[0m \u001b[0mformats\u001b[0m\u001b[1;33m:\u001b[0m\u001b[1;33m\u001b[0m\u001b[0m\n\u001b[0;32m    239\u001b[0m         \u001b[0mpng_formatter\u001b[0m\u001b[1;33m.\u001b[0m\u001b[0mfor_type\u001b[0m\u001b[1;33m(\u001b[0m\u001b[0mFigure\u001b[0m\u001b[1;33m,\u001b[0m \u001b[1;32mlambda\u001b[0m \u001b[0mfig\u001b[0m\u001b[1;33m:\u001b[0m \u001b[0mretina_figure\u001b[0m\u001b[1;33m(\u001b[0m\u001b[0mfig\u001b[0m\u001b[1;33m,\u001b[0m \u001b[1;33m**\u001b[0m\u001b[0mkwargs\u001b[0m\u001b[1;33m)\u001b[0m\u001b[1;33m)\u001b[0m\u001b[1;33m\u001b[0m\u001b[0m\n",
      "\u001b[1;32m~\\Anaconda3\\lib\\site-packages\\IPython\\core\\pylabtools.py\u001b[0m in \u001b[0;36mprint_figure\u001b[1;34m(fig, fmt, bbox_inches, **kwargs)\u001b[0m\n\u001b[0;32m    119\u001b[0m \u001b[1;33m\u001b[0m\u001b[0m\n\u001b[0;32m    120\u001b[0m     \u001b[0mbytes_io\u001b[0m \u001b[1;33m=\u001b[0m \u001b[0mBytesIO\u001b[0m\u001b[1;33m(\u001b[0m\u001b[1;33m)\u001b[0m\u001b[1;33m\u001b[0m\u001b[0m\n\u001b[1;32m--> 121\u001b[1;33m     \u001b[0mfig\u001b[0m\u001b[1;33m.\u001b[0m\u001b[0mcanvas\u001b[0m\u001b[1;33m.\u001b[0m\u001b[0mprint_figure\u001b[0m\u001b[1;33m(\u001b[0m\u001b[0mbytes_io\u001b[0m\u001b[1;33m,\u001b[0m \u001b[1;33m**\u001b[0m\u001b[0mkw\u001b[0m\u001b[1;33m)\u001b[0m\u001b[1;33m\u001b[0m\u001b[0m\n\u001b[0m\u001b[0;32m    122\u001b[0m     \u001b[0mdata\u001b[0m \u001b[1;33m=\u001b[0m \u001b[0mbytes_io\u001b[0m\u001b[1;33m.\u001b[0m\u001b[0mgetvalue\u001b[0m\u001b[1;33m(\u001b[0m\u001b[1;33m)\u001b[0m\u001b[1;33m\u001b[0m\u001b[0m\n\u001b[0;32m    123\u001b[0m     \u001b[1;32mif\u001b[0m \u001b[0mfmt\u001b[0m \u001b[1;33m==\u001b[0m \u001b[1;34m'svg'\u001b[0m\u001b[1;33m:\u001b[0m\u001b[1;33m\u001b[0m\u001b[0m\n",
      "\u001b[1;32m~\\Anaconda3\\lib\\site-packages\\matplotlib\\backend_bases.py\u001b[0m in \u001b[0;36mprint_figure\u001b[1;34m(self, filename, dpi, facecolor, edgecolor, orientation, format, **kwargs)\u001b[0m\n\u001b[0;32m   2206\u001b[0m                     \u001b[0morientation\u001b[0m\u001b[1;33m=\u001b[0m\u001b[0morientation\u001b[0m\u001b[1;33m,\u001b[0m\u001b[1;33m\u001b[0m\u001b[0m\n\u001b[0;32m   2207\u001b[0m                     \u001b[0mdryrun\u001b[0m\u001b[1;33m=\u001b[0m\u001b[1;32mTrue\u001b[0m\u001b[1;33m,\u001b[0m\u001b[1;33m\u001b[0m\u001b[0m\n\u001b[1;32m-> 2208\u001b[1;33m                     **kwargs)\n\u001b[0m\u001b[0;32m   2209\u001b[0m                 \u001b[0mrenderer\u001b[0m \u001b[1;33m=\u001b[0m \u001b[0mself\u001b[0m\u001b[1;33m.\u001b[0m\u001b[0mfigure\u001b[0m\u001b[1;33m.\u001b[0m\u001b[0m_cachedRenderer\u001b[0m\u001b[1;33m\u001b[0m\u001b[0m\n\u001b[0;32m   2210\u001b[0m                 \u001b[0mbbox_inches\u001b[0m \u001b[1;33m=\u001b[0m \u001b[0mself\u001b[0m\u001b[1;33m.\u001b[0m\u001b[0mfigure\u001b[0m\u001b[1;33m.\u001b[0m\u001b[0mget_tightbbox\u001b[0m\u001b[1;33m(\u001b[0m\u001b[0mrenderer\u001b[0m\u001b[1;33m)\u001b[0m\u001b[1;33m\u001b[0m\u001b[0m\n",
      "\u001b[1;32m~\\Anaconda3\\lib\\site-packages\\matplotlib\\backends\\backend_agg.py\u001b[0m in \u001b[0;36mprint_png\u001b[1;34m(self, filename_or_obj, *args, **kwargs)\u001b[0m\n\u001b[0;32m    505\u001b[0m \u001b[1;33m\u001b[0m\u001b[0m\n\u001b[0;32m    506\u001b[0m     \u001b[1;32mdef\u001b[0m \u001b[0mprint_png\u001b[0m\u001b[1;33m(\u001b[0m\u001b[0mself\u001b[0m\u001b[1;33m,\u001b[0m \u001b[0mfilename_or_obj\u001b[0m\u001b[1;33m,\u001b[0m \u001b[1;33m*\u001b[0m\u001b[0margs\u001b[0m\u001b[1;33m,\u001b[0m \u001b[1;33m**\u001b[0m\u001b[0mkwargs\u001b[0m\u001b[1;33m)\u001b[0m\u001b[1;33m:\u001b[0m\u001b[1;33m\u001b[0m\u001b[0m\n\u001b[1;32m--> 507\u001b[1;33m         \u001b[0mFigureCanvasAgg\u001b[0m\u001b[1;33m.\u001b[0m\u001b[0mdraw\u001b[0m\u001b[1;33m(\u001b[0m\u001b[0mself\u001b[0m\u001b[1;33m)\u001b[0m\u001b[1;33m\u001b[0m\u001b[0m\n\u001b[0m\u001b[0;32m    508\u001b[0m         \u001b[0mrenderer\u001b[0m \u001b[1;33m=\u001b[0m \u001b[0mself\u001b[0m\u001b[1;33m.\u001b[0m\u001b[0mget_renderer\u001b[0m\u001b[1;33m(\u001b[0m\u001b[1;33m)\u001b[0m\u001b[1;33m\u001b[0m\u001b[0m\n\u001b[0;32m    509\u001b[0m         \u001b[0moriginal_dpi\u001b[0m \u001b[1;33m=\u001b[0m \u001b[0mrenderer\u001b[0m\u001b[1;33m.\u001b[0m\u001b[0mdpi\u001b[0m\u001b[1;33m\u001b[0m\u001b[0m\n",
      "\u001b[1;32m~\\Anaconda3\\lib\\site-packages\\matplotlib\\backends\\backend_agg.py\u001b[0m in \u001b[0;36mdraw\u001b[1;34m(self)\u001b[0m\n\u001b[0;32m    428\u001b[0m             \u001b[1;32mif\u001b[0m \u001b[0mtoolbar\u001b[0m\u001b[1;33m:\u001b[0m\u001b[1;33m\u001b[0m\u001b[0m\n\u001b[0;32m    429\u001b[0m                 \u001b[0mtoolbar\u001b[0m\u001b[1;33m.\u001b[0m\u001b[0mset_cursor\u001b[0m\u001b[1;33m(\u001b[0m\u001b[0mcursors\u001b[0m\u001b[1;33m.\u001b[0m\u001b[0mWAIT\u001b[0m\u001b[1;33m)\u001b[0m\u001b[1;33m\u001b[0m\u001b[0m\n\u001b[1;32m--> 430\u001b[1;33m             \u001b[0mself\u001b[0m\u001b[1;33m.\u001b[0m\u001b[0mfigure\u001b[0m\u001b[1;33m.\u001b[0m\u001b[0mdraw\u001b[0m\u001b[1;33m(\u001b[0m\u001b[0mself\u001b[0m\u001b[1;33m.\u001b[0m\u001b[0mrenderer\u001b[0m\u001b[1;33m)\u001b[0m\u001b[1;33m\u001b[0m\u001b[0m\n\u001b[0m\u001b[0;32m    431\u001b[0m         \u001b[1;32mfinally\u001b[0m\u001b[1;33m:\u001b[0m\u001b[1;33m\u001b[0m\u001b[0m\n\u001b[0;32m    432\u001b[0m             \u001b[1;32mif\u001b[0m \u001b[0mtoolbar\u001b[0m\u001b[1;33m:\u001b[0m\u001b[1;33m\u001b[0m\u001b[0m\n",
      "\u001b[1;32m~\\Anaconda3\\lib\\site-packages\\matplotlib\\artist.py\u001b[0m in \u001b[0;36mdraw_wrapper\u001b[1;34m(artist, renderer, *args, **kwargs)\u001b[0m\n\u001b[0;32m     53\u001b[0m                 \u001b[0mrenderer\u001b[0m\u001b[1;33m.\u001b[0m\u001b[0mstart_filter\u001b[0m\u001b[1;33m(\u001b[0m\u001b[1;33m)\u001b[0m\u001b[1;33m\u001b[0m\u001b[0m\n\u001b[0;32m     54\u001b[0m \u001b[1;33m\u001b[0m\u001b[0m\n\u001b[1;32m---> 55\u001b[1;33m             \u001b[1;32mreturn\u001b[0m \u001b[0mdraw\u001b[0m\u001b[1;33m(\u001b[0m\u001b[0martist\u001b[0m\u001b[1;33m,\u001b[0m \u001b[0mrenderer\u001b[0m\u001b[1;33m,\u001b[0m \u001b[1;33m*\u001b[0m\u001b[0margs\u001b[0m\u001b[1;33m,\u001b[0m \u001b[1;33m**\u001b[0m\u001b[0mkwargs\u001b[0m\u001b[1;33m)\u001b[0m\u001b[1;33m\u001b[0m\u001b[0m\n\u001b[0m\u001b[0;32m     56\u001b[0m         \u001b[1;32mfinally\u001b[0m\u001b[1;33m:\u001b[0m\u001b[1;33m\u001b[0m\u001b[0m\n\u001b[0;32m     57\u001b[0m             \u001b[1;32mif\u001b[0m \u001b[0martist\u001b[0m\u001b[1;33m.\u001b[0m\u001b[0mget_agg_filter\u001b[0m\u001b[1;33m(\u001b[0m\u001b[1;33m)\u001b[0m \u001b[1;32mis\u001b[0m \u001b[1;32mnot\u001b[0m \u001b[1;32mNone\u001b[0m\u001b[1;33m:\u001b[0m\u001b[1;33m\u001b[0m\u001b[0m\n",
      "\u001b[1;32m~\\Anaconda3\\lib\\site-packages\\matplotlib\\figure.py\u001b[0m in \u001b[0;36mdraw\u001b[1;34m(self, renderer)\u001b[0m\n\u001b[0;32m   1293\u001b[0m \u001b[1;33m\u001b[0m\u001b[0m\n\u001b[0;32m   1294\u001b[0m             mimage._draw_list_compositing_images(\n\u001b[1;32m-> 1295\u001b[1;33m                 renderer, self, artists, self.suppressComposite)\n\u001b[0m\u001b[0;32m   1296\u001b[0m \u001b[1;33m\u001b[0m\u001b[0m\n\u001b[0;32m   1297\u001b[0m             \u001b[0mrenderer\u001b[0m\u001b[1;33m.\u001b[0m\u001b[0mclose_group\u001b[0m\u001b[1;33m(\u001b[0m\u001b[1;34m'figure'\u001b[0m\u001b[1;33m)\u001b[0m\u001b[1;33m\u001b[0m\u001b[0m\n",
      "\u001b[1;32m~\\Anaconda3\\lib\\site-packages\\matplotlib\\image.py\u001b[0m in \u001b[0;36m_draw_list_compositing_images\u001b[1;34m(renderer, parent, artists, suppress_composite)\u001b[0m\n\u001b[0;32m    136\u001b[0m     \u001b[1;32mif\u001b[0m \u001b[0mnot_composite\u001b[0m \u001b[1;32mor\u001b[0m \u001b[1;32mnot\u001b[0m \u001b[0mhas_images\u001b[0m\u001b[1;33m:\u001b[0m\u001b[1;33m\u001b[0m\u001b[0m\n\u001b[0;32m    137\u001b[0m         \u001b[1;32mfor\u001b[0m \u001b[0ma\u001b[0m \u001b[1;32min\u001b[0m \u001b[0martists\u001b[0m\u001b[1;33m:\u001b[0m\u001b[1;33m\u001b[0m\u001b[0m\n\u001b[1;32m--> 138\u001b[1;33m             \u001b[0ma\u001b[0m\u001b[1;33m.\u001b[0m\u001b[0mdraw\u001b[0m\u001b[1;33m(\u001b[0m\u001b[0mrenderer\u001b[0m\u001b[1;33m)\u001b[0m\u001b[1;33m\u001b[0m\u001b[0m\n\u001b[0m\u001b[0;32m    139\u001b[0m     \u001b[1;32melse\u001b[0m\u001b[1;33m:\u001b[0m\u001b[1;33m\u001b[0m\u001b[0m\n\u001b[0;32m    140\u001b[0m         \u001b[1;31m# Composite any adjacent images together\u001b[0m\u001b[1;33m\u001b[0m\u001b[1;33m\u001b[0m\u001b[0m\n",
      "\u001b[1;32m~\\Anaconda3\\lib\\site-packages\\matplotlib\\artist.py\u001b[0m in \u001b[0;36mdraw_wrapper\u001b[1;34m(artist, renderer, *args, **kwargs)\u001b[0m\n\u001b[0;32m     53\u001b[0m                 \u001b[0mrenderer\u001b[0m\u001b[1;33m.\u001b[0m\u001b[0mstart_filter\u001b[0m\u001b[1;33m(\u001b[0m\u001b[1;33m)\u001b[0m\u001b[1;33m\u001b[0m\u001b[0m\n\u001b[0;32m     54\u001b[0m \u001b[1;33m\u001b[0m\u001b[0m\n\u001b[1;32m---> 55\u001b[1;33m             \u001b[1;32mreturn\u001b[0m \u001b[0mdraw\u001b[0m\u001b[1;33m(\u001b[0m\u001b[0martist\u001b[0m\u001b[1;33m,\u001b[0m \u001b[0mrenderer\u001b[0m\u001b[1;33m,\u001b[0m \u001b[1;33m*\u001b[0m\u001b[0margs\u001b[0m\u001b[1;33m,\u001b[0m \u001b[1;33m**\u001b[0m\u001b[0mkwargs\u001b[0m\u001b[1;33m)\u001b[0m\u001b[1;33m\u001b[0m\u001b[0m\n\u001b[0m\u001b[0;32m     56\u001b[0m         \u001b[1;32mfinally\u001b[0m\u001b[1;33m:\u001b[0m\u001b[1;33m\u001b[0m\u001b[0m\n\u001b[0;32m     57\u001b[0m             \u001b[1;32mif\u001b[0m \u001b[0martist\u001b[0m\u001b[1;33m.\u001b[0m\u001b[0mget_agg_filter\u001b[0m\u001b[1;33m(\u001b[0m\u001b[1;33m)\u001b[0m \u001b[1;32mis\u001b[0m \u001b[1;32mnot\u001b[0m \u001b[1;32mNone\u001b[0m\u001b[1;33m:\u001b[0m\u001b[1;33m\u001b[0m\u001b[0m\n",
      "\u001b[1;32m~\\Anaconda3\\lib\\site-packages\\matplotlib\\axes\\_base.py\u001b[0m in \u001b[0;36mdraw\u001b[1;34m(self, renderer, inframe)\u001b[0m\n\u001b[0;32m   2397\u001b[0m             \u001b[0mrenderer\u001b[0m\u001b[1;33m.\u001b[0m\u001b[0mstop_rasterizing\u001b[0m\u001b[1;33m(\u001b[0m\u001b[1;33m)\u001b[0m\u001b[1;33m\u001b[0m\u001b[0m\n\u001b[0;32m   2398\u001b[0m \u001b[1;33m\u001b[0m\u001b[0m\n\u001b[1;32m-> 2399\u001b[1;33m         \u001b[0mmimage\u001b[0m\u001b[1;33m.\u001b[0m\u001b[0m_draw_list_compositing_images\u001b[0m\u001b[1;33m(\u001b[0m\u001b[0mrenderer\u001b[0m\u001b[1;33m,\u001b[0m \u001b[0mself\u001b[0m\u001b[1;33m,\u001b[0m \u001b[0martists\u001b[0m\u001b[1;33m)\u001b[0m\u001b[1;33m\u001b[0m\u001b[0m\n\u001b[0m\u001b[0;32m   2400\u001b[0m \u001b[1;33m\u001b[0m\u001b[0m\n\u001b[0;32m   2401\u001b[0m         \u001b[0mrenderer\u001b[0m\u001b[1;33m.\u001b[0m\u001b[0mclose_group\u001b[0m\u001b[1;33m(\u001b[0m\u001b[1;34m'axes'\u001b[0m\u001b[1;33m)\u001b[0m\u001b[1;33m\u001b[0m\u001b[0m\n",
      "\u001b[1;32m~\\Anaconda3\\lib\\site-packages\\matplotlib\\image.py\u001b[0m in \u001b[0;36m_draw_list_compositing_images\u001b[1;34m(renderer, parent, artists, suppress_composite)\u001b[0m\n\u001b[0;32m    136\u001b[0m     \u001b[1;32mif\u001b[0m \u001b[0mnot_composite\u001b[0m \u001b[1;32mor\u001b[0m \u001b[1;32mnot\u001b[0m \u001b[0mhas_images\u001b[0m\u001b[1;33m:\u001b[0m\u001b[1;33m\u001b[0m\u001b[0m\n\u001b[0;32m    137\u001b[0m         \u001b[1;32mfor\u001b[0m \u001b[0ma\u001b[0m \u001b[1;32min\u001b[0m \u001b[0martists\u001b[0m\u001b[1;33m:\u001b[0m\u001b[1;33m\u001b[0m\u001b[0m\n\u001b[1;32m--> 138\u001b[1;33m             \u001b[0ma\u001b[0m\u001b[1;33m.\u001b[0m\u001b[0mdraw\u001b[0m\u001b[1;33m(\u001b[0m\u001b[0mrenderer\u001b[0m\u001b[1;33m)\u001b[0m\u001b[1;33m\u001b[0m\u001b[0m\n\u001b[0m\u001b[0;32m    139\u001b[0m     \u001b[1;32melse\u001b[0m\u001b[1;33m:\u001b[0m\u001b[1;33m\u001b[0m\u001b[0m\n\u001b[0;32m    140\u001b[0m         \u001b[1;31m# Composite any adjacent images together\u001b[0m\u001b[1;33m\u001b[0m\u001b[1;33m\u001b[0m\u001b[0m\n",
      "\u001b[1;32m~\\Anaconda3\\lib\\site-packages\\matplotlib\\artist.py\u001b[0m in \u001b[0;36mdraw_wrapper\u001b[1;34m(artist, renderer, *args, **kwargs)\u001b[0m\n\u001b[0;32m     53\u001b[0m                 \u001b[0mrenderer\u001b[0m\u001b[1;33m.\u001b[0m\u001b[0mstart_filter\u001b[0m\u001b[1;33m(\u001b[0m\u001b[1;33m)\u001b[0m\u001b[1;33m\u001b[0m\u001b[0m\n\u001b[0;32m     54\u001b[0m \u001b[1;33m\u001b[0m\u001b[0m\n\u001b[1;32m---> 55\u001b[1;33m             \u001b[1;32mreturn\u001b[0m \u001b[0mdraw\u001b[0m\u001b[1;33m(\u001b[0m\u001b[0martist\u001b[0m\u001b[1;33m,\u001b[0m \u001b[0mrenderer\u001b[0m\u001b[1;33m,\u001b[0m \u001b[1;33m*\u001b[0m\u001b[0margs\u001b[0m\u001b[1;33m,\u001b[0m \u001b[1;33m**\u001b[0m\u001b[0mkwargs\u001b[0m\u001b[1;33m)\u001b[0m\u001b[1;33m\u001b[0m\u001b[0m\n\u001b[0m\u001b[0;32m     56\u001b[0m         \u001b[1;32mfinally\u001b[0m\u001b[1;33m:\u001b[0m\u001b[1;33m\u001b[0m\u001b[0m\n\u001b[0;32m     57\u001b[0m             \u001b[1;32mif\u001b[0m \u001b[0martist\u001b[0m\u001b[1;33m.\u001b[0m\u001b[0mget_agg_filter\u001b[0m\u001b[1;33m(\u001b[0m\u001b[1;33m)\u001b[0m \u001b[1;32mis\u001b[0m \u001b[1;32mnot\u001b[0m \u001b[1;32mNone\u001b[0m\u001b[1;33m:\u001b[0m\u001b[1;33m\u001b[0m\u001b[0m\n",
      "\u001b[1;32m~\\Anaconda3\\lib\\site-packages\\matplotlib\\axis.py\u001b[0m in \u001b[0;36mdraw\u001b[1;34m(self, renderer, *args, **kwargs)\u001b[0m\n\u001b[0;32m   1131\u001b[0m         \u001b[0mrenderer\u001b[0m\u001b[1;33m.\u001b[0m\u001b[0mopen_group\u001b[0m\u001b[1;33m(\u001b[0m\u001b[0m__name__\u001b[0m\u001b[1;33m)\u001b[0m\u001b[1;33m\u001b[0m\u001b[0m\n\u001b[0;32m   1132\u001b[0m \u001b[1;33m\u001b[0m\u001b[0m\n\u001b[1;32m-> 1133\u001b[1;33m         \u001b[0mticks_to_draw\u001b[0m \u001b[1;33m=\u001b[0m \u001b[0mself\u001b[0m\u001b[1;33m.\u001b[0m\u001b[0m_update_ticks\u001b[0m\u001b[1;33m(\u001b[0m\u001b[0mrenderer\u001b[0m\u001b[1;33m)\u001b[0m\u001b[1;33m\u001b[0m\u001b[0m\n\u001b[0m\u001b[0;32m   1134\u001b[0m         ticklabelBoxes, ticklabelBoxes2 = self._get_tick_bboxes(ticks_to_draw,\n\u001b[0;32m   1135\u001b[0m                                                                 renderer)\n",
      "\u001b[1;32m~\\Anaconda3\\lib\\site-packages\\matplotlib\\axis.py\u001b[0m in \u001b[0;36m_update_ticks\u001b[1;34m(self, renderer)\u001b[0m\n\u001b[0;32m    972\u001b[0m \u001b[1;33m\u001b[0m\u001b[0m\n\u001b[0;32m    973\u001b[0m         \u001b[0minterval\u001b[0m \u001b[1;33m=\u001b[0m \u001b[0mself\u001b[0m\u001b[1;33m.\u001b[0m\u001b[0mget_view_interval\u001b[0m\u001b[1;33m(\u001b[0m\u001b[1;33m)\u001b[0m\u001b[1;33m\u001b[0m\u001b[0m\n\u001b[1;32m--> 974\u001b[1;33m         \u001b[0mtick_tups\u001b[0m \u001b[1;33m=\u001b[0m \u001b[0mlist\u001b[0m\u001b[1;33m(\u001b[0m\u001b[0mself\u001b[0m\u001b[1;33m.\u001b[0m\u001b[0miter_ticks\u001b[0m\u001b[1;33m(\u001b[0m\u001b[1;33m)\u001b[0m\u001b[1;33m)\u001b[0m\u001b[1;33m\u001b[0m\u001b[0m\n\u001b[0m\u001b[0;32m    975\u001b[0m         \u001b[1;32mif\u001b[0m \u001b[0mself\u001b[0m\u001b[1;33m.\u001b[0m\u001b[0m_smart_bounds\u001b[0m \u001b[1;32mand\u001b[0m \u001b[0mtick_tups\u001b[0m\u001b[1;33m:\u001b[0m\u001b[1;33m\u001b[0m\u001b[0m\n\u001b[0;32m    976\u001b[0m             \u001b[1;31m# handle inverted limits\u001b[0m\u001b[1;33m\u001b[0m\u001b[1;33m\u001b[0m\u001b[0m\n",
      "\u001b[1;32m~\\Anaconda3\\lib\\site-packages\\matplotlib\\axis.py\u001b[0m in \u001b[0;36miter_ticks\u001b[1;34m(self)\u001b[0m\n\u001b[0;32m    915\u001b[0m         \u001b[0mIterate\u001b[0m \u001b[0mthrough\u001b[0m \u001b[0mall\u001b[0m \u001b[0mof\u001b[0m \u001b[0mthe\u001b[0m \u001b[0mmajor\u001b[0m \u001b[1;32mand\u001b[0m \u001b[0mminor\u001b[0m \u001b[0mticks\u001b[0m\u001b[1;33m.\u001b[0m\u001b[1;33m\u001b[0m\u001b[0m\n\u001b[0;32m    916\u001b[0m         \"\"\"\n\u001b[1;32m--> 917\u001b[1;33m         \u001b[0mmajorLocs\u001b[0m \u001b[1;33m=\u001b[0m \u001b[0mself\u001b[0m\u001b[1;33m.\u001b[0m\u001b[0mmajor\u001b[0m\u001b[1;33m.\u001b[0m\u001b[0mlocator\u001b[0m\u001b[1;33m(\u001b[0m\u001b[1;33m)\u001b[0m\u001b[1;33m\u001b[0m\u001b[0m\n\u001b[0m\u001b[0;32m    918\u001b[0m         \u001b[0mmajorTicks\u001b[0m \u001b[1;33m=\u001b[0m \u001b[0mself\u001b[0m\u001b[1;33m.\u001b[0m\u001b[0mget_major_ticks\u001b[0m\u001b[1;33m(\u001b[0m\u001b[0mlen\u001b[0m\u001b[1;33m(\u001b[0m\u001b[0mmajorLocs\u001b[0m\u001b[1;33m)\u001b[0m\u001b[1;33m)\u001b[0m\u001b[1;33m\u001b[0m\u001b[0m\n\u001b[0;32m    919\u001b[0m         \u001b[0mself\u001b[0m\u001b[1;33m.\u001b[0m\u001b[0mmajor\u001b[0m\u001b[1;33m.\u001b[0m\u001b[0mformatter\u001b[0m\u001b[1;33m.\u001b[0m\u001b[0mset_locs\u001b[0m\u001b[1;33m(\u001b[0m\u001b[0mmajorLocs\u001b[0m\u001b[1;33m)\u001b[0m\u001b[1;33m\u001b[0m\u001b[0m\n",
      "\u001b[1;32m~\\Anaconda3\\lib\\site-packages\\matplotlib\\dates.py\u001b[0m in \u001b[0;36m__call__\u001b[1;34m(self)\u001b[0m\n\u001b[0;32m   1052\u001b[0m     \u001b[1;32mdef\u001b[0m \u001b[0m__call__\u001b[0m\u001b[1;33m(\u001b[0m\u001b[0mself\u001b[0m\u001b[1;33m)\u001b[0m\u001b[1;33m:\u001b[0m\u001b[1;33m\u001b[0m\u001b[0m\n\u001b[0;32m   1053\u001b[0m         \u001b[1;34m'Return the locations of the ticks'\u001b[0m\u001b[1;33m\u001b[0m\u001b[0m\n\u001b[1;32m-> 1054\u001b[1;33m         \u001b[0mself\u001b[0m\u001b[1;33m.\u001b[0m\u001b[0mrefresh\u001b[0m\u001b[1;33m(\u001b[0m\u001b[1;33m)\u001b[0m\u001b[1;33m\u001b[0m\u001b[0m\n\u001b[0m\u001b[0;32m   1055\u001b[0m         \u001b[1;32mreturn\u001b[0m \u001b[0mself\u001b[0m\u001b[1;33m.\u001b[0m\u001b[0m_locator\u001b[0m\u001b[1;33m(\u001b[0m\u001b[1;33m)\u001b[0m\u001b[1;33m\u001b[0m\u001b[0m\n\u001b[0;32m   1056\u001b[0m \u001b[1;33m\u001b[0m\u001b[0m\n",
      "\u001b[1;32m~\\Anaconda3\\lib\\site-packages\\matplotlib\\dates.py\u001b[0m in \u001b[0;36mrefresh\u001b[1;34m(self)\u001b[0m\n\u001b[0;32m   1072\u001b[0m     \u001b[1;32mdef\u001b[0m \u001b[0mrefresh\u001b[0m\u001b[1;33m(\u001b[0m\u001b[0mself\u001b[0m\u001b[1;33m)\u001b[0m\u001b[1;33m:\u001b[0m\u001b[1;33m\u001b[0m\u001b[0m\n\u001b[0;32m   1073\u001b[0m         \u001b[1;34m'Refresh internal information based on current limits.'\u001b[0m\u001b[1;33m\u001b[0m\u001b[0m\n\u001b[1;32m-> 1074\u001b[1;33m         \u001b[0mdmin\u001b[0m\u001b[1;33m,\u001b[0m \u001b[0mdmax\u001b[0m \u001b[1;33m=\u001b[0m \u001b[0mself\u001b[0m\u001b[1;33m.\u001b[0m\u001b[0mviewlim_to_dt\u001b[0m\u001b[1;33m(\u001b[0m\u001b[1;33m)\u001b[0m\u001b[1;33m\u001b[0m\u001b[0m\n\u001b[0m\u001b[0;32m   1075\u001b[0m         \u001b[0mself\u001b[0m\u001b[1;33m.\u001b[0m\u001b[0m_locator\u001b[0m \u001b[1;33m=\u001b[0m \u001b[0mself\u001b[0m\u001b[1;33m.\u001b[0m\u001b[0mget_locator\u001b[0m\u001b[1;33m(\u001b[0m\u001b[0mdmin\u001b[0m\u001b[1;33m,\u001b[0m \u001b[0mdmax\u001b[0m\u001b[1;33m)\u001b[0m\u001b[1;33m\u001b[0m\u001b[0m\n\u001b[0;32m   1076\u001b[0m \u001b[1;33m\u001b[0m\u001b[0m\n",
      "\u001b[1;32m~\\Anaconda3\\lib\\site-packages\\matplotlib\\dates.py\u001b[0m in \u001b[0;36mviewlim_to_dt\u001b[1;34m(self)\u001b[0m\n\u001b[0;32m    830\u001b[0m             \u001b[0mvmin\u001b[0m\u001b[1;33m,\u001b[0m \u001b[0mvmax\u001b[0m \u001b[1;33m=\u001b[0m \u001b[0mvmax\u001b[0m\u001b[1;33m,\u001b[0m \u001b[0mvmin\u001b[0m\u001b[1;33m\u001b[0m\u001b[0m\n\u001b[0;32m    831\u001b[0m \u001b[1;33m\u001b[0m\u001b[0m\n\u001b[1;32m--> 832\u001b[1;33m         \u001b[1;32mreturn\u001b[0m \u001b[0mnum2date\u001b[0m\u001b[1;33m(\u001b[0m\u001b[0mvmin\u001b[0m\u001b[1;33m,\u001b[0m \u001b[0mself\u001b[0m\u001b[1;33m.\u001b[0m\u001b[0mtz\u001b[0m\u001b[1;33m)\u001b[0m\u001b[1;33m,\u001b[0m \u001b[0mnum2date\u001b[0m\u001b[1;33m(\u001b[0m\u001b[0mvmax\u001b[0m\u001b[1;33m,\u001b[0m \u001b[0mself\u001b[0m\u001b[1;33m.\u001b[0m\u001b[0mtz\u001b[0m\u001b[1;33m)\u001b[0m\u001b[1;33m\u001b[0m\u001b[0m\n\u001b[0m\u001b[0;32m    833\u001b[0m \u001b[1;33m\u001b[0m\u001b[0m\n\u001b[0;32m    834\u001b[0m     \u001b[1;32mdef\u001b[0m \u001b[0m_get_unit\u001b[0m\u001b[1;33m(\u001b[0m\u001b[0mself\u001b[0m\u001b[1;33m)\u001b[0m\u001b[1;33m:\u001b[0m\u001b[1;33m\u001b[0m\u001b[0m\n",
      "\u001b[1;32m~\\Anaconda3\\lib\\site-packages\\matplotlib\\dates.py\u001b[0m in \u001b[0;36mnum2date\u001b[1;34m(x, tz)\u001b[0m\n\u001b[0;32m    439\u001b[0m         \u001b[0mtz\u001b[0m \u001b[1;33m=\u001b[0m \u001b[0m_get_rc_timezone\u001b[0m\u001b[1;33m(\u001b[0m\u001b[1;33m)\u001b[0m\u001b[1;33m\u001b[0m\u001b[0m\n\u001b[0;32m    440\u001b[0m     \u001b[1;32mif\u001b[0m \u001b[1;32mnot\u001b[0m \u001b[0mcbook\u001b[0m\u001b[1;33m.\u001b[0m\u001b[0miterable\u001b[0m\u001b[1;33m(\u001b[0m\u001b[0mx\u001b[0m\u001b[1;33m)\u001b[0m\u001b[1;33m:\u001b[0m\u001b[1;33m\u001b[0m\u001b[0m\n\u001b[1;32m--> 441\u001b[1;33m         \u001b[1;32mreturn\u001b[0m \u001b[0m_from_ordinalf\u001b[0m\u001b[1;33m(\u001b[0m\u001b[0mx\u001b[0m\u001b[1;33m,\u001b[0m \u001b[0mtz\u001b[0m\u001b[1;33m)\u001b[0m\u001b[1;33m\u001b[0m\u001b[0m\n\u001b[0m\u001b[0;32m    442\u001b[0m     \u001b[1;32melse\u001b[0m\u001b[1;33m:\u001b[0m\u001b[1;33m\u001b[0m\u001b[0m\n\u001b[0;32m    443\u001b[0m         \u001b[0mx\u001b[0m \u001b[1;33m=\u001b[0m \u001b[0mnp\u001b[0m\u001b[1;33m.\u001b[0m\u001b[0masarray\u001b[0m\u001b[1;33m(\u001b[0m\u001b[0mx\u001b[0m\u001b[1;33m)\u001b[0m\u001b[1;33m\u001b[0m\u001b[0m\n",
      "\u001b[1;32m~\\Anaconda3\\lib\\site-packages\\matplotlib\\dates.py\u001b[0m in \u001b[0;36m_from_ordinalf\u001b[1;34m(x, tz)\u001b[0m\n\u001b[0;32m    254\u001b[0m \u001b[1;33m\u001b[0m\u001b[0m\n\u001b[0;32m    255\u001b[0m     \u001b[0mix\u001b[0m \u001b[1;33m=\u001b[0m \u001b[0mint\u001b[0m\u001b[1;33m(\u001b[0m\u001b[0mx\u001b[0m\u001b[1;33m)\u001b[0m\u001b[1;33m\u001b[0m\u001b[0m\n\u001b[1;32m--> 256\u001b[1;33m     \u001b[0mdt\u001b[0m \u001b[1;33m=\u001b[0m \u001b[0mdatetime\u001b[0m\u001b[1;33m.\u001b[0m\u001b[0mdatetime\u001b[0m\u001b[1;33m.\u001b[0m\u001b[0mfromordinal\u001b[0m\u001b[1;33m(\u001b[0m\u001b[0mix\u001b[0m\u001b[1;33m)\u001b[0m\u001b[1;33m.\u001b[0m\u001b[0mreplace\u001b[0m\u001b[1;33m(\u001b[0m\u001b[0mtzinfo\u001b[0m\u001b[1;33m=\u001b[0m\u001b[0mUTC\u001b[0m\u001b[1;33m)\u001b[0m\u001b[1;33m\u001b[0m\u001b[0m\n\u001b[0m\u001b[0;32m    257\u001b[0m \u001b[1;33m\u001b[0m\u001b[0m\n\u001b[0;32m    258\u001b[0m     \u001b[0mremainder\u001b[0m \u001b[1;33m=\u001b[0m \u001b[0mfloat\u001b[0m\u001b[1;33m(\u001b[0m\u001b[0mx\u001b[0m\u001b[1;33m)\u001b[0m \u001b[1;33m-\u001b[0m \u001b[0mix\u001b[0m\u001b[1;33m\u001b[0m\u001b[0m\n",
      "\u001b[1;31mValueError\u001b[0m: ordinal must be >= 1"
     ]
    },
    {
     "data": {
      "text/plain": [
       "<matplotlib.figure.Figure at 0x2cb65890>"
      ]
     },
     "metadata": {},
     "output_type": "display_data"
    }
   ],
   "source": [
    "#Plot trips occurring within JFK airport\n",
    "taxis_jfk.loc[taxis_jfk['pickup_neighborhood'] == 'John F. Kennedy International Airport'].plot(ax=nyc2.loc[nyc2['pickup_neighborhood'] == 'John F. Kennedy International Airport'].plot(), facecolor='gray')\n",
    "plt.title('Trips Occurring Within JFK Airport')\n",
    "plt.show()"
   ]
  },
  {
   "cell_type": "markdown",
   "metadata": {},
   "source": [
    "There are a number of hotels, parking and rental car lots within this JFK airport polygon. It is likely that passengers are hailing cabs from the terminals to these locations. It is also possible for a passenger to hail a cab from one terminal to another if they are catching a connecting flight."
   ]
  },
  {
   "cell_type": "code",
   "execution_count": 154,
   "metadata": {},
   "outputs": [
    {
     "name": "stderr",
     "output_type": "stream",
     "text": [
      "C:\\Users\\Matt\\Anaconda3\\lib\\site-packages\\ipykernel_launcher.py:2: SettingWithCopyWarning: \n",
      "A value is trying to be set on a copy of a slice from a DataFrame.\n",
      "Try using .loc[row_indexer,col_indexer] = value instead\n",
      "\n",
      "See the caveats in the documentation: http://pandas.pydata.org/pandas-docs/stable/indexing.html#indexing-view-versus-copy\n",
      "  \n"
     ]
    },
    {
     "data": {
      "image/png": "[encoded data removed]",
      "text/plain": [
       "<matplotlib.figure.Figure at 0x2c07f070>"
      ]
     },
     "metadata": {},
     "output_type": "display_data"
    }
   ],
   "source": [
    "#Plot trips taking place within LGA\n",
    "taxis_lga['geometry'] = [Point(xy) for xy in zip(taxis_lga['pickup_longitude'], taxis_lga['pickup_latitude'])]\n",
    "taxis_lga.loc[taxis_lga['pickup_neighborhood'] == 'La Guardia Airport'].plot(ax=nyc2.loc[nyc2['pickup_neighborhood'] == 'La Guardia Airport'].plot(), facecolor='gray')\n",
    "plt.title('Trips Occurring Within LaGuardia Airport')\n",
    "plt.show()"
   ]
  },
  {
   "cell_type": "markdown",
   "metadata": {},
   "source": [
    "The same concept holds true for LaGuardia Airport: people are hailing cabs from the terminals to nearby hotels, rental car lots and parking lots."
   ]
  },
  {
   "cell_type": "markdown",
   "metadata": {},
   "source": [
    "#### Where/when are the most airport trips originating?"
   ]
  },
  {
   "cell_type": "code",
   "execution_count": 133,
   "metadata": {
    "collapsed": true
   },
   "outputs": [],
   "source": [
    "#Dependent var: number of trips to airport, total number of trips\n",
    "taxis_jfk = pd.DataFrame(taxis_jfk).drop(['geometry', 'index_right'], axis=1).set_index('pickup_datetime')\n"
   ]
  },
  {
   "cell_type": "code",
   "execution_count": 159,
   "metadata": {},
   "outputs": [
    {
     "data": {
      "text/html": [
       "<div>\n",
       "<style>\n",
       "    .dataframe thead tr:only-child th {\n",
       "        text-align: right;\n",
       "    }\n",
       "\n",
       "    .dataframe thead th {\n",
       "        text-align: left;\n",
       "    }\n",
       "\n",
       "    .dataframe tbody tr th {\n",
       "        vertical-align: top;\n",
       "    }\n",
       "</style>\n",
       "<table border=\"1\" class=\"dataframe\">\n",
       "  <thead>\n",
       "    <tr style=\"text-align: right;\">\n",
       "      <th></th>\n",
       "      <th>County</th>\n",
       "      <th>City</th>\n",
       "      <th>Name</th>\n",
       "      <th>geometry</th>\n",
       "      <th>index_right</th>\n",
       "      <th>pickup_datetime</th>\n",
       "      <th>dropoff_datetime</th>\n",
       "      <th>passenger_count</th>\n",
       "      <th>pickup_longitude</th>\n",
       "      <th>pickup_latitude</th>\n",
       "      <th>dropoff_longitude</th>\n",
       "      <th>dropoff_latitude</th>\n",
       "      <th>trip_duration</th>\n",
       "      <th>date</th>\n",
       "      <th>station_num</th>\n",
       "      <th>station_name</th>\n",
       "      <th>station_latitude</th>\n",
       "      <th>station_longitude</th>\n",
       "      <th>average_wind</th>\n",
       "      <th>precipitation</th>\n",
       "      <th>snowfall</th>\n",
       "      <th>snow_depth</th>\n",
       "      <th>avg_temp</th>\n",
       "      <th>max_temp</th>\n",
       "      <th>min_temp</th>\n",
       "      <th>fog</th>\n",
       "      <th>fog_heavy</th>\n",
       "      <th>thunder</th>\n",
       "      <th>ice_pellets</th>\n",
       "      <th>glaze</th>\n",
       "      <th>smoke_haze</th>\n",
       "      <th>blowing_snow</th>\n",
       "      <th>day_of_week</th>\n",
       "      <th>weekday_name</th>\n",
       "    </tr>\n",
       "  </thead>\n",
       "  <tbody>\n",
       "    <tr>\n",
       "      <th>4819</th>\n",
       "      <td>Queens</td>\n",
       "      <td>New York</td>\n",
       "      <td>Fresh Meadows</td>\n",
       "      <td>POLYGON ((-73.7699123773972 40.74150740314482,...</td>\n",
       "      <td>2016-03-20 04:55:06</td>\n",
       "      <td>2016-03-20 04:55:06</td>\n",
       "      <td>2016-03-20 05:21:53</td>\n",
       "      <td>4</td>\n",
       "      <td>-73.774</td>\n",
       "      <td>40.736</td>\n",
       "      <td>-73.916</td>\n",
       "      <td>40.825</td>\n",
       "      <td>1607</td>\n",
       "      <td>2016-03-20 00:00:00</td>\n",
       "      <td>USW00014732</td>\n",
       "      <td>LA GUARDIA AIRPORT, NY US</td>\n",
       "      <td>40.779</td>\n",
       "      <td>-73.880</td>\n",
       "      <td>14.540</td>\n",
       "      <td>0.070</td>\n",
       "      <td>0.100</td>\n",
       "      <td>0.000</td>\n",
       "      <td>39.000</td>\n",
       "      <td>42.000</td>\n",
       "      <td>33.000</td>\n",
       "      <td>True</td>\n",
       "      <td>False</td>\n",
       "      <td>False</td>\n",
       "      <td>False</td>\n",
       "      <td>False</td>\n",
       "      <td>False</td>\n",
       "      <td>False</td>\n",
       "      <td>6</td>\n",
       "      <td>Sunday</td>\n",
       "    </tr>\n",
       "    <tr>\n",
       "      <th>4819</th>\n",
       "      <td>Queens</td>\n",
       "      <td>New York</td>\n",
       "      <td>Fresh Meadows</td>\n",
       "      <td>POLYGON ((-73.7699123773972 40.74150740314482,...</td>\n",
       "      <td>2016-04-28 18:12:08</td>\n",
       "      <td>2016-04-28 18:12:08</td>\n",
       "      <td>2016-04-28 18:17:07</td>\n",
       "      <td>6</td>\n",
       "      <td>-73.783</td>\n",
       "      <td>40.733</td>\n",
       "      <td>-73.783</td>\n",
       "      <td>40.733</td>\n",
       "      <td>299</td>\n",
       "      <td>2016-04-28 00:00:00</td>\n",
       "      <td>USW00014732</td>\n",
       "      <td>LA GUARDIA AIRPORT, NY US</td>\n",
       "      <td>40.779</td>\n",
       "      <td>-73.880</td>\n",
       "      <td>8.720</td>\n",
       "      <td>0.000</td>\n",
       "      <td>0.000</td>\n",
       "      <td>0.000</td>\n",
       "      <td>53.000</td>\n",
       "      <td>59.000</td>\n",
       "      <td>48.000</td>\n",
       "      <td>False</td>\n",
       "      <td>False</td>\n",
       "      <td>False</td>\n",
       "      <td>False</td>\n",
       "      <td>False</td>\n",
       "      <td>False</td>\n",
       "      <td>False</td>\n",
       "      <td>3</td>\n",
       "      <td>Thursday</td>\n",
       "    </tr>\n",
       "    <tr>\n",
       "      <th>4819</th>\n",
       "      <td>Queens</td>\n",
       "      <td>New York</td>\n",
       "      <td>Fresh Meadows</td>\n",
       "      <td>POLYGON ((-73.7699123773972 40.74150740314482,...</td>\n",
       "      <td>2016-02-26 13:14:07</td>\n",
       "      <td>2016-02-26 13:14:07</td>\n",
       "      <td>2016-02-26 13:22:01</td>\n",
       "      <td>1</td>\n",
       "      <td>-73.786</td>\n",
       "      <td>40.739</td>\n",
       "      <td>-73.786</td>\n",
       "      <td>40.739</td>\n",
       "      <td>474</td>\n",
       "      <td>2016-02-26 00:00:00</td>\n",
       "      <td>USW00014732</td>\n",
       "      <td>LA GUARDIA AIRPORT, NY US</td>\n",
       "      <td>40.779</td>\n",
       "      <td>-73.880</td>\n",
       "      <td>20.360</td>\n",
       "      <td>0.000</td>\n",
       "      <td>0.000</td>\n",
       "      <td>0.000</td>\n",
       "      <td>37.000</td>\n",
       "      <td>40.000</td>\n",
       "      <td>29.000</td>\n",
       "      <td>False</td>\n",
       "      <td>False</td>\n",
       "      <td>False</td>\n",
       "      <td>False</td>\n",
       "      <td>False</td>\n",
       "      <td>False</td>\n",
       "      <td>False</td>\n",
       "      <td>4</td>\n",
       "      <td>Friday</td>\n",
       "    </tr>\n",
       "    <tr>\n",
       "      <th>5837</th>\n",
       "      <td>Queens</td>\n",
       "      <td>New York</td>\n",
       "      <td>Maspeth</td>\n",
       "      <td>POLYGON ((-73.8881191182047 40.73555656190326,...</td>\n",
       "      <td>2016-06-23 08:46:45</td>\n",
       "      <td>2016-06-23 08:46:45</td>\n",
       "      <td>2016-06-23 09:04:09</td>\n",
       "      <td>1</td>\n",
       "      <td>-73.895</td>\n",
       "      <td>40.743</td>\n",
       "      <td>-73.895</td>\n",
       "      <td>40.743</td>\n",
       "      <td>1044</td>\n",
       "      <td>2016-06-23 00:00:00</td>\n",
       "      <td>USW00014732</td>\n",
       "      <td>LA GUARDIA AIRPORT, NY US</td>\n",
       "      <td>40.779</td>\n",
       "      <td>-73.880</td>\n",
       "      <td>7.610</td>\n",
       "      <td>0.000</td>\n",
       "      <td>0.000</td>\n",
       "      <td>0.000</td>\n",
       "      <td>74.000</td>\n",
       "      <td>81.000</td>\n",
       "      <td>68.000</td>\n",
       "      <td>False</td>\n",
       "      <td>False</td>\n",
       "      <td>False</td>\n",
       "      <td>False</td>\n",
       "      <td>False</td>\n",
       "      <td>False</td>\n",
       "      <td>False</td>\n",
       "      <td>3</td>\n",
       "      <td>Thursday</td>\n",
       "    </tr>\n",
       "    <tr>\n",
       "      <th>5837</th>\n",
       "      <td>Queens</td>\n",
       "      <td>New York</td>\n",
       "      <td>Maspeth</td>\n",
       "      <td>POLYGON ((-73.8881191182047 40.73555656190326,...</td>\n",
       "      <td>2016-03-18 23:19:45</td>\n",
       "      <td>2016-03-18 23:19:45</td>\n",
       "      <td>2016-03-18 23:23:45</td>\n",
       "      <td>2</td>\n",
       "      <td>-73.896</td>\n",
       "      <td>40.743</td>\n",
       "      <td>-73.883</td>\n",
       "      <td>40.742</td>\n",
       "      <td>240</td>\n",
       "      <td>2016-03-18 00:00:00</td>\n",
       "      <td>USW00014732</td>\n",
       "      <td>LA GUARDIA AIRPORT, NY US</td>\n",
       "      <td>40.779</td>\n",
       "      <td>-73.880</td>\n",
       "      <td>16.110</td>\n",
       "      <td>0.000</td>\n",
       "      <td>0.000</td>\n",
       "      <td>0.000</td>\n",
       "      <td>53.000</td>\n",
       "      <td>57.000</td>\n",
       "      <td>43.000</td>\n",
       "      <td>False</td>\n",
       "      <td>False</td>\n",
       "      <td>False</td>\n",
       "      <td>False</td>\n",
       "      <td>False</td>\n",
       "      <td>False</td>\n",
       "      <td>False</td>\n",
       "      <td>4</td>\n",
       "      <td>Friday</td>\n",
       "    </tr>\n",
       "  </tbody>\n",
       "</table>\n",
       "</div>"
      ],
      "text/plain": [
       "      County      City           Name  \\\n",
       "4819  Queens  New York  Fresh Meadows   \n",
       "4819  Queens  New York  Fresh Meadows   \n",
       "4819  Queens  New York  Fresh Meadows   \n",
       "5837  Queens  New York        Maspeth   \n",
       "5837  Queens  New York        Maspeth   \n",
       "\n",
       "                                               geometry         index_right  \\\n",
       "4819  POLYGON ((-73.7699123773972 40.74150740314482,... 2016-03-20 04:55:06   \n",
       "4819  POLYGON ((-73.7699123773972 40.74150740314482,... 2016-04-28 18:12:08   \n",
       "4819  POLYGON ((-73.7699123773972 40.74150740314482,... 2016-02-26 13:14:07   \n",
       "5837  POLYGON ((-73.8881191182047 40.73555656190326,... 2016-06-23 08:46:45   \n",
       "5837  POLYGON ((-73.8881191182047 40.73555656190326,... 2016-03-18 23:19:45   \n",
       "\n",
       "         pickup_datetime    dropoff_datetime  passenger_count  \\\n",
       "4819 2016-03-20 04:55:06 2016-03-20 05:21:53                4   \n",
       "4819 2016-04-28 18:12:08 2016-04-28 18:17:07                6   \n",
       "4819 2016-02-26 13:14:07 2016-02-26 13:22:01                1   \n",
       "5837 2016-06-23 08:46:45 2016-06-23 09:04:09                1   \n",
       "5837 2016-03-18 23:19:45 2016-03-18 23:23:45                2   \n",
       "\n",
       "      pickup_longitude  pickup_latitude  dropoff_longitude  dropoff_latitude  \\\n",
       "4819           -73.774           40.736            -73.916            40.825   \n",
       "4819           -73.783           40.733            -73.783            40.733   \n",
       "4819           -73.786           40.739            -73.786            40.739   \n",
       "5837           -73.895           40.743            -73.895            40.743   \n",
       "5837           -73.896           40.743            -73.883            40.742   \n",
       "\n",
       "      trip_duration                 date  station_num  \\\n",
       "4819           1607  2016-03-20 00:00:00  USW00014732   \n",
       "4819            299  2016-04-28 00:00:00  USW00014732   \n",
       "4819            474  2016-02-26 00:00:00  USW00014732   \n",
       "5837           1044  2016-06-23 00:00:00  USW00014732   \n",
       "5837            240  2016-03-18 00:00:00  USW00014732   \n",
       "\n",
       "                   station_name  station_latitude  station_longitude  \\\n",
       "4819  LA GUARDIA AIRPORT, NY US            40.779            -73.880   \n",
       "4819  LA GUARDIA AIRPORT, NY US            40.779            -73.880   \n",
       "4819  LA GUARDIA AIRPORT, NY US            40.779            -73.880   \n",
       "5837  LA GUARDIA AIRPORT, NY US            40.779            -73.880   \n",
       "5837  LA GUARDIA AIRPORT, NY US            40.779            -73.880   \n",
       "\n",
       "      average_wind  precipitation  snowfall  snow_depth  avg_temp  max_temp  \\\n",
       "4819        14.540          0.070     0.100       0.000    39.000    42.000   \n",
       "4819         8.720          0.000     0.000       0.000    53.000    59.000   \n",
       "4819        20.360          0.000     0.000       0.000    37.000    40.000   \n",
       "5837         7.610          0.000     0.000       0.000    74.000    81.000   \n",
       "5837        16.110          0.000     0.000       0.000    53.000    57.000   \n",
       "\n",
       "      min_temp    fog  fog_heavy  thunder  ice_pellets  glaze  smoke_haze  \\\n",
       "4819    33.000   True      False    False        False  False       False   \n",
       "4819    48.000  False      False    False        False  False       False   \n",
       "4819    29.000  False      False    False        False  False       False   \n",
       "5837    68.000  False      False    False        False  False       False   \n",
       "5837    43.000  False      False    False        False  False       False   \n",
       "\n",
       "      blowing_snow day_of_week weekday_name  \n",
       "4819         False           6       Sunday  \n",
       "4819         False           3     Thursday  \n",
       "4819         False           4       Friday  \n",
       "5837         False           3     Thursday  \n",
       "5837         False           4       Friday  "
      ]
     },
     "execution_count": 159,
     "metadata": {},
     "output_type": "execute_result"
    }
   ],
   "source": [
    "#nyc_taxi['to_jfk'] = nyc_taxi['dropoff_neighborhood'] == 'John F. Kennedy International Airport'\n"
   ]
  },
  {
   "cell_type": "code",
   "execution_count": 150,
   "metadata": {},
   "outputs": [
    {
     "data": {
      "text/plain": [
       "['T',\n",
       " '_AXIS_ALIASES',\n",
       " '_AXIS_IALIASES',\n",
       " '_AXIS_LEN',\n",
       " '_AXIS_NAMES',\n",
       " '_AXIS_NUMBERS',\n",
       " '_AXIS_ORDERS',\n",
       " '_AXIS_REVERSED',\n",
       " '_AXIS_SLICEMAP',\n",
       " '__abs__',\n",
       " '__add__',\n",
       " '__and__',\n",
       " '__array__',\n",
       " '__array_prepare__',\n",
       " '__array_priority__',\n",
       " '__array_wrap__',\n",
       " '__bool__',\n",
       " '__bytes__',\n",
       " '__class__',\n",
       " '__contains__',\n",
       " '__copy__',\n",
       " '__deepcopy__',\n",
       " '__delattr__',\n",
       " '__delitem__',\n",
       " '__dict__',\n",
       " '__dir__',\n",
       " '__div__',\n",
       " '__divmod__',\n",
       " '__doc__',\n",
       " '__eq__',\n",
       " '__finalize__',\n",
       " '__float__',\n",
       " '__floordiv__',\n",
       " '__format__',\n",
       " '__ge__',\n",
       " '__getattr__',\n",
       " '__getattribute__',\n",
       " '__getitem__',\n",
       " '__getstate__',\n",
       " '__gt__',\n",
       " '__hash__',\n",
       " '__iadd__',\n",
       " '__imul__',\n",
       " '__init__',\n",
       " '__init_subclass__',\n",
       " '__int__',\n",
       " '__invert__',\n",
       " '__ipow__',\n",
       " '__isub__',\n",
       " '__iter__',\n",
       " '__itruediv__',\n",
       " '__le__',\n",
       " '__len__',\n",
       " '__long__',\n",
       " '__lt__',\n",
       " '__mod__',\n",
       " '__module__',\n",
       " '__mul__',\n",
       " '__ne__',\n",
       " '__neg__',\n",
       " '__new__',\n",
       " '__nonzero__',\n",
       " '__or__',\n",
       " '__pow__',\n",
       " '__radd__',\n",
       " '__rand__',\n",
       " '__rdiv__',\n",
       " '__reduce__',\n",
       " '__reduce_ex__',\n",
       " '__repr__',\n",
       " '__rfloordiv__',\n",
       " '__rmod__',\n",
       " '__rmul__',\n",
       " '__ror__',\n",
       " '__round__',\n",
       " '__rpow__',\n",
       " '__rsub__',\n",
       " '__rtruediv__',\n",
       " '__rxor__',\n",
       " '__setattr__',\n",
       " '__setitem__',\n",
       " '__setstate__',\n",
       " '__sizeof__',\n",
       " '__str__',\n",
       " '__sub__',\n",
       " '__subclasshook__',\n",
       " '__truediv__',\n",
       " '__unicode__',\n",
       " '__weakref__',\n",
       " '__xor__',\n",
       " '_accessors',\n",
       " '_add_numeric_operations',\n",
       " '_add_series_only_operations',\n",
       " '_add_series_or_dataframe_operations',\n",
       " '_agg_by_level',\n",
       " '_agg_doc',\n",
       " '_aggregate',\n",
       " '_aggregate_multiple_funcs',\n",
       " '_align_frame',\n",
       " '_align_series',\n",
       " '_allow_index_ops',\n",
       " '_at',\n",
       " '_binop',\n",
       " '_box_item_values',\n",
       " '_builtin_table',\n",
       " '_can_hold_na',\n",
       " '_check_inplace_setting',\n",
       " '_check_is_chained_assignment_possible',\n",
       " '_check_percentile',\n",
       " '_check_setitem_copy',\n",
       " '_clear_item_cache',\n",
       " '_clip_with_scalar',\n",
       " '_consolidate',\n",
       " '_consolidate_inplace',\n",
       " '_construct_axes_dict',\n",
       " '_construct_axes_dict_for_slice',\n",
       " '_construct_axes_dict_from',\n",
       " '_construct_axes_from_arguments',\n",
       " '_constructor',\n",
       " '_constructor_expanddim',\n",
       " '_constructor_sliced',\n",
       " '_convert',\n",
       " '_create_indexer',\n",
       " '_cython_table',\n",
       " '_dir_additions',\n",
       " '_dir_deletions',\n",
       " '_expand_axes',\n",
       " '_from_axes',\n",
       " '_get_axis',\n",
       " '_get_axis_name',\n",
       " '_get_axis_number',\n",
       " '_get_axis_resolvers',\n",
       " '_get_block_manager_axis',\n",
       " '_get_bool_data',\n",
       " '_get_cacher',\n",
       " '_get_index_resolvers',\n",
       " '_get_item_cache',\n",
       " '_get_numeric_data',\n",
       " '_get_values',\n",
       " '_get_values_tuple',\n",
       " '_get_with',\n",
       " '_gotitem',\n",
       " '_iat',\n",
       " '_iget_item_cache',\n",
       " '_iloc',\n",
       " '_index',\n",
       " '_indexed_same',\n",
       " '_info_axis',\n",
       " '_info_axis_name',\n",
       " '_info_axis_number',\n",
       " '_init_mgr',\n",
       " '_internal_names',\n",
       " '_internal_names_set',\n",
       " '_is_builtin_func',\n",
       " '_is_cached',\n",
       " '_is_cython_func',\n",
       " '_is_datelike_mixed_type',\n",
       " '_is_mixed_type',\n",
       " '_is_numeric_mixed_type',\n",
       " '_is_view',\n",
       " '_ix',\n",
       " '_ixs',\n",
       " '_loc',\n",
       " '_make_cat_accessor',\n",
       " '_make_dt_accessor',\n",
       " '_make_str_accessor',\n",
       " '_maybe_cache_changed',\n",
       " '_maybe_update_cacher',\n",
       " '_metadata',\n",
       " '_needs_reindex_multi',\n",
       " '_obj_with_exclusions',\n",
       " '_protect_consolidate',\n",
       " '_reduce',\n",
       " '_reindex_axes',\n",
       " '_reindex_axis',\n",
       " '_reindex_indexer',\n",
       " '_reindex_multi',\n",
       " '_reindex_with_indexers',\n",
       " '_repr_data_resource_',\n",
       " '_repr_latex_',\n",
       " '_reset_cache',\n",
       " '_reset_cacher',\n",
       " '_selected_obj',\n",
       " '_selection',\n",
       " '_selection_list',\n",
       " '_selection_name',\n",
       " '_set_as_cached',\n",
       " '_set_axis',\n",
       " '_set_axis_name',\n",
       " '_set_is_copy',\n",
       " '_set_item',\n",
       " '_set_labels',\n",
       " '_set_name',\n",
       " '_set_subtyp',\n",
       " '_set_values',\n",
       " '_set_with',\n",
       " '_set_with_engine',\n",
       " '_setup_axes',\n",
       " '_shallow_copy',\n",
       " '_slice',\n",
       " '_stat_axis',\n",
       " '_stat_axis_name',\n",
       " '_stat_axis_number',\n",
       " '_try_aggregate_string_function',\n",
       " '_typ',\n",
       " '_unpickle_series_compat',\n",
       " '_update_inplace',\n",
       " '_validate_dtype',\n",
       " '_values',\n",
       " '_where',\n",
       " '_xs',\n",
       " 'abs',\n",
       " 'add',\n",
       " 'add_prefix',\n",
       " 'add_suffix',\n",
       " 'agg',\n",
       " 'aggregate',\n",
       " 'align',\n",
       " 'all',\n",
       " 'any',\n",
       " 'append',\n",
       " 'apply',\n",
       " 'argmax',\n",
       " 'argmin',\n",
       " 'argsort',\n",
       " 'as_blocks',\n",
       " 'as_matrix',\n",
       " 'asfreq',\n",
       " 'asobject',\n",
       " 'asof',\n",
       " 'astype',\n",
       " 'at',\n",
       " 'at_time',\n",
       " 'autocorr',\n",
       " 'axes',\n",
       " 'base',\n",
       " 'between',\n",
       " 'between_time',\n",
       " 'bfill',\n",
       " 'blocks',\n",
       " 'bool',\n",
       " 'clip',\n",
       " 'clip_lower',\n",
       " 'clip_upper',\n",
       " 'combine',\n",
       " 'combine_first',\n",
       " 'compound',\n",
       " 'compress',\n",
       " 'consolidate',\n",
       " 'convert_objects',\n",
       " 'copy',\n",
       " 'corr',\n",
       " 'count',\n",
       " 'cov',\n",
       " 'cummax',\n",
       " 'cummin',\n",
       " 'cumprod',\n",
       " 'cumsum',\n",
       " 'data',\n",
       " 'describe',\n",
       " 'diff',\n",
       " 'div',\n",
       " 'divide',\n",
       " 'dot',\n",
       " 'drop',\n",
       " 'drop_duplicates',\n",
       " 'dropna',\n",
       " 'dtype',\n",
       " 'dtypes',\n",
       " 'duplicated',\n",
       " 'empty',\n",
       " 'eq',\n",
       " 'equals',\n",
       " 'ewm',\n",
       " 'expanding',\n",
       " 'factorize',\n",
       " 'ffill',\n",
       " 'fillna',\n",
       " 'filter',\n",
       " 'first',\n",
       " 'first_valid_index',\n",
       " 'flags',\n",
       " 'floordiv',\n",
       " 'from_array',\n",
       " 'from_csv',\n",
       " 'ftype',\n",
       " 'ftypes',\n",
       " 'ge',\n",
       " 'get',\n",
       " 'get_dtype_counts',\n",
       " 'get_ftype_counts',\n",
       " 'get_value',\n",
       " 'get_values',\n",
       " 'groupby',\n",
       " 'gt',\n",
       " 'hasnans',\n",
       " 'head',\n",
       " 'hist',\n",
       " 'iat',\n",
       " 'idxmax',\n",
       " 'idxmin',\n",
       " 'iloc',\n",
       " 'imag',\n",
       " 'index',\n",
       " 'interpolate',\n",
       " 'is_copy',\n",
       " 'is_monotonic',\n",
       " 'is_monotonic_decreasing',\n",
       " 'is_monotonic_increasing',\n",
       " 'is_unique',\n",
       " 'isin',\n",
       " 'isnull',\n",
       " 'item',\n",
       " 'items',\n",
       " 'itemsize',\n",
       " 'iteritems',\n",
       " 'ix',\n",
       " 'keys',\n",
       " 'kurt',\n",
       " 'kurtosis',\n",
       " 'last',\n",
       " 'last_valid_index',\n",
       " 'le',\n",
       " 'loc',\n",
       " 'lt',\n",
       " 'mad',\n",
       " 'map',\n",
       " 'mask',\n",
       " 'max',\n",
       " 'mean',\n",
       " 'median',\n",
       " 'memory_usage',\n",
       " 'min',\n",
       " 'mod',\n",
       " 'mode',\n",
       " 'mul',\n",
       " 'multiply',\n",
       " 'name',\n",
       " 'nbytes',\n",
       " 'ndim',\n",
       " 'ne',\n",
       " 'nlargest',\n",
       " 'nonzero',\n",
       " 'notnull',\n",
       " 'nsmallest',\n",
       " 'nunique',\n",
       " 'pct_change',\n",
       " 'pipe',\n",
       " 'plot',\n",
       " 'pop',\n",
       " 'pow',\n",
       " 'prod',\n",
       " 'product',\n",
       " 'ptp',\n",
       " 'put',\n",
       " 'quantile',\n",
       " 'radd',\n",
       " 'rank',\n",
       " 'ravel',\n",
       " 'rdiv',\n",
       " 'real',\n",
       " 'reindex',\n",
       " 'reindex_axis',\n",
       " 'reindex_like',\n",
       " 'rename',\n",
       " 'rename_axis',\n",
       " 'reorder_levels',\n",
       " 'repeat',\n",
       " 'replace',\n",
       " 'resample',\n",
       " 'reset_index',\n",
       " 'reshape',\n",
       " 'rfloordiv',\n",
       " 'rmod',\n",
       " 'rmul',\n",
       " 'rolling',\n",
       " 'round',\n",
       " 'rpow',\n",
       " 'rsub',\n",
       " 'rtruediv',\n",
       " 'sample',\n",
       " 'searchsorted',\n",
       " 'select',\n",
       " 'sem',\n",
       " 'set_axis',\n",
       " 'set_value',\n",
       " 'shape',\n",
       " 'shift',\n",
       " 'size',\n",
       " 'skew',\n",
       " 'slice_shift',\n",
       " 'sort_index',\n",
       " 'sort_values',\n",
       " 'sortlevel',\n",
       " 'squeeze',\n",
       " 'std',\n",
       " 'str',\n",
       " 'strides',\n",
       " 'sub',\n",
       " 'subtract',\n",
       " 'sum',\n",
       " 'swapaxes',\n",
       " 'swaplevel',\n",
       " 'tail',\n",
       " 'take',\n",
       " 'to_clipboard',\n",
       " 'to_csv',\n",
       " 'to_dense',\n",
       " 'to_dict',\n",
       " 'to_excel',\n",
       " 'to_frame',\n",
       " 'to_hdf',\n",
       " 'to_json',\n",
       " 'to_latex',\n",
       " 'to_msgpack',\n",
       " 'to_period',\n",
       " 'to_pickle',\n",
       " 'to_sparse',\n",
       " 'to_sql',\n",
       " 'to_string',\n",
       " 'to_timestamp',\n",
       " 'to_xarray',\n",
       " 'tolist',\n",
       " 'transform',\n",
       " 'transpose',\n",
       " 'truediv',\n",
       " 'truncate',\n",
       " 'tshift',\n",
       " 'tz_convert',\n",
       " 'tz_localize',\n",
       " 'unique',\n",
       " 'unstack',\n",
       " 'update',\n",
       " 'valid',\n",
       " 'value_counts',\n",
       " 'values',\n",
       " 'var',\n",
       " 'view',\n",
       " 'where',\n",
       " 'xs']"
      ]
     },
     "execution_count": 150,
     "metadata": {},
     "output_type": "execute_result"
    }
   ],
   "source": [
    "taxis_jfk['pickup_neighborhood']"
   ]
  },
  {
   "cell_type": "markdown",
   "metadata": {},
   "source": [
    "### Passenger Count"
   ]
  },
  {
   "cell_type": "code",
   "execution_count": 105,
   "metadata": {},
   "outputs": [
    {
     "data": {
      "text/plain": [
       "count   291181.000\n",
       "mean         1.666\n",
       "std          1.315\n",
       "min          0.000\n",
       "25%          1.000\n",
       "50%          1.000\n",
       "75%          2.000\n",
       "max          6.000\n",
       "Name: passenger_count, dtype: float64"
      ]
     },
     "execution_count": 105,
     "metadata": {},
     "output_type": "execute_result"
    }
   ],
   "source": [
    "#Passenger count overall\n",
    "nyc_taxi['passenger_count'].describe()"
   ]
  },
  {
   "cell_type": "code",
   "execution_count": 110,
   "metadata": {},
   "outputs": [
    {
     "data": {
      "text/plain": [
       "count   6019.000\n",
       "mean       1.696\n",
       "std        1.318\n",
       "min        1.000\n",
       "25%        1.000\n",
       "50%        1.000\n",
       "75%        2.000\n",
       "max        6.000\n",
       "Name: passenger_count, dtype: float64"
      ]
     },
     "execution_count": 110,
     "metadata": {},
     "output_type": "execute_result"
    }
   ],
   "source": [
    "taxis_airport['passenger_count'].describe()"
   ]
  },
  {
   "cell_type": "markdown",
   "metadata": {},
   "source": [
    "The distribution of passenger counts appears to be the same for airport trips and taxi trips in general. Over half of all taxi trips are carrying only one passenger. This leads to more congestion on the city's streets and highways and also means individuals are paying the entire fares on their own rather than splitting fares."
   ]
  },
  {
   "cell_type": "code",
   "execution_count": 120,
   "metadata": {
    "collapsed": true
   },
   "outputs": [],
   "source": [
    "#Passenger count on weekdays vs. weekends\n",
    "weekend_pass_count = nyc_taxi.loc[nyc_taxi['day_of_week'] >= 5]['passenger_count'].describe()\n",
    "weekday_pass_count = nyc_taxi.loc[nyc_taxi['day_of_week'] < 5]['passenger_count'].describe()"
   ]
  },
  {
   "cell_type": "code",
   "execution_count": 123,
   "metadata": {},
   "outputs": [
    {
     "data": {
      "text/html": [
       "<div>\n",
       "<style>\n",
       "    .dataframe thead tr:only-child th {\n",
       "        text-align: right;\n",
       "    }\n",
       "\n",
       "    .dataframe thead th {\n",
       "        text-align: left;\n",
       "    }\n",
       "\n",
       "    .dataframe tbody tr th {\n",
       "        vertical-align: top;\n",
       "    }\n",
       "</style>\n",
       "<table border=\"1\" class=\"dataframe\">\n",
       "  <thead>\n",
       "    <tr style=\"text-align: right;\">\n",
       "      <th></th>\n",
       "      <th>weekday</th>\n",
       "      <th>weekend</th>\n",
       "    </tr>\n",
       "  </thead>\n",
       "  <tbody>\n",
       "    <tr>\n",
       "      <th>count</th>\n",
       "      <td>207828.000</td>\n",
       "      <td>83353.000</td>\n",
       "    </tr>\n",
       "    <tr>\n",
       "      <th>mean</th>\n",
       "      <td>1.641</td>\n",
       "      <td>1.726</td>\n",
       "    </tr>\n",
       "    <tr>\n",
       "      <th>std</th>\n",
       "      <td>1.306</td>\n",
       "      <td>1.335</td>\n",
       "    </tr>\n",
       "    <tr>\n",
       "      <th>min</th>\n",
       "      <td>0.000</td>\n",
       "      <td>0.000</td>\n",
       "    </tr>\n",
       "    <tr>\n",
       "      <th>25%</th>\n",
       "      <td>1.000</td>\n",
       "      <td>1.000</td>\n",
       "    </tr>\n",
       "    <tr>\n",
       "      <th>50%</th>\n",
       "      <td>1.000</td>\n",
       "      <td>1.000</td>\n",
       "    </tr>\n",
       "    <tr>\n",
       "      <th>75%</th>\n",
       "      <td>2.000</td>\n",
       "      <td>2.000</td>\n",
       "    </tr>\n",
       "    <tr>\n",
       "      <th>max</th>\n",
       "      <td>6.000</td>\n",
       "      <td>6.000</td>\n",
       "    </tr>\n",
       "  </tbody>\n",
       "</table>\n",
       "</div>"
      ],
      "text/plain": [
       "         weekday   weekend\n",
       "count 207828.000 83353.000\n",
       "mean       1.641     1.726\n",
       "std        1.306     1.335\n",
       "min        0.000     0.000\n",
       "25%        1.000     1.000\n",
       "50%        1.000     1.000\n",
       "75%        2.000     2.000\n",
       "max        6.000     6.000"
      ]
     },
     "execution_count": 123,
     "metadata": {},
     "output_type": "execute_result"
    }
   ],
   "source": [
    "pd.DataFrame({'weekday':weekday_pass_count, 'weekend':weekend_pass_count})"
   ]
  }
 ],
 "metadata": {
  "kernelspec": {
   "display_name": "Python 3",
   "language": "python",
   "name": "python3"
  },
  "language_info": {
   "codemirror_mode": {
    "name": "ipython",
    "version": 3
   },
   "file_extension": ".py",
   "mimetype": "text/x-python",
   "name": "python",
   "nbconvert_exporter": "python",
   "pygments_lexer": "ipython3",
   "version": "3.6.2"
  }
 },
 "nbformat": 4,
 "nbformat_minor": 2
}
