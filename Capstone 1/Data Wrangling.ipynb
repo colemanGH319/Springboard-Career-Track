{
 "cells": [
  {
   "cell_type": "code",
   "execution_count": 64,
   "metadata": {},
   "outputs": [],
   "source": [
    "import pandas as pd\n",
    "import geopandas as gpd\n",
    "file = 'train.csv'\n",
    "trip_df = []\n",
    "for chunk in pd.read_csv(file, chunksize=10000):\n",
    "    trip_df.append(chunk)\n",
    "trip_df = pd.concat(trip_df, axis='rows')"
   ]
  },
  {
   "cell_type": "code",
   "execution_count": 27,
   "metadata": {
    "scrolled": true
   },
   "outputs": [
    {
     "name": "stdout",
     "output_type": "stream",
     "text": [
      "<class 'pandas.core.frame.DataFrame'>\n",
      "Int64Index: 1458644 entries, 0 to 1458643\n",
      "Data columns (total 11 columns):\n",
      "id                    1458644 non-null object\n",
      "vendor_id             1458644 non-null int64\n",
      "pickup_datetime       1458644 non-null object\n",
      "dropoff_datetime      1458644 non-null object\n",
      "passenger_count       1458644 non-null int64\n",
      "pickup_longitude      1458644 non-null float64\n",
      "pickup_latitude       1458644 non-null float64\n",
      "dropoff_longitude     1458644 non-null float64\n",
      "dropoff_latitude      1458644 non-null float64\n",
      "store_and_fwd_flag    1458644 non-null object\n",
      "trip_duration         1458644 non-null int64\n",
      "dtypes: float64(4), int64(3), object(4)\n",
      "memory usage: 133.5+ MB\n"
     ]
    }
   ],
   "source": [
    "trip_df.info()"
   ]
  },
  {
   "cell_type": "code",
   "execution_count": 28,
   "metadata": {},
   "outputs": [
    {
     "name": "stdout",
     "output_type": "stream",
     "text": [
      "          id  vendor_id      pickup_datetime     dropoff_datetime  \\\n",
      "0  id2875421          2  2016-03-14 17:24:55  2016-03-14 17:32:30   \n",
      "1  id2377394          1  2016-06-12 00:43:35  2016-06-12 00:54:38   \n",
      "2  id3858529          2  2016-01-19 11:35:24  2016-01-19 12:10:48   \n",
      "3  id3504673          2  2016-04-06 19:32:31  2016-04-06 19:39:40   \n",
      "4  id2181028          2  2016-03-26 13:30:55  2016-03-26 13:38:10   \n",
      "\n",
      "   passenger_count  pickup_longitude  pickup_latitude  dropoff_longitude  \\\n",
      "0                1        -73.982155        40.767937         -73.964630   \n",
      "1                1        -73.980415        40.738564         -73.999481   \n",
      "2                1        -73.979027        40.763939         -74.005333   \n",
      "3                1        -74.010040        40.719971         -74.012268   \n",
      "4                1        -73.973053        40.793209         -73.972923   \n",
      "\n",
      "   dropoff_latitude store_and_fwd_flag  trip_duration  \n",
      "0         40.765602                  N            455  \n",
      "1         40.731152                  N            663  \n",
      "2         40.710087                  N           2124  \n",
      "3         40.706718                  N            429  \n",
      "4         40.782520                  N            435  \n"
     ]
    }
   ],
   "source": [
    "print(trip_df.head())"
   ]
  },
  {
   "cell_type": "code",
   "execution_count": 29,
   "metadata": {
    "collapsed": true
   },
   "outputs": [],
   "source": [
    "#Slice dates from pickup datetime column to create new date column\n",
    "dates = []\n",
    "for i in trip_df['pickup_datetime']:\n",
    "    dates.append(i[:10])\n",
    "trip_df['date'] = pd.to_datetime(dates)"
   ]
  },
  {
   "cell_type": "code",
   "execution_count": 30,
   "metadata": {
    "collapsed": true
   },
   "outputs": [],
   "source": [
    "#Convert vendor ID from Int64 to Categorical\n",
    "trip_df['vendor_id'] = trip_df['vendor_id'].astype('category')\n",
    "#Pickup and drop off should be in Datetime format\n",
    "trip_df['pickup_datetime'] = pd.to_datetime(trip_df['pickup_datetime'])\n",
    "trip_df['dropoff_datetime'] = pd.to_datetime(trip_df['dropoff_datetime'])"
   ]
  },
  {
   "cell_type": "code",
   "execution_count": 36,
   "metadata": {},
   "outputs": [
    {
     "name": "stdout",
     "output_type": "stream",
     "text": [
      "<class 'pandas.core.frame.DataFrame'>\n",
      "RangeIndex: 2375 entries, 0 to 2374\n",
      "Data columns (total 20 columns):\n",
      "STATION      2375 non-null object\n",
      "NAME         2375 non-null object\n",
      "LATITUDE     2375 non-null float64\n",
      "LONGITUDE    2375 non-null float64\n",
      "ELEVATION    2375 non-null float64\n",
      "DATE         2375 non-null object\n",
      "AWND         1088 non-null float64\n",
      "PRCP         2372 non-null float64\n",
      "SNOW         1871 non-null float64\n",
      "SNWD         1132 non-null float64\n",
      "TAVG         732 non-null float64\n",
      "TMAX         1098 non-null float64\n",
      "TMIN         1098 non-null float64\n",
      "WT01         353 non-null float64\n",
      "WT02         33 non-null float64\n",
      "WT03         44 non-null float64\n",
      "WT04         7 non-null float64\n",
      "WT06         7 non-null float64\n",
      "WT08         197 non-null float64\n",
      "WT09         4 non-null float64\n",
      "dtypes: float64(17), object(3)\n",
      "memory usage: 371.2+ KB\n",
      "None\n",
      "       STATION                         NAME  LATITUDE  LONGITUDE  ELEVATION  \\\n",
      "0  USW00094728  NY CITY CENTRAL PARK, NY US  40.77898  -73.96925       42.7   \n",
      "1  USW00094728  NY CITY CENTRAL PARK, NY US  40.77898  -73.96925       42.7   \n",
      "2  USW00094728  NY CITY CENTRAL PARK, NY US  40.77898  -73.96925       42.7   \n",
      "3  USW00094728  NY CITY CENTRAL PARK, NY US  40.77898  -73.96925       42.7   \n",
      "4  USW00094728  NY CITY CENTRAL PARK, NY US  40.77898  -73.96925       42.7   \n",
      "\n",
      "       DATE  AWND  PRCP  SNOW  SNWD  TAVG  TMAX  TMIN  WT01  WT02  WT03  WT04  \\\n",
      "0  1/1/2016  7.61   0.0   0.0   0.0   NaN  42.0  34.0   NaN   NaN   NaN   NaN   \n",
      "1  1/2/2016  6.71   0.0   0.0   0.0   NaN  40.0  32.0   NaN   NaN   NaN   NaN   \n",
      "2  1/3/2016  7.83   0.0   0.0   0.0   NaN  45.0  35.0   NaN   NaN   NaN   NaN   \n",
      "3  1/4/2016  8.50   0.0   0.0   0.0   NaN  36.0  14.0   NaN   NaN   NaN   NaN   \n",
      "4  1/5/2016  5.14   0.0   0.0   0.0   NaN  29.0  11.0   NaN   NaN   NaN   NaN   \n",
      "\n",
      "   WT06  WT08  WT09  \n",
      "0   NaN   NaN   NaN  \n",
      "1   NaN   NaN   NaN  \n",
      "2   NaN   NaN   NaN  \n",
      "3   NaN   NaN   NaN  \n",
      "4   NaN   NaN   NaN  \n"
     ]
    }
   ],
   "source": [
    "#Import weather data\n",
    "file2 = 'NYCweather2016.csv'\n",
    "weather = pd.read_csv(file2)\n",
    "print(weather.info())\n",
    "print(weather.head())"
   ]
  },
  {
   "cell_type": "code",
   "execution_count": 37,
   "metadata": {
    "collapsed": true
   },
   "outputs": [],
   "source": [
    "weather['DATE'] = pd.to_datetime(weather['DATE'])"
   ]
  },
  {
   "cell_type": "code",
   "execution_count": 38,
   "metadata": {},
   "outputs": [
    {
     "name": "stdout",
     "output_type": "stream",
     "text": [
      "-----------------------------------------------------\n",
      "NY CITY CENTRAL PARK, NY US\n",
      "<class 'pandas.core.frame.DataFrame'>\n",
      "Int64Index: 366 entries, 0 to 365\n",
      "Data columns (total 20 columns):\n",
      "STATION      366 non-null object\n",
      "NAME         366 non-null object\n",
      "LATITUDE     366 non-null float64\n",
      "LONGITUDE    366 non-null float64\n",
      "ELEVATION    366 non-null float64\n",
      "DATE         366 non-null datetime64[ns]\n",
      "AWND         356 non-null float64\n",
      "PRCP         366 non-null float64\n",
      "SNOW         366 non-null float64\n",
      "SNWD         366 non-null float64\n",
      "TAVG         0 non-null float64\n",
      "TMAX         366 non-null float64\n",
      "TMIN         366 non-null float64\n",
      "WT01         131 non-null float64\n",
      "WT02         6 non-null float64\n",
      "WT03         0 non-null float64\n",
      "WT04         1 non-null float64\n",
      "WT06         2 non-null float64\n",
      "WT08         99 non-null float64\n",
      "WT09         0 non-null float64\n",
      "dtypes: datetime64[ns](1), float64(17), object(2)\n",
      "memory usage: 60.0+ KB\n",
      "None\n",
      "-----------------------------------------------------\n",
      "MIDDLE VILLAGE 0.5 SW, NY US\n",
      "<class 'pandas.core.frame.DataFrame'>\n",
      "Int64Index: 351 entries, 366 to 716\n",
      "Data columns (total 20 columns):\n",
      "STATION      351 non-null object\n",
      "NAME         351 non-null object\n",
      "LATITUDE     351 non-null float64\n",
      "LONGITUDE    351 non-null float64\n",
      "ELEVATION    351 non-null float64\n",
      "DATE         351 non-null datetime64[ns]\n",
      "AWND         0 non-null float64\n",
      "PRCP         351 non-null float64\n",
      "SNOW         162 non-null float64\n",
      "SNWD         1 non-null float64\n",
      "TAVG         0 non-null float64\n",
      "TMAX         0 non-null float64\n",
      "TMIN         0 non-null float64\n",
      "WT01         0 non-null float64\n",
      "WT02         0 non-null float64\n",
      "WT03         0 non-null float64\n",
      "WT04         0 non-null float64\n",
      "WT06         0 non-null float64\n",
      "WT08         0 non-null float64\n",
      "WT09         0 non-null float64\n",
      "dtypes: datetime64[ns](1), float64(17), object(2)\n",
      "memory usage: 57.6+ KB\n",
      "None\n",
      "-----------------------------------------------------\n",
      "LA GUARDIA AIRPORT, NY US\n",
      "<class 'pandas.core.frame.DataFrame'>\n",
      "Int64Index: 366 entries, 717 to 1082\n",
      "Data columns (total 20 columns):\n",
      "STATION      366 non-null object\n",
      "NAME         366 non-null object\n",
      "LATITUDE     366 non-null float64\n",
      "LONGITUDE    366 non-null float64\n",
      "ELEVATION    366 non-null float64\n",
      "DATE         366 non-null datetime64[ns]\n",
      "AWND         366 non-null float64\n",
      "PRCP         366 non-null float64\n",
      "SNOW         366 non-null float64\n",
      "SNWD         366 non-null float64\n",
      "TAVG         366 non-null float64\n",
      "TMAX         366 non-null float64\n",
      "TMIN         366 non-null float64\n",
      "WT01         106 non-null float64\n",
      "WT02         7 non-null float64\n",
      "WT03         21 non-null float64\n",
      "WT04         3 non-null float64\n",
      "WT06         4 non-null float64\n",
      "WT08         63 non-null float64\n",
      "WT09         2 non-null float64\n",
      "dtypes: datetime64[ns](1), float64(17), object(2)\n",
      "memory usage: 60.0+ KB\n",
      "None\n",
      "-----------------------------------------------------\n",
      "STATEN ISLAND 1.4 SE, NY US\n",
      "<class 'pandas.core.frame.DataFrame'>\n",
      "Int64Index: 345 entries, 1083 to 1427\n",
      "Data columns (total 20 columns):\n",
      "STATION      345 non-null object\n",
      "NAME         345 non-null object\n",
      "LATITUDE     345 non-null float64\n",
      "LONGITUDE    345 non-null float64\n",
      "ELEVATION    345 non-null float64\n",
      "DATE         345 non-null datetime64[ns]\n",
      "AWND         0 non-null float64\n",
      "PRCP         345 non-null float64\n",
      "SNOW         222 non-null float64\n",
      "SNWD         20 non-null float64\n",
      "TAVG         0 non-null float64\n",
      "TMAX         0 non-null float64\n",
      "TMIN         0 non-null float64\n",
      "WT01         0 non-null float64\n",
      "WT02         0 non-null float64\n",
      "WT03         0 non-null float64\n",
      "WT04         0 non-null float64\n",
      "WT06         0 non-null float64\n",
      "WT08         0 non-null float64\n",
      "WT09         0 non-null float64\n",
      "dtypes: datetime64[ns](1), float64(17), object(2)\n",
      "memory usage: 56.6+ KB\n",
      "None\n",
      "-----------------------------------------------------\n",
      "JFK INTERNATIONAL AIRPORT, NY US\n",
      "<class 'pandas.core.frame.DataFrame'>\n",
      "Int64Index: 366 entries, 1428 to 1793\n",
      "Data columns (total 20 columns):\n",
      "STATION      366 non-null object\n",
      "NAME         366 non-null object\n",
      "LATITUDE     366 non-null float64\n",
      "LONGITUDE    366 non-null float64\n",
      "ELEVATION    366 non-null float64\n",
      "DATE         366 non-null datetime64[ns]\n",
      "AWND         366 non-null float64\n",
      "PRCP         366 non-null float64\n",
      "SNOW         366 non-null float64\n",
      "SNWD         366 non-null float64\n",
      "TAVG         366 non-null float64\n",
      "TMAX         366 non-null float64\n",
      "TMIN         366 non-null float64\n",
      "WT01         116 non-null float64\n",
      "WT02         20 non-null float64\n",
      "WT03         23 non-null float64\n",
      "WT04         3 non-null float64\n",
      "WT06         1 non-null float64\n",
      "WT08         35 non-null float64\n",
      "WT09         2 non-null float64\n",
      "dtypes: datetime64[ns](1), float64(17), object(2)\n",
      "memory usage: 60.0+ KB\n",
      "None\n",
      "-----------------------------------------------------\n",
      "STATEN ISLAND 4.5 SSE, NY US\n",
      "<class 'pandas.core.frame.DataFrame'>\n",
      "Int64Index: 349 entries, 1794 to 2142\n",
      "Data columns (total 20 columns):\n",
      "STATION      349 non-null object\n",
      "NAME         349 non-null object\n",
      "LATITUDE     349 non-null float64\n",
      "LONGITUDE    349 non-null float64\n",
      "ELEVATION    349 non-null float64\n",
      "DATE         349 non-null datetime64[ns]\n",
      "AWND         0 non-null float64\n",
      "PRCP         347 non-null float64\n",
      "SNOW         249 non-null float64\n",
      "SNWD         0 non-null float64\n",
      "TAVG         0 non-null float64\n",
      "TMAX         0 non-null float64\n",
      "TMIN         0 non-null float64\n",
      "WT01         0 non-null float64\n",
      "WT02         0 non-null float64\n",
      "WT03         0 non-null float64\n",
      "WT04         0 non-null float64\n",
      "WT06         0 non-null float64\n",
      "WT08         0 non-null float64\n",
      "WT09         0 non-null float64\n",
      "dtypes: datetime64[ns](1), float64(17), object(2)\n",
      "memory usage: 57.3+ KB\n",
      "None\n",
      "-----------------------------------------------------\n",
      "BROOKLYN 3.1 NW, NY US\n",
      "<class 'pandas.core.frame.DataFrame'>\n",
      "Int64Index: 232 entries, 2143 to 2374\n",
      "Data columns (total 20 columns):\n",
      "STATION      232 non-null object\n",
      "NAME         232 non-null object\n",
      "LATITUDE     232 non-null float64\n",
      "LONGITUDE    232 non-null float64\n",
      "ELEVATION    232 non-null float64\n",
      "DATE         232 non-null datetime64[ns]\n",
      "AWND         0 non-null float64\n",
      "PRCP         231 non-null float64\n",
      "SNOW         140 non-null float64\n",
      "SNWD         13 non-null float64\n",
      "TAVG         0 non-null float64\n",
      "TMAX         0 non-null float64\n",
      "TMIN         0 non-null float64\n",
      "WT01         0 non-null float64\n",
      "WT02         0 non-null float64\n",
      "WT03         0 non-null float64\n",
      "WT04         0 non-null float64\n",
      "WT06         0 non-null float64\n",
      "WT08         0 non-null float64\n",
      "WT09         0 non-null float64\n",
      "dtypes: datetime64[ns](1), float64(17), object(2)\n",
      "memory usage: 38.1+ KB\n",
      "None\n"
     ]
    }
   ],
   "source": [
    "#Review data for each weather station\n",
    "for name in weather['NAME'].drop_duplicates():\n",
    "    print('-----------------------------------------------------', name, sep='\\n')\n",
    "    print(weather.loc[weather['NAME'] == name].info())"
   ]
  },
  {
   "cell_type": "code",
   "execution_count": 39,
   "metadata": {
    "collapsed": true
   },
   "outputs": [],
   "source": [
    "#Use only weather events recorded at LaGuardia Airport due to highest availability of data and most central location.\n",
    "weather = weather.loc[weather['NAME'] == 'LA GUARDIA AIRPORT, NY US']"
   ]
  },
  {
   "cell_type": "code",
   "execution_count": 40,
   "metadata": {
    "collapsed": true
   },
   "outputs": [],
   "source": [
    "#Merge dataframes\n",
    "nyc_taxi = pd.merge(trip_df, weather, how='left', left_on='date', right_on = 'DATE')"
   ]
  },
  {
   "cell_type": "code",
   "execution_count": 41,
   "metadata": {
    "scrolled": true
   },
   "outputs": [
    {
     "name": "stdout",
     "output_type": "stream",
     "text": [
      "<class 'pandas.core.frame.DataFrame'>\n",
      "Int64Index: 1458644 entries, 0 to 1458643\n",
      "Data columns (total 32 columns):\n",
      "id                    1458644 non-null object\n",
      "vendor_id             1458644 non-null category\n",
      "pickup_datetime       1458644 non-null datetime64[ns]\n",
      "dropoff_datetime      1458644 non-null datetime64[ns]\n",
      "passenger_count       1458644 non-null int64\n",
      "pickup_longitude      1458644 non-null float64\n",
      "pickup_latitude       1458644 non-null float64\n",
      "dropoff_longitude     1458644 non-null float64\n",
      "dropoff_latitude      1458644 non-null float64\n",
      "store_and_fwd_flag    1458644 non-null object\n",
      "trip_duration         1458644 non-null int64\n",
      "date                  1458644 non-null datetime64[ns]\n",
      "STATION               1458644 non-null object\n",
      "NAME                  1458644 non-null object\n",
      "LATITUDE              1458644 non-null float64\n",
      "LONGITUDE             1458644 non-null float64\n",
      "ELEVATION             1458644 non-null float64\n",
      "DATE                  1458644 non-null datetime64[ns]\n",
      "AWND                  1458644 non-null float64\n",
      "PRCP                  1458644 non-null float64\n",
      "SNOW                  1458644 non-null float64\n",
      "SNWD                  1458644 non-null float64\n",
      "TAVG                  1458644 non-null float64\n",
      "TMAX                  1458644 non-null float64\n",
      "TMIN                  1458644 non-null float64\n",
      "WT01                  432485 non-null float64\n",
      "WT02                  33431 non-null float64\n",
      "WT03                  49532 non-null float64\n",
      "WT04                  24251 non-null float64\n",
      "WT06                  22794 non-null float64\n",
      "WT08                  234307 non-null float64\n",
      "WT09                  5031 non-null float64\n",
      "dtypes: category(1), datetime64[ns](4), float64(21), int64(2), object(4)\n",
      "memory usage: 357.5+ MB\n"
     ]
    }
   ],
   "source": [
    "nyc_taxi.info()"
   ]
  },
  {
   "cell_type": "code",
   "execution_count": 45,
   "metadata": {},
   "outputs": [
    {
     "data": {
      "text/html": [
       "<div>\n",
       "<style>\n",
       "    .dataframe thead tr:only-child th {\n",
       "        text-align: right;\n",
       "    }\n",
       "\n",
       "    .dataframe thead th {\n",
       "        text-align: left;\n",
       "    }\n",
       "\n",
       "    .dataframe tbody tr th {\n",
       "        vertical-align: top;\n",
       "    }\n",
       "</style>\n",
       "<table border=\"1\" class=\"dataframe\">\n",
       "  <thead>\n",
       "    <tr style=\"text-align: right;\">\n",
       "      <th></th>\n",
       "      <th>WT01</th>\n",
       "      <th>WT02</th>\n",
       "      <th>WT03</th>\n",
       "      <th>WT04</th>\n",
       "      <th>WT06</th>\n",
       "      <th>WT08</th>\n",
       "      <th>WT09</th>\n",
       "    </tr>\n",
       "  </thead>\n",
       "  <tbody>\n",
       "    <tr>\n",
       "      <th>0</th>\n",
       "      <td>1.0</td>\n",
       "      <td>NaN</td>\n",
       "      <td>NaN</td>\n",
       "      <td>NaN</td>\n",
       "      <td>NaN</td>\n",
       "      <td>1.0</td>\n",
       "      <td>NaN</td>\n",
       "    </tr>\n",
       "    <tr>\n",
       "      <th>1</th>\n",
       "      <td>NaN</td>\n",
       "      <td>NaN</td>\n",
       "      <td>NaN</td>\n",
       "      <td>NaN</td>\n",
       "      <td>NaN</td>\n",
       "      <td>NaN</td>\n",
       "      <td>NaN</td>\n",
       "    </tr>\n",
       "    <tr>\n",
       "      <th>2</th>\n",
       "      <td>NaN</td>\n",
       "      <td>NaN</td>\n",
       "      <td>NaN</td>\n",
       "      <td>NaN</td>\n",
       "      <td>NaN</td>\n",
       "      <td>NaN</td>\n",
       "      <td>NaN</td>\n",
       "    </tr>\n",
       "    <tr>\n",
       "      <th>3</th>\n",
       "      <td>NaN</td>\n",
       "      <td>NaN</td>\n",
       "      <td>NaN</td>\n",
       "      <td>NaN</td>\n",
       "      <td>NaN</td>\n",
       "      <td>NaN</td>\n",
       "      <td>NaN</td>\n",
       "    </tr>\n",
       "    <tr>\n",
       "      <th>4</th>\n",
       "      <td>NaN</td>\n",
       "      <td>NaN</td>\n",
       "      <td>NaN</td>\n",
       "      <td>NaN</td>\n",
       "      <td>NaN</td>\n",
       "      <td>NaN</td>\n",
       "      <td>NaN</td>\n",
       "    </tr>\n",
       "    <tr>\n",
       "      <th>5</th>\n",
       "      <td>NaN</td>\n",
       "      <td>NaN</td>\n",
       "      <td>NaN</td>\n",
       "      <td>NaN</td>\n",
       "      <td>NaN</td>\n",
       "      <td>NaN</td>\n",
       "      <td>NaN</td>\n",
       "    </tr>\n",
       "    <tr>\n",
       "      <th>6</th>\n",
       "      <td>NaN</td>\n",
       "      <td>NaN</td>\n",
       "      <td>NaN</td>\n",
       "      <td>NaN</td>\n",
       "      <td>NaN</td>\n",
       "      <td>NaN</td>\n",
       "      <td>NaN</td>\n",
       "    </tr>\n",
       "    <tr>\n",
       "      <th>7</th>\n",
       "      <td>1.0</td>\n",
       "      <td>NaN</td>\n",
       "      <td>NaN</td>\n",
       "      <td>NaN</td>\n",
       "      <td>NaN</td>\n",
       "      <td>NaN</td>\n",
       "      <td>NaN</td>\n",
       "    </tr>\n",
       "    <tr>\n",
       "      <th>8</th>\n",
       "      <td>NaN</td>\n",
       "      <td>NaN</td>\n",
       "      <td>NaN</td>\n",
       "      <td>NaN</td>\n",
       "      <td>NaN</td>\n",
       "      <td>1.0</td>\n",
       "      <td>NaN</td>\n",
       "    </tr>\n",
       "    <tr>\n",
       "      <th>9</th>\n",
       "      <td>NaN</td>\n",
       "      <td>NaN</td>\n",
       "      <td>NaN</td>\n",
       "      <td>NaN</td>\n",
       "      <td>NaN</td>\n",
       "      <td>NaN</td>\n",
       "      <td>NaN</td>\n",
       "    </tr>\n",
       "    <tr>\n",
       "      <th>10</th>\n",
       "      <td>NaN</td>\n",
       "      <td>NaN</td>\n",
       "      <td>NaN</td>\n",
       "      <td>NaN</td>\n",
       "      <td>NaN</td>\n",
       "      <td>NaN</td>\n",
       "      <td>NaN</td>\n",
       "    </tr>\n",
       "    <tr>\n",
       "      <th>11</th>\n",
       "      <td>NaN</td>\n",
       "      <td>NaN</td>\n",
       "      <td>NaN</td>\n",
       "      <td>NaN</td>\n",
       "      <td>NaN</td>\n",
       "      <td>NaN</td>\n",
       "      <td>NaN</td>\n",
       "    </tr>\n",
       "    <tr>\n",
       "      <th>12</th>\n",
       "      <td>NaN</td>\n",
       "      <td>NaN</td>\n",
       "      <td>NaN</td>\n",
       "      <td>NaN</td>\n",
       "      <td>NaN</td>\n",
       "      <td>NaN</td>\n",
       "      <td>NaN</td>\n",
       "    </tr>\n",
       "    <tr>\n",
       "      <th>13</th>\n",
       "      <td>NaN</td>\n",
       "      <td>NaN</td>\n",
       "      <td>NaN</td>\n",
       "      <td>NaN</td>\n",
       "      <td>NaN</td>\n",
       "      <td>NaN</td>\n",
       "      <td>NaN</td>\n",
       "    </tr>\n",
       "    <tr>\n",
       "      <th>14</th>\n",
       "      <td>NaN</td>\n",
       "      <td>NaN</td>\n",
       "      <td>NaN</td>\n",
       "      <td>NaN</td>\n",
       "      <td>NaN</td>\n",
       "      <td>1.0</td>\n",
       "      <td>NaN</td>\n",
       "    </tr>\n",
       "    <tr>\n",
       "      <th>15</th>\n",
       "      <td>NaN</td>\n",
       "      <td>NaN</td>\n",
       "      <td>NaN</td>\n",
       "      <td>NaN</td>\n",
       "      <td>NaN</td>\n",
       "      <td>1.0</td>\n",
       "      <td>NaN</td>\n",
       "    </tr>\n",
       "    <tr>\n",
       "      <th>16</th>\n",
       "      <td>NaN</td>\n",
       "      <td>NaN</td>\n",
       "      <td>NaN</td>\n",
       "      <td>NaN</td>\n",
       "      <td>NaN</td>\n",
       "      <td>NaN</td>\n",
       "      <td>NaN</td>\n",
       "    </tr>\n",
       "    <tr>\n",
       "      <th>17</th>\n",
       "      <td>NaN</td>\n",
       "      <td>NaN</td>\n",
       "      <td>NaN</td>\n",
       "      <td>NaN</td>\n",
       "      <td>NaN</td>\n",
       "      <td>NaN</td>\n",
       "      <td>NaN</td>\n",
       "    </tr>\n",
       "    <tr>\n",
       "      <th>18</th>\n",
       "      <td>1.0</td>\n",
       "      <td>NaN</td>\n",
       "      <td>NaN</td>\n",
       "      <td>NaN</td>\n",
       "      <td>NaN</td>\n",
       "      <td>1.0</td>\n",
       "      <td>NaN</td>\n",
       "    </tr>\n",
       "    <tr>\n",
       "      <th>19</th>\n",
       "      <td>1.0</td>\n",
       "      <td>1.0</td>\n",
       "      <td>1.0</td>\n",
       "      <td>NaN</td>\n",
       "      <td>NaN</td>\n",
       "      <td>NaN</td>\n",
       "      <td>NaN</td>\n",
       "    </tr>\n",
       "  </tbody>\n",
       "</table>\n",
       "</div>"
      ],
      "text/plain": [
       "    WT01  WT02  WT03  WT04  WT06  WT08  WT09\n",
       "0    1.0   NaN   NaN   NaN   NaN   1.0   NaN\n",
       "1    NaN   NaN   NaN   NaN   NaN   NaN   NaN\n",
       "2    NaN   NaN   NaN   NaN   NaN   NaN   NaN\n",
       "3    NaN   NaN   NaN   NaN   NaN   NaN   NaN\n",
       "4    NaN   NaN   NaN   NaN   NaN   NaN   NaN\n",
       "5    NaN   NaN   NaN   NaN   NaN   NaN   NaN\n",
       "6    NaN   NaN   NaN   NaN   NaN   NaN   NaN\n",
       "7    1.0   NaN   NaN   NaN   NaN   NaN   NaN\n",
       "8    NaN   NaN   NaN   NaN   NaN   1.0   NaN\n",
       "9    NaN   NaN   NaN   NaN   NaN   NaN   NaN\n",
       "10   NaN   NaN   NaN   NaN   NaN   NaN   NaN\n",
       "11   NaN   NaN   NaN   NaN   NaN   NaN   NaN\n",
       "12   NaN   NaN   NaN   NaN   NaN   NaN   NaN\n",
       "13   NaN   NaN   NaN   NaN   NaN   NaN   NaN\n",
       "14   NaN   NaN   NaN   NaN   NaN   1.0   NaN\n",
       "15   NaN   NaN   NaN   NaN   NaN   1.0   NaN\n",
       "16   NaN   NaN   NaN   NaN   NaN   NaN   NaN\n",
       "17   NaN   NaN   NaN   NaN   NaN   NaN   NaN\n",
       "18   1.0   NaN   NaN   NaN   NaN   1.0   NaN\n",
       "19   1.0   1.0   1.0   NaN   NaN   NaN   NaN"
      ]
     },
     "execution_count": 45,
     "metadata": {},
     "output_type": "execute_result"
    }
   ],
   "source": [
    "nyc_taxi.iloc[:20, -7:]"
   ]
  },
  {
   "cell_type": "code",
   "execution_count": 46,
   "metadata": {
    "collapsed": true
   },
   "outputs": [],
   "source": [
    "#Columns representing weather types (WT01 - WT09) have 1's indicating yes and NaN indicating no. Replace NaN with 0.\n",
    "bools = {1: True, 0: False}\n",
    "for col in nyc_taxi.iloc[:,-7:]:\n",
    "    nyc_taxi[col] = nyc_taxi[col].fillna(value=0)\n",
    "    nyc_taxi[col] = nyc_taxi[col].map(bools)"
   ]
  },
  {
   "cell_type": "code",
   "execution_count": 47,
   "metadata": {},
   "outputs": [
    {
     "name": "stdout",
     "output_type": "stream",
     "text": [
      "     WT01   WT02   WT03   WT04   WT06   WT08   WT09\n",
      "0    True  False  False  False  False   True  False\n",
      "1   False  False  False  False  False  False  False\n",
      "2   False  False  False  False  False  False  False\n",
      "3   False  False  False  False  False  False  False\n",
      "4   False  False  False  False  False  False  False\n",
      "5   False  False  False  False  False  False  False\n",
      "6   False  False  False  False  False  False  False\n",
      "7    True  False  False  False  False  False  False\n",
      "8   False  False  False  False  False   True  False\n",
      "9   False  False  False  False  False  False  False\n",
      "10  False  False  False  False  False  False  False\n",
      "11  False  False  False  False  False  False  False\n",
      "12  False  False  False  False  False  False  False\n",
      "13  False  False  False  False  False  False  False\n",
      "14  False  False  False  False  False   True  False\n",
      "15  False  False  False  False  False   True  False\n",
      "16  False  False  False  False  False  False  False\n",
      "17  False  False  False  False  False  False  False\n",
      "18   True  False  False  False  False   True  False\n",
      "19   True   True   True  False  False  False  False\n"
     ]
    }
   ],
   "source": [
    "print(nyc_taxi.iloc[:20,-7:])"
   ]
  },
  {
   "cell_type": "code",
   "execution_count": 48,
   "metadata": {},
   "outputs": [
    {
     "name": "stdout",
     "output_type": "stream",
     "text": [
      "id\n",
      "vendor_id\n",
      "pickup_datetime\n",
      "dropoff_datetime\n",
      "passenger_count\n",
      "pickup_longitude\n",
      "pickup_latitude\n",
      "dropoff_longitude\n",
      "dropoff_latitude\n",
      "store_and_fwd_flag\n",
      "trip_duration\n",
      "date\n",
      "STATION\n",
      "NAME\n",
      "LATITUDE\n",
      "LONGITUDE\n",
      "ELEVATION\n",
      "DATE\n",
      "AWND\n",
      "PRCP\n",
      "SNOW\n",
      "SNWD\n",
      "TAVG\n",
      "TMAX\n",
      "TMIN\n",
      "WT01\n",
      "WT02\n",
      "WT03\n",
      "WT04\n",
      "WT06\n",
      "WT08\n",
      "WT09\n"
     ]
    }
   ],
   "source": [
    "for col in nyc_taxi:\n",
    "    print(col)"
   ]
  },
  {
   "cell_type": "code",
   "execution_count": 49,
   "metadata": {
    "collapsed": true
   },
   "outputs": [],
   "source": [
    "c = ['vendor_id','store_and_fwd_flag','ELEVATION','DATE']\n",
    "for i in c:\n",
    "    del nyc_taxi[i]"
   ]
  },
  {
   "cell_type": "code",
   "execution_count": 50,
   "metadata": {
    "collapsed": true
   },
   "outputs": [],
   "source": [
    "columns = ['id','pickup_datetime','dropoff_datetime','passenger_count','pickup_longitude','pickup_latitude','dropoff_longitude',\n",
    "          'dropoff_latitude','trip_duration','date','station_num','station_name','station_latitude','station_longitude','average_wind',\n",
    "          'precipitation','snowfall','snow_depth','avg_temp','max_temp','min_temp','fog','fog_heavy','thunder','ice_pellets','glaze',\n",
    "          'smoke_haze','blowing_snow']"
   ]
  },
  {
   "cell_type": "code",
   "execution_count": 51,
   "metadata": {
    "collapsed": true
   },
   "outputs": [],
   "source": [
    "nyc_taxi.columns = columns"
   ]
  },
  {
   "cell_type": "code",
   "execution_count": 52,
   "metadata": {},
   "outputs": [
    {
     "name": "stdout",
     "output_type": "stream",
     "text": [
      "<class 'pandas.core.frame.DataFrame'>\n",
      "Int64Index: 1000 entries, 0 to 999\n",
      "Data columns (total 28 columns):\n",
      "id                   1000 non-null object\n",
      "pickup_datetime      1000 non-null datetime64[ns]\n",
      "dropoff_datetime     1000 non-null datetime64[ns]\n",
      "passenger_count      1000 non-null int64\n",
      "pickup_longitude     1000 non-null float64\n",
      "pickup_latitude      1000 non-null float64\n",
      "dropoff_longitude    1000 non-null float64\n",
      "dropoff_latitude     1000 non-null float64\n",
      "trip_duration        1000 non-null int64\n",
      "date                 1000 non-null datetime64[ns]\n",
      "station_num          1000 non-null object\n",
      "station_name         1000 non-null object\n",
      "station_latitude     1000 non-null float64\n",
      "station_longitude    1000 non-null float64\n",
      "average_wind         1000 non-null float64\n",
      "precipitation        1000 non-null float64\n",
      "snowfall             1000 non-null float64\n",
      "snow_depth           1000 non-null float64\n",
      "avg_temp             1000 non-null float64\n",
      "max_temp             1000 non-null float64\n",
      "min_temp             1000 non-null float64\n",
      "fog                  1000 non-null bool\n",
      "fog_heavy            1000 non-null bool\n",
      "thunder              1000 non-null bool\n",
      "ice_pellets          1000 non-null bool\n",
      "glaze                1000 non-null bool\n",
      "smoke_haze           1000 non-null bool\n",
      "blowing_snow         1000 non-null bool\n",
      "dtypes: bool(7), datetime64[ns](3), float64(13), int64(2), object(3)\n",
      "memory usage: 178.7+ KB\n"
     ]
    }
   ],
   "source": [
    "nyc_taxi[:1000].info()"
   ]
  },
  {
   "cell_type": "code",
   "execution_count": 53,
   "metadata": {
    "collapsed": true
   },
   "outputs": [],
   "source": [
    "#Remove column that stores duplicate index\n",
    "nyc_taxi = nyc_taxi.iloc[:,1:]\n",
    "\n",
    "#Set index to datetime of pickup\n",
    "nyc_taxi['pickup_datetime'] = pd.to_datetime(nyc_taxi['pickup_datetime'])\n",
    "datetime_ind = list(nyc_taxi['pickup_datetime'])\n",
    "nyc_taxi.index = datetime_ind\n",
    "#Set drop off to datetime\n",
    "nyc_taxi['dropoff_datetime'] = pd.to_datetime(nyc_taxi['dropoff_datetime'])\n",
    "\n",
    "#While we're at it, pair the datetimes with their respective days of the week\n",
    "day_of_week = [x.weekday() for x in datetime_ind]\n",
    "nyc_taxi['day_of_week'] = day_of_week\n",
    "\n",
    "#Create a separate column with the names of the weekdays in case they're needed later\n",
    "weekday_dict = {0: 'Monday',\n",
    "               1: 'Tuesday',\n",
    "               2: 'Wednesday',\n",
    "               3: 'Thursday',\n",
    "               4: 'Friday',\n",
    "               5: 'Saturday',\n",
    "               6: 'Sunday'}\n",
    "nyc_taxi['weekday_name'] = nyc_taxi['day_of_week'].map(weekday_dict)"
   ]
  },
  {
   "cell_type": "code",
   "execution_count": 54,
   "metadata": {
    "collapsed": true
   },
   "outputs": [],
   "source": [
    "#Change days of week to categoricals\n",
    "nyc_taxi['day_of_week'] = nyc_taxi['day_of_week'].astype('category').cat.as_ordered()\n",
    "nyc_taxi['weekday_name'] = nyc_taxi['weekday_name'].astype('category')"
   ]
  },
  {
   "cell_type": "code",
   "execution_count": 65,
   "metadata": {
    "collapsed": true
   },
   "outputs": [],
   "source": [
    "#Write the taxi/weather data to a csv\n",
    "nyc_taxi.to_csv('nyc_taxi.csv')"
   ]
  },
  {
   "cell_type": "code",
   "execution_count": 68,
   "metadata": {},
   "outputs": [],
   "source": [
    "#Read in geospatial data for New York\n",
    "ny_state = gpd.read_file('ZillowNeighborhoods-NY.shp')"
   ]
  },
  {
   "cell_type": "code",
   "execution_count": 69,
   "metadata": {},
   "outputs": [
    {
     "data": {
      "text/html": [
       "<div>\n",
       "<style>\n",
       "    .dataframe thead tr:only-child th {\n",
       "        text-align: right;\n",
       "    }\n",
       "\n",
       "    .dataframe thead th {\n",
       "        text-align: left;\n",
       "    }\n",
       "\n",
       "    .dataframe tbody tr th {\n",
       "        vertical-align: top;\n",
       "    }\n",
       "</style>\n",
       "<table border=\"1\" class=\"dataframe\">\n",
       "  <thead>\n",
       "    <tr style=\"text-align: right;\">\n",
       "      <th></th>\n",
       "      <th>State</th>\n",
       "      <th>County</th>\n",
       "      <th>City</th>\n",
       "      <th>Name</th>\n",
       "      <th>RegionID</th>\n",
       "      <th>geometry</th>\n",
       "    </tr>\n",
       "  </thead>\n",
       "  <tbody>\n",
       "    <tr>\n",
       "      <th>246</th>\n",
       "      <td>NY</td>\n",
       "      <td>New York</td>\n",
       "      <td>New York</td>\n",
       "      <td>Marble Hill</td>\n",
       "      <td>270880</td>\n",
       "      <td>POLYGON ((-73.91071526499991 40.87890143900006...</td>\n",
       "    </tr>\n",
       "    <tr>\n",
       "      <th>282</th>\n",
       "      <td>NY</td>\n",
       "      <td>Kings</td>\n",
       "      <td>New York</td>\n",
       "      <td>Vinegar Hill</td>\n",
       "      <td>270960</td>\n",
       "      <td>POLYGON ((-73.97901955399993 40.70666396400009...</td>\n",
       "    </tr>\n",
       "    <tr>\n",
       "      <th>310</th>\n",
       "      <td>NY</td>\n",
       "      <td>Bronx</td>\n",
       "      <td>New York</td>\n",
       "      <td>Rikers Island</td>\n",
       "      <td>270922</td>\n",
       "      <td>POLYGON ((-73.8865870059999 40.79891837000008,...</td>\n",
       "    </tr>\n",
       "    <tr>\n",
       "      <th>375</th>\n",
       "      <td>NY</td>\n",
       "      <td>New York</td>\n",
       "      <td>New York</td>\n",
       "      <td>Brooklyn Heights</td>\n",
       "      <td>403122</td>\n",
       "      <td>POLYGON ((-73.99610507599969 40.70422567500025...</td>\n",
       "    </tr>\n",
       "  </tbody>\n",
       "</table>\n",
       "</div>"
      ],
      "text/plain": [
       "    State    County      City              Name RegionID  \\\n",
       "246    NY  New York  New York       Marble Hill   270880   \n",
       "282    NY     Kings  New York      Vinegar Hill   270960   \n",
       "310    NY     Bronx  New York     Rikers Island   270922   \n",
       "375    NY  New York  New York  Brooklyn Heights   403122   \n",
       "\n",
       "                                              geometry  \n",
       "246  POLYGON ((-73.91071526499991 40.87890143900006...  \n",
       "282  POLYGON ((-73.97901955399993 40.70666396400009...  \n",
       "310  POLYGON ((-73.8865870059999 40.79891837000008,...  \n",
       "375  POLYGON ((-73.99610507599969 40.70422567500025...  "
      ]
     },
     "execution_count": 69,
     "metadata": {},
     "output_type": "execute_result"
    }
   ],
   "source": [
    "#Locate duplicate regions\n",
    "ny_state[ny_state['RegionID'].duplicated()]"
   ]
  },
  {
   "cell_type": "code",
   "execution_count": 70,
   "metadata": {},
   "outputs": [
    {
     "data": {
      "text/html": [
       "<div>\n",
       "<style>\n",
       "    .dataframe thead tr:only-child th {\n",
       "        text-align: right;\n",
       "    }\n",
       "\n",
       "    .dataframe thead th {\n",
       "        text-align: left;\n",
       "    }\n",
       "\n",
       "    .dataframe tbody tr th {\n",
       "        vertical-align: top;\n",
       "    }\n",
       "</style>\n",
       "<table border=\"1\" class=\"dataframe\">\n",
       "  <thead>\n",
       "    <tr style=\"text-align: right;\">\n",
       "      <th></th>\n",
       "      <th>State</th>\n",
       "      <th>County</th>\n",
       "      <th>City</th>\n",
       "      <th>Name</th>\n",
       "      <th>RegionID</th>\n",
       "      <th>geometry</th>\n",
       "    </tr>\n",
       "  </thead>\n",
       "  <tbody>\n",
       "    <tr>\n",
       "      <th>281</th>\n",
       "      <td>NY</td>\n",
       "      <td>New York</td>\n",
       "      <td>New York</td>\n",
       "      <td>Vinegar Hill</td>\n",
       "      <td>270960</td>\n",
       "      <td>POLYGON ((-73.97901955399993 40.70666396400009...</td>\n",
       "    </tr>\n",
       "    <tr>\n",
       "      <th>282</th>\n",
       "      <td>NY</td>\n",
       "      <td>Kings</td>\n",
       "      <td>New York</td>\n",
       "      <td>Vinegar Hill</td>\n",
       "      <td>270960</td>\n",
       "      <td>POLYGON ((-73.97901955399993 40.70666396400009...</td>\n",
       "    </tr>\n",
       "  </tbody>\n",
       "</table>\n",
       "</div>"
      ],
      "text/plain": [
       "    State    County      City          Name RegionID  \\\n",
       "281    NY  New York  New York  Vinegar Hill   270960   \n",
       "282    NY     Kings  New York  Vinegar Hill   270960   \n",
       "\n",
       "                                              geometry  \n",
       "281  POLYGON ((-73.97901955399993 40.70666396400009...  \n",
       "282  POLYGON ((-73.97901955399993 40.70666396400009...  "
      ]
     },
     "execution_count": 70,
     "metadata": {},
     "output_type": "execute_result"
    }
   ],
   "source": [
    "#Investigate one of the duplicate regions\n",
    "ny_state[ny_state['RegionID'] == '270960']"
   ]
  },
  {
   "cell_type": "code",
   "execution_count": 71,
   "metadata": {},
   "outputs": [
    {
     "data": {
      "text/plain": [
       "1.0"
      ]
     },
     "execution_count": 71,
     "metadata": {},
     "output_type": "execute_result"
    }
   ],
   "source": [
    "#Drop duplicate regions\n",
    "ny_state = ny_state.loc[ny_state['RegionID'].drop_duplicates().index]\n",
    "\n",
    "#Check that all regions are unique (output should be 1)\n",
    "ny_state['RegionID'].nunique(dropna = True) / len(ny_state['RegionID'])"
   ]
  },
  {
   "cell_type": "code",
   "execution_count": 72,
   "metadata": {
    "collapsed": true
   },
   "outputs": [],
   "source": [
    "#Set index to region ID\n",
    "ny_state['RegionID'] = ny_state['RegionID'].astype('int')\n",
    "ny_state = ny_state.set_index(['RegionID'])\n",
    "ny_state = ny_state.sort_index()"
   ]
  },
  {
   "cell_type": "code",
   "execution_count": 73,
   "metadata": {
    "collapsed": true
   },
   "outputs": [],
   "source": [
    "#All data come from the same state, drop state column\n",
    "ny_state = ny_state.drop('State', axis=1)"
   ]
  },
  {
   "cell_type": "code",
   "execution_count": 74,
   "metadata": {},
   "outputs": [
    {
     "name": "stdout",
     "output_type": "stream",
     "text": [
      "['County', 'City', 'Name']\n"
     ]
    }
   ],
   "source": [
    "#List columns of ny_state Dataframe\n",
    "columns = list(ny_state.select_dtypes(include=['object']).columns.values)\n",
    "columns.remove('geometry')\n",
    "print(columns)"
   ]
  },
  {
   "cell_type": "code",
   "execution_count": 76,
   "metadata": {},
   "outputs": [
    {
     "name": "stdout",
     "output_type": "stream",
     "text": [
      "<class 'geopandas.geodataframe.GeoDataFrame'>\n",
      "Int64Index: 575 entries, 3698 to 764316\n",
      "Data columns (total 4 columns):\n",
      "County      575 non-null object\n",
      "City        575 non-null object\n",
      "Name        575 non-null object\n",
      "geometry    575 non-null object\n",
      "dtypes: object(4)\n",
      "memory usage: 22.5+ KB\n"
     ]
    }
   ],
   "source": [
    "ny_state['County'] = ny_state['County'].astype('category')"
   ]
  },
  {
   "cell_type": "code",
   "execution_count": 77,
   "metadata": {},
   "outputs": [
    {
     "name": "stdout",
     "output_type": "stream",
     "text": [
      "<class 'geopandas.geodataframe.GeoDataFrame'>\n",
      "Int64Index: 575 entries, 3698 to 764316\n",
      "Columns: 4 entries, County to geometry\n",
      "dtypes: object(4)\n",
      "memory usage: 22.5+ KB\n",
      "None\n"
     ]
    }
   ],
   "source": [
    "print(ny_state.info(verbose=False))"
   ]
  },
  {
   "cell_type": "code",
   "execution_count": 78,
   "metadata": {},
   "outputs": [
    {
     "data": {
      "text/html": [
       "<div>\n",
       "<style>\n",
       "    .dataframe thead tr:only-child th {\n",
       "        text-align: right;\n",
       "    }\n",
       "\n",
       "    .dataframe thead th {\n",
       "        text-align: left;\n",
       "    }\n",
       "\n",
       "    .dataframe tbody tr th {\n",
       "        vertical-align: top;\n",
       "    }\n",
       "</style>\n",
       "<table border=\"1\" class=\"dataframe\">\n",
       "  <thead>\n",
       "    <tr style=\"text-align: right;\">\n",
       "      <th></th>\n",
       "      <th>County</th>\n",
       "      <th>City</th>\n",
       "      <th>Name</th>\n",
       "    </tr>\n",
       "  </thead>\n",
       "  <tbody>\n",
       "    <tr>\n",
       "      <th>count</th>\n",
       "      <td>575</td>\n",
       "      <td>575</td>\n",
       "      <td>575</td>\n",
       "    </tr>\n",
       "    <tr>\n",
       "      <th>unique</th>\n",
       "      <td>24</td>\n",
       "      <td>50</td>\n",
       "      <td>558</td>\n",
       "    </tr>\n",
       "    <tr>\n",
       "      <th>top</th>\n",
       "      <td>Queens</td>\n",
       "      <td>New York</td>\n",
       "      <td>Downtown</td>\n",
       "    </tr>\n",
       "    <tr>\n",
       "      <th>freq</th>\n",
       "      <td>70</td>\n",
       "      <td>274</td>\n",
       "      <td>5</td>\n",
       "    </tr>\n",
       "  </tbody>\n",
       "</table>\n",
       "</div>"
      ],
      "text/plain": [
       "        County      City      Name\n",
       "count      575       575       575\n",
       "unique      24        50       558\n",
       "top     Queens  New York  Downtown\n",
       "freq        70       274         5"
      ]
     },
     "execution_count": 78,
     "metadata": {},
     "output_type": "execute_result"
    }
   ],
   "source": [
    "ny_state.drop('geometry', axis=1).describe()"
   ]
  },
  {
   "cell_type": "code",
   "execution_count": 79,
   "metadata": {},
   "outputs": [
    {
     "data": {
      "text/plain": [
       "(274, 4)"
      ]
     },
     "execution_count": 79,
     "metadata": {},
     "output_type": "execute_result"
    }
   ],
   "source": [
    "nyc = ny_state.loc[ny_state['City'] == 'New York']\n",
    "nyc.shape"
   ]
  },
  {
   "cell_type": "code",
   "execution_count": 84,
   "metadata": {},
   "outputs": [],
   "source": [
    "nyc.to_file('nyc_geo.shp')"
   ]
  }
 ],
 "metadata": {
  "kernelspec": {
   "display_name": "Python 3",
   "language": "python",
   "name": "python3"
  },
  "language_info": {
   "codemirror_mode": {
    "name": "ipython",
    "version": 3
   },
   "file_extension": ".py",
   "mimetype": "text/x-python",
   "name": "python",
   "nbconvert_exporter": "python",
   "pygments_lexer": "ipython3",
   "version": "3.6.3"
  }
 },
 "nbformat": 4,
 "nbformat_minor": 2
}
