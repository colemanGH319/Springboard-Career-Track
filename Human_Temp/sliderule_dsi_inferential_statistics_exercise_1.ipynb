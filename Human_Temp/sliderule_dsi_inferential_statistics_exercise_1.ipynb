{
 "cells": [
  {
   "cell_type": "markdown",
   "metadata": {},
   "source": [
    "# What is the True Normal Human Body Temperature? \n",
    "\n",
    "#### Background\n",
    "\n",
    "The mean normal body temperature was held to be 37$^{\\circ}$C or 98.6$^{\\circ}$F for more than 120 years since it was first conceptualized and reported by Carl Wunderlich in a famous 1868 book. But, is this value statistically correct?"
   ]
  },
  {
   "cell_type": "markdown",
   "metadata": {},
   "source": [
    "<h3>Exercises</h3>\n",
    "\n",
    "<p>In this exercise, you will analyze a dataset of human body temperatures and employ the concepts of hypothesis testing, confidence intervals, and statistical significance.</p>\n",
    "\n",
    "<p>Answer the following questions <b>in this notebook below and submit to your Github account</b>.</p> \n",
    "\n",
    "<ol>\n",
    "<li>  Is the distribution of body temperatures normal? \n",
    "    <ul>\n",
    "    <li> Although this is not a requirement for CLT to hold (read CLT carefully), it gives us some peace of mind that the population may also be normally distributed if we assume that this sample is representative of the population.\n",
    "    </ul>\n",
    "<li>  Is the sample size large? Are the observations independent?\n",
    "    <ul>\n",
    "    <li> Remember that this is a condition for the CLT, and hence the statistical tests we are using, to apply.\n",
    "    </ul>\n",
    "<li>  Is the true population mean really 98.6 degrees F?\n",
    "    <ul>\n",
    "    <li> Would you use a one-sample or two-sample test? Why?\n",
    "    <li> In this situation, is it appropriate to use the $t$ or $z$ statistic? \n",
    "    <li> Now try using the other test. How is the result be different? Why?\n",
    "    </ul>\n",
    "<li>  Draw a small sample of size 10 from the data and repeat both tests. \n",
    "    <ul>\n",
    "    <li> Which one is the correct one to use? \n",
    "    <li> What do you notice? What does this tell you about the difference in application of the $t$ and $z$ statistic?\n",
    "    </ul>\n",
    "<li>  At what temperature should we consider someone's temperature to be \"abnormal\"?\n",
    "    <ul>\n",
    "    <li> Start by computing the margin of error and confidence interval.\n",
    "    </ul>\n",
    "<li>  Is there a significant difference between males and females in normal temperature?\n",
    "    <ul>\n",
    "    <li> What test did you use and why?\n",
    "    <li> Write a story with your conclusion in the context of the original problem.\n",
    "    </ul>\n",
    "</ol>\n",
    "\n",
    "You can include written notes in notebook cells using Markdown: \n",
    "   - In the control panel at the top, choose Cell > Cell Type > Markdown\n",
    "   - Markdown syntax: http://nestacms.com/docs/creating-content/markdown-cheat-sheet\n",
    "\n",
    "#### Resources\n",
    "\n",
    "+ Information and data sources: http://www.amstat.org/publications/jse/datasets/normtemp.txt, http://www.amstat.org/publications/jse/jse_data_archive.htm\n",
    "+ Markdown syntax: http://nestacms.com/docs/creating-content/markdown-cheat-sheet\n",
    "\n",
    "****"
   ]
  },
  {
   "cell_type": "code",
   "execution_count": 2,
   "metadata": {
    "collapsed": true
   },
   "outputs": [],
   "source": [
    "import pandas as pd\n",
    "\n",
    "df = pd.read_csv('data/human_body_temperature.csv')"
   ]
  },
  {
   "cell_type": "code",
   "execution_count": 22,
   "metadata": {},
   "outputs": [
    {
     "name": "stdout",
     "output_type": "stream",
     "text": [
      "   temperature gender  heart_rate\n",
      "0         99.3      F        68.0\n",
      "1         98.4      F        81.0\n",
      "2         97.8      M        73.0\n",
      "3         99.2      F        66.0\n",
      "4         98.0      F        73.0\n"
     ]
    },
    {
     "data": {
      "text/plain": [
       "(130, 3)"
      ]
     },
     "execution_count": 22,
     "metadata": {},
     "output_type": "execute_result"
    }
   ],
   "source": [
    "# Your work here.\n",
    "print(df.head())\n",
    "df.shape"
   ]
  },
  {
   "cell_type": "code",
   "execution_count": 24,
   "metadata": {},
   "outputs": [
    {
     "data": {
      "image/png": "[encoded data removed]",
      "text/plain": [
       "<matplotlib.figure.Figure at 0xbceccf0>"
      ]
     },
     "metadata": {},
     "output_type": "display_data"
    }
   ],
   "source": [
    "#Explore the distribution of body temperatures\n",
    "import matplotlib.pyplot as plt\n",
    "n = df.shape[0]**0.5\n",
    "plt.hist(df['temperature'], bins=int(n))\n",
    "plt.xlabel('Temperature')\n",
    "plt.ylabel('Count')\n",
    "plt.show()"
   ]
  },
  {
   "cell_type": "code",
   "execution_count": 25,
   "metadata": {},
   "outputs": [
    {
     "data": {
      "image/png": "[encoded data removed]",
      "text/plain": [
       "<matplotlib.figure.Figure at 0xbd35cd0>"
      ]
     },
     "metadata": {},
     "output_type": "display_data"
    }
   ],
   "source": [
    "#Is body temperature normally distributed?\n",
    "#Generate Empirical CDF based on observed body temperatures\n",
    "import numpy as np\n",
    "temps = np.sort(list(df['temperature']))\n",
    "index = np.arange(1, len(temps) + 1) / len(temps)\n",
    "plt.plot(temps, index, marker='.', linestyle='none')\n",
    "plt.xlabel('Temperature')\n",
    "plt.ylabel('ECDF')\n",
    "plt.show()"
   ]
  },
  {
   "cell_type": "code",
   "execution_count": 37,
   "metadata": {},
   "outputs": [],
   "source": [
    "#Sample a normal distribution using the mean and standard deviation calculated from the body temperature data\n",
    "mu = np.mean(temps)\n",
    "sd = np.std(temps)\n",
    "samples = np.random.normal(mu, sd, 10000)\n",
    "#Order samples and calculate their percentiles for CDF plot\n",
    "sample_cdf_x = np.sort(samples)\n",
    "sample_cdf_y = np.arange(1, len(samples) + 1) / len(samples)"
   ]
  },
  {
   "cell_type": "code",
   "execution_count": 44,
   "metadata": {
    "scrolled": true
   },
   "outputs": [
    {
     "data": {
      "image/png": "[encoded data removed]",
      "text/plain": [
       "<matplotlib.figure.Figure at 0xbf5f510>"
      ]
     },
     "metadata": {},
     "output_type": "display_data"
    }
   ],
   "source": [
    "#Plot the Empirical CDF and the CDF of the sample to compare the distributions\n",
    "plt.plot(sample_cdf_x, sample_cdf_y, marker='.', linestyle='none')\n",
    "plt.plot(temps, index, marker='.', linestyle='none')\n",
    "plt.xlabel('Temperature')\n",
    "plt.ylabel('CDF')\n",
    "plt.margins(0.02)\n",
    "plt.legend(('Sample Temperatures','Observed Temperatures'), loc='lower right')\n",
    "plt.show()"
   ]
  },
  {
   "cell_type": "markdown",
   "metadata": {},
   "source": [
    "**Answer to question 1**: Body temperatures appear to follow a normal distribution."
   ]
  },
  {
   "cell_type": "markdown",
   "metadata": {},
   "source": [
    "**Question 2**: Is the sample size large? Are the observations independent?"
   ]
  },
  {
   "cell_type": "markdown",
   "metadata": {},
   "source": [
    "In order for the Central Limit Theorem to apply, we must have a sample size n >= 30."
   ]
  },
  {
   "cell_type": "code",
   "execution_count": 47,
   "metadata": {},
   "outputs": [
    {
     "name": "stdout",
     "output_type": "stream",
     "text": [
      "130\n"
     ]
    }
   ],
   "source": [
    "n = df.shape[0]\n",
    "print(n)"
   ]
  },
  {
   "cell_type": "markdown",
   "metadata": {},
   "source": [
    "The sample size is large enough.\n",
    "\n",
    "Observations are considered independent if the occurrence of one event doesn't change the probability of another. In this study, the observations of body temperatures are independent."
   ]
  },
  {
   "cell_type": "markdown",
   "metadata": {},
   "source": [
    "**Question 3**: Is the true population mean really 98.6$^{\\circ}$F?\n",
    "    <li> Would you use a one-sample or two-sample test? Why?\n",
    "    <li> In this situation, is it appropriate to use the $t$ or $z$ statistic? \n",
    "    <li> Now try using the other test. How is the result be different? Why?"
   ]
  },
  {
   "cell_type": "markdown",
   "metadata": {},
   "source": [
    "To answer this question, I will use a one-sample test since we only have the data for the sample mean. The sample size is 130, so the z statistic can be used."
   ]
  },
  {
   "cell_type": "code",
   "execution_count": 49,
   "metadata": {},
   "outputs": [
    {
     "name": "stdout",
     "output_type": "stream",
     "text": [
      "98.2492307692\n"
     ]
    }
   ],
   "source": [
    "#Print the sample mean as a reference point\n",
    "print(mu)"
   ]
  },
  {
   "cell_type": "markdown",
   "metadata": {},
   "source": [
    "The null hypothesis is that the population mean is 98.6. Calculate the probability of sampling a mean *at least* as extreme as the mean calculated above."
   ]
  },
  {
   "cell_type": "code",
   "execution_count": 59,
   "metadata": {},
   "outputs": [
    {
     "name": "stdout",
     "output_type": "stream",
     "text": [
      "[ 98.29846154  98.18846154  98.29692308  98.28846154  98.20615385\n",
      "  98.25769231  98.25307692  98.07769231  98.22923077  98.28307692  98.24\n",
      "  98.27        98.28230769  98.24461538  98.28923077  98.24230769\n",
      "  98.26076923  98.34153846  98.23076923  98.40076923  98.17923077\n",
      "  98.31230769  98.23538462  98.27692308  98.25846154  98.14384615\n",
      "  98.27307692  98.15307692  98.35307692  98.29384615  98.18846154\n",
      "  98.23923077  98.23846154  98.25846154  98.33307692  98.27461538\n",
      "  98.27846154  98.26384615  98.22        98.26307692  98.36769231\n",
      "  98.33538462  98.15461538  98.32        98.24076923  98.22461538\n",
      "  98.17230769  98.31        98.22846154  98.16769231]\n"
     ]
    }
   ],
   "source": [
    "#Simulate the repetition of the experiment 10,000 times, storing the mean of each sample.\n",
    "bs_replicates = np.empty(10000)\n",
    "for i in range(10000):\n",
    "    bs_sample = np.random.choice(temps, len(temps))\n",
    "    bs_replicates[i] = np.mean(bs_sample)\n",
    "print(bs_replicates[:50])"
   ]
  },
  {
   "cell_type": "code",
   "execution_count": 61,
   "metadata": {},
   "outputs": [
    {
     "name": "stdout",
     "output_type": "stream",
     "text": [
      "-0.350769230769\n"
     ]
    }
   ],
   "source": [
    "#Difference in means\n",
    "pop_mean = 98.6\n",
    "diff_mean = mu - pop_mean\n",
    "print(diff_mean)"
   ]
  },
  {
   "cell_type": "code",
   "execution_count": 62,
   "metadata": {},
   "outputs": [
    {
     "name": "stdout",
     "output_type": "stream",
     "text": [
      "98.6\n"
     ]
    }
   ],
   "source": [
    "#Shift body temperature data so that sample mean = population mean\n",
    "temps_shifted = temps - mu + pop_mean\n",
    "print(np.mean(temps_shifted))"
   ]
  },
  {
   "cell_type": "code",
   "execution_count": 75,
   "metadata": {},
   "outputs": [
    {
     "data": {
      "text/plain": [
       "-5.4759252020781144"
      ]
     },
     "execution_count": 75,
     "metadata": {},
     "output_type": "execute_result"
    }
   ],
   "source": [
    "#Calculate test statistic\n",
    "(diff_mean * np.sqrt(len(temps))) / sd"
   ]
  },
  {
   "cell_type": "code",
   "execution_count": 82,
   "metadata": {},
   "outputs": [
    {
     "name": "stdout",
     "output_type": "stream",
     "text": [
      "0.0\n"
     ]
    }
   ],
   "source": [
    "#Simulate experiment 10,000 times with shifted data, storing the difference of means in an array of bootstrap replicates.\n",
    "np.random.seed(4321)\n",
    "n_sim = 10000\n",
    "bs_replicates = np.empty(n_sim)\n",
    "for i in range(n_sim):\n",
    "    bs_sample = np.random.choice(temps_shifted, len(temps_shifted))\n",
    "    bs_replicates[i] = np.mean(bs_sample) - pop_mean\n",
    "p_value = np.sum(bs_replicates <= diff_mean) / len(bs_replicates)\n",
    "print(p_value)"
   ]
  },
  {
   "cell_type": "code",
   "execution_count": 71,
   "metadata": {},
   "outputs": [
    {
     "data": {
      "text/plain": [
       "Ttest_1sampResult(statistic=-5.4548232923640771, pvalue=2.4106320415610081e-07)"
      ]
     },
     "execution_count": 71,
     "metadata": {},
     "output_type": "execute_result"
    }
   ],
   "source": [
    "#For reference, compare \"hacker\" statistics to output from stats t-test function\n",
    "from scipy import stats\n",
    "stats.ttest_1samp(temps, 98.6)"
   ]
  },
  {
   "cell_type": "markdown",
   "metadata": {},
   "source": [
    "For the purpose of hypothesis testing with a large sample and sizeable difference between the sample mean and population mean, a t-test and a z-test will both result in extremely small p-values."
   ]
  },
  {
   "cell_type": "markdown",
   "metadata": {},
   "source": [
    "**Question 4**: Draw a small sample of size 10 from the data and repeat both tests. \n",
    "    <li> Which one is the correct one to use? \n",
    "    <li> What do you notice? What does this tell you about the difference in application of the $t$ and $z$ statistic?"
   ]
  },
  {
   "cell_type": "code",
   "execution_count": 80,
   "metadata": {},
   "outputs": [
    {
     "name": "stdout",
     "output_type": "stream",
     "text": [
      "[ 98.8  96.7  99.4  98.3  98.   99.   98.2  97.4  98.   98. ]\n"
     ]
    }
   ],
   "source": [
    "#Draw a sample of size 10\n",
    "sample_10 = np.random.choice(temps, 10)\n",
    "print(sample_10)"
   ]
  },
  {
   "cell_type": "code",
   "execution_count": 83,
   "metadata": {},
   "outputs": [
    {
     "name": "stdout",
     "output_type": "stream",
     "text": [
      "0.0617\n"
     ]
    }
   ],
   "source": [
    "n_sim = 10000\n",
    "bs_replicates = np.empty(n_sim)\n",
    "for i in range(n_sim):\n",
    "    bs_sample = np.random.choice(temps_shifted, 10)\n",
    "    bs_replicates[i] = np.mean(bs_sample) - pop_mean\n",
    "p_value = np.sum(bs_replicates <= diff_mean) / len(bs_replicates)\n",
    "print(p_value)"
   ]
  }
 ],
 "metadata": {
  "kernelspec": {
   "display_name": "Python 3",
   "language": "python",
   "name": "python3"
  },
  "language_info": {
   "codemirror_mode": {
    "name": "ipython",
    "version": 3
   },
   "file_extension": ".py",
   "mimetype": "text/x-python",
   "name": "python",
   "nbconvert_exporter": "python",
   "pygments_lexer": "ipython3",
   "version": "3.6.2"
  }
 },
 "nbformat": 4,
 "nbformat_minor": 1
}
