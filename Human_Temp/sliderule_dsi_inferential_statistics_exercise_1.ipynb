{
 "cells": [
  {
   "cell_type": "markdown",
   "metadata": {},
   "source": [
    "# What is the True Normal Human Body Temperature? \n",
    "\n",
    "#### Background\n",
    "\n",
    "The mean normal body temperature was held to be 37$^{\\circ}$C or 98.6$^{\\circ}$F for more than 120 years since it was first conceptualized and reported by Carl Wunderlich in a famous 1868 book. But, is this value statistically correct?"
   ]
  },
  {
   "cell_type": "markdown",
   "metadata": {},
   "source": [
    "<h3>Exercises</h3>\n",
    "\n",
    "<p>In this exercise, you will analyze a dataset of human body temperatures and employ the concepts of hypothesis testing, confidence intervals, and statistical significance.</p>\n",
    "\n",
    "<p>Answer the following questions <b>in this notebook below and submit to your Github account</b>.</p> \n",
    "\n",
    "<ol>\n",
    "<li>  Is the distribution of body temperatures normal? \n",
    "    <ul>\n",
    "    <li> Although this is not a requirement for CLT to hold (read CLT carefully), it gives us some peace of mind that the population may also be normally distributed if we assume that this sample is representative of the population.\n",
    "    </ul>\n",
    "<li>  Is the sample size large? Are the observations independent?\n",
    "    <ul>\n",
    "    <li> Remember that this is a condition for the CLT, and hence the statistical tests we are using, to apply.\n",
    "    </ul>\n",
    "<li>  Is the true population mean really 98.6 degrees F?\n",
    "    <ul>\n",
    "    <li> Would you use a one-sample or two-sample test? Why?\n",
    "    <li> In this situation, is it appropriate to use the $t$ or $z$ statistic? \n",
    "    <li> Now try using the other test. How is the result be different? Why?\n",
    "    </ul>\n",
    "<li>  Draw a small sample of size 10 from the data and repeat both tests. \n",
    "    <ul>\n",
    "    <li> Which one is the correct one to use? \n",
    "    <li> What do you notice? What does this tell you about the difference in application of the $t$ and $z$ statistic?\n",
    "    </ul>\n",
    "<li>  At what temperature should we consider someone's temperature to be \"abnormal\"?\n",
    "    <ul>\n",
    "    <li> Start by computing the margin of error and confidence interval.\n",
    "    </ul>\n",
    "<li>  Is there a significant difference between males and females in normal temperature?\n",
    "    <ul>\n",
    "    <li> What test did you use and why?\n",
    "    <li> Write a story with your conclusion in the context of the original problem.\n",
    "    </ul>\n",
    "</ol>\n",
    "\n",
    "You can include written notes in notebook cells using Markdown: \n",
    "   - In the control panel at the top, choose Cell > Cell Type > Markdown\n",
    "   - Markdown syntax: http://nestacms.com/docs/creating-content/markdown-cheat-sheet\n",
    "\n",
    "#### Resources\n",
    "\n",
    "+ Information and data sources: http://www.amstat.org/publications/jse/datasets/normtemp.txt, http://www.amstat.org/publications/jse/jse_data_archive.htm\n",
    "+ Markdown syntax: http://nestacms.com/docs/creating-content/markdown-cheat-sheet\n",
    "\n",
    "****"
   ]
  },
  {
   "cell_type": "code",
   "execution_count": 1,
   "metadata": {
    "collapsed": true
   },
   "outputs": [],
   "source": [
    "import pandas as pd\n",
    "\n",
    "df = pd.read_csv('data/human_body_temperature.csv')"
   ]
  },
  {
   "cell_type": "code",
   "execution_count": 2,
   "metadata": {},
   "outputs": [
    {
     "name": "stdout",
     "output_type": "stream",
     "text": [
      "   temperature gender  heart_rate\n",
      "0         99.3      F        68.0\n",
      "1         98.4      F        81.0\n",
      "2         97.8      M        73.0\n",
      "3         99.2      F        66.0\n",
      "4         98.0      F        73.0\n"
     ]
    },
    {
     "data": {
      "text/plain": [
       "(130, 3)"
      ]
     },
     "execution_count": 2,
     "metadata": {},
     "output_type": "execute_result"
    }
   ],
   "source": [
    "# Your work here.\n",
    "print(df.head())\n",
    "df.shape"
   ]
  },
  {
   "cell_type": "code",
   "execution_count": 3,
   "metadata": {},
   "outputs": [
    {
     "data": {
      "image/png": "[encoded data removed]",
      "text/plain": [
       "<matplotlib.figure.Figure at 0x70b57f0>"
      ]
     },
     "metadata": {},
     "output_type": "display_data"
    }
   ],
   "source": [
    "#Explore the distribution of body temperatures\n",
    "import matplotlib.pyplot as plt\n",
    "n = df.shape[0]**0.5\n",
    "plt.hist(df['temperature'], bins=int(n))\n",
    "plt.xlabel('Temperature')\n",
    "plt.ylabel('Count')\n",
    "plt.show()"
   ]
  },
  {
   "cell_type": "code",
   "execution_count": 4,
   "metadata": {},
   "outputs": [
    {
     "data": {
      "image/png": "[encoded data removed]",
      "text/plain": [
       "<matplotlib.figure.Figure at 0x929d710>"
      ]
     },
     "metadata": {},
     "output_type": "display_data"
    }
   ],
   "source": [
    "#Is body temperature normally distributed?\n",
    "#Generate Empirical CDF based on observed body temperatures\n",
    "import numpy as np\n",
    "temps = np.sort(list(df['temperature']))\n",
    "index = np.arange(1, len(temps) + 1) / len(temps)\n",
    "plt.plot(temps, index, marker='.', linestyle='none')\n",
    "plt.xlabel('Temperature')\n",
    "plt.ylabel('ECDF')\n",
    "plt.show()"
   ]
  },
  {
   "cell_type": "code",
   "execution_count": 5,
   "metadata": {
    "collapsed": true
   },
   "outputs": [],
   "source": [
    "#Sample a normal distribution using the mean and standard deviation calculated from the body temperature data\n",
    "mu = np.mean(temps)\n",
    "sd = np.std(temps)\n",
    "samples = np.random.normal(mu, sd, 10000)\n",
    "#Order samples and calculate their percentiles for CDF plot\n",
    "sample_cdf_x = np.sort(samples)\n",
    "sample_cdf_y = np.arange(1, len(samples) + 1) / len(samples)"
   ]
  },
  {
   "cell_type": "code",
   "execution_count": 6,
   "metadata": {
    "scrolled": true
   },
   "outputs": [
    {
     "data": {
      "image/png": "[encoded data removed]",
      "text/plain": [
       "<matplotlib.figure.Figure at 0xacf7b90>"
      ]
     },
     "metadata": {},
     "output_type": "display_data"
    }
   ],
   "source": [
    "#Plot the Empirical CDF and the CDF of the sample to compare the distributions\n",
    "plt.plot(sample_cdf_x, sample_cdf_y, marker='.', linestyle='none')\n",
    "plt.plot(temps, index, marker='.', linestyle='none')\n",
    "plt.xlabel('Temperature')\n",
    "plt.ylabel('CDF')\n",
    "plt.margins(0.02)\n",
    "plt.legend(('Sample Temperatures','Observed Temperatures'), loc='lower right')\n",
    "plt.show()"
   ]
  },
  {
   "cell_type": "markdown",
   "metadata": {},
   "source": [
    "**Answer to question 1**: Body temperatures appear to follow a normal distribution."
   ]
  },
  {
   "cell_type": "markdown",
   "metadata": {},
   "source": [
    "**Question 2**: Is the sample size large? Are the observations independent?"
   ]
  },
  {
   "cell_type": "markdown",
   "metadata": {},
   "source": [
    "In order for the Central Limit Theorem to apply, we must have a sample size n >= 30."
   ]
  },
  {
   "cell_type": "code",
   "execution_count": 7,
   "metadata": {},
   "outputs": [
    {
     "name": "stdout",
     "output_type": "stream",
     "text": [
      "130\n"
     ]
    }
   ],
   "source": [
    "n = df.shape[0]\n",
    "print(n)"
   ]
  },
  {
   "cell_type": "markdown",
   "metadata": {},
   "source": [
    "The sample size is large enough.\n",
    "\n",
    "Observations are considered independent if the occurrence of one event doesn't change the probability of another. In this study, the observations of body temperatures are independent."
   ]
  },
  {
   "cell_type": "markdown",
   "metadata": {},
   "source": [
    "**Question 3**: Is the true population mean really 98.6$^{\\circ}$F?\n",
    "    <li> Would you use a one-sample or two-sample test? Why?\n",
    "    <li> In this situation, is it appropriate to use the $t$ or $z$ statistic? \n",
    "    <li> Now try using the other test. How is the result be different? Why?"
   ]
  },
  {
   "cell_type": "markdown",
   "metadata": {},
   "source": [
    "To answer this question, I will use a one-sample test since we only have the data for the sample mean. The sample size is 130, so the z statistic can be used."
   ]
  },
  {
   "cell_type": "code",
   "execution_count": 8,
   "metadata": {},
   "outputs": [
    {
     "name": "stdout",
     "output_type": "stream",
     "text": [
      "98.2492307692\n"
     ]
    }
   ],
   "source": [
    "#Print the sample mean as a reference point\n",
    "print(mu)"
   ]
  },
  {
   "cell_type": "markdown",
   "metadata": {},
   "source": [
    "The null hypothesis is that the population mean is 98.6. Calculate the probability of sampling a mean *at least* as extreme as the mean calculated above."
   ]
  },
  {
   "cell_type": "code",
   "execution_count": 10,
   "metadata": {},
   "outputs": [
    {
     "name": "stdout",
     "output_type": "stream",
     "text": [
      "-0.350769230769\n"
     ]
    }
   ],
   "source": [
    "#Difference in means\n",
    "pop_mean = 98.6\n",
    "diff_mean = mu - pop_mean\n",
    "print(diff_mean)"
   ]
  },
  {
   "cell_type": "code",
   "execution_count": 11,
   "metadata": {},
   "outputs": [
    {
     "name": "stdout",
     "output_type": "stream",
     "text": [
      "98.6\n"
     ]
    }
   ],
   "source": [
    "#Shift body temperature data so that sample mean = population mean\n",
    "temps_shifted = temps - mu + pop_mean\n",
    "print(np.mean(temps_shifted))"
   ]
  },
  {
   "cell_type": "code",
   "execution_count": null,
   "metadata": {
    "collapsed": true
   },
   "outputs": [],
   "source": [
    "#Simulate experiment 10,000 times with shifted data, storing the difference of means in an array of bootstrap replicates.\n",
    "np.random.seed(4321)\n",
    "n_sim = 100000\n",
    "bs_replicates = np.empty(n_sim)\n",
    "for i in range(n_sim):\n",
    "    bs_sample = np.random.choice(temps_shifted, len(temps_shifted))\n",
    "    bs_replicates[i] = np.mean(bs_sample) - pop_mean\n",
    "p_value = np.sum(bs_replicates <= diff_mean) / len(bs_replicates)\n",
    "print('P-value=',p_value)"
   ]
  },
  {
   "cell_type": "code",
   "execution_count": 46,
   "metadata": {},
   "outputs": [
    {
     "name": "stdout",
     "output_type": "stream",
     "text": [
      "-5.47592520208\n"
     ]
    }
   ],
   "source": [
    "#Calculate test statistic\n",
    "test_stat = (diff_mean * np.sqrt(len(temps))) / sd\n",
    "print(test_stat)"
   ]
  },
  {
   "cell_type": "code",
   "execution_count": 50,
   "metadata": {},
   "outputs": [
    {
     "name": "stdout",
     "output_type": "stream",
     "text": [
      "P-Value = 0.0\n"
     ]
    }
   ],
   "source": [
    "#Perform z-test with test statistic\n",
    "norm_dist1 = np.random.normal(0, 1, 1000000)\n",
    "p = np.sum(norm_dist1 <= test_stat) / len(norm_dist1)\n",
    "print('P-Value =', p)"
   ]
  },
  {
   "cell_type": "code",
   "execution_count": 44,
   "metadata": {},
   "outputs": [
    {
     "name": "stdout",
     "output_type": "stream",
     "text": [
      "P-Value = 1.20531602078e-07\n"
     ]
    }
   ],
   "source": [
    "#For reference, compare \"hacker\" statistics to output from stats t-test function\n",
    "from scipy import stats\n",
    "results = stats.ttest_1samp(temps, 98.6)\n",
    "p_two_tailed = results[1]\n",
    "p = p_two_tailed / 2\n",
    "print('P-Value =', p)"
   ]
  },
  {
   "cell_type": "markdown",
   "metadata": {},
   "source": [
    "For the purpose of hypothesis testing with a large sample and sizeable difference between the sample mean and population mean, a t-test and a z-test will both result in extremely small p-values. The result of the z-test is a p-value that is so small, Python stores it as zero. Evidently, we reject the null hypothesis that the mean body temperature is equal to 98.6$^{\\circ}$F."
   ]
  },
  {
   "cell_type": "markdown",
   "metadata": {},
   "source": [
    "**Question 4**: Draw a small sample of size 10 from the data and repeat both tests. \n",
    "    <li> Which one is the correct one to use? \n",
    "    <li> What do you notice? What does this tell you about the difference in application of the $t$ and $z$ statistic?"
   ]
  },
  {
   "cell_type": "code",
   "execution_count": 15,
   "metadata": {},
   "outputs": [
    {
     "name": "stdout",
     "output_type": "stream",
     "text": [
      "[ 98.6  97.7  98.4  97.9  98.6  97.4  98.6  98.2  98.   98.8]\n"
     ]
    }
   ],
   "source": [
    "#Draw a sample of size 10\n",
    "sample_10 = np.random.choice(temps, 10)\n",
    "print(sample_10)"
   ]
  },
  {
   "cell_type": "code",
   "execution_count": 51,
   "metadata": {},
   "outputs": [
    {
     "name": "stdout",
     "output_type": "stream",
     "text": [
      "Test statistic: -2.75971624543\n"
     ]
    }
   ],
   "source": [
    "#Calculate test statistic using numpy\n",
    "test_stat = (np.mean(sample_10) - pop_mean) / (np.std(sample_10) / np.sqrt(len(sample_10)))\n",
    "print('Test statistic:',test_stat)"
   ]
  },
  {
   "cell_type": "markdown",
   "metadata": {},
   "source": [
    "The first thing we notice is that with the smaller sample size, the test statistic has become less extreme."
   ]
  },
  {
   "cell_type": "code",
   "execution_count": 34,
   "metadata": {},
   "outputs": [
    {
     "name": "stdout",
     "output_type": "stream",
     "text": [
      "P-value = 0.002917\n"
     ]
    }
   ],
   "source": [
    "#Calculate P-Value using z-test\n",
    "norm_dist = np.random.normal(0, 1, 1000000)\n",
    "p = np.sum(norm_dist <= test_stat) / len(norm_dist)\n",
    "print('P-value =', p)"
   ]
  },
  {
   "cell_type": "code",
   "execution_count": 41,
   "metadata": {},
   "outputs": [
    {
     "name": "stdout",
     "output_type": "stream",
     "text": [
      "P-Value = 0.0139489358204\n"
     ]
    }
   ],
   "source": [
    "#Calculate P-Value using t-test\n",
    "p_two_tailed = stats.ttest_1samp(sample_10, 98.6)[1]\n",
    "p = p_two_tailed / 2\n",
    "print('P-Value =', p)"
   ]
  },
  {
   "cell_type": "markdown",
   "metadata": {},
   "source": [
    "In the case of a sample size of 10, the p-value given by the z-test is much smaller than the one given by the t-test. This is an important difference, as the small sample size means that the Central Limit Theorem is not effective and our p-value should be calculated using the t-distribution rather than the normal distribution."
   ]
  },
  {
   "cell_type": "markdown",
   "metadata": {},
   "source": [
    "**Question 5**: At what temperature should we consider someone's temperature to be \"abnormal\"?\n",
    " <li> Start by computing the margin of error and confidence interval."
   ]
  },
  {
   "cell_type": "code",
   "execution_count": 64,
   "metadata": {},
   "outputs": [
    {
     "name": "stdout",
     "output_type": "stream",
     "text": [
      "0.12811322939\n"
     ]
    }
   ],
   "source": [
    "#Margin of error with approximately 95% confidence\n",
    "std_err = np.std(temps) / np.sqrt(len(temps))\n",
    "marg_err = 2 * std_err\n",
    "print(marg_err)"
   ]
  },
  {
   "cell_type": "code",
   "execution_count": 73,
   "metadata": {},
   "outputs": [
    {
     "name": "stdout",
     "output_type": "stream",
     "text": [
      "Confidence interval: [ 98.12461538  98.37538462]\n"
     ]
    }
   ],
   "source": [
    "#95% confidence interval of mean body temperature, using bootstrap replicates\n",
    "bs_reps = np.empty(100000)\n",
    "interval = 95\n",
    "for i in range(len(bs_reps)):\n",
    "    samples = np.random.choice(temps, len(temps))\n",
    "    bs_reps[i] = np.mean(samples)\n",
    "percentiles = [(100 - interval) / 2, 100 - (100 - interval) / 2]\n",
    "conf_int1 = np.percentile(bs_reps, percentiles)\n",
    "print('Confidence interval:', conf_int1)"
   ]
  },
  {
   "cell_type": "markdown",
   "metadata": {},
   "source": [
    "Someone's temperature should be considered \"abnormal\" if it falls outside of the 95% confidence interval, i.e. if it is below approximately 98.12$^{\\circ}$F or above 98.38$^{\\circ}$F"
   ]
  },
  {
   "cell_type": "markdown",
   "metadata": {},
   "source": [
    "**Question 6**: Is there a significant difference between males and females in normal temperature?\n",
    "    <li> What test did you use and why?\n",
    "    <li> Write a story with your conclusion in the context of the original problem."
   ]
  },
  {
   "cell_type": "code",
   "execution_count": 95,
   "metadata": {},
   "outputs": [
    {
     "name": "stdout",
     "output_type": "stream",
     "text": [
      "Females: 98.39384615384613\n",
      "Males: 98.1046153846154\n",
      "Difference: 0.289230769230727\n"
     ]
    }
   ],
   "source": [
    "#Find the mean body temperature for males and females\n",
    "males = df.loc[df['gender'] == 'M', 'temperature']\n",
    "females = df.loc[df['gender'] == 'F', 'temperature']\n",
    "print('Females:',np.mean(females))\n",
    "print('Males:',np.mean(males))\n",
    "print('Difference:', np.mean(females) - np.mean(males))"
   ]
  },
  {
   "cell_type": "markdown",
   "metadata": {},
   "source": [
    "In order to test the significance of the difference of means, I will conduct a two-tailed, two-sample z-test since we have data for both the male and female populations. The null hypothesis is that the means body temperature does not differ between males and females."
   ]
  },
  {
   "cell_type": "code",
   "execution_count": 96,
   "metadata": {},
   "outputs": [
    {
     "name": "stdout",
     "output_type": "stream",
     "text": [
      "P-value = 0.02403\n"
     ]
    }
   ],
   "source": [
    "#Conduct two-tailed, two-sample z-test for equality of means\n",
    "diff_means = np.mean(females) - np.mean(males)\n",
    "sample_n = 100000\n",
    "perm_replicates = np.empty(sample_n)\n",
    "for i in range(sample_n):\n",
    "    permuted_data = np.random.permutation(temps)\n",
    "    perm_sample_1 = permuted_data[:len(females)]\n",
    "    perm_sample_2 = permuted_data[len(females):]\n",
    "    perm_replicates[i] = np.mean(perm_sample_1) - np.mean(perm_sample_2)\n",
    "p = np.sum(np.abs(perm_replicates) >= diff_means) / len(perm_replicates)\n",
    "print('P-value =', p)"
   ]
  },
  {
   "cell_type": "markdown",
   "metadata": {},
   "source": [
    "The result of this test is that there is a 2.4% chance of observing the empirical difference between mean body temperatures in males and females given that they come from identical distributions. At a significance level of 5% we would reject the null hypothesis that the two populations have equal means."
   ]
  }
 ],
 "metadata": {
  "kernelspec": {
   "display_name": "Python 3",
   "language": "python",
   "name": "python3"
  },
  "language_info": {
   "codemirror_mode": {
    "name": "ipython",
    "version": 3
   },
   "file_extension": ".py",
   "mimetype": "text/x-python",
   "name": "python",
   "nbconvert_exporter": "python",
   "pygments_lexer": "ipython3",
   "version": "3.6.2"
  }
 },
 "nbformat": 4,
 "nbformat_minor": 1
}
