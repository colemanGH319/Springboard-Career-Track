{
 "cells": [
  {
   "cell_type": "code",
   "execution_count": 1,
   "metadata": {
    "collapsed": true
   },
   "outputs": [],
   "source": [
    "import pandas as pd\n",
    "file = 'train.csv'\n",
    "trip_df = []\n",
    "for chunk in pd.read_csv(file, chunksize=1000):\n",
    "    trip_df.append(chunk)\n",
    "trip_df = pd.concat(trip_df, axis='rows')"
   ]
  },
  {
   "cell_type": "code",
   "execution_count": 2,
   "metadata": {
    "collapsed": true
   },
   "outputs": [],
   "source": [
    "import numpy as np\n",
    "n = trip_df.shape[0]\n",
    "np.random.seed(30)\n",
    "sample = np.random.random(n)\n",
    "mask = sample <= 0.1"
   ]
  },
  {
   "cell_type": "code",
   "execution_count": 3,
   "metadata": {},
   "outputs": [],
   "source": [
    "trip_df = trip_df.loc[mask]"
   ]
  },
  {
   "cell_type": "code",
   "execution_count": 4,
   "metadata": {},
   "outputs": [
    {
     "name": "stdout",
     "output_type": "stream",
     "text": [
      "<class 'pandas.core.frame.DataFrame'>\n",
      "Int64Index: 145616 entries, 15 to 1458622\n",
      "Data columns (total 11 columns):\n",
      "id                    145616 non-null object\n",
      "vendor_id             145616 non-null int64\n",
      "pickup_datetime       145616 non-null object\n",
      "dropoff_datetime      145616 non-null object\n",
      "passenger_count       145616 non-null int64\n",
      "pickup_longitude      145616 non-null float64\n",
      "pickup_latitude       145616 non-null float64\n",
      "dropoff_longitude     145616 non-null float64\n",
      "dropoff_latitude      145616 non-null float64\n",
      "store_and_fwd_flag    145616 non-null object\n",
      "trip_duration         145616 non-null int64\n",
      "dtypes: float64(4), int64(3), object(4)\n",
      "memory usage: 11.1+ MB\n"
     ]
    }
   ],
   "source": [
    "trip_df.info()"
   ]
  },
  {
   "cell_type": "code",
   "execution_count": 5,
   "metadata": {},
   "outputs": [
    {
     "name": "stdout",
     "output_type": "stream",
     "text": [
      "           id  vendor_id      pickup_datetime     dropoff_datetime  \\\n",
      "15  id3319787          1  2016-05-16 15:29:02  2016-05-16 15:32:33   \n",
      "23  id1603037          1  2016-06-25 10:36:26  2016-06-25 10:55:49   \n",
      "28  id3973319          2  2016-06-13 21:57:27  2016-06-13 22:12:19   \n",
      "49  id2662609          1  2016-04-10 19:11:03  2016-04-10 19:25:39   \n",
      "58  id0256505          1  2016-03-14 15:04:38  2016-03-14 15:16:13   \n",
      "\n",
      "    passenger_count  pickup_longitude  pickup_latitude  dropoff_longitude  \\\n",
      "15                1        -73.955513        40.768593         -73.948761   \n",
      "23                1        -73.993553        40.747173         -74.006142   \n",
      "28                1        -73.994217        40.713306         -73.982849   \n",
      "49                1        -73.965469        40.765846         -73.960953   \n",
      "58                1        -73.994484        40.745087         -73.998993   \n",
      "\n",
      "    dropoff_latitude store_and_fwd_flag  trip_duration  \n",
      "15         40.771545                  N            211  \n",
      "23         40.704384                  N           1163  \n",
      "28         40.692299                  N            892  \n",
      "49         40.796928                  N            876  \n",
      "58         40.722710                  N            695  \n"
     ]
    }
   ],
   "source": [
    "print(trip_df.head())"
   ]
  },
  {
   "cell_type": "code",
   "execution_count": 6,
   "metadata": {},
   "outputs": [],
   "source": [
    "dates = []\n",
    "for i in trip_df['pickup_datetime']:\n",
    "    dates.append(i[:10])\n",
    "trip_df['date'] = pd.to_datetime(dates)"
   ]
  },
  {
   "cell_type": "code",
   "execution_count": 7,
   "metadata": {
    "collapsed": true
   },
   "outputs": [],
   "source": [
    "#Convert vendor ID from Int64 to Categorical\n",
    "trip_df['vendor_id'] = trip_df['vendor_id'].astype('category')\n",
    "#Pickup and drop off should be in Datetime format\n",
    "trip_df['pickup_datetime'] = pd.to_datetime(trip_df['pickup_datetime'])\n",
    "trip_df['dropoff_datetime'] = pd.to_datetime(trip_df['dropoff_datetime'])"
   ]
  },
  {
   "cell_type": "code",
   "execution_count": 8,
   "metadata": {
    "scrolled": true
   },
   "outputs": [
    {
     "name": "stdout",
     "output_type": "stream",
     "text": [
      "<class 'pandas.core.frame.DataFrame'>\n",
      "Int64Index: 145616 entries, 15 to 1458622\n",
      "Data columns (total 12 columns):\n",
      "id                    145616 non-null object\n",
      "vendor_id             145616 non-null category\n",
      "pickup_datetime       145616 non-null datetime64[ns]\n",
      "dropoff_datetime      145616 non-null datetime64[ns]\n",
      "passenger_count       145616 non-null int64\n",
      "pickup_longitude      145616 non-null float64\n",
      "pickup_latitude       145616 non-null float64\n",
      "dropoff_longitude     145616 non-null float64\n",
      "dropoff_latitude      145616 non-null float64\n",
      "store_and_fwd_flag    145616 non-null object\n",
      "trip_duration         145616 non-null int64\n",
      "date                  145616 non-null datetime64[ns]\n",
      "dtypes: category(1), datetime64[ns](3), float64(4), int64(2), object(2)\n",
      "memory usage: 12.4+ MB\n",
      "None\n"
     ]
    }
   ],
   "source": [
    "print(trip_df.info())"
   ]
  },
  {
   "cell_type": "code",
   "execution_count": 9,
   "metadata": {
    "collapsed": true
   },
   "outputs": [],
   "source": [
    "#Trip duration as TimeDelta\n",
    "trip_df['trip_duration'] = trip_df['dropoff_datetime'] - trip_df['pickup_datetime']"
   ]
  },
  {
   "cell_type": "code",
   "execution_count": 10,
   "metadata": {
    "collapsed": true
   },
   "outputs": [],
   "source": [
    "#Store and forward flag to boolean\n",
    "flag = {'N':False, 'Y': True}\n",
    "trip_df['store_and_fwd_flag'] = trip_df['store_and_fwd_flag'].map(flag)"
   ]
  },
  {
   "cell_type": "code",
   "execution_count": 11,
   "metadata": {},
   "outputs": [
    {
     "name": "stdout",
     "output_type": "stream",
     "text": [
      "<class 'pandas.core.frame.DataFrame'>\n",
      "RangeIndex: 2375 entries, 0 to 2374\n",
      "Data columns (total 20 columns):\n",
      "STATION      2375 non-null object\n",
      "NAME         2375 non-null object\n",
      "LATITUDE     2375 non-null float64\n",
      "LONGITUDE    2375 non-null float64\n",
      "ELEVATION    2375 non-null float64\n",
      "DATE         2375 non-null object\n",
      "AWND         1088 non-null float64\n",
      "PRCP         2372 non-null float64\n",
      "SNOW         1871 non-null float64\n",
      "SNWD         1132 non-null float64\n",
      "TAVG         732 non-null float64\n",
      "TMAX         1098 non-null float64\n",
      "TMIN         1098 non-null float64\n",
      "WT01         353 non-null float64\n",
      "WT02         33 non-null float64\n",
      "WT03         44 non-null float64\n",
      "WT04         7 non-null float64\n",
      "WT06         7 non-null float64\n",
      "WT08         197 non-null float64\n",
      "WT09         4 non-null float64\n",
      "dtypes: float64(17), object(3)\n",
      "memory usage: 343.3+ KB\n",
      "None\n",
      "       STATION                         NAME  LATITUDE  LONGITUDE  ELEVATION  \\\n",
      "0  USW00094728  NY CITY CENTRAL PARK, NY US  40.77898  -73.96925       42.7   \n",
      "1  USW00094728  NY CITY CENTRAL PARK, NY US  40.77898  -73.96925       42.7   \n",
      "2  USW00094728  NY CITY CENTRAL PARK, NY US  40.77898  -73.96925       42.7   \n",
      "3  USW00094728  NY CITY CENTRAL PARK, NY US  40.77898  -73.96925       42.7   \n",
      "4  USW00094728  NY CITY CENTRAL PARK, NY US  40.77898  -73.96925       42.7   \n",
      "\n",
      "       DATE  AWND  PRCP  SNOW  SNWD  TAVG  TMAX  TMIN  WT01  WT02  WT03  WT04  \\\n",
      "0  1/1/2016  7.61   0.0   0.0   0.0   NaN  42.0  34.0   NaN   NaN   NaN   NaN   \n",
      "1  1/2/2016  6.71   0.0   0.0   0.0   NaN  40.0  32.0   NaN   NaN   NaN   NaN   \n",
      "2  1/3/2016  7.83   0.0   0.0   0.0   NaN  45.0  35.0   NaN   NaN   NaN   NaN   \n",
      "3  1/4/2016  8.50   0.0   0.0   0.0   NaN  36.0  14.0   NaN   NaN   NaN   NaN   \n",
      "4  1/5/2016  5.14   0.0   0.0   0.0   NaN  29.0  11.0   NaN   NaN   NaN   NaN   \n",
      "\n",
      "   WT06  WT08  WT09  \n",
      "0   NaN   NaN   NaN  \n",
      "1   NaN   NaN   NaN  \n",
      "2   NaN   NaN   NaN  \n",
      "3   NaN   NaN   NaN  \n",
      "4   NaN   NaN   NaN  \n"
     ]
    }
   ],
   "source": [
    "#Import weather data\n",
    "file2 = 'NYCweather2016.csv'\n",
    "weather = pd.read_csv(file2)\n",
    "print(weather.info())\n",
    "print(weather.head())"
   ]
  },
  {
   "cell_type": "code",
   "execution_count": 12,
   "metadata": {},
   "outputs": [
    {
     "name": "stdout",
     "output_type": "stream",
     "text": [
      "       STATION                         NAME  LATITUDE  LONGITUDE  ELEVATION  \\\n",
      "0  USW00094728  NY CITY CENTRAL PARK, NY US  40.77898  -73.96925       42.7   \n",
      "1  USW00094728  NY CITY CENTRAL PARK, NY US  40.77898  -73.96925       42.7   \n",
      "2  USW00094728  NY CITY CENTRAL PARK, NY US  40.77898  -73.96925       42.7   \n",
      "3  USW00094728  NY CITY CENTRAL PARK, NY US  40.77898  -73.96925       42.7   \n",
      "4  USW00094728  NY CITY CENTRAL PARK, NY US  40.77898  -73.96925       42.7   \n",
      "\n",
      "        DATE  AWND  PRCP  SNOW  SNWD  TAVG  TMAX  TMIN  \n",
      "0 2016-01-01  7.61   0.0   0.0   0.0   NaN  42.0  34.0  \n",
      "1 2016-01-02  6.71   0.0   0.0   0.0   NaN  40.0  32.0  \n",
      "2 2016-01-03  7.83   0.0   0.0   0.0   NaN  45.0  35.0  \n",
      "3 2016-01-04  8.50   0.0   0.0   0.0   NaN  36.0  14.0  \n",
      "4 2016-01-05  5.14   0.0   0.0   0.0   NaN  29.0  11.0  \n"
     ]
    }
   ],
   "source": [
    "weather = weather.dropna(axis='columns', thresh=(weather.shape[0]/4))\n",
    "weather['DATE'] = pd.to_datetime(weather['DATE'])\n",
    "print(weather.head())"
   ]
  },
  {
   "cell_type": "code",
   "execution_count": 13,
   "metadata": {
    "collapsed": true
   },
   "outputs": [],
   "source": [
    "origin_coord = list(zip(trip_df['pickup_latitude'], trip_df['pickup_longitude']))\n",
    "weather['STATION_COORD'] = list(zip(weather['LATITUDE'], weather['LONGITUDE']))\n",
    "stations = weather[['NAME', 'STATION_COORD']].drop_duplicates()"
   ]
  },
  {
   "cell_type": "code",
   "execution_count": 14,
   "metadata": {},
   "outputs": [
    {
     "name": "stdout",
     "output_type": "stream",
     "text": [
      "                                  NAME          STATION_COORD\n",
      "0          NY CITY CENTRAL PARK, NY US  (40.77898, -73.96925)\n",
      "366       MIDDLE VILLAGE 0.5 SW, NY US    (40.7145, -73.8819)\n",
      "717          LA GUARDIA AIRPORT, NY US      (40.7792, -73.88)\n",
      "1083       STATEN ISLAND 1.4 SE, NY US    (40.5674, -74.1327)\n",
      "1428  JFK INTERNATIONAL AIRPORT, NY US    (40.6386, -73.7622)\n",
      "1794      STATEN ISLAND 4.5 SSE, NY US    (40.5421, -74.1476)\n",
      "2143            BROOKLYN 3.1 NW, NY US    (40.6846, -73.9867)\n"
     ]
    }
   ],
   "source": [
    "print(stations)"
   ]
  },
  {
   "cell_type": "code",
   "execution_count": 15,
   "metadata": {},
   "outputs": [],
   "source": [
    "#Match pickup location to nearest weather station using distance between Cartesian coordinates\n",
    "weather_station = {}\n",
    "local_station = []\n",
    "distances = []\n",
    "for loc in origin_coord:\n",
    "    for index, station in stations.iterrows():    \n",
    "        dist = ((loc[0] - station[1][0])**2 + (loc[1] - station[1][1])**2)**.5\n",
    "        weather_station[dist] = station[0]\n",
    "        distances.append(dist)\n",
    "    local_station.append(weather_station[min(distances)])\n",
    "    distances = []\n",
    "    weather_station = {}"
   ]
  },
  {
   "cell_type": "code",
   "execution_count": 20,
   "metadata": {},
   "outputs": [],
   "source": [
    "trip_df['local_station'] = local_station"
   ]
  },
  {
   "cell_type": "code",
   "execution_count": 22,
   "metadata": {},
   "outputs": [
    {
     "name": "stdout",
     "output_type": "stream",
     "text": [
      "NY CITY CENTRAL PARK, NY US         108371\n",
      "BROOKLYN 3.1 NW, NY US               29003\n",
      "LA GUARDIA AIRPORT, NY US             4264\n",
      "JFK INTERNATIONAL AIRPORT, NY US      3338\n",
      "MIDDLE VILLAGE 0.5 SW, NY US           609\n",
      "STATEN ISLAND 1.4 SE, NY US             25\n",
      "STATEN ISLAND 4.5 SSE, NY US             6\n",
      "Name: local_station, dtype: int64\n"
     ]
    }
   ],
   "source": [
    "print(trip_df['local_station'].value_counts())"
   ]
  },
  {
   "cell_type": "code",
   "execution_count": 23,
   "metadata": {},
   "outputs": [],
   "source": [
    "nyc_taxi = pd.merge(trip_df, weather, how='left', left_on=['date', 'local_station'], right_on = ['DATE', 'NAME'])"
   ]
  },
  {
   "cell_type": "code",
   "execution_count": 25,
   "metadata": {},
   "outputs": [
    {
     "name": "stdout",
     "output_type": "stream",
     "text": [
      "<class 'pandas.core.frame.DataFrame'>\n",
      "Int64Index: 145616 entries, 0 to 145615\n",
      "Data columns (total 27 columns):\n",
      "id                    145616 non-null object\n",
      "vendor_id             145616 non-null category\n",
      "pickup_datetime       145616 non-null datetime64[ns]\n",
      "dropoff_datetime      145616 non-null datetime64[ns]\n",
      "passenger_count       145616 non-null int64\n",
      "pickup_longitude      145616 non-null float64\n",
      "pickup_latitude       145616 non-null float64\n",
      "dropoff_longitude     145616 non-null float64\n",
      "dropoff_latitude      145616 non-null float64\n",
      "store_and_fwd_flag    145616 non-null bool\n",
      "trip_duration         145616 non-null timedelta64[ns]\n",
      "date                  145616 non-null datetime64[ns]\n",
      "local_station         145616 non-null object\n",
      "STATION               134925 non-null object\n",
      "NAME                  134925 non-null object\n",
      "LATITUDE              134925 non-null float64\n",
      "LONGITUDE             134925 non-null float64\n",
      "ELEVATION             134925 non-null float64\n",
      "DATE                  134925 non-null datetime64[ns]\n",
      "AWND                  112812 non-null float64\n",
      "PRCP                  134813 non-null float64\n",
      "SNOW                  126997 non-null float64\n",
      "SNWD                  117767 non-null float64\n",
      "TAVG                  7602 non-null float64\n",
      "TMAX                  115973 non-null float64\n",
      "TMIN                  115973 non-null float64\n",
      "STATION_COORD         134925 non-null object\n",
      "dtypes: bool(1), category(1), datetime64[ns](4), float64(14), int64(1), object(5), timedelta64[ns](1)\n",
      "memory usage: 26.4+ MB\n"
     ]
    }
   ],
   "source": [
    "nyc_taxi.info()"
   ]
  },
  {
   "cell_type": "code",
   "execution_count": null,
   "metadata": {
    "collapsed": true
   },
   "outputs": [],
   "source": [
    "#Just for kicks. Delete from final commit.\n",
    "#from collections import Counter\n",
    "#Counter(local_station).most_common(7)"
   ]
  },
  {
   "cell_type": "code",
   "execution_count": null,
   "metadata": {
    "collapsed": true
   },
   "outputs": [],
   "source": [
    "#May need to remove outlier from passenger count\n",
    "import matplotlib.pyplot as plt\n",
    "trip_df['passenger_count'].plot(kind='box')\n",
    "plt.show()\n",
    "#Possible mistake? Replace all values from 5-9 with 4?"
   ]
  },
  {
   "cell_type": "code",
   "execution_count": null,
   "metadata": {
    "collapsed": true
   },
   "outputs": [],
   "source": [
    "#Heat map of all taxi pickup locations\n",
    "plt.hist2d(trip_df['pickup_longitude'], trip_df['pickup_latitude'], bins=(100, 100), \n",
    "           range=((-74.015, -73.775),(40.644, 40.85)))\n",
    "plt.colorbar()\n",
    "plt.show()"
   ]
  }
 ],
 "metadata": {
  "kernelspec": {
   "display_name": "Python 3",
   "language": "python",
   "name": "python3"
  },
  "language_info": {
   "codemirror_mode": {
    "name": "ipython",
    "version": 3
   },
   "file_extension": ".py",
   "mimetype": "text/x-python",
   "name": "python",
   "nbconvert_exporter": "python",
   "pygments_lexer": "ipython3",
   "version": "3.6.2"
  }
 },
 "nbformat": 4,
 "nbformat_minor": 2
}
